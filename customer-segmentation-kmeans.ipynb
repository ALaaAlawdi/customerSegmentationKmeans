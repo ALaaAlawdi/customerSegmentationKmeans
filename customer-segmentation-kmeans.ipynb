{
 "cells": [
  {
   "cell_type": "markdown",
   "id": "67cb437a",
   "metadata": {
    "papermill": {
     "duration": 0.00868,
     "end_time": "2023-06-09T00:07:35.963840",
     "exception": false,
     "start_time": "2023-06-09T00:07:35.955160",
     "status": "completed"
    },
    "tags": []
   },
   "source": [
    "<font size=\"+3\"><strong>Customer Segmentation</strong></font>"
   ]
  },
  {
   "cell_type": "markdown",
   "id": "ae654f8c",
   "metadata": {
    "papermill": {
     "duration": 0.006719,
     "end_time": "2023-06-09T00:07:35.978142",
     "exception": false,
     "start_time": "2023-06-09T00:07:35.971423",
     "status": "completed"
    },
    "tags": []
   },
   "source": [
    "An automobile company has plans to enter new markets with their existing products (P1, P2, P3, P4 and P5). After intensive market research, they’ve deduced that the behavior of new market is similar to their existing market.\n",
    "\n",
    "In their existing market, the sales team has classified all customers into 4 segments (A, B, C, D ). Then, they performed segmented outreach and communication for different segment of customers. This strategy has work exceptionally well for them. They plan to use the same strategy on new markets and have identified 2627 new potential customers.\n",
    "\n",
    "You are required to help the manager to predict the right group of the new customers."
   ]
  },
  {
   "cell_type": "code",
   "execution_count": 1,
   "id": "48f7ed72",
   "metadata": {
    "execution": {
     "iopub.execute_input": "2023-06-09T00:07:35.994594Z",
     "iopub.status.busy": "2023-06-09T00:07:35.993699Z",
     "iopub.status.idle": "2023-06-09T00:07:37.946377Z",
     "shell.execute_reply": "2023-06-09T00:07:37.945441Z"
    },
    "papermill": {
     "duration": 1.963607,
     "end_time": "2023-06-09T00:07:37.948793",
     "exception": false,
     "start_time": "2023-06-09T00:07:35.985186",
     "status": "completed"
    },
    "tags": []
   },
   "outputs": [
    {
     "name": "stdout",
     "output_type": "stream",
     "text": [
      "/kaggle/input/customer/sample_submission.csv\n",
      "/kaggle/input/customer/Train.csv\n",
      "/kaggle/input/customer/Test.csv\n"
     ]
    }
   ],
   "source": [
    "import numpy as np # linear algebra\n",
    "import pandas as pd # data processing, CSV file I/O (e.g. pd.read_csv)\n",
    "from scipy.stats.mstats import trimmed_var\n",
    "from sklearn.cluster import KMeans\n",
    "from sklearn.decomposition import PCA\n",
    "from sklearn.metrics import silhouette_score\n",
    "from sklearn.pipeline import make_pipeline\n",
    "from sklearn.preprocessing import StandardScaler\n",
    "\n",
    "\n",
    "import os\n",
    "for dirname, _, filenames in os.walk('/kaggle/input'):\n",
    "    for filename in filenames:\n",
    "        print(os.path.join(dirname, filename))\n",
    "        \n",
    "import warnings\n",
    "\n",
    "# Ignore all warnings\n",
    "warnings.filterwarnings(\"ignore\")"
   ]
  },
  {
   "cell_type": "markdown",
   "id": "19073829",
   "metadata": {
    "papermill": {
     "duration": 0.008356,
     "end_time": "2023-06-09T00:07:37.964195",
     "exception": false,
     "start_time": "2023-06-09T00:07:37.955839",
     "status": "completed"
    },
    "tags": []
   },
   "source": [
    "# Prepare Data\n",
    "As always, we'll start by bringing our data into the project using a wrangle function.\n",
    "\n",
    "## Import"
   ]
  },
  {
   "cell_type": "code",
   "execution_count": 2,
   "id": "63897ab8",
   "metadata": {
    "execution": {
     "iopub.execute_input": "2023-06-09T00:07:37.980071Z",
     "iopub.status.busy": "2023-06-09T00:07:37.978281Z",
     "iopub.status.idle": "2023-06-09T00:07:37.986289Z",
     "shell.execute_reply": "2023-06-09T00:07:37.985075Z"
    },
    "papermill": {
     "duration": 0.01823,
     "end_time": "2023-06-09T00:07:37.988727",
     "exception": false,
     "start_time": "2023-06-09T00:07:37.970497",
     "status": "completed"
    },
    "tags": []
   },
   "outputs": [],
   "source": [
    "def wrangle(filepath , cols=None):\n",
    "\n",
    "    \"\"\"Read SCF data file into ``DataFrame``.\n",
    "    \n",
    "    Returns only df.\n",
    "\n",
    "    Parameters\n",
    "    ----------\n",
    "    filepath : str\n",
    "        Location of CSV file.\n",
    "    columns :  list\n",
    "         Delete the columns\n",
    "    \"\"\"\n",
    "    # read data from path\n",
    "    df = pd.read_csv(filepath)\n",
    "    \n",
    "    # drops nulls values\n",
    "    df.dropna(axis=0 , inplace=True)\n",
    "    \n",
    "    #drops columns \n",
    "    if cols is not  None :\n",
    "         df.drop(columns=cols , axis=1 , inplace=True )\n",
    "        \n",
    "    # drop duplicated data \n",
    "    df = df.drop_duplicates()\n",
    "    \n",
    "    \n",
    "    return df"
   ]
  },
  {
   "cell_type": "code",
   "execution_count": 3,
   "id": "202cc427",
   "metadata": {
    "execution": {
     "iopub.execute_input": "2023-06-09T00:07:38.003844Z",
     "iopub.status.busy": "2023-06-09T00:07:38.003178Z",
     "iopub.status.idle": "2023-06-09T00:07:38.136673Z",
     "shell.execute_reply": "2023-06-09T00:07:38.134495Z"
    },
    "papermill": {
     "duration": 0.14442,
     "end_time": "2023-06-09T00:07:38.139785",
     "exception": false,
     "start_time": "2023-06-09T00:07:37.995365",
     "status": "completed"
    },
    "tags": []
   },
   "outputs": [
    {
     "data": {
      "text/html": [
       "<div>\n",
       "<style scoped>\n",
       "    .dataframe tbody tr th:only-of-type {\n",
       "        vertical-align: middle;\n",
       "    }\n",
       "\n",
       "    .dataframe tbody tr th {\n",
       "        vertical-align: top;\n",
       "    }\n",
       "\n",
       "    .dataframe thead th {\n",
       "        text-align: right;\n",
       "    }\n",
       "</style>\n",
       "<table border=\"1\" class=\"dataframe\">\n",
       "  <thead>\n",
       "    <tr style=\"text-align: right;\">\n",
       "      <th></th>\n",
       "      <th>Gender</th>\n",
       "      <th>Ever_Married</th>\n",
       "      <th>Age</th>\n",
       "      <th>Graduated</th>\n",
       "      <th>Profession</th>\n",
       "      <th>Work_Experience</th>\n",
       "      <th>Spending_Score</th>\n",
       "      <th>Family_Size</th>\n",
       "      <th>Var_1</th>\n",
       "    </tr>\n",
       "  </thead>\n",
       "  <tbody>\n",
       "    <tr>\n",
       "      <th>0</th>\n",
       "      <td>Male</td>\n",
       "      <td>No</td>\n",
       "      <td>22</td>\n",
       "      <td>No</td>\n",
       "      <td>Healthcare</td>\n",
       "      <td>1.0</td>\n",
       "      <td>Low</td>\n",
       "      <td>4.0</td>\n",
       "      <td>Cat_4</td>\n",
       "    </tr>\n",
       "    <tr>\n",
       "      <th>2</th>\n",
       "      <td>Female</td>\n",
       "      <td>Yes</td>\n",
       "      <td>67</td>\n",
       "      <td>Yes</td>\n",
       "      <td>Engineer</td>\n",
       "      <td>1.0</td>\n",
       "      <td>Low</td>\n",
       "      <td>1.0</td>\n",
       "      <td>Cat_6</td>\n",
       "    </tr>\n",
       "    <tr>\n",
       "      <th>3</th>\n",
       "      <td>Male</td>\n",
       "      <td>Yes</td>\n",
       "      <td>67</td>\n",
       "      <td>Yes</td>\n",
       "      <td>Lawyer</td>\n",
       "      <td>0.0</td>\n",
       "      <td>High</td>\n",
       "      <td>2.0</td>\n",
       "      <td>Cat_6</td>\n",
       "    </tr>\n",
       "    <tr>\n",
       "      <th>5</th>\n",
       "      <td>Male</td>\n",
       "      <td>Yes</td>\n",
       "      <td>56</td>\n",
       "      <td>No</td>\n",
       "      <td>Artist</td>\n",
       "      <td>0.0</td>\n",
       "      <td>Average</td>\n",
       "      <td>2.0</td>\n",
       "      <td>Cat_6</td>\n",
       "    </tr>\n",
       "    <tr>\n",
       "      <th>6</th>\n",
       "      <td>Male</td>\n",
       "      <td>No</td>\n",
       "      <td>32</td>\n",
       "      <td>Yes</td>\n",
       "      <td>Healthcare</td>\n",
       "      <td>1.0</td>\n",
       "      <td>Low</td>\n",
       "      <td>3.0</td>\n",
       "      <td>Cat_6</td>\n",
       "    </tr>\n",
       "    <tr>\n",
       "      <th>...</th>\n",
       "      <td>...</td>\n",
       "      <td>...</td>\n",
       "      <td>...</td>\n",
       "      <td>...</td>\n",
       "      <td>...</td>\n",
       "      <td>...</td>\n",
       "      <td>...</td>\n",
       "      <td>...</td>\n",
       "      <td>...</td>\n",
       "    </tr>\n",
       "    <tr>\n",
       "      <th>2621</th>\n",
       "      <td>Female</td>\n",
       "      <td>No</td>\n",
       "      <td>35</td>\n",
       "      <td>Yes</td>\n",
       "      <td>Entertainment</td>\n",
       "      <td>1.0</td>\n",
       "      <td>Low</td>\n",
       "      <td>2.0</td>\n",
       "      <td>Cat_6</td>\n",
       "    </tr>\n",
       "    <tr>\n",
       "      <th>2622</th>\n",
       "      <td>Male</td>\n",
       "      <td>No</td>\n",
       "      <td>29</td>\n",
       "      <td>No</td>\n",
       "      <td>Healthcare</td>\n",
       "      <td>9.0</td>\n",
       "      <td>Low</td>\n",
       "      <td>4.0</td>\n",
       "      <td>Cat_6</td>\n",
       "    </tr>\n",
       "    <tr>\n",
       "      <th>2623</th>\n",
       "      <td>Female</td>\n",
       "      <td>No</td>\n",
       "      <td>35</td>\n",
       "      <td>Yes</td>\n",
       "      <td>Doctor</td>\n",
       "      <td>1.0</td>\n",
       "      <td>Low</td>\n",
       "      <td>1.0</td>\n",
       "      <td>Cat_6</td>\n",
       "    </tr>\n",
       "    <tr>\n",
       "      <th>2625</th>\n",
       "      <td>Male</td>\n",
       "      <td>Yes</td>\n",
       "      <td>47</td>\n",
       "      <td>Yes</td>\n",
       "      <td>Executive</td>\n",
       "      <td>1.0</td>\n",
       "      <td>High</td>\n",
       "      <td>5.0</td>\n",
       "      <td>Cat_4</td>\n",
       "    </tr>\n",
       "    <tr>\n",
       "      <th>2626</th>\n",
       "      <td>Female</td>\n",
       "      <td>No</td>\n",
       "      <td>43</td>\n",
       "      <td>Yes</td>\n",
       "      <td>Healthcare</td>\n",
       "      <td>9.0</td>\n",
       "      <td>Low</td>\n",
       "      <td>3.0</td>\n",
       "      <td>Cat_7</td>\n",
       "    </tr>\n",
       "  </tbody>\n",
       "</table>\n",
       "<p>8054 rows × 9 columns</p>\n",
       "</div>"
      ],
      "text/plain": [
       "      Gender Ever_Married  Age Graduated     Profession  Work_Experience  \\\n",
       "0       Male           No   22        No     Healthcare              1.0   \n",
       "2     Female          Yes   67       Yes       Engineer              1.0   \n",
       "3       Male          Yes   67       Yes         Lawyer              0.0   \n",
       "5       Male          Yes   56        No         Artist              0.0   \n",
       "6       Male           No   32       Yes     Healthcare              1.0   \n",
       "...      ...          ...  ...       ...            ...              ...   \n",
       "2621  Female           No   35       Yes  Entertainment              1.0   \n",
       "2622    Male           No   29        No     Healthcare              9.0   \n",
       "2623  Female           No   35       Yes         Doctor              1.0   \n",
       "2625    Male          Yes   47       Yes      Executive              1.0   \n",
       "2626  Female           No   43       Yes     Healthcare              9.0   \n",
       "\n",
       "     Spending_Score  Family_Size  Var_1  \n",
       "0               Low          4.0  Cat_4  \n",
       "2               Low          1.0  Cat_6  \n",
       "3              High          2.0  Cat_6  \n",
       "5           Average          2.0  Cat_6  \n",
       "6               Low          3.0  Cat_6  \n",
       "...             ...          ...    ...  \n",
       "2621            Low          2.0  Cat_6  \n",
       "2622            Low          4.0  Cat_6  \n",
       "2623            Low          1.0  Cat_6  \n",
       "2625           High          5.0  Cat_4  \n",
       "2626            Low          3.0  Cat_7  \n",
       "\n",
       "[8054 rows x 9 columns]"
      ]
     },
     "execution_count": 3,
     "metadata": {},
     "output_type": "execute_result"
    }
   ],
   "source": [
    "df_train = wrangle('/kaggle/input/customer/Train.csv' , cols=['ID' ,'Segmentation' ])\n",
    "df_test = wrangle('/kaggle/input/customer/Test.csv' ,cols='ID' )\n",
    "df = pd.concat([df_train , df_test] )\n",
    "df"
   ]
  },
  {
   "cell_type": "code",
   "execution_count": 4,
   "id": "d930046b",
   "metadata": {
    "execution": {
     "iopub.execute_input": "2023-06-09T00:07:38.155545Z",
     "iopub.status.busy": "2023-06-09T00:07:38.155111Z",
     "iopub.status.idle": "2023-06-09T00:07:38.168292Z",
     "shell.execute_reply": "2023-06-09T00:07:38.167212Z"
    },
    "papermill": {
     "duration": 0.023766,
     "end_time": "2023-06-09T00:07:38.170742",
     "exception": false,
     "start_time": "2023-06-09T00:07:38.146976",
     "status": "completed"
    },
    "tags": []
   },
   "outputs": [],
   "source": [
    "df.drop_duplicates(inplace=True)"
   ]
  },
  {
   "cell_type": "markdown",
   "id": "92e5dadf",
   "metadata": {
    "papermill": {
     "duration": 0.006717,
     "end_time": "2023-06-09T00:07:38.184527",
     "exception": false,
     "start_time": "2023-06-09T00:07:38.177810",
     "status": "completed"
    },
    "tags": []
   },
   "source": [
    "# Data Info"
   ]
  },
  {
   "cell_type": "code",
   "execution_count": 5,
   "id": "ea7bda1d",
   "metadata": {
    "execution": {
     "iopub.execute_input": "2023-06-09T00:07:38.201449Z",
     "iopub.status.busy": "2023-06-09T00:07:38.200432Z",
     "iopub.status.idle": "2023-06-09T00:07:38.207355Z",
     "shell.execute_reply": "2023-06-09T00:07:38.205854Z"
    },
    "papermill": {
     "duration": 0.017481,
     "end_time": "2023-06-09T00:07:38.209926",
     "exception": false,
     "start_time": "2023-06-09T00:07:38.192445",
     "status": "completed"
    },
    "tags": []
   },
   "outputs": [],
   "source": [
    "def data_info(df):\n",
    "\n",
    "    \"\"\"Read SCF data file into ``DataFrame``.\n",
    "    \n",
    "    Returns only df.\n",
    "\n",
    "    Parameters\n",
    "    ----------\n",
    "    df : DataFrame\n",
    "        Location of CSV file.\n",
    "\n",
    "    \"\"\"\n",
    "    # print info a bout data\n",
    "    print(df.info())\n",
    "    \n",
    "    # print the describe of data \n",
    "    print(\"Data describe: \")\n",
    "    print(df.describe())\n",
    "    \n",
    "    # unique values \n",
    "    print(df.nunique())\n",
    "    \n",
    "    "
   ]
  },
  {
   "cell_type": "code",
   "execution_count": 6,
   "id": "9c71bd41",
   "metadata": {
    "execution": {
     "iopub.execute_input": "2023-06-09T00:07:38.226692Z",
     "iopub.status.busy": "2023-06-09T00:07:38.225536Z",
     "iopub.status.idle": "2023-06-09T00:07:38.268834Z",
     "shell.execute_reply": "2023-06-09T00:07:38.267952Z"
    },
    "papermill": {
     "duration": 0.053596,
     "end_time": "2023-06-09T00:07:38.270756",
     "exception": false,
     "start_time": "2023-06-09T00:07:38.217160",
     "status": "completed"
    },
    "tags": []
   },
   "outputs": [
    {
     "name": "stdout",
     "output_type": "stream",
     "text": [
      "<class 'pandas.core.frame.DataFrame'>\n",
      "Int64Index: 7633 entries, 0 to 2626\n",
      "Data columns (total 9 columns):\n",
      " #   Column           Non-Null Count  Dtype  \n",
      "---  ------           --------------  -----  \n",
      " 0   Gender           7633 non-null   object \n",
      " 1   Ever_Married     7633 non-null   object \n",
      " 2   Age              7633 non-null   int64  \n",
      " 3   Graduated        7633 non-null   object \n",
      " 4   Profession       7633 non-null   object \n",
      " 5   Work_Experience  7633 non-null   float64\n",
      " 6   Spending_Score   7633 non-null   object \n",
      " 7   Family_Size      7633 non-null   float64\n",
      " 8   Var_1            7633 non-null   object \n",
      "dtypes: float64(2), int64(1), object(6)\n",
      "memory usage: 596.3+ KB\n",
      "None\n",
      "Data describe: \n",
      "               Age  Work_Experience  Family_Size\n",
      "count  7633.000000      7633.000000  7633.000000\n",
      "mean     43.244334         2.794576     2.881174\n",
      "std      16.099644         3.484314     1.576542\n",
      "min      18.000000         0.000000     1.000000\n",
      "25%      31.000000         0.000000     2.000000\n",
      "50%      40.000000         1.000000     3.000000\n",
      "75%      52.000000         5.000000     4.000000\n",
      "max      89.000000        14.000000     9.000000\n",
      "Gender              2\n",
      "Ever_Married        2\n",
      "Age                67\n",
      "Graduated           2\n",
      "Profession          9\n",
      "Work_Experience    15\n",
      "Spending_Score      3\n",
      "Family_Size         9\n",
      "Var_1               7\n",
      "dtype: int64\n"
     ]
    }
   ],
   "source": [
    "data_info(df)"
   ]
  },
  {
   "cell_type": "code",
   "execution_count": 7,
   "id": "8b092f22",
   "metadata": {
    "execution": {
     "iopub.execute_input": "2023-06-09T00:07:38.286754Z",
     "iopub.status.busy": "2023-06-09T00:07:38.285256Z",
     "iopub.status.idle": "2023-06-09T00:07:38.294957Z",
     "shell.execute_reply": "2023-06-09T00:07:38.293716Z"
    },
    "papermill": {
     "duration": 0.020028,
     "end_time": "2023-06-09T00:07:38.297491",
     "exception": false,
     "start_time": "2023-06-09T00:07:38.277463",
     "status": "completed"
    },
    "tags": []
   },
   "outputs": [],
   "source": [
    "import pandas as pd\n",
    "\n",
    "def encode_columns(df, trimmed=True, return_feat_names=True):\n",
    "    \"\"\"Returns the five highest-variance features of ``df``.\n",
    "\n",
    "    Parameters\n",
    "    ----------\n",
    "    df : pandas.DataFrame\n",
    "        The input DataFrame containing the features.\n",
    "\n",
    "    trimmed : bool, default=True\n",
    "        If ``True``, calculates trimmed variance, removing bottom and top 10%\n",
    "        of observations.\n",
    "\n",
    "    return_feat_names : bool, default=False\n",
    "        If ``True``, returns feature names as a ``list``. If ``False``,\n",
    "        returns ``Series``, where index is feature names and values are\n",
    "        variances.\n",
    "    \"\"\"\n",
    "    encoded_df = df.copy()\n",
    "    \n",
    "    # Define the encoding maps\n",
    "    map_Var_1 = {}\n",
    "    for i, item in enumerate(set(encoded_df['Var_1'])):\n",
    "        map_Var_1[item] = i\n",
    "    map_Spending_Score = {\"Low\": 0, \"Average\": 1, \"High\": 2}\n",
    "    map_Profession = {}\n",
    "    for i, item in enumerate(set(encoded_df['Profession'])):\n",
    "        map_Profession[item] = i\n",
    "    map_gender = {\"Male\": 1, \"Female\": 0}\n",
    "    map_YES_NO = {\"Yes\": 1, \"No\": 0} \n",
    "    \n",
    "    # Apply the encoding to the respective columns\n",
    "    encoded_df['Var_1'] = encoded_df['Var_1'].map(map_Var_1)\n",
    "    encoded_df['Spending_Score'] = encoded_df['Spending_Score'].map(map_Spending_Score)\n",
    "    encoded_df['Profession'] = encoded_df['Profession'].map(map_Profession)\n",
    "    encoded_df['Gender'] = encoded_df['Gender'].map(map_gender)\n",
    "    encoded_df['Ever_Married'] = encoded_df['Ever_Married'].map(map_YES_NO)\n",
    "    encoded_df['Graduated'] = encoded_df['Graduated'].map(map_YES_NO)\n",
    "    return encoded_df"
   ]
  },
  {
   "cell_type": "code",
   "execution_count": 8,
   "id": "c9492cc1",
   "metadata": {
    "execution": {
     "iopub.execute_input": "2023-06-09T00:07:38.313227Z",
     "iopub.status.busy": "2023-06-09T00:07:38.312873Z",
     "iopub.status.idle": "2023-06-09T00:07:38.336984Z",
     "shell.execute_reply": "2023-06-09T00:07:38.336106Z"
    },
    "papermill": {
     "duration": 0.035061,
     "end_time": "2023-06-09T00:07:38.339737",
     "exception": false,
     "start_time": "2023-06-09T00:07:38.304676",
     "status": "completed"
    },
    "tags": []
   },
   "outputs": [
    {
     "data": {
      "text/html": [
       "<div>\n",
       "<style scoped>\n",
       "    .dataframe tbody tr th:only-of-type {\n",
       "        vertical-align: middle;\n",
       "    }\n",
       "\n",
       "    .dataframe tbody tr th {\n",
       "        vertical-align: top;\n",
       "    }\n",
       "\n",
       "    .dataframe thead th {\n",
       "        text-align: right;\n",
       "    }\n",
       "</style>\n",
       "<table border=\"1\" class=\"dataframe\">\n",
       "  <thead>\n",
       "    <tr style=\"text-align: right;\">\n",
       "      <th></th>\n",
       "      <th>Gender</th>\n",
       "      <th>Ever_Married</th>\n",
       "      <th>Age</th>\n",
       "      <th>Graduated</th>\n",
       "      <th>Profession</th>\n",
       "      <th>Work_Experience</th>\n",
       "      <th>Spending_Score</th>\n",
       "      <th>Family_Size</th>\n",
       "      <th>Var_1</th>\n",
       "    </tr>\n",
       "  </thead>\n",
       "  <tbody>\n",
       "    <tr>\n",
       "      <th>0</th>\n",
       "      <td>1</td>\n",
       "      <td>0</td>\n",
       "      <td>22</td>\n",
       "      <td>0</td>\n",
       "      <td>4</td>\n",
       "      <td>1.0</td>\n",
       "      <td>0</td>\n",
       "      <td>4.0</td>\n",
       "      <td>6</td>\n",
       "    </tr>\n",
       "    <tr>\n",
       "      <th>2</th>\n",
       "      <td>0</td>\n",
       "      <td>1</td>\n",
       "      <td>67</td>\n",
       "      <td>1</td>\n",
       "      <td>1</td>\n",
       "      <td>1.0</td>\n",
       "      <td>0</td>\n",
       "      <td>1.0</td>\n",
       "      <td>2</td>\n",
       "    </tr>\n",
       "    <tr>\n",
       "      <th>3</th>\n",
       "      <td>1</td>\n",
       "      <td>1</td>\n",
       "      <td>67</td>\n",
       "      <td>1</td>\n",
       "      <td>5</td>\n",
       "      <td>0.0</td>\n",
       "      <td>2</td>\n",
       "      <td>2.0</td>\n",
       "      <td>2</td>\n",
       "    </tr>\n",
       "    <tr>\n",
       "      <th>5</th>\n",
       "      <td>1</td>\n",
       "      <td>1</td>\n",
       "      <td>56</td>\n",
       "      <td>0</td>\n",
       "      <td>0</td>\n",
       "      <td>0.0</td>\n",
       "      <td>1</td>\n",
       "      <td>2.0</td>\n",
       "      <td>2</td>\n",
       "    </tr>\n",
       "    <tr>\n",
       "      <th>6</th>\n",
       "      <td>1</td>\n",
       "      <td>0</td>\n",
       "      <td>32</td>\n",
       "      <td>1</td>\n",
       "      <td>4</td>\n",
       "      <td>1.0</td>\n",
       "      <td>0</td>\n",
       "      <td>3.0</td>\n",
       "      <td>2</td>\n",
       "    </tr>\n",
       "    <tr>\n",
       "      <th>...</th>\n",
       "      <td>...</td>\n",
       "      <td>...</td>\n",
       "      <td>...</td>\n",
       "      <td>...</td>\n",
       "      <td>...</td>\n",
       "      <td>...</td>\n",
       "      <td>...</td>\n",
       "      <td>...</td>\n",
       "      <td>...</td>\n",
       "    </tr>\n",
       "    <tr>\n",
       "      <th>2618</th>\n",
       "      <td>0</td>\n",
       "      <td>1</td>\n",
       "      <td>42</td>\n",
       "      <td>1</td>\n",
       "      <td>0</td>\n",
       "      <td>0.0</td>\n",
       "      <td>0</td>\n",
       "      <td>2.0</td>\n",
       "      <td>2</td>\n",
       "    </tr>\n",
       "    <tr>\n",
       "      <th>2621</th>\n",
       "      <td>0</td>\n",
       "      <td>0</td>\n",
       "      <td>35</td>\n",
       "      <td>1</td>\n",
       "      <td>2</td>\n",
       "      <td>1.0</td>\n",
       "      <td>0</td>\n",
       "      <td>2.0</td>\n",
       "      <td>2</td>\n",
       "    </tr>\n",
       "    <tr>\n",
       "      <th>2622</th>\n",
       "      <td>1</td>\n",
       "      <td>0</td>\n",
       "      <td>29</td>\n",
       "      <td>0</td>\n",
       "      <td>4</td>\n",
       "      <td>9.0</td>\n",
       "      <td>0</td>\n",
       "      <td>4.0</td>\n",
       "      <td>2</td>\n",
       "    </tr>\n",
       "    <tr>\n",
       "      <th>2623</th>\n",
       "      <td>0</td>\n",
       "      <td>0</td>\n",
       "      <td>35</td>\n",
       "      <td>1</td>\n",
       "      <td>6</td>\n",
       "      <td>1.0</td>\n",
       "      <td>0</td>\n",
       "      <td>1.0</td>\n",
       "      <td>2</td>\n",
       "    </tr>\n",
       "    <tr>\n",
       "      <th>2626</th>\n",
       "      <td>0</td>\n",
       "      <td>0</td>\n",
       "      <td>43</td>\n",
       "      <td>1</td>\n",
       "      <td>4</td>\n",
       "      <td>9.0</td>\n",
       "      <td>0</td>\n",
       "      <td>3.0</td>\n",
       "      <td>4</td>\n",
       "    </tr>\n",
       "  </tbody>\n",
       "</table>\n",
       "<p>7633 rows × 9 columns</p>\n",
       "</div>"
      ],
      "text/plain": [
       "      Gender  Ever_Married  Age  Graduated  Profession  Work_Experience  \\\n",
       "0          1             0   22          0           4              1.0   \n",
       "2          0             1   67          1           1              1.0   \n",
       "3          1             1   67          1           5              0.0   \n",
       "5          1             1   56          0           0              0.0   \n",
       "6          1             0   32          1           4              1.0   \n",
       "...      ...           ...  ...        ...         ...              ...   \n",
       "2618       0             1   42          1           0              0.0   \n",
       "2621       0             0   35          1           2              1.0   \n",
       "2622       1             0   29          0           4              9.0   \n",
       "2623       0             0   35          1           6              1.0   \n",
       "2626       0             0   43          1           4              9.0   \n",
       "\n",
       "      Spending_Score  Family_Size  Var_1  \n",
       "0                  0          4.0      6  \n",
       "2                  0          1.0      2  \n",
       "3                  2          2.0      2  \n",
       "5                  1          2.0      2  \n",
       "6                  0          3.0      2  \n",
       "...              ...          ...    ...  \n",
       "2618               0          2.0      2  \n",
       "2621               0          2.0      2  \n",
       "2622               0          4.0      2  \n",
       "2623               0          1.0      2  \n",
       "2626               0          3.0      4  \n",
       "\n",
       "[7633 rows x 9 columns]"
      ]
     },
     "execution_count": 8,
     "metadata": {},
     "output_type": "execute_result"
    }
   ],
   "source": [
    "df = encode_columns(df)\n",
    "df"
   ]
  },
  {
   "cell_type": "markdown",
   "id": "c1ac471b",
   "metadata": {
    "papermill": {
     "duration": 0.007037,
     "end_time": "2023-06-09T00:07:38.354195",
     "exception": false,
     "start_time": "2023-06-09T00:07:38.347158",
     "status": "completed"
    },
    "tags": []
   },
   "source": [
    "## Variance Bar Chart"
   ]
  },
  {
   "cell_type": "markdown",
   "id": "d52e61d6",
   "metadata": {
    "papermill": {
     "duration": 0.006845,
     "end_time": "2023-06-09T00:07:38.368174",
     "exception": false,
     "start_time": "2023-06-09T00:07:38.361329",
     "status": "completed"
    },
    "tags": []
   },
   "source": [
    "Create a get_high_var_features function that returns the five highest-variance features in a DataFrame. Use the docstring for guidance."
   ]
  },
  {
   "cell_type": "code",
   "execution_count": 9,
   "id": "462d9b31",
   "metadata": {
    "execution": {
     "iopub.execute_input": "2023-06-09T00:07:38.383756Z",
     "iopub.status.busy": "2023-06-09T00:07:38.383416Z",
     "iopub.status.idle": "2023-06-09T00:07:38.388967Z",
     "shell.execute_reply": "2023-06-09T00:07:38.387688Z"
    },
    "papermill": {
     "duration": 0.015507,
     "end_time": "2023-06-09T00:07:38.390735",
     "exception": false,
     "start_time": "2023-06-09T00:07:38.375228",
     "status": "completed"
    },
    "tags": []
   },
   "outputs": [],
   "source": [
    "def get_high_var_features( trimmed=True, return_feat_names=True):\n",
    "    \"\"\"\n",
    "    Returns the five highest-variance features of `df`.\n",
    "\n",
    "    Parameters\n",
    "    ----------\n",
    "    df : pandas.DataFrame\n",
    "        The DataFrame containing the features.\n",
    "\n",
    "    trimmed : bool, default=True\n",
    "        If `True`, calculates trimmed variance, removing bottom and top 10%\n",
    "        of observations.\n",
    "\n",
    "    return_feat_names : bool, default=True\n",
    "        If `True`, returns feature names as a list. If `False`,\n",
    "        returns Series, where index is feature names and values are\n",
    "        variances.\n",
    "    \"\"\"\n",
    "    numeric_columns = df.select_dtypes(include=[np.number])\n",
    "    if trimmed:\n",
    "        top_five_features = numeric_columns.apply(trimmed_var).sort_values()\n",
    "    else:\n",
    "        top_five_features = numeric_columns.var().sort_values()\n",
    "\n",
    "    if return_feat_names:\n",
    "        return top_five_features.index.tolist()\n",
    "    else:\n",
    "        return top_five_features\n"
   ]
  },
  {
   "cell_type": "code",
   "execution_count": 10,
   "id": "5863ca17",
   "metadata": {
    "execution": {
     "iopub.execute_input": "2023-06-09T00:07:38.406425Z",
     "iopub.status.busy": "2023-06-09T00:07:38.405840Z",
     "iopub.status.idle": "2023-06-09T00:07:38.421816Z",
     "shell.execute_reply": "2023-06-09T00:07:38.419946Z"
    },
    "papermill": {
     "duration": 0.026051,
     "end_time": "2023-06-09T00:07:38.424001",
     "exception": false,
     "start_time": "2023-06-09T00:07:38.397950",
     "status": "completed"
    },
    "tags": []
   },
   "outputs": [
    {
     "name": "stdout",
     "output_type": "stream",
     "text": [
      "Graduated            0.225109\n",
      "Ever_Married         0.235926\n",
      "Gender               0.246515\n",
      "Spending_Score       0.353835\n",
      "Family_Size          1.174333\n",
      "Var_1                1.745979\n",
      "Profession           4.885401\n",
      "Work_Experience      6.770380\n",
      "Age                120.832966\n",
      "dtype: float64\n"
     ]
    }
   ],
   "source": [
    "high_var_features = get_high_var_features(return_feat_names=False)\n",
    "print(high_var_features)"
   ]
  },
  {
   "cell_type": "markdown",
   "id": "42dc546e",
   "metadata": {
    "papermill": {
     "duration": 0.006748,
     "end_time": "2023-06-09T00:07:38.437785",
     "exception": false,
     "start_time": "2023-06-09T00:07:38.431037",
     "status": "completed"
    },
    "tags": []
   },
   "source": [
    "Create a serve_bar_chart function that returns a plotly express bar chart of the five highest-variance features. You should use get_high_var_features as a helper function. Follow the docstring for guidance."
   ]
  },
  {
   "cell_type": "code",
   "execution_count": 11,
   "id": "63bcc59f",
   "metadata": {
    "execution": {
     "iopub.execute_input": "2023-06-09T00:07:38.452544Z",
     "iopub.status.busy": "2023-06-09T00:07:38.452123Z",
     "iopub.status.idle": "2023-06-09T00:07:39.077272Z",
     "shell.execute_reply": "2023-06-09T00:07:39.075900Z"
    },
    "papermill": {
     "duration": 0.635502,
     "end_time": "2023-06-09T00:07:39.079788",
     "exception": false,
     "start_time": "2023-06-09T00:07:38.444286",
     "status": "completed"
    },
    "tags": []
   },
   "outputs": [],
   "source": [
    "import plotly.express as px\n",
    "\n",
    "def serve_bar_chart(trimmed=True):\n",
    "    \"\"\"Returns a horizontal bar chart of five highest-variance features.\n",
    "\n",
    "    Parameters\n",
    "    ----------\n",
    "    trimmed : bool, default=True\n",
    "        If ``True``, calculates trimmed variance, removing bottom and top 10%\n",
    "        of observations.\n",
    "    \"\"\"\n",
    "    top_five_features = get_high_var_features(trimmed=trimmed, return_feat_names=False)\n",
    "\n",
    "    fig = px.bar(x=top_five_features, y=top_five_features.index, orientation=\"h\")\n",
    "    fig.update_layout(xaxis_title=\"Variance\", yaxis_title=\"Features\")\n",
    "    return fig\n"
   ]
  },
  {
   "cell_type": "code",
   "execution_count": 12,
   "id": "8ae9f79a",
   "metadata": {
    "execution": {
     "iopub.execute_input": "2023-06-09T00:07:39.096682Z",
     "iopub.status.busy": "2023-06-09T00:07:39.095947Z",
     "iopub.status.idle": "2023-06-09T00:07:40.974541Z",
     "shell.execute_reply": "2023-06-09T00:07:40.973540Z"
    },
    "papermill": {
     "duration": 1.889622,
     "end_time": "2023-06-09T00:07:40.976905",
     "exception": false,
     "start_time": "2023-06-09T00:07:39.087283",
     "status": "completed"
    },
    "tags": []
   },
   "outputs": [
    {
     "data": {
      "text/html": [
       "        <script type=\"text/javascript\">\n",
       "        window.PlotlyConfig = {MathJaxConfig: 'local'};\n",
       "        if (window.MathJax && window.MathJax.Hub && window.MathJax.Hub.Config) {window.MathJax.Hub.Config({SVG: {font: \"STIX-Web\"}});}\n",
       "        if (typeof require !== 'undefined') {\n",
       "        require.undef(\"plotly\");\n",
       "        requirejs.config({\n",
       "            paths: {\n",
       "                'plotly': ['https://cdn.plot.ly/plotly-2.20.0.min']\n",
       "            }\n",
       "        });\n",
       "        require(['plotly'], function(Plotly) {\n",
       "            window._Plotly = Plotly;\n",
       "        });\n",
       "        }\n",
       "        </script>\n",
       "        "
      ]
     },
     "metadata": {},
     "output_type": "display_data"
    },
    {
     "data": {
      "text/html": [
       "<div>                            <div id=\"30fd3f3d-2cf3-4b6c-8426-05584ffc03b2\" class=\"plotly-graph-div\" style=\"height:525px; width:100%;\"></div>            <script type=\"text/javascript\">                require([\"plotly\"], function(Plotly) {                    window.PLOTLYENV=window.PLOTLYENV || {};                                    if (document.getElementById(\"30fd3f3d-2cf3-4b6c-8426-05584ffc03b2\")) {                    Plotly.newPlot(                        \"30fd3f3d-2cf3-4b6c-8426-05584ffc03b2\",                        [{\"alignmentgroup\":\"True\",\"hovertemplate\":\"x=%{x}<br>y=%{y}<extra></extra>\",\"legendgroup\":\"\",\"marker\":{\"color\":\"#636efa\",\"pattern\":{\"shape\":\"\"}},\"name\":\"\",\"offsetgroup\":\"\",\"orientation\":\"h\",\"showlegend\":false,\"textposition\":\"auto\",\"x\":[0.2251086989192703,0.23592589004626277,0.24651538583166008,0.35383507515890206,1.1743334153183138,1.7459786045208896,4.885401165166291,6.770379731854145,120.83296570581574],\"xaxis\":\"x\",\"y\":[\"Graduated\",\"Ever_Married\",\"Gender\",\"Spending_Score\",\"Family_Size\",\"Var_1\",\"Profession\",\"Work_Experience\",\"Age\"],\"yaxis\":\"y\",\"type\":\"bar\"}],                        {\"template\":{\"data\":{\"histogram2dcontour\":[{\"type\":\"histogram2dcontour\",\"colorbar\":{\"outlinewidth\":0,\"ticks\":\"\"},\"colorscale\":[[0.0,\"#0d0887\"],[0.1111111111111111,\"#46039f\"],[0.2222222222222222,\"#7201a8\"],[0.3333333333333333,\"#9c179e\"],[0.4444444444444444,\"#bd3786\"],[0.5555555555555556,\"#d8576b\"],[0.6666666666666666,\"#ed7953\"],[0.7777777777777778,\"#fb9f3a\"],[0.8888888888888888,\"#fdca26\"],[1.0,\"#f0f921\"]]}],\"choropleth\":[{\"type\":\"choropleth\",\"colorbar\":{\"outlinewidth\":0,\"ticks\":\"\"}}],\"histogram2d\":[{\"type\":\"histogram2d\",\"colorbar\":{\"outlinewidth\":0,\"ticks\":\"\"},\"colorscale\":[[0.0,\"#0d0887\"],[0.1111111111111111,\"#46039f\"],[0.2222222222222222,\"#7201a8\"],[0.3333333333333333,\"#9c179e\"],[0.4444444444444444,\"#bd3786\"],[0.5555555555555556,\"#d8576b\"],[0.6666666666666666,\"#ed7953\"],[0.7777777777777778,\"#fb9f3a\"],[0.8888888888888888,\"#fdca26\"],[1.0,\"#f0f921\"]]}],\"heatmap\":[{\"type\":\"heatmap\",\"colorbar\":{\"outlinewidth\":0,\"ticks\":\"\"},\"colorscale\":[[0.0,\"#0d0887\"],[0.1111111111111111,\"#46039f\"],[0.2222222222222222,\"#7201a8\"],[0.3333333333333333,\"#9c179e\"],[0.4444444444444444,\"#bd3786\"],[0.5555555555555556,\"#d8576b\"],[0.6666666666666666,\"#ed7953\"],[0.7777777777777778,\"#fb9f3a\"],[0.8888888888888888,\"#fdca26\"],[1.0,\"#f0f921\"]]}],\"heatmapgl\":[{\"type\":\"heatmapgl\",\"colorbar\":{\"outlinewidth\":0,\"ticks\":\"\"},\"colorscale\":[[0.0,\"#0d0887\"],[0.1111111111111111,\"#46039f\"],[0.2222222222222222,\"#7201a8\"],[0.3333333333333333,\"#9c179e\"],[0.4444444444444444,\"#bd3786\"],[0.5555555555555556,\"#d8576b\"],[0.6666666666666666,\"#ed7953\"],[0.7777777777777778,\"#fb9f3a\"],[0.8888888888888888,\"#fdca26\"],[1.0,\"#f0f921\"]]}],\"contourcarpet\":[{\"type\":\"contourcarpet\",\"colorbar\":{\"outlinewidth\":0,\"ticks\":\"\"}}],\"contour\":[{\"type\":\"contour\",\"colorbar\":{\"outlinewidth\":0,\"ticks\":\"\"},\"colorscale\":[[0.0,\"#0d0887\"],[0.1111111111111111,\"#46039f\"],[0.2222222222222222,\"#7201a8\"],[0.3333333333333333,\"#9c179e\"],[0.4444444444444444,\"#bd3786\"],[0.5555555555555556,\"#d8576b\"],[0.6666666666666666,\"#ed7953\"],[0.7777777777777778,\"#fb9f3a\"],[0.8888888888888888,\"#fdca26\"],[1.0,\"#f0f921\"]]}],\"surface\":[{\"type\":\"surface\",\"colorbar\":{\"outlinewidth\":0,\"ticks\":\"\"},\"colorscale\":[[0.0,\"#0d0887\"],[0.1111111111111111,\"#46039f\"],[0.2222222222222222,\"#7201a8\"],[0.3333333333333333,\"#9c179e\"],[0.4444444444444444,\"#bd3786\"],[0.5555555555555556,\"#d8576b\"],[0.6666666666666666,\"#ed7953\"],[0.7777777777777778,\"#fb9f3a\"],[0.8888888888888888,\"#fdca26\"],[1.0,\"#f0f921\"]]}],\"mesh3d\":[{\"type\":\"mesh3d\",\"colorbar\":{\"outlinewidth\":0,\"ticks\":\"\"}}],\"scatter\":[{\"fillpattern\":{\"fillmode\":\"overlay\",\"size\":10,\"solidity\":0.2},\"type\":\"scatter\"}],\"parcoords\":[{\"type\":\"parcoords\",\"line\":{\"colorbar\":{\"outlinewidth\":0,\"ticks\":\"\"}}}],\"scatterpolargl\":[{\"type\":\"scatterpolargl\",\"marker\":{\"colorbar\":{\"outlinewidth\":0,\"ticks\":\"\"}}}],\"bar\":[{\"error_x\":{\"color\":\"#2a3f5f\"},\"error_y\":{\"color\":\"#2a3f5f\"},\"marker\":{\"line\":{\"color\":\"#E5ECF6\",\"width\":0.5},\"pattern\":{\"fillmode\":\"overlay\",\"size\":10,\"solidity\":0.2}},\"type\":\"bar\"}],\"scattergeo\":[{\"type\":\"scattergeo\",\"marker\":{\"colorbar\":{\"outlinewidth\":0,\"ticks\":\"\"}}}],\"scatterpolar\":[{\"type\":\"scatterpolar\",\"marker\":{\"colorbar\":{\"outlinewidth\":0,\"ticks\":\"\"}}}],\"histogram\":[{\"marker\":{\"pattern\":{\"fillmode\":\"overlay\",\"size\":10,\"solidity\":0.2}},\"type\":\"histogram\"}],\"scattergl\":[{\"type\":\"scattergl\",\"marker\":{\"colorbar\":{\"outlinewidth\":0,\"ticks\":\"\"}}}],\"scatter3d\":[{\"type\":\"scatter3d\",\"line\":{\"colorbar\":{\"outlinewidth\":0,\"ticks\":\"\"}},\"marker\":{\"colorbar\":{\"outlinewidth\":0,\"ticks\":\"\"}}}],\"scattermapbox\":[{\"type\":\"scattermapbox\",\"marker\":{\"colorbar\":{\"outlinewidth\":0,\"ticks\":\"\"}}}],\"scatterternary\":[{\"type\":\"scatterternary\",\"marker\":{\"colorbar\":{\"outlinewidth\":0,\"ticks\":\"\"}}}],\"scattercarpet\":[{\"type\":\"scattercarpet\",\"marker\":{\"colorbar\":{\"outlinewidth\":0,\"ticks\":\"\"}}}],\"carpet\":[{\"aaxis\":{\"endlinecolor\":\"#2a3f5f\",\"gridcolor\":\"white\",\"linecolor\":\"white\",\"minorgridcolor\":\"white\",\"startlinecolor\":\"#2a3f5f\"},\"baxis\":{\"endlinecolor\":\"#2a3f5f\",\"gridcolor\":\"white\",\"linecolor\":\"white\",\"minorgridcolor\":\"white\",\"startlinecolor\":\"#2a3f5f\"},\"type\":\"carpet\"}],\"table\":[{\"cells\":{\"fill\":{\"color\":\"#EBF0F8\"},\"line\":{\"color\":\"white\"}},\"header\":{\"fill\":{\"color\":\"#C8D4E3\"},\"line\":{\"color\":\"white\"}},\"type\":\"table\"}],\"barpolar\":[{\"marker\":{\"line\":{\"color\":\"#E5ECF6\",\"width\":0.5},\"pattern\":{\"fillmode\":\"overlay\",\"size\":10,\"solidity\":0.2}},\"type\":\"barpolar\"}],\"pie\":[{\"automargin\":true,\"type\":\"pie\"}]},\"layout\":{\"autotypenumbers\":\"strict\",\"colorway\":[\"#636efa\",\"#EF553B\",\"#00cc96\",\"#ab63fa\",\"#FFA15A\",\"#19d3f3\",\"#FF6692\",\"#B6E880\",\"#FF97FF\",\"#FECB52\"],\"font\":{\"color\":\"#2a3f5f\"},\"hovermode\":\"closest\",\"hoverlabel\":{\"align\":\"left\"},\"paper_bgcolor\":\"white\",\"plot_bgcolor\":\"#E5ECF6\",\"polar\":{\"bgcolor\":\"#E5ECF6\",\"angularaxis\":{\"gridcolor\":\"white\",\"linecolor\":\"white\",\"ticks\":\"\"},\"radialaxis\":{\"gridcolor\":\"white\",\"linecolor\":\"white\",\"ticks\":\"\"}},\"ternary\":{\"bgcolor\":\"#E5ECF6\",\"aaxis\":{\"gridcolor\":\"white\",\"linecolor\":\"white\",\"ticks\":\"\"},\"baxis\":{\"gridcolor\":\"white\",\"linecolor\":\"white\",\"ticks\":\"\"},\"caxis\":{\"gridcolor\":\"white\",\"linecolor\":\"white\",\"ticks\":\"\"}},\"coloraxis\":{\"colorbar\":{\"outlinewidth\":0,\"ticks\":\"\"}},\"colorscale\":{\"sequential\":[[0.0,\"#0d0887\"],[0.1111111111111111,\"#46039f\"],[0.2222222222222222,\"#7201a8\"],[0.3333333333333333,\"#9c179e\"],[0.4444444444444444,\"#bd3786\"],[0.5555555555555556,\"#d8576b\"],[0.6666666666666666,\"#ed7953\"],[0.7777777777777778,\"#fb9f3a\"],[0.8888888888888888,\"#fdca26\"],[1.0,\"#f0f921\"]],\"sequentialminus\":[[0.0,\"#0d0887\"],[0.1111111111111111,\"#46039f\"],[0.2222222222222222,\"#7201a8\"],[0.3333333333333333,\"#9c179e\"],[0.4444444444444444,\"#bd3786\"],[0.5555555555555556,\"#d8576b\"],[0.6666666666666666,\"#ed7953\"],[0.7777777777777778,\"#fb9f3a\"],[0.8888888888888888,\"#fdca26\"],[1.0,\"#f0f921\"]],\"diverging\":[[0,\"#8e0152\"],[0.1,\"#c51b7d\"],[0.2,\"#de77ae\"],[0.3,\"#f1b6da\"],[0.4,\"#fde0ef\"],[0.5,\"#f7f7f7\"],[0.6,\"#e6f5d0\"],[0.7,\"#b8e186\"],[0.8,\"#7fbc41\"],[0.9,\"#4d9221\"],[1,\"#276419\"]]},\"xaxis\":{\"gridcolor\":\"white\",\"linecolor\":\"white\",\"ticks\":\"\",\"title\":{\"standoff\":15},\"zerolinecolor\":\"white\",\"automargin\":true,\"zerolinewidth\":2},\"yaxis\":{\"gridcolor\":\"white\",\"linecolor\":\"white\",\"ticks\":\"\",\"title\":{\"standoff\":15},\"zerolinecolor\":\"white\",\"automargin\":true,\"zerolinewidth\":2},\"scene\":{\"xaxis\":{\"backgroundcolor\":\"#E5ECF6\",\"gridcolor\":\"white\",\"linecolor\":\"white\",\"showbackground\":true,\"ticks\":\"\",\"zerolinecolor\":\"white\",\"gridwidth\":2},\"yaxis\":{\"backgroundcolor\":\"#E5ECF6\",\"gridcolor\":\"white\",\"linecolor\":\"white\",\"showbackground\":true,\"ticks\":\"\",\"zerolinecolor\":\"white\",\"gridwidth\":2},\"zaxis\":{\"backgroundcolor\":\"#E5ECF6\",\"gridcolor\":\"white\",\"linecolor\":\"white\",\"showbackground\":true,\"ticks\":\"\",\"zerolinecolor\":\"white\",\"gridwidth\":2}},\"shapedefaults\":{\"line\":{\"color\":\"#2a3f5f\"}},\"annotationdefaults\":{\"arrowcolor\":\"#2a3f5f\",\"arrowhead\":0,\"arrowwidth\":1},\"geo\":{\"bgcolor\":\"white\",\"landcolor\":\"#E5ECF6\",\"subunitcolor\":\"white\",\"showland\":true,\"showlakes\":true,\"lakecolor\":\"white\"},\"title\":{\"x\":0.05},\"mapbox\":{\"style\":\"light\"}}},\"xaxis\":{\"anchor\":\"y\",\"domain\":[0.0,1.0],\"title\":{\"text\":\"Variance\"}},\"yaxis\":{\"anchor\":\"x\",\"domain\":[0.0,1.0],\"title\":{\"text\":\"Features\"}},\"legend\":{\"tracegroupgap\":0},\"margin\":{\"t\":60},\"barmode\":\"relative\"},                        {\"responsive\": true}                    ).then(function(){\n",
       "                            \n",
       "var gd = document.getElementById('30fd3f3d-2cf3-4b6c-8426-05584ffc03b2');\n",
       "var x = new MutationObserver(function (mutations, observer) {{\n",
       "        var display = window.getComputedStyle(gd).display;\n",
       "        if (!display || display === 'none') {{\n",
       "            console.log([gd, 'removed!']);\n",
       "            Plotly.purge(gd);\n",
       "            observer.disconnect();\n",
       "        }}\n",
       "}});\n",
       "\n",
       "// Listen for the removal of the full notebook cells\n",
       "var notebookContainer = gd.closest('#notebook-container');\n",
       "if (notebookContainer) {{\n",
       "    x.observe(notebookContainer, {childList: true});\n",
       "}}\n",
       "\n",
       "// Listen for the clearing of the current output cell\n",
       "var outputEl = gd.closest('.output');\n",
       "if (outputEl) {{\n",
       "    x.observe(outputEl, {childList: true});\n",
       "}}\n",
       "\n",
       "                        })                };                });            </script>        </div>"
      ]
     },
     "metadata": {},
     "output_type": "display_data"
    }
   ],
   "source": [
    "serve_bar_chart(trimmed=True)"
   ]
  },
  {
   "cell_type": "markdown",
   "id": "d760d6cf",
   "metadata": {
    "papermill": {
     "duration": 0.007491,
     "end_time": "2023-06-09T00:07:40.992433",
     "exception": false,
     "start_time": "2023-06-09T00:07:40.984942",
     "status": "completed"
    },
    "tags": []
   },
   "source": [
    "## K-means Slider and Metrics"
   ]
  },
  {
   "cell_type": "markdown",
   "id": "055521c7",
   "metadata": {
    "papermill": {
     "duration": 0.006724,
     "end_time": "2023-06-09T00:07:41.006397",
     "exception": false,
     "start_time": "2023-06-09T00:07:40.999673",
     "status": "completed"
    },
    "tags": []
   },
   "source": [
    "Okay, so now our app has a radio button, but that's only one thing for a viewer to interact with. Buttons are fun, but what if we made a slider to help people see what it means for the number of clusters to change. Let's do it!\n",
    "\n",
    "Again, start by adding some objects to the layout."
   ]
  },
  {
   "cell_type": "code",
   "execution_count": 13,
   "id": "796b647e",
   "metadata": {
    "execution": {
     "iopub.execute_input": "2023-06-09T00:07:41.022951Z",
     "iopub.status.busy": "2023-06-09T00:07:41.022520Z",
     "iopub.status.idle": "2023-06-09T00:07:41.394288Z",
     "shell.execute_reply": "2023-06-09T00:07:41.393289Z"
    },
    "papermill": {
     "duration": 0.38373,
     "end_time": "2023-06-09T00:07:41.397397",
     "exception": false,
     "start_time": "2023-06-09T00:07:41.013667",
     "status": "completed"
    },
    "tags": []
   },
   "outputs": [
    {
     "data": {
      "application/vnd.jupyter.widget-view+json": {
       "model_id": "3bf9b44691714a8b9adaa3ba37fddf65",
       "version_major": 2,
       "version_minor": 0
      },
      "text/plain": [
       "interactive(children=(IntSlider(value=3, description='num_clusters', max=10, min=2), Output()), _dom_classes=(…"
      ]
     },
     "metadata": {},
     "output_type": "display_data"
    }
   ],
   "source": [
    "import numpy as np\n",
    "import matplotlib.pyplot as plt\n",
    "from sklearn.cluster import KMeans\n",
    "from sklearn.decomposition import PCA\n",
    "import ipywidgets as widgets\n",
    "from ipywidgets import interact\n",
    "import pandas as pd\n",
    "import plotly.express as px\n",
    "\n",
    "# Generate sample data\n",
    "np.random.seed(0)\n",
    "n_samples = 200\n",
    "n_features = 4\n",
    "df = df.copy()\n",
    "\n",
    "@interact(num_clusters=widgets.IntSlider(min=2, max=10, step=1, value=3))\n",
    "def kmeans_clustering(num_clusters):\n",
    "    # Perform k-means clustering with the selected number of clusters\n",
    "    kmeans = KMeans(n_clusters=num_clusters, random_state=42)\n",
    "    kmeans.fit(data)\n",
    "    labels = kmeans.labels_\n",
    "    centers = kmeans.cluster_centers_\n",
    "    \n",
    "    # Apply PCA for dimensionality reduction\n",
    "    pca = PCA(n_components=2)\n",
    "    data_pca = pca.fit_transform(data)\n",
    "    \n",
    "    # Plot the clusters based on the reduced dimensions\n",
    "    features = get_high_var_features(trimmed=True, return_feat_names=True)\n",
    "    X = df[features]\n",
    "    \n",
    "    transformer = PCA(n_components=2, random_state=42)\n",
    "    X_t = transformer.fit_transform(X)\n",
    "    \n",
    "    X_pca = pd.DataFrame(X_t, columns=[\"PCA1\", \"PCA2\"])\n",
    "    \n",
    "    model = get_model_metrics(trimmed=True, k=num_clusters, return_metrics=False)\n",
    "    X_pca['labels'] = model.named_steps[\"kmeans\"].labels_.astype(str)\n",
    "    X_pca.sort_values(\"labels\", inplace=True)\n",
    "    \n",
    "    fig = px.scatter(\n",
    "        data_frame=X_pca,\n",
    "        x=\"PCA1\",\n",
    "        y=\"PCA2\",\n",
    "        color=\"labels\",\n",
    "        title=\"PCA Representation of Clusters\"\n",
    "    )\n",
    "    \n",
    "    fig.update_layout(xaxis_title=\"PCA1\", yaxis_title=\"PCA2\")\n",
    "    fig.show()\n"
   ]
  },
  {
   "cell_type": "code",
   "execution_count": 14,
   "id": "8b1bf643",
   "metadata": {
    "execution": {
     "iopub.execute_input": "2023-06-09T00:07:41.416022Z",
     "iopub.status.busy": "2023-06-09T00:07:41.415030Z",
     "iopub.status.idle": "2023-06-09T00:07:41.421963Z",
     "shell.execute_reply": "2023-06-09T00:07:41.420962Z"
    },
    "papermill": {
     "duration": 0.018154,
     "end_time": "2023-06-09T00:07:41.424102",
     "exception": false,
     "start_time": "2023-06-09T00:07:41.405948",
     "status": "completed"
    },
    "tags": []
   },
   "outputs": [],
   "source": [
    "def get_model_metrics(trimmed=True , k=2 , return_metrics=False):\n",
    "\n",
    "    \"\"\"Build ``KMeans`` model based on five highest-variance features in ``df``.\n",
    "\n",
    "    Parameters\n",
    "    ----------\n",
    "    trimmed : bool, default=True\n",
    "        If ``True``, calculates trimmed variance, removing bottom and top 10%\n",
    "        of observations.\n",
    "\n",
    "    k : int, default=2\n",
    "        Number of clusters.\n",
    "\n",
    "    return_metrics : bool, default=False\n",
    "        If ``False`` returns ``KMeans`` model. If ``True`` returns ``dict``\n",
    "        with inertia and silhouette score.\n",
    "\n",
    "    \"\"\"\n",
    "    features = get_high_var_features(trimmed=trimmed , return_feat_names=True )\n",
    "    X = df[features]\n",
    "    model = make_pipeline( StandardScaler() ,  KMeans(n_clusters=k , random_state=42 ))\n",
    "    model.fit(X)\n",
    "    if return_metrics:\n",
    "        i = model.named_steps[\"kmeans\"].inertia_\n",
    "        ss = silhouette_score(X , model.named_steps[\"kmeans\"].labels_)\n",
    "        metrics = {\n",
    "            \"inertia\" : round(i) , \n",
    "            \"silhouette\" : round(ss , 3)\n",
    "        }\n",
    "        return metrics\n",
    "    return model"
   ]
  },
  {
   "cell_type": "code",
   "execution_count": 15,
   "id": "b2fada2a",
   "metadata": {
    "execution": {
     "iopub.execute_input": "2023-06-09T00:07:41.441195Z",
     "iopub.status.busy": "2023-06-09T00:07:41.440693Z",
     "iopub.status.idle": "2023-06-09T00:07:43.288893Z",
     "shell.execute_reply": "2023-06-09T00:07:43.288016Z"
    },
    "papermill": {
     "duration": 1.858724,
     "end_time": "2023-06-09T00:07:43.290741",
     "exception": false,
     "start_time": "2023-06-09T00:07:41.432017",
     "status": "completed"
    },
    "tags": []
   },
   "outputs": [
    {
     "data": {
      "text/plain": [
       "{'inertia': 55425, 'silhouette': 0.22}"
      ]
     },
     "execution_count": 15,
     "metadata": {},
     "output_type": "execute_result"
    }
   ],
   "source": [
    "model = get_model_metrics(trimmed=True , k=2, return_metrics=True)\n",
    "model"
   ]
  },
  {
   "cell_type": "markdown",
   "id": "53176575",
   "metadata": {
    "papermill": {
     "duration": 0.007257,
     "end_time": "2023-06-09T00:07:43.306009",
     "exception": false,
     "start_time": "2023-06-09T00:07:43.298752",
     "status": "completed"
    },
    "tags": []
   },
   "source": [
    "## PCA Scatter Plot"
   ]
  },
  {
   "cell_type": "markdown",
   "id": "becfd6de",
   "metadata": {
    "papermill": {
     "duration": 0.008012,
     "end_time": "2023-06-09T00:07:43.321651",
     "exception": false,
     "start_time": "2023-06-09T00:07:43.313639",
     "status": "completed"
    },
    "tags": []
   },
   "source": [
    "We just made a slider that can change the inertia and silhouette scores, but not everyone will be able to understand what those changing numbers mean. Let's make a scatter plot to help them along."
   ]
  },
  {
   "cell_type": "code",
   "execution_count": 16,
   "id": "246d0436",
   "metadata": {
    "execution": {
     "iopub.execute_input": "2023-06-09T00:07:43.339608Z",
     "iopub.status.busy": "2023-06-09T00:07:43.339038Z",
     "iopub.status.idle": "2023-06-09T00:07:43.346029Z",
     "shell.execute_reply": "2023-06-09T00:07:43.344930Z"
    },
    "papermill": {
     "duration": 0.018863,
     "end_time": "2023-06-09T00:07:43.348377",
     "exception": false,
     "start_time": "2023-06-09T00:07:43.329514",
     "status": "completed"
    },
    "tags": []
   },
   "outputs": [],
   "source": [
    "def get_pca_labels(trimmed=True , k=2):\n",
    "\n",
    "    \"\"\"\n",
    "    ``KMeans`` labels.\n",
    "\n",
    "    Parameters\n",
    "    ----------\n",
    "    trimmed : bool, default=True\n",
    "        If ``True``, calculates trimmed variance, removing bottom and top 10%\n",
    "        of observations.\n",
    "\n",
    "    k : int, default=2\n",
    "        Number of clusters.\n",
    "    \"\"\"\n",
    "    features = get_high_var_features(trimmed=trimmed, return_feat_names=True)\n",
    "    X = df[features]\n",
    "    \n",
    "    transformer = PCA(n_components=2 , random_state=42) \n",
    "    \n",
    "    X_t = transformer.fit_transform(X)\n",
    "    \n",
    "    X_pca = pd.DataFrame(X_t , columns=[\"PCA1\" , \"PCA2\"])\n",
    "    \n",
    "    model = get_model_metrics(trimmed=trimmed , k=k , return_metrics=False)\n",
    "    X_pca['labels'] = model.named_steps[\"kmeans\"].labels_.astype(str)\n",
    "    X_pca.sort_values(\"labels\" , inplace=True )\n",
    "    return X_pca"
   ]
  },
  {
   "cell_type": "code",
   "execution_count": 17,
   "id": "88dc7a7d",
   "metadata": {
    "execution": {
     "iopub.execute_input": "2023-06-09T00:07:43.365794Z",
     "iopub.status.busy": "2023-06-09T00:07:43.365312Z",
     "iopub.status.idle": "2023-06-09T00:07:44.789259Z",
     "shell.execute_reply": "2023-06-09T00:07:44.788408Z"
    },
    "papermill": {
     "duration": 1.434554,
     "end_time": "2023-06-09T00:07:44.791005",
     "exception": false,
     "start_time": "2023-06-09T00:07:43.356451",
     "status": "completed"
    },
    "tags": []
   },
   "outputs": [
    {
     "data": {
      "text/html": [
       "<div>\n",
       "<style scoped>\n",
       "    .dataframe tbody tr th:only-of-type {\n",
       "        vertical-align: middle;\n",
       "    }\n",
       "\n",
       "    .dataframe tbody tr th {\n",
       "        vertical-align: top;\n",
       "    }\n",
       "\n",
       "    .dataframe thead th {\n",
       "        text-align: right;\n",
       "    }\n",
       "</style>\n",
       "<table border=\"1\" class=\"dataframe\">\n",
       "  <thead>\n",
       "    <tr style=\"text-align: right;\">\n",
       "      <th></th>\n",
       "      <th>PCA1</th>\n",
       "      <th>PCA2</th>\n",
       "      <th>labels</th>\n",
       "    </tr>\n",
       "  </thead>\n",
       "  <tbody>\n",
       "    <tr>\n",
       "      <th>2690</th>\n",
       "      <td>25.836006</td>\n",
       "      <td>-0.594990</td>\n",
       "      <td>0</td>\n",
       "    </tr>\n",
       "    <tr>\n",
       "      <th>3457</th>\n",
       "      <td>-2.415063</td>\n",
       "      <td>5.507039</td>\n",
       "      <td>0</td>\n",
       "    </tr>\n",
       "    <tr>\n",
       "      <th>6163</th>\n",
       "      <td>-2.389481</td>\n",
       "      <td>4.520283</td>\n",
       "      <td>0</td>\n",
       "    </tr>\n",
       "    <tr>\n",
       "      <th>6165</th>\n",
       "      <td>7.852507</td>\n",
       "      <td>-2.356072</td>\n",
       "      <td>0</td>\n",
       "    </tr>\n",
       "    <tr>\n",
       "      <th>3453</th>\n",
       "      <td>-0.086337</td>\n",
       "      <td>-2.312588</td>\n",
       "      <td>0</td>\n",
       "    </tr>\n",
       "  </tbody>\n",
       "</table>\n",
       "</div>"
      ],
      "text/plain": [
       "           PCA1      PCA2 labels\n",
       "2690  25.836006 -0.594990      0\n",
       "3457  -2.415063  5.507039      0\n",
       "6163  -2.389481  4.520283      0\n",
       "6165   7.852507 -2.356072      0\n",
       "3453  -0.086337 -2.312588      0"
      ]
     },
     "execution_count": 17,
     "metadata": {},
     "output_type": "execute_result"
    }
   ],
   "source": [
    "get_pca_labels().head()"
   ]
  },
  {
   "cell_type": "code",
   "execution_count": 18,
   "id": "5809c56b",
   "metadata": {
    "execution": {
     "iopub.execute_input": "2023-06-09T00:07:44.808423Z",
     "iopub.status.busy": "2023-06-09T00:07:44.808079Z",
     "iopub.status.idle": "2023-06-09T00:07:44.813258Z",
     "shell.execute_reply": "2023-06-09T00:07:44.812335Z"
    },
    "papermill": {
     "duration": 0.016018,
     "end_time": "2023-06-09T00:07:44.815094",
     "exception": false,
     "start_time": "2023-06-09T00:07:44.799076",
     "status": "completed"
    },
    "tags": []
   },
   "outputs": [],
   "source": [
    "def serve_scatter_plot(trimmed=True , k=2):\n",
    "\n",
    "    \"\"\"Build 2D scatter plot of ``df`` with ``KMeans`` labels.\n",
    "\n",
    "    Parameters\n",
    "    ----------\n",
    "    trimmed : bool, default=True\n",
    "        If ``True``, calculates trimmed variance, removing bottom and top 10%\n",
    "        of observations.\n",
    "\n",
    "    k : int, default=2\n",
    "        Number of clusters.\n",
    "    \"\"\"\n",
    "    fig = px.scatter(\n",
    "          data_frame=get_pca_labels(trimmed=trimmed , k=k ),\n",
    "        x=\"PCA1\" , \n",
    "        y=\"PCA2\" , \n",
    "        color=\"labels\" ,\n",
    "        title=\"PCA Representation of Clusters\"\n",
    "    \n",
    "    \n",
    "    )\n",
    "    fig.update_layout(xaxis_title=\"PCA1\" , yaxis_title=\"PCA2\" )\n",
    "    return fig"
   ]
  },
  {
   "cell_type": "code",
   "execution_count": 19,
   "id": "e0c5ab2e",
   "metadata": {
    "execution": {
     "iopub.execute_input": "2023-06-09T00:07:44.831992Z",
     "iopub.status.busy": "2023-06-09T00:07:44.831640Z",
     "iopub.status.idle": "2023-06-09T00:07:46.259080Z",
     "shell.execute_reply": "2023-06-09T00:07:46.257706Z"
    },
    "papermill": {
     "duration": 1.438204,
     "end_time": "2023-06-09T00:07:46.261148",
     "exception": false,
     "start_time": "2023-06-09T00:07:44.822944",
     "status": "completed"
    },
    "tags": []
   },
   "outputs": [
    {
     "data": {
      "text/html": [
       "<div>                            <div id=\"699d4636-2c12-4571-bc63-a98eef1e6575\" class=\"plotly-graph-div\" style=\"height:525px; width:100%;\"></div>            <script type=\"text/javascript\">                require([\"plotly\"], function(Plotly) {                    window.PLOTLYENV=window.PLOTLYENV || {};                                    if (document.getElementById(\"699d4636-2c12-4571-bc63-a98eef1e6575\")) {                    Plotly.newPlot(                        \"699d4636-2c12-4571-bc63-a98eef1e6575\",                        [{\"hovertemplate\":\"labels=0<br>PCA1=%{x}<br>PCA2=%{y}<extra></extra>\",\"legendgroup\":\"0\",\"marker\":{\"color\":\"#636efa\",\"symbol\":\"circle\"},\"mode\":\"markers\",\"name\":\"0\",\"showlegend\":true,\"x\":[25.836005500231135,-2.415062630805165,-2.3894812565388905,7.852506726001365,-0.08633693765256058,-3.1567680930184014,29.810985342963793,1.8534367971535057,-8.258969282518189,42.863896703506775,-6.126129170438307,-2.4394867696944265,-18.167755683211038,19.628910287082405,-5.183245389902964,12.666286126284986,-15.453272545149309,25.85802093255165,37.83759437181208,3.619021420238053,-4.116395347798552,15.741151873215475,-17.42863893685339,-12.155599198072874,-7.249592155702813,8.708487061894317,31.839690763870603,2.5090705649670166,13.845601224774338,-13.126234697067941,-3.4649717349448963,13.840855415957257,1.5781285156149767,4.448923080659187,-0.22392780671559834,39.88982030934279,-3.6676873629190463,38.880792979876816,-4.081133888451863,4.87144674020904,-8.65706547843813,1.9276670370554068,11.48084200446555,-3.5337499425495507,-8.209232153389948,2.8362884127705685,-0.46306263773842565,-5.499595719909083,-7.058618846769073,27.89951732722142,14.854896310897649,3.8868971773414303,13.804425815996275,-5.4614008448330695,-11.111902929134924,-4.156174023129375,-1.3802370604969958,-0.05659318891455944,4.662020107834907,17.852175864832176,27.82828831376298,-1.1284274022113476,9.72224097300934,35.84210694210795,33.62543983562318,-1.2725174532614576,13.786165420437728,-5.167197040251251,-12.017313204416743,-14.310262322916408,-8.451984554563229,19.835826116494395,15.922850255402965,-5.167593981048702,8.735219990334517,4.803279015237101,21.4769453770386,-7.248605041025318,8.542561587810539,6.868396646606542,-5.156258491393076,3.8239024236450865,39.705781715313684,12.892642431718837,28.80054916451357,-2.0818243673566927,11.840871373754663,-1.0908475594593798,16.851830074245072,29.77127183761945,-7.377502939685433,7.886213292547889,34.84677160740199,36.88419740666674,4.923363299060093,-18.090198261310324,1.8718346593235722,23.80075547331158,-6.057912353595294,34.8358846867485,9.834241382276742,5.883492750551502,21.857607499490918,35.83010847362226,6.552514288458613,-6.395613188668845,4.543524682283029,-2.589125199114232,-7.183658813399036,11.525742825925239,-3.710477366872644,-4.437190486410435,26.894403215367912,-15.47854998948217,5.896492730311698,2.893914464747101,3.8253908565734256,-7.222951729801676,-7.181070097543444,18.85305921824015,-2.1329380240181663,9.839956556605301,2.890296026603994,36.683999065915785,-3.262296701223059,29.80937953858464,-1.4751937983662409,33.844403225391936,26.883512890388154,6.832042318811335,-6.162680158895416,5.568910955466375,36.73952034125699,1.8915005791257362,16.822780941775193,19.811945405608785,18.716135622424876,30.876704036808302,9.764765233663315,15.757733364711846,26.769841506755128,13.853269544083462,1.7705180257866906,7.8481874820620785,-0.1933255796558871,-2.3826049341820634,9.819497328467895,42.80586064115527,-18.49978761941142,-1.1024812978453324,3.580348431665172,-13.17438590183034,-0.07544661267280513,-12.184123621382167,-2.52460524163275,-1.1337791578231133,7.65469768896311,25.896105428762883,-6.199020072733014,-10.161035191061785,34.772045799570186,45.85117083588383,30.812284356012302,-5.227464300097543,-0.47434204293694676,21.788992430467513,42.866059657542536,4.855146482217082,11.820968492215892,-2.4609096821402257,4.835431470543844,3.772829576383294,-0.23498825239486973,32.889898116740646,-0.24900452752261923,6.785444861484046,14.823668081341923,37.82340457165854,-2.462564578390461,-8.233109539534913,39.816483294793926,17.50660276246857,36.801180307037455,13.575962350433954,-5.097278248644634,-4.091666475917908,-7.46298029450252,37.48891483701834,21.89392801047247,4.794213454155757,36.764567373048976,2.857442765501072,16.844813025470764,-2.0709340423769373,-1.2780658316311528,27.526913407354968,4.691326829848119,-8.499293574266686,-8.44753388488319,32.875708316587115,-4.414869812773557,4.807886046059724,5.796578511425147,21.857456311226446,-11.078138185187964,-15.110304596424369,8.87744493850754,-16.447493910625944,30.834815411964033,-1.3718149308693652,2.869945887446018,3.933494634668719,24.76393121560446,19.871800154867202,8.54375810605692,26.82100425528768,6.826860978632083,37.86237983647481,-7.272597557020477,22.86638827336595,35.42299430345932,-4.3958556068964985,15.810889852477265,11.53020993338835,-7.125974584022067,22.8756202977692,-6.139824274791601,42.82226697958879,18.863060612284553,9.876683896971642,2.6879872280146273,-4.1056071192121975,-4.274397729445551,-0.3845775899436014,-14.107539702356224,15.54587539845784,27.871576338257483,6.7316499110254755,8.385651271554085,-1.1228521512422975,4.854706998744295,-14.397572126522585,9.433132774594004,2.8206245936462944,-0.7031436986366243,3.797355008607984,-5.212644614455239,44.8418709626544,-4.708410423377938,25.90693626495926,-2.2143105447238858,45.84625157115882,-4.085740919274486,2.8512790221703614,17.90966364713921,23.86654801379543,4.842659438387527,38.7752222723871,-0.6155583427291218,-2.0647212071751535,-6.119916335236522,2.6061798599597195,17.57138168581101,7.738000149895416,-0.2432963457800883,45.86887748611204,-3.4165720261685215,8.755361234248586,24.858216033634584,-8.215432245684749,2.6027097936654116,21.763047637484437,4.860862459603614,-1.4739440604501648,-6.548095680331553,-13.309944909961397,26.825018766235583,-7.207902943001444,-10.054812769646981,15.774369061360169,12.864347109567461,-8.403692115058362,11.783651791495231,6.919958872270161,9.776202311387369,17.80748542568734,3.8114993051502073,-7.458162881365036,5.876429066654113,45.859652454294846,11.813047756241536,4.889707135767591,7.8736610787318675,15.78526455921803,14.812592065872234,-16.423236235058575,17.494464370623362,44.55033881455044,-4.129533597228235,15.745146403864492,21.718806390528542,3.5313452328421113,11.905739623552815,12.891534288212897,6.724880220900083,21.90973060759121,18.84271047312658,-5.122453596584095,-0.19045216103492107,16.671337295833336,4.846724352589451,9.83936352840561,25.88761681776584,-1.103698022005728,-12.100252070944244,16.850383740601778,27.80431143249292,36.839296585207045,13.886839933903834,8.576349536511474,26.83841265678557,33.826696575163716,16.73986267873335,1.7970919053837335,13.545065902156972,-15.364412582413975,7.684749495433145,18.86829184739286,-6.089657471192279,5.859159443150674,41.76155874162542,42.826281490536694,-4.463269521549932,1.6620046018909351,5.839610894799337,17.90234266843149,6.8813974294247116,-5.453748668574023,23.865488962160562,5.9216610856651295,21.795553917653642,-14.378528231630492,-16.444249353046622,-5.474049715860923,26.84653653768288,6.84331293321349,-17.088246666344066,28.885318984467528,25.80321740911468,-0.3374849284910865,-16.22548537542076,19.846267872472,-13.305566980296701,26.856318719156693,-8.420186432443915,-15.131508041025945,15.816605026805833,18.882429151349047,-8.072719230492842,16.86596737820127,35.83448640328696,4.887999743320003,-6.456863868316542,14.780636565960387,-1.3233552249846336,-0.33069416445902505,6.845318837910507,25.860734880436755,27.85461650576173,7.856557918550329,2.824851335046518,26.837304513279626,9.75395726958395,26.88702274787681,-7.3675762990140745,7.649336847821979,-6.494790183677254,-1.12892506308457,1.8486193840160225,-5.177778719588371,18.761990534338622,-12.046590929719569,8.794178826539323,17.634818279442573,8.84503764513846,14.65090607609566,16.55796401641032,6.782417095078199,18.861454807905396,2.8683400830668577,6.800677490636749,16.78607314878521,-4.393397808456682,4.797520430240549,16.765345869257477,27.81930204189271,3.7933900978561317,1.4710907817405765,-3.14328337097997,-6.4327270079856405,3.8751090911705965,-7.068604173165846,24.833256175953412,-7.049692063682188,-0.4836826479946449,-11.09685414233469,-6.46142180726809,18.864168755790494,4.71022417259933,8.883353843775911,15.428999398652522,-5.127831383833271,14.568806793358792,3.8104177016066543,-5.409955990620269,13.908050371091441,11.569535503878988,44.843939273605876,4.84671736000342,-5.444248592780458,2.839900121846747,-2.4454118180128734,35.834182473353536,41.805426691744955,29.871418674526762,23.86990357342633,45.78184587553486,1.5153803175095788,-11.100507950695913,7.610102108819781,-5.454502478892529,28.763973012411704,22.859828097562765,40.77780472869368,29.80797314634838,-4.1765680812803145,44.75640300956944,-6.152264942880194,4.8989391601708325,27.759932718925516,-4.46598346943503,35.870601676402224,25.77611197642833,32.847213582292845,-7.160977945500449,-4.0608145836739675,24.89774815337445,-8.459174615855172,17.770964634570234,-16.304838269776504,8.742491877171167,5.5286351275873065,14.810681020176716,-4.324570508980954,2.9530442247093927,-12.451058206626483,24.90753033484829,35.79038979539979,6.851443806696823,-0.39338334420204274,-6.1443895659968595,-3.3590768916077685,13.85178111115513,5.693489610187207,19.547190425775284,42.801482711490564,-1.4175607538036799,4.911333193136347,31.884784004887155,17.870587088987524,-2.3201562961899396,6.847648255268171,-2.249795129292418,24.69593701565831,-11.376264801236594,2.8885993907363954,-0.15008664703246216,-7.177782856951661,19.646772938785535,7.8185820029935655,33.749719438555715,-16.119034185484995,-17.300835930467255,21.332441836654645,-6.645428470681543,6.916249602638619,6.836889715696846,-8.31503580557096,2.9351968480636836,25.844692211988136,11.875281347365672,7.299856503781988,8.821267821442609,1.8262917177931144,12.851621879050624,-3.534247603422773,2.713035571189564,28.8407234043242,-6.661974481206472,18.85689686895385,26.838579120107468,5.935360217531482,41.764373917911264,-15.117576483261024,-6.265176834991631,15.483672004673718,43.86139158792223,23.847228566602016,-4.37038201022671,44.66300089126497,21.67052716435166,29.849911515908996,1.765851441246002,-15.46551951764897,42.81819297985751,-8.09825151288804,28.775016882118372,28.546365546690502,11.806759289206301,-1.5566067473063776,5.563550114325246,9.844783055272151,24.847532257904067,14.582689259252648,7.869549107514161,-2.1851107323145045,7.88054388534975,18.759502538558802,-2.448214140638415,-0.0681256339650829,19.814416925701554,21.859121604388985,11.301063753502948,3.90796235227352,7.797369472862625,14.581581115746708,24.527343869144836,-0.448013342613222,-2.1340461675241054,-11.30667128117234,37.86317574607836,45.82347900377914,11.737385236986281,-15.14655733615115,-5.110174478321408,34.83508178455893,18.512719188654547,7.931394908304884,7.846995499653735,-0.06731573918947216,14.670166329238688,-5.224947012874344,45.83245487873711,7.656608734658631,5.860765247529836,-2.5082192101686567,13.896757489045832,16.87259403537386,34.81185611233907,-12.110505957056317,-3.517780882108918,13.808368722623774,37.843358638011715,16.85187217353012,-21.077363813032925,-8.124577103618485,-1.364136214647932,-0.14119654554663916,-5.193886558023464,4.9238654957713495,-2.090997706034523,9.875575753465702,2.5748695897119247,6.763055908267421,5.893727089287217,28.758113134079707,33.877305578365934,-1.1498856848752612,-6.128990178789261,22.813567224256882,-2.116283432838776,-17.401467541590346,9.533270344317529,-6.317896296032267,12.864760931538282,12.864513572889361,4.845278018946156,7.729252573037415,25.89369672219413,21.8469237237604,26.819896111781734,-11.109385641911722,16.890300685602085,28.84313211089295,5.8202423557348455,6.775898510235083,-10.523531444320078,41.81373144992175,3.8549867417876014,-1.0919557029653182,1.8664659576037588,-3.229760583381533,-8.064703127192027,-8.463227901347471,-3.192427804545487,-10.38885393528503,-4.568899717823015,-10.139491758112518,2.8943700263352796,17.824909905300633,4.855890698681249,-1.1171240583187487,3.765019219273741,-12.379583145902068,8.864686978500256,15.7971456562529,-1.0740426480081684,15.873653325640085,7.841162150816377,-7.387232116636925,1.4860800797574225,22.867191175555526,-2.5016191324178068,22.652642397052528,-0.04836021903782535,21.913745118539108,-8.454854863590912,-4.179583029376736,21.8213914413652,-4.114672680293543,1.699554247302898,8.852446998586624,40.88140306403478,-15.39664312630217,-3.469284494623126,14.851957213965242,3.8460012729753053,5.885189386419099,-1.3582545769974745,-5.15447180973441,-1.100079583862621,-8.12433054802754,33.88248772160316,-6.284196722071773,-7.183707905270109,-2.1074057416229666,38.87397665462833,6.919155970080584,26.84944290512485,-8.05450792680537,-2.2643160578794204,7.755726535616656,-3.113322755666052,-10.479601299754808,9.637552390689464,34.82499436176875,-0.3677928844064058,-8.117009569319817,4.8905100379571715,-21.343557774256,7.758757118438178,7.8744639809214485,6.569617448640153,14.881867934350108,5.601073219774826,6.6145182700998415,7.8058076806056516,-4.075454084341416,19.84671644147415,8.765317563934977,3.8089027287159305,-18.349425577013108,1.8931063835048967,19.622437977694684,3.8545485696977617,-2.218750817491614,25.835063820047097,11.815289999488384,14.815861852030991,-16.30253814386222,18.886896258812158,13.926254682192893,16.898119325183035,-4.474159846529686,-4.457859588537728,15.847708024332041,32.85458365287163,8.783390597952968,-4.288049717863852,6.785189220363738,12.534980029381106,-8.072413989176486,-1.4142612786298903,15.410283441505788,7.9182566588752,-3.2688441341192607,-2.371269952851413,19.84547456413676,3.9331307076269493,-7.345937831375304,-6.470257758866536,9.767944188333635,4.8787677189167615,-1.1667340069944623,29.889237086399636,23.798228592234047,7.830976544284054,12.878849143623398,-14.067906797605893,29.844395753723333,13.883619239616152,-3.418177830547683,-5.066928553111951,6.876579213229256,23.860035618480367,3.8302082697109068,37.87457072451736,-1.119474079162079,15.823621567255167,9.702863348415487,4.918545885922612,44.80908037132503,-7.075056571372546,-6.1302824593806715,45.818268482909836,-4.060208636879286,-0.13629335893702194,21.859062115605603,24.81999407081185,16.47565148657118,9.627672025473501,29.55203340387433,6.857210674164768,8.90923346677251,18.854547651168485,26.839136269764076,45.673135855911916,29.89901926787346,6.881983465038375,45.7916280570087,21.60719637286285,14.849961526309345,-7.143637315257329,-7.405443420324402,2.882172145706692,17.836238402370228,8.787860162164078,11.789452475776828,43.864297955364194,15.652127176250708,-11.17770195387983,12.8399229706782,-2.225645526054536,-3.1449800068475673,4.835777943152591,24.890931828125986,12.903322374383732,-1.5164691890967934,-0.4173589140891554,11.711781017633704,24.853955475420708,21.799568428601543,36.87738108141827,28.722814484806992,-0.14953290170213568,18.850031451834308,24.86138503478289,14.852867893751304,-2.152804223955879,12.913357300976552,-8.404849350435377,32.810790974917886,31.778656147740854,33.849525879845785,-0.11081016841289577,41.79591303804889,6.7348849501529,8.86338641543745,-18.030661671963248,4.88394855077104,18.73391076738022,-0.06562206839484386,16.860301295743785,33.8715973966234,27.54806776008547,21.632705810171757,7.433905877918323,34.73249673372227,-2.1167695514346385,-1.1635229065611143,-3.0556980150724673,-3.1454170335723575,32.85011994973481,5.820547088726228,16.904044881826458,24.695714398761442,25.860429639120404,30.489386260473008,7.773442994846587,24.810162797466955,-8.148257026043577,-4.159427731172741,24.84284593787036,31.76022229627437,41.831893661738164,-12.091491751179262,-4.249123544918657,2.833018626611811,4.886148186407867,-6.178698311207121,-2.3913652539470505,5.763269688734046,-8.171590475859922,3.8557475446921377,-5.130876529269698,4.823190982305236,4.888218702839253,13.897517783625398,-0.3079872270190576,12.74523219125595,-0.4127518832665327,18.873790155145503,39.52193301760336,2.5370185465169888,8.804594042554545,27.83560229988467,6.844974822049755,-10.147517455267675,13.909151522011348,16.793493622618026,9.57293993066892,-1.0535271908933463,14.8625484871567,-24.099277888171567,3.882380978007245,18.870241667632765,7.674869130217183,2.8817830654879253,9.87105955413152,19.847129460386995,13.812688474888038,13.870572624732873,32.645402444576696,37.479136059870804,9.92093213651357,28.80587123111029,15.596484401660062,16.689036808955215,33.83758690014348,-15.613197809502182,5.537316158141215,17.900736864052334,-5.12732673037402,-15.04309009391383,13.561837864787185,44.83304894862612,-3.0578014803248506,-5.322370634712768,-4.0974237495315124,-6.337771581499342,19.862466542395534,-7.449236098278153,-4.493757486752101,4.89161818146311,4.799306243906562,6.888864960273312,12.87157725678675,-15.42061869618928,30.79806501136405,-4.219419079050025,-5.3723270559972285,1.6179562828168732,4.503595621745702,4.812126509112907,25.85185718922095,-10.751205702315065,9.663084673084663,-4.199966701083127,7.824507559636986,36.87330708168698,13.77483692336813,8.865489880689838,-13.136020611321813,6.741308167669544,28.753012992075206,-2.0704293889176846,2.497993681504673,17.774919951467755,24.884501618023325,3.8798334934440426,-2.519483095503883,-2.2216315234316077,-4.104001314833037,45.823976664652385,2.79410853178201,44.80060215724031,8.515148457059823,-17.253773466354744,-8.067143979523793,1.929578082750926,5.886297529925038,-2.1855071647869804,-6.079137802321221,-5.5705755765082685,15.697723122303499,-5.594532251864313,19.79615653014301,32.802030655152905,6.484666751406672,-5.139920683807404,-8.155926656735648,8.772196343039802,-6.166652062233299,8.864745664225667,22.824208392377383,39.802949480884415,-4.352285545839616,9.89042809319601,4.829614199821881,17.729400145573404,-4.485980586788521,-3.047377178780266,3.8630615308138285,5.7972575579028485,11.860383240504941,21.862333213147306,-4.126263811069478,4.73040751579844,13.903232957953957,27.848154513700692,14.525014115405044,26.84820183084542,8.603841956473264,-8.097143369382103,-5.193126263443903,-4.13208108179144,-6.096080688708922,9.78764638169745,5.863282534753035,5.834075729757625,-4.412454113618785,-5.244495561225685,-3.614866313809986,19.864976837032703,16.833618770557603,38.8728685111224,1.6954183373911127,9.65379682774342,27.809434086946762,-7.094434704291375,-8.138418760112659,-5.423342528916556,-10.139881641389255,-0.04184913510571382,-5.0644319801277415,-0.5403380230767529,2.8281645318732673,21.690937300617996,6.668820690433345,17.68047521931147,-14.500432729660567,42.51571823391252,11.815348685213797,8.800451150524488,-6.0584100144685165,16.826612118695593,-3.1823003754136017,-0.2032129374578817,17.46893208822816,12.885321453011114,-11.712439121142056,-1.1316124710072846,32.829506932064625,39.8511497775179,-2.120950525704438,-5.111176792653882,-2.432165790986703,-0.14670857495224351,-1.455277195174508,42.28697266266995,43.809674441214064,-8.138213013921392,-8.191276999147753,-13.244196288470508,-6.0616216232268405,-4.103952222961962,9.92328135429893,-0.07383381570761387,38.80465169427939,-12.119960090031455,22.811682718523755,2.894724359522711,13.777773488150096,29.75261587758108,-7.520117771135195,9.879895505729964,1.8692814935572855,3.8297106088376847,30.367790408085572,40.815433663316725,9.889319949690073,-8.166517421602132,43.844533851819875,-0.11813114712061795,7.868300237590738,-13.093449715544763,13.782338779355351,-1.448509961797113,-14.48217233410201,-6.395613696993819,-14.437320604513403,-0.39421593540665323,-0.296238423717592,-3.555907477605181,-4.399105990199214,-8.4632348939335,15.814159638636028,4.487405742618536,-10.531397670739363,18.847970085866965,8.88014223501759,-2.326369131391723,18.87510817264133,13.865358844057594,6.812465576807586,27.74026679912334,-0.21603353530119476,-10.138225942081052,39.87116629772744,-3.3257750615026973,16.840932756679294,-3.2651696115190507,-7.454053511415636,16.775936634123962,7.7978671337358465,23.816276757340272,22.845387973687334,27.897108620652684,-8.14098513920693,2.7062476235731787,22.88540247924301,-1.1273192587054086,23.453143556889323,-6.3513228498418695,42.819301123363445,4.784713378362191,-1.1154820806635017,-3.426888550116621,28.85161372930396,-2.4539430366199353,37.826704046832326,23.837554965782658,24.860831289452573,1.9390620154944158,-6.189985512049645,18.87943701043495,-3.1266287798005785,2.8946739562686923,12.846044974391548,-1.2327387779306345,7.730449894341766,3.8768097545512554,-17.44143899614572,3.619624910284737,22.77416568929581,12.6956944742706,2.8388849892048453,-7.378095967885128,-17.289831343629963,12.695160131796316,37.574838304089575,5.84506423847953,2.882643850344945,24.82681738864635,29.852873967808065,12.861489833996574,-1.2393589508421772,1.8782739549556096,28.790592834827166,5.8543420300131945,14.900632983367915,-0.3340933104459132,9.570590712883561,-7.256549207368767,-5.3350066874311945,-1.104998585068531,24.815930467992874,-16.17731476780231,9.733517776939555,-11.106771697476695,6.7736567753132135,2.5679624329750173,45.76929366171886,8.558941135013578,-10.320675892986413,6.850302714369885,2.5336334818507393,-8.281595197471425,3.84445466264653,3.8484686652694586,-21.16157109686021,17.762086943354426,32.83798855047564,25.868907853205137,39.838260540427164,23.82119862333359,-13.416653052400411,18.557620010114235,-3.1188939791220416,-5.07752062936138,-8.235118768972578,-7.0477810179866704,-13.084303464613658,25.833042395486792,23.86253350284753,28.89093929979461,-5.2226395347063495,1.7941979482117827,13.856929721843938,39.590802416364134,-3.1406020771828693,17.933590928213224,12.82166257511965,-16.047401303577757,-17.436680777058616,1.8765533803939332,1.9113667790634488,-3.536430357886235,29.855226589919713,-4.448627564134487,-8.183657771709703,-2.3190709977702952,-12.11752169444768,23.910340691749177,38.8715679480596,9.444079184030867,25.799005942771878,11.820470831342664,-4.027719302818133,12.870330843611322,14.395094317132118,-17.39277072765405,-2.4519820959953704,3.421893453502963,-6.258441532229895,-8.162133007676378,19.813919264828332,1.715372912069267,8.611618496769168,9.858423501413093,-5.153363666228472,36.606136402698716,21.899584499075623,-1.1958715142047838,-7.159234674509774,-6.171478560900146,15.880165720955151,8.80701183465265,-1.1422594648511808,-1.415656700694191,35.78742393917445,-8.073216891366066,-6.478564973791336,-0.4159634920248548,9.902216179366844,9.781688384558004,-10.310673620481593,-7.293882494529788,-10.111295128028267,-15.080256114694986,14.809878117987138,-1.1734120625734448,-11.371604765891641,-2.1835470272203876,42.792660697462296,-11.108691828701573,7.873024639864184,-6.10380849680143,3.9215556549664083,-18.1411454546499,-8.079142448009486,8.776465183725065,24.840319056792826,40.647534838338366,29.889296575183018,28.793732839265097,7.819690146499504,-17.03807986274475,16.896425654388405,16.772666847965205,35.824400291879726,-3.063018993780189,18.777654353462903,-6.153952787951426,13.472085822063853,22.924774619922037,27.881810676993197,6.7411838036326905,-15.067016571929878,-18.100730848776365,-12.374562587841625,8.916554445480235,1.9081551703051263,3.8257451897608554,29.81886347132814,9.877941049366456,1.7544073709359205,-7.164949848838336,-6.254237418140802,5.85188755631403,-6.141312707719937,12.904125276573316,-8.078981157565698,3.421488295168804,-1.0987720282137876,-1.1223053984980011,3.484244775745594,-3.1526587230690017,-0.5378414500925442,16.84780857071114,28.897815113826457,15.885186573748586,-5.23548040339836,29.852320222477733,27.834255969691448,39.8779826229759,-1.2783934097088308,1.5507613276826908,-2.2809344757827246,-8.138469163366677,25.508538495568335,21.911336411970368,14.711718075328541,18.484250849802354,14.65457360610984,7.8495512666883265,-3.3979869864375685,3.895519227436929,17.667229700610275,-1.2430752130597522,-5.306352482401062,25.77777595820792,18.82339102593317,6.570725592146091,-8.503603732676607,12.828289232292246,1.9368990614586483,9.763222242808189,17.814757312523987,16.837691458905937,33.8922104142936,31.87259311684459,-2.213896722753071,-1.109107955017931,16.91025771702824,-18.301044762767805,-7.527272286521017,25.81153744234892,-4.150956509674036,28.787610835551753,23.83700122045233,-23.159028257985266,13.890940218323873,-8.122724743648378,7.578861644682047,-3.4320693819709,-2.1607616415312854,16.820975725253135,5.394956967811766,-5.090461923396165,-6.132047734495698,-8.228570495114433,-6.10165593967797,-8.110265540696394,13.626050488008977,-0.4184670575950938,11.823862449387839,-7.215800871793468,7.664702418215929,17.819076048138292,21.912139314159948,13.88983207481793,39.795519921522235,-1.2415941323851236,17.839230543284327,-1.070132690201663,21.873704876079017,-3.159829381504903,-7.578385943182492,-0.34351775440601906,-7.062721224132441,25.577519799724207,4.748192587245088,-7.115441996556024,5.789257532717426,-16.29385711330831,4.667928210045306,25.810970878709167,6.8213923598944675,-6.241636112453706,4.908511467654763,-1.3718640227404393,-15.085276967488426,-7.081378495553761,-6.107020105559752,-3.1148864607601685,24.859772237817694,-13.117376193560803,19.909225076574625,-7.5007401465413395,9.764120003999267,27.739903380406545,14.520636185740349,12.839617729361846,-16.46426587325616,15.562726650299135,21.897732139105514,39.876682059913094,15.911157028233626,26.53965286167523,9.521826274007445,-6.109357207808093,-8.084857622338049,-6.182467069622048,27.851366122459012,16.722374988024377,27.556821018146554,21.853939461151764,6.724971052388521,3.4379550164826593,1.8157227122451107,7.784296393419409,-1.1248019714822102,-4.455948542842209,-8.08053787007379,39.80624895605822,16.806532376922622,16.87089337199321,-6.257537401639565,-3.2330018811548857,7.848354748441946,-1.407335864401989,15.848376684365203,1.7770456961591696,-14.21140016307869,4.755939798193639,8.848842282096475,1.801569330173525,-6.0266640938135625,25.776380027818654,11.658936029830567,26.903628247185125,1.878420507096489,15.662646845121765,32.78543555275689,-8.473423101734127,-3.114083558570588,44.82969338899524,9.518814077392019,-8.473115259149461,14.829651815385784,-3.474256255545491,39.82607305671089,-8.117752982726017,3.790207485808189,9.845832513052677,4.887891457398544,4.750161810341044,-5.06041746917984,-7.306069978246065,1.8328684800366668,28.628183232072097,33.81346669118762,-2.458855308758916,4.7566217094587495,34.56029429952973,26.772101841475067,16.78254721318117,12.918234202897425,19.77706028357387,40.82159740664743,21.428011150099945,-1.2418923811154516,-1.1739167160326975,-7.053706574630091,-6.040503952097399,19.83458504221498,-18.580101088482273,3.772035464990079,6.844470168590501,-5.146737009055874,13.86833038148603,41.67341269540344,14.82194175645929,-14.312758895900618,1.8720412085728082,-2.1534985454910025,-0.4168542606299025,-21.162432684775194,26.831091678077858,7.8234064087170765,7.747622057575396,-17.030014667572853,-1.5255045528381341,-2.1234049994036033,7.629968308757492,-0.32760492294280164,33.8386950436494,16.826290799263845,-0.1132485639966675,43.8009141214491,34.85414508230706,6.859063034134873,-2.0578978893406537,11.575352774600951,-5.2409490221359745,15.840938334206658,13.861307651508639,27.79632878633807,-5.164303083079301,-5.163530378229725,9.870561893258294,1.6337092797395611,18.796905521076564,-11.332472123282841,17.449524774619277,11.803212750116588,-2.1082086438125462,-0.4793628957303845,1.8591449788960357,34.84380915550291,-10.119320316858449,-14.190547651521452,-0.1249474723690875,-15.435618391118437,-6.196555281707168,-2.1627830660915968,5.844320022015361,-5.072250619708687,25.862035443499565,-0.41003793538143307,39.823299620042405,-0.13794825518725676,-5.110721231065703,-1.3725092524044888,-4.369471330440644,26.758951181775377,4.835329374150442,16.78745948532014,2.4913148228677184,-5.56498545852121,-13.0663116287704,21.88680644390765,37.83188619006955,-4.096680336125314,2.8757031610596235,-3.143325110597334,25.849904044240386,-3.137609936268773,11.777175814262133,-11.16371090733152,-18.455994941457668,7.723178007505119,-7.425109340126565,24.892625498920623,7.83034010541637,35.7983142641542,17.650227768829485,-5.144210931036309,29.834613572249516,18.8863940621009,41.77934066401943,8.82280534624202,28.895406407257713,-5.1034072449440115,-7.233435225396643,6.887112603753271,-11.534830013743283,2.802364198087743,12.639717637341215,43.85748163011572,21.764928485839953,1.7686656658165831,-3.367339550499532,-15.381145770499788,-4.077724815973668,22.901212068947775,17.872746783217313,-1.158508538028733,5.770285934450385,4.807309604300397,-7.117105978335621,9.529147252715168,-3.3173459392890363,-10.285007095929965,-2.062217641604914,6.877323429693425,-8.267846973733999,6.75210913916288,-6.207501691144026,7.827777345795747,-2.1603813521088857,-8.116511908446594,21.790808108836558,27.89840918371548,16.844675558859247,4.858373660765823,-0.05969651175142216,-1.3530989737226353,21.839346595607392,-3.115067338039674,16.904549535285707,22.861827009673753,18.603972074576234,-2.304143825081317,-17.429608302364862,-8.187671774332632,23.90391747423253,-8.194183366589716,38.83589215841712,-8.129286230834511,17.78004209759662,2.8347192899924694,21.850639985977974,12.865952913946625,5.806937642983264,1.8007160247299248,17.84480579425337,3.856291840688437,1.7585304625382805,-14.090525719973101,14.386908934093732,22.561750065060238,-12.045846713255399,-1.2477578757158339,-17.443847702714457,39.84156001560095,5.841050235856599,-8.373643633328978,-16.21495278795471,7.842767955195539,12.526253018104796,-5.102994226031168,3.892219243938167,29.61611489453298,27.778779150097716,16.74263480401889,6.895534733380904,9.73597225063872,21.800676572107484,5.565928623553986,22.720859213895537,-7.485557117584682,5.503695365066824,-5.148391905306108,39.881997133923804,-13.203552405751047,-5.1817907737882765,24.896945251184878,-6.660469905228061,-18.103199044128488,4.574130018936022,6.8095249845125565,16.781167869232263,-4.134351010365721,4.772077325643763,12.853287172213166,-6.227360538828029,-7.609496801287392,5.801029540772864,23.797982036643095,9.564510808455259,11.801905194467757,26.825742379214084,6.779854335457575,-12.156176148157172,45.83711491408206,19.61636506585242,8.864992219816612,-10.196900943513132,24.72107322524872,-6.184656816671544,15.874594497499158,-6.54694579720825,25.856631191690447,22.799023450583597,13.792038775616787,7.932503051810822,15.735092582740599,5.858202487909215,-11.442427244698294,25.798839479449985,9.915960375591206,17.82385136199074,-7.1163823653571185,-7.138171153267706,9.78317594949369,2.904542419539616,2.576930955679265,-0.06892853615466342,-16.041387880518865,-0.5734965254960334,28.88859008200924,33.83863555486603,-5.580590591920072,27.84041971302216,-5.266879048386595,11.881098109762656,29.41198473637149,25.588389050797304,29.803664364256075,16.820837455583654,17.900431622735972,-6.132690657624441,-5.2663896699847665,3.8214479499459206,-0.11191831191883427,7.781170443271413,-5.27422203121867,1.76842364606367,-8.080040209200565,8.860672467552352,38.829075833168645,19.51212511876552,2.6038109445853195,3.8763579610940186,6.908672982810589,-5.349233169185801,-5.210006806728573,-7.457658227905786,4.615621767917517,-0.188515159104434,1.8382532598718744,6.747016349412075,22.881387968295105,-7.106166561484794,-3.125658102906156,-3.1063070182746877,2.7267824835440444,45.75258339335191,2.8055752985210907,18.873502368262166,27.80225137790853,-2.276861279109411,11.798330166992635,-1.4141984651058568,17.823149244811614,16.834231346133645,-4.295204233249678,4.872298734269693,3.8431044993876795,16.783049409892424,18.470034654206742,-4.3229647046017945,7.825405320828063,-8.062573121977257,-20.33244674206136,-2.5271212174730024,9.85861642929493,-4.450538609830005,8.929057567425183,4.617922696889773,4.662307894718244,2.693211470536895,-13.53361200926219,-16.1602646121431,-0.16378577889881463,-1.4948431317280375,-2.1431047360194193,4.491060862362703,-5.4026350119125475,27.761322968111692,-0.1546028463666471,4.8116218556536525,-0.2891924889862233,-6.1454977095027985,34.85013107968413,-6.450938311673117,-4.0686307665069155,-0.3960707521247571,12.847741610259149,1.5708075369072545,-0.19950366782633697,13.863058718143318,-15.053118027920627,-1.696624072104176,-8.184777817160679,6.907322819551737,-4.192694814246479,-3.5955279720855016,34.87230388979719,28.81498797700605,5.731897508305752,-11.110297124755762,22.892225797077508,38.83018397667459,4.871495832080112,3.8006123844967314,19.671594821530217,2.8961132973259556,-8.224005203909176,4.720071080669321,8.842412071993799,19.89783009813562,-3.0994906930262185,5.8837347703044145,15.744337017413851,-3.0874431326694496,8.860869931272227,17.831916557162636,-6.448166186387581,6.817780650818292,25.83415053899273,14.823182830738718,-0.08683459852578317,14.792031544399396,22.87451215426325,6.829210999475414,36.87219893818104,-14.604307946647722,8.827428455180037,-1.1357483809190692,4.885194963946466,-7.138260331066122,-2.090302581441427,-18.412323292332356,-1.4819667129467204,6.7412328955037655,18.807981536546258,-0.13634245080809568,-4.043105476697748,-4.30009727822062,1.7770947880302437,-18.374930986808955,-5.1789972419591015,-4.1820375030759,1.7948496621368881,-10.464251807476257,2.7187928448031693,13.895649345539896,-6.450345791798398,6.653505945186128,-11.1331063737365,36.85866512427154,22.86262991186333,-7.26915311432417,-5.052293588282537,-5.16292688818304,37.88138704976583,22.823398497601772,6.87497421190807,9.77357098792176,9.871049960277178,2.9019796599189926,-13.162050554590238,29.88818843167708,25.85155894049062,7.854020830899437,-11.070824199066271,-20.250520116357634,5.877370746838155,-2.0975087899666343,14.902631895478903,8.826835426980345,4.866934568387915,31.84780765218187,-8.18588596066662,-15.106699879934226,3.592935392512525,22.887408383940027,-6.153267257212668,4.732111288772378,-8.437109583338604,29.83075853203748,-0.20910862939826833,17.83712707803194,-1.1145288582021,11.745618058205718,19.785292745125634,11.849443823654113,11.76404455741848,-0.19000359203277228,6.927279850977886,9.826074893769423,2.669497731298151,5.66001316144856,7.578903743967093,17.637980796329817,-17.48196188794071,12.82684989123498,7.887271032799806,9.512948582791637,23.899450366769422,-7.1194551961209775,3.9247672637247306,-7.089106811971242,9.750984864162861,-3.1787679555485013,17.848681527206818,-11.28867944532909,-6.050591374887572,26.854988467078858,25.89901179620484,15.906251748680674,-4.19037125796309,14.486674781131484,17.45902485041284,42.86475909447974,14.91477028732411,-2.6756326088557993,29.837015286232223,-8.242314691338796,-8.499706593179527,23.81798701457528,14.787059783477034,-16.43873359086096,17.74793591774528,5.640693714255141,25.842166642293538,9.740789663776205,5.417595293035016,27.85572464926766,6.824603968652791,14.87705052121263,4.868284731646765,-2.3076339200462437,-5.0851398567994295,-8.443959365733047,-1.130262307748433,-4.674414271737743,18.817433028793722,4.859662681551266,23.750991471583987,34.811004986271065,-12.332107154551737,3.849789039227717,11.850551967160056,19.833021337120858,-6.452544116052279,4.456961188084356,8.848386720508294,6.817482402087964,23.843519296970467,24.865399545730792,9.818506556412782,-7.361650742370651,-8.570093421579019,-8.735671555061398,-13.053616087268594,12.822160235992875,7.54970393155771,32.83928911353844,11.79216642366193,38.884807490824706,-11.423574329265023,-0.060804655257360674,33.845511368897874,-18.19060421506114,-8.093083091303777,18.78025092989718,-5.193581316707105,-0.49511299665176717,24.833394953947867,-5.148847466894288,17.519996653018563,-4.170554149896453,11.91255594880128,22.79210894159297,31.826289880734567,-6.087508238809472,43.730013554060974,-10.388051033095453,2.7936038783227564,9.482549795387877,-5.408343193655079,11.479145368597953,3.7665493918194426,2.879265778264726,21.81983472885711,-6.390042473537828,19.888743041254905,2.663563089125366,-13.167585719631951,33.82228870521589,-2.218554156829713,35.52874187118322,-10.185368498462612,-8.123832887154316,7.4861206854997056,41.8210033367584,5.72901054371983,5.779265213734622,9.90446410381677,18.75442039877165,11.823364788514619,23.860124796278782,13.856978813715013,-15.376826018235528,6.921067015776102,-3.188514586933013,21.863529223068717,22.7683264144495,6.728366873634758,16.860252203872708,17.71242790280764,7.887906963342515,-15.105837488961265,-2.220523379925669,41.825017847706306,18.848425647455148,8.795667259467661,26.843230069923052,-8.15642431760887,2.8556078599639867,8.857365999792533,14.838124348267439,-7.523517249759051,26.535573180740858,3.8812798270873365,14.869869465864417,-4.64772475396553,-14.107101530266386,-3.0793779374975583,44.870579699507005,-12.396932353349577,-13.46075097167053,14.845445326975154,-0.33964202145257777,-5.328973861516264,-8.099113100803034,11.834758455570677,6.831181533954315,-8.451050734957867,23.859066252968884,7.823399416131048,4.751909209130343,22.818588077050325,28.5450649836277,-10.426977206040647,4.836935178529603,28.847365581360094,3.8492294681739962,-15.060803736728092,32.540664836616585,11.789121278225503,6.507613466998922,43.83475116202109,30.6452608406019,-2.1931759274863962,11.836669501266195,3.932386491162779,-14.135540180103547,-3.193269989604435,44.874594210454916,23.919464430230963,-3.1057035282280014,3.873198045475078,12.8119453001132,8.742809020432569,-7.366468155508134,16.833611777971562,44.86897389512786,16.864768403206888,-2.0322635105520526,-13.14977389307555,2.8079909976758626,7.530202461719741,3.8897019567149678,24.864845800400467,9.850351169134857,21.81748148355869,12.94817410397235,29.89370419386275,-14.064609415375442,37.81206208941688,7.621158897121431,34.85117922608172,41.82266862992095,-8.099103506948698,16.814902813410868,-3.1129754150646494,-8.308428042929426,22.89032174396801,25.837559103145946,11.81122639666941,-2.5464406646664184,-7.390443725395247,14.863656630662632,-3.6400250753090786,17.85016996013515,40.88029492052884,-1.5558633339001806,8.832593208918922,26.892737922205367,-12.110944129146155,8.746918898706939,-6.1598287443988005,-12.361064144150232,12.885272361140034,12.789356066761023,18.504900549073607,-1.0788600611456514,-16.274489885626764,24.59421435579463,-0.10914618663329755,-4.205330866964906,15.904638951715484,7.9193648023811365,41.81418701150993,4.722660304849888,-5.340218011358476,4.821234169479295,21.888717489603163,41.873277633123166,13.916472500719074,-2.121998607167337,1.7533483193010555,44.81589669657352,-0.14038665077102847,6.880046463107889,44.818026701788256,3.808405067842708,12.833106645429734,2.7851817486951265,-4.673306128231804,19.52065582904761,22.86423571624249,18.81757129846321,37.830220896907015,8.77354267323303,3.8641696743197684,-12.184517237438968,-3.3276791146121862,3.8459092787612166,9.73411080513925,2.9278758693559603,34.878376801639455,15.904141290842258,-2.3530586491639354,8.762980461686633,7.899547694314498,-4.527407165783547,37.770579030176336,1.79932009434065,30.88648621828212,18.448830701280183,15.751064967921883,7.881090638094046,-18.40814198542559,17.688262221454366,9.639460111644334,1.766912800971569,12.927956895587851,-2.2362173963899483,23.80310469109693,13.722706822681808,-4.119695331297316,-8.05847283755722,4.9046543344993925,4.889663725099601,-8.417790136145188,3.743731057309343,12.814888349156227,-11.107282176659343,-14.0822048836809,9.538978526060058,9.851656268035695,-7.205226185042381,-15.143755521850585,18.50722996643127,-18.10297957628427,-10.45335448991047,17.798426857192027,-1.1601725198083308,-6.231974921904363,-16.459448460118672,22.855010684425284,12.847243949385923,26.535075519867632,22.804806904491905,9.861801573493308,3.792081674214644,26.68516251828959,1.8769077135813654,-6.076123657282772,5.852385217187251,-0.4465551070248884,6.928387994483826,-3.2751590657144463,-3.101187328893817,1.7773768937104963,9.907233004647221,29.819912126050685,7.742637378058045,-5.3799966866892985,7.8663401000241455,14.893312004660196,-13.090981520192637,4.899836921361909,-3.4122522739042616,11.842428086262744,21.85263889808896,17.900936276195225,-5.161033296920542,-2.0964663247721376,8.881190889740145,-10.094896177969186,-4.388757245085645,17.7808449997862,-18.041195062487265,16.660669255113472,-1.1474906999594792,-4.143829082034935,11.874478445176093,7.803608848026795,16.881733293718945,28.803353943887103,5.871704664380665,-5.206598242575351,-8.578911918744444,27.881306023533945,-7.131698843879992,27.81489442321299,6.812707596560497,11.834801866238667,7.792552059725144,17.849822619533754,11.7856049364758,7.573539578085315,37.882992854145,17.742495787393075,33.889304046851635,-7.17659966533968,6.726576856767682,25.905828121453315,5.809045644073682,-0.11919019875548273,14.862657067811154,19.738025824707222,21.69478172877035,-17.322258842913055,3.7624470144560744,-2.1277997997739053,-3.4815772342532125,22.83769398240848,-1.4094438654924069,3.870291678033115,16.468677488797187,-6.302408025759251,-6.312239299104141,43.82608052837949,-17.12890702475057,-2.2235685253620945,19.565749070064165,6.898755427668586,-7.275173529969087,31.85182216312977,13.68537071910511,-3.7089627536496,19.904653415970124,2.8192744303874444,7.816078437423326,43.85346711916782,-4.24265123553094,-16.093436224778358,-10.055920913152917,9.503614970319969,4.573021875430082,5.826803842920975,-5.479778611842444,4.467225215835102,-5.194701870483058,15.722511188234522,42.827782741774456,42.478741881207256,22.83255123279394,-1.2842786668329365,1.9040458003557266,40.87738855308689,28.84033029659238,9.701513185156639,25.797789218611488,-3.1105209413654853,4.402763435754058,17.695167364833566,-5.155960242662749,-2.086641780494176,39.85149017313515,5.819184615482925,-12.109397813550379,3.6440981410450712,6.882989512150912,13.825944095768541,-2.3583737231746413,19.804080998897412,12.77653913676309,8.77790452478233,-11.472776940230974,-5.147697583770984,-0.19942803599287812,4.817566639465113,-5.265708599681599,-2.3216535199146437,17.82574582124589,18.861363976416964,-11.201926680626201,-2.1756527558059835,15.82725578878067,-8.188474676522212,5.8213504992407845,-13.100273033379265,2.481569059475861,16.880710923685136,-6.338879725005282,3.854996335641938,13.870067971273622,4.7493007307510275,22.55814534857008,-5.338451933185476,-5.202596474534431,-8.018383568160736,8.792497390326702,43.81318429870272,-7.451536224192438,1.8279045147583053,-15.087080235587457,23.837505873911578,-2.427505755641754,-16.068575059164303,-16.66130169711986,27.841527856528103,26.895147431832076,32.83787338450471,-1.087648869296045,41.85797968946368,-18.397052248302938,-14.049865361566594,-18.553962564559395,21.869952440585358,25.60816723566224,-5.463124020663054,27.839227730613807,3.492202193321,11.874976106049314,-18.451934663379344,3.831316413216846,-0.06842388269541069,8.916056784607012,42.88471366915789,-1.214636563222588,-0.48668387443810673,2.865871887714732,-0.11075199101245865,7.813568142786156,-15.475836041597072,-7.167358555407075,-13.526291030554473,17.88413136474401,8.856687461639805,21.898840282611452,-4.112761634598023,-12.095535951142187,-13.57040085176962,9.883107114488286,31.891600330135624,-6.165494826856287,9.798025324151022,-6.276875743364053,11.719173933298794,8.847229485131283,16.90901664274882,11.911149556565015,7.687738487294598,4.823688643178459,-4.2415732893650056,15.851165680356337,31.88071000515587,18.644765882548953,-5.5194986014478555,5.897236946775867,1.5399601805013488,3.824754926030714,43.87228191290199,38.72415770759671,14.909005512799498,3.8800808520929606,-0.25061732448781066,-7.166548660631467,-8.459672276728394,24.79905325991661,28.854022435872707,3.5365557537114207,1.846508926177608,37.83870251531802,38.87968483637086,26.889221072130688,38.8168849451261,45.55128436240416,25.885215103783125,-6.083742884720822,18.671510353266516,-5.278577956759016,-2.1715924777276574,11.891352504199702,-0.06782039264872493,29.83812342973816,-16.35570990668506,-3.246487111518294,7.857360820739908,1.7976431939660638,23.909232548243242,9.911142962453727,-10.439157697170895,24.800294334196035,-6.180287972536204,15.866926178190031,12.65252468921958,6.359083181085056,-8.324230640048166,-6.12175124077361,22.837595290341355,3.866679968956936,-6.4253569374068435,22.873709252073674,5.496541358005973,15.66282703009662,18.694011904182897,-8.182094066615585,35.828633762346875,16.828158434291378,18.843103580858408,-2.1267251888163834,21.82620885450268,16.87735536405425,12.815996492662165,8.520667479051458,-11.075431229888896,13.879555636797173,16.91136586053418,8.706239137444388,4.817226651117422,-2.1348490697136855,-17.08347834507765,5.878976551217318,24.845533345793072,25.896045939979494,8.899451285298698,18.88132100784311,-1.1807330412811672,-6.063620535337827,26.5326668132989,4.930684277767816,18.918851758724003,-7.218740263458875,24.84502869233383,18.485945831979926,5.50931568039389,-1.20881280823957,8.654906521263667,6.87727433782235,11.915059514371517,-6.100547796172031,-0.14326786503599648,15.828802907434415,-6.33330447403623,16.921148042008,-14.173349124013445,1.8652248833243388,32.77137622662883,-8.107863826713684,6.871397873050004,4.540673267786413,17.851733665229272,-17.063107491680697,-0.2450821594461006,17.88308271002146,27.80500048009452,-12.582436240487738,-8.07953555574131,-6.719085417876761,5.941317411612953,35.84099879860201,39.800540774315685,9.656828427214892,4.819535862561069,-13.06470582439124,5.877868407711379,3.8245000879683753,2.5761280534896844,-8.099906409138278,-15.47689378184899,7.474938840856553,-3.444014845934267,23.77740594537983,16.74597733019299,-2.128560094353469,-8.225152121959505,23.85285290944214,5.822340762970928,-13.400047553092095,36.78572172577949,-6.129174315874733,9.803615442138083,9.727045467551838,6.843319925799522,6.655416990881643,17.908555503633274,-7.40083638950178,-3.129840388558901,-7.5927336294535435,-7.085756425218457,19.89246593225385,12.90813978752122,4.87224964239862,-18.099987435370167,-3.1582565259467397,43.8147970956679,-1.1989934368397184,-0.4954932860741672,41.82427312291716,2.8403396053195316,-15.14013009112145,15.806238902661681,-12.048196734098735,28.766437079965197,-12.453964574068449,43.82848923494823,25.856376353628107,2.761146181699656,19.873998479121088,17.85854999047774,-3.4576507562371734,9.908639396883483,17.81364916901805,-8.055310828994946,25.83410144712165,5.876676425303031,-5.118298359218709,39.308677809577134,24.861683283513226,-4.07074122434533,-4.441204489033363,5.313475866451591,4.657926816000901,32.85186970498654,27.865503426415202,13.788761996871996,5.921668078251158,-22.270924796132924,38.819293651694835,8.82119954186286,9.82681830717562,11.816210273128792,29.845048335641092,-4.227435985408812,23.83374384456358,21.815632856368644,-1.2138266684469772,-18.012815098375512,35.78844580088327,14.873992557466774,-7.230272708509397,-16.30685789612648,-17.028290688684898,-2.196099241036408,40.84698614543962,37.795463582694595,3.856848695612046,11.907738535663798,6.849441929512867,34.774582378896106,-7.16714168883116,23.85377318308253,4.524143400311555,17.864762825679524,25.819992520797534,-5.130072824022145,-7.1499592394385445,8.411183553949286,-3.4133604174101992,7.798172375052206,21.531952848456505,-4.112423444460666,13.911655087581593,-13.123438708490765,-0.4132358224867956,5.852336125316177,15.88753579153394,15.815861613399631,3.781051425875375,15.860348612888506,-13.129701946946572,16.878302217116392,-5.443248735195977,1.8754192806530268,21.794570138184557,7.525823220672095,-7.190979792106758,-6.205017352741827,-1.2580910510389833,-3.176467829634218,-4.25680226114009,16.834719921477504,13.8398265616624,45.81716033940389,-14.1016650572918,26.76191703800073,14.855640527361816,-1.1616609527366693,-1.047103973376702,1.760620206137704,-4.367196866028331,-14.065717558881376,24.76124746505937,30.831803215348614,-2.125617045310444,7.840417934352208,6.863530141597986,-5.224127967634688,-17.400055024760704,3.752122989596969,-11.264592693519212,13.831066241897409,-0.4026644604763578,39.83418994502216,2.8305802310280384,-6.40875143809853,-1.1615789120445972,27.885320534481846,9.729729218096931,29.614224922744125,-16.190354833489845,1.7953060917177213,6.803796088531038,7.88289310313511,42.75832599601707,31.821340682188655,-6.033241659115087,-0.1404957397504598,4.777565855562396,38.66182959010805,7.4735754642697145,8.771740781451623,4.88067876461228,-16.50479785058051,26.789568928698383,-4.244784898123326,13.85161464783323,-7.149061478247467,-6.496170330684136,13.814945484867337,25.840619523639795,-0.4627573964220677,45.72957498349639,3.5350110918056656,13.557403706145072,17.77923919540704,13.671976828555112,11.574002611342104,22.905619687627496,-0.1530272393274904,7.763532432290617,-8.078427412235374,21.774553617975016,27.79036199840227,21.838238960426423,26.80270717812807,41.630082524022015,23.863087248177848,6.856258254761337,5.871465101375751,-0.11623107159706468,5.556775888361821,-12.078595521502484,2.7987589732726224,3.897131516077148,3.926173655960997,4.571117822320593,14.79870959997838,9.872167697637456,23.834834533636496,28.81268755635877,-3.1506043496876917,16.840435095806065,-3.8117774139691583,-3.0619108502742507,-6.277570867957147,36.864082049869765,16.82102481712421,2.829472087522101,6.902855712088624,34.75511565608947,-6.194681425937682,2.369559564679097,21.86482978613152,7.848931698526247,22.806295337420234,5.851293660121682,-13.116878532687583,-11.365853242598991,-17.432213964328508,7.740503715465658,-16.49826937715006,18.906355629365084,19.509293466792634,-1.1097114450646166,40.824370843315926,-2.127222849689605,22.840170460231985,-15.477588906442085,1.9284699392449876,17.85694418609858,15.809284048098107,8.834593432412857,7.881784959629169,1.5343358376612253,-0.1358377973488429,7.84779759878534,-14.104279001726832,-14.310292011931436,-1.5463632581066162,21.868346636206198,1.670593997898434,-7.118711782714783,-4.220360759234066,8.811171607856068,3.7911052469992677,-0.27490073695958855,16.842100388968603,12.917066570608101,-11.478374743108716,19.86693364985864,6.8944335824609935,5.56404777519847,-8.479882492526858,11.732374487927544,1.896376169663656,-12.40726552867273,8.873869911032422,4.54016861432716,29.845503897229257,40.83359587513313,23.83459251388359,17.88859847220712,37.87160486829202,-5.102299101438073,22.486955617981014,3.618516766778798,17.74143724408318,19.852845437773517,-16.136940247856113,-0.07832083435174295,3.9006413735657977,19.836934260000334,17.852624433834315,-1.2011930724765456,3.9250655124550575,11.868763270847529,16.870090469803632,5.86523235499295,-4.265499767381045,21.85715106991009,-0.3291810383069326,-5.1924319419087785,23.84152038485948,14.906341165110447,18.87505908077025,-5.1982574951021325,13.614390862505921,-1.1419121242497796,24.859723145946624,7.84136156295927,15.854682530431017,1.8073361976414677,-7.151447672366881,18.51222152778132,4.886393938940841,26.84212192641712,-1.1226036472283292,19.924470524036764,1.8415532433706379,-4.149399797165948,-14.108402093329184,21.850135332518718,18.849575890246125,-21.403478053168566,40.825671406378724,6.853137477491448,21.856257336232066,-7.119151266187565,-3.0448076900927115,7.776670681720303,29.861793758308917,3.843346519140592,-6.2126365801798755,11.917965881813485,4.901137992749689,-13.277623174917078,9.875437483796215,-18.54799823337158,1.8846772612912361,6.568060736132066,27.6985485897116,25.824371761845185,12.734574880085374,8.918255108860894,-18.084987740441015,-17.1074048230937,27.877635628732357,-4.280280170153981,43.8273810914423,15.569621867187026,-3.4509750071935006,-11.708624530662023,2.5764263022200113,25.82672097963054,25.87658656942657,13.877057752430012,-13.325132474756085,23.79245473218007,33.88819590334568,8.303456954127714,-3.1068116717339405,41.786246022545996,-5.18118728374159,24.458317157526213,22.857359902210636,17.827397392755476,1.535443981167164,15.51732816796622,9.753659020853618,28.784143077348137,27.808723687296247,-4.348022171210066,7.783398632228331,-5.114693134403589,-7.055400245424718,5.769425149593364,-1.269806830117008,-8.092585430430557,-6.264006386286635,6.839348022461639,8.858673555441365,-3.2729799686286034,-1.1616118608655956,-6.1283706106271785,-13.516618719620476,21.83242168970446,-0.20458946499111283,-3.218048461681128,1.679474505529919,-5.127782291962198,-5.122116209504711,-4.292916222872409,-4.527167602778634,-13.0448887163246,14.855276600320044,-14.156255049361269,3.7700360445541192,-3.227698857746513,9.88170072225202,16.842040900185225,-0.17281415005412476,-8.154680243560222,32.87570132400109,12.909247931027158,26.85501815609389,26.84980763522459,-3.066983904532044,7.8663891918952205,-3.0638218959697703,3.7977680275208288,38.8261099769433,39.826537768763096,-4.090558332411969,-4.047070387449602,-3.152861867991958,7.870390784248134,4.900334582235133,31.89270847364157,40.826779549884655,28.810783503249276,-4.038749551157401,3.88132192637238,-7.159827702709468,-7.178081105681988,26.87568725822118,-4.411658204015234,27.82331655284061,14.74403981037286,9.872216789508533,40.87979725965562,-8.272363173068182,28.839527394402804,-3.184896951847878,9.796468611642934,-0.31422711050820074,6.732152107736733,6.881790537156537,3.794795622099742,29.79054219294179,-11.206360694748,29.851212078971795,22.91204290514414,42.863093801317206,17.79360295979349,26.881097191233383,22.850038923502918,28.889831156288665,27.90353183816932,-2.1466822202425333,-10.153157357430455,14.772069174077243,-16.528229992463977,-5.179558124395769,19.77127682966556,2.848184784862862,13.833265074476262,-13.144203177944533,-2.235067153598966,19.834129480626796,6.779869610514998,18.83752832988936,5.67322985912738,2.597764064380458,9.832891219017888,-1.1357974727901439,-15.048409703762577,5.826000940731394,14.921646101355957,-2.4207708125476954,-11.444033049077458,5.766126964304938,25.74607993248201,24.903515823900374,-10.133999200680824,3.8865040696096056,-6.136661757904351,-2.451534330051193,-6.134145273739125,5.827911986426916,-5.066037784506904,8.453144475418593,-13.255849254024495,11.853062261797222,6.476641054251517,34.846715522944876,3.9048689180239915,36.874972374849534,4.867769616340522,8.82136600518476,-6.10652244468653,17.78994864310729,2.8247629603060767,11.823413880385694,21.90732190102247,7.612816056704879,-8.169064906165334,-5.079066944957158,-1.2105134716202284,18.917743615218065,-6.219944815980616,-1.1689328395733178,-14.128891010481624,23.848336710107954,13.85668056498468,-7.231878512888558,3.797362001194016,-11.113508733514086,-2.505889284486019,6.432045474108186,-12.1857687086307,22.897138069216478,-16.49752596374386,8.74981285587889,-10.46555237053906,2.8585509090070103,4.584315625468343,8.771647770587583,21.836164491884425,15.835320983952556,1.9317764070048071,9.780580241052062,-5.4223991154568605,1.7204459663270601,-5.1029934229731975,-1.2142227412517734,-2.114085108584895,-3.1655284127833885,-1.1882943860517774,9.864895810800808,-5.437896979584211,24.85867108689779,7.8255364139318475,8.657472900357938,-15.8740726692015,43.86305688108478,-5.1205104051255494,5.724799077377032,-5.277833740294846,-7.526577161927921,-2.1549869784193403,4.854087430582217,26.739006560619234,40.74490237571969,-4.532001453699189,6.826209773031953,-3.205329092238562,-5.259209417694527,27.8489083240192,-2.1704422349366754,-16.356765225539867,-10.4358969965415,30.85061800908277,43.871173769396044,1.8841796004180134,34.832918830523155,-8.278862355055255,13.872679822765319,6.825101629526012,9.530854645162757,-4.522894993962423,15.83642213487247,4.567630836948949,-1.1529006329716827,21.89553381485163,35.849477012686755,4.54209855455375,-1.4792664867145804,5.874159138079834,14.819168828115789,25.87738947161614,7.588056479159256,3.883104590985747,4.768333831159155,-5.132787574965216,15.872241252200737,32.87329961001837,5.940980532858545,5.896128803269929,27.858631016709637,-14.316953924460345,23.846897369050687,13.745742023767823,-8.14209328271287,5.9213628369348,-1.51081219216867,24.53025396936686,-2.1667750645901735,5.792013579887569,1.615757450238018,28.825232777588756,22.82540440229881,-4.091659483331877,-7.648543670424057,14.488287578096676,3.8041783264424858,40.84096594571192,41.78484360789567,1.7475910456874515,4.83288398598064,15.398495355334958,5.928484403499632,27.88751885873573,29.830851542901506,14.462250642242227,30.838619540597087,-7.48213327837404,17.79860773447153,26.905234051564285,2.735515715562309,18.87730649689521,2.4116539357146234,-0.09686253253257475,13.901620160988763,45.813086339672616,16.867573182580426,-0.3873104323597704,-6.226259747575801,15.83481633049331,-15.048300614783143,-3.166934805019654,-7.083348226974692,-18.081776131682687,33.8367510491329,23.840971812407265,-6.082336492484556,4.5558104293270825,7.758452385446794,-4.152293754337901,29.87349397806429,7.4328279317523895,8.917662588986174,-8.238703390302033,-4.617752236706574,-4.1634880092510675,4.906260138878553,34.783331689029765,2.8914041701099324,-6.441405287058554,6.870002450985704,-16.04249602402481,-6.155705652796442,14.790863912110074,13.907745129775087,-15.105094075555062,26.806817859460416,9.813738743471344,12.839568637490773,21.846287284892714,24.851606257635357,38.827775270105846,-0.35856654120624826,16.71905479861159,25.790357861038974,5.839700072597751,4.858721509692199,4.536052515310831,-3.0812302974676666,9.810720865652833,1.8903016041313603,2.9328476302783266,26.81258212566005,-6.100596888043108,-16.06120498858551,19.770126586874582,-0.3925217562870509,-18.097658018012506,17.53580257487795,22.54157913213114,44.85046434271005,-3.1076145739235197,-3.382203792174877,1.519742972116855,-1.170033990493226,32.84610543878691,-7.102057191535392,-17.478306768196543,-2.1874020674324233,5.882551578692434,11.887528319865332,22.774241653766236,5.800773899652554,24.896640009868516,-3.471745960908322,-1.1773549692009484,31.81249318831285,-0.3553058405768523,17.786062513241543,18.74629651787435,-18.388324877358954,-1.0922539516956462,-0.1812432722677856,16.675262120657848,9.863787667294869,-17.101326230048336,-7.210436705911688,3.899540222645888,15.871742279944568,5.903407174367633,9.802842737288506,18.791900746398525,29.86135558621908,1.4909569816782895,42.85627747606871,8.794981728728903,17.393485124165867,1.8939674630949153,-12.398538157728746,17.87657082303138,-1.3489965963592652,-3.309667223067603,2.9028482404200133,-0.1196878596287053,-1.129230304400928,-11.092525304541072,-2.1694097232641956,1.6187852166438645,4.875861351474797,-18.38671907297979,38.837000301923055,7.787986768519884,-3.283768197214958,-5.103904905817234,-0.22431819831731012,-8.379765637042324,3.835694342881543,27.83641219466029,8.724837723140297,16.833114117098344,-1.1329692630475023,13.831446531319814,4.495834864832196,24.845526353207042,26.892432680889016,-11.049401286620473,7.868804891049992,8.798170825037902,-12.706922317267058,2.828201213474327,6.731043964230793,-6.075015513776833,6.84581649878373,41.87457819618597,9.298045471101206,-17.5647001416957,22.699341442448247,23.82419984977705,4.886951088597447,22.521539407167623,21.88309018169007,29.83220486568078,1.805739987116644,15.521451259568575,-8.125024869562662,1.8838743591016553,8.504209040208995,22.866693514682296,3.882973497881965,8.846731824258063,5.716458329903814,8.935873892673653,12.833148744714778,9.446002131671422,1.7810596987820984,43.75822958700127,-7.241091134435757,27.79778427044541,-11.317728069473995,11.80381624016327,28.852914292366766,39.759460732864085,3.717048532123161,19.853588851179726,29.814789471596846,-18.215592561127718,8.878386110366607,8.829520378155063,5.928982064372853,-6.1516614528335065,15.685344364395402,6.812970230266838,-0.18257352434561872,11.869267924306783,-4.231853921415221,7.850039842032188,6.827605195096253,6.850633911921214,14.913967385134526,23.812935964441824,26.869456968586373,13.81318613576126,4.871801073396471,24.773959149611258,17.79761696241642,15.646795156131954,-3.114381807300916,9.838255384899671,22.848599582445654,-8.145255799600116,-6.122859384279548,31.848915795687805,18.907961433744244,-2.2163511964522358,11.887023666406078,14.82969522605377,25.83164364868183,12.786261829453524,-4.279243963605412,-8.149745458971914,-6.450997505723504,16.688351278216462,-3.2396707862698224,1.496333965869494,18.84475847710865,23.844826852619295,8.821697202736082,2.7709655530995065,30.849509865576834,26.890329215636633,6.816292217889954,1.8336126965008364,5.865838301787632,-2.1868974139731705,7.737694908579062,-0.27076563010577537,-3.0688949502275626,17.840338686790265,-11.247600715260434,25.850342216330223,-4.1072129235913595,14.81731646814568,-17.46475008217003,-7.0624229754021135,8.861475878066907,4.892757962407101,1.432164608795382,19.872297815740424,44.86265523075262,-16.420024626300254,17.805879621308172,3.714508399813666,-7.368922629207299,3.8895936707935084,-2.3994826505832973,6.474760205896001,19.916041401823097,18.862257710094973,19.84220426965302,8.809303169770567,1.7990611284796898,3.866686961542966,40.836502242575094,19.845159728966063,-11.361658214039263,-5.379691445372941,31.842099470439333,3.3641898212699517,25.889229614731033,3.786373492472112,-5.1095709882747204,18.56208711757735,15.905448846491094,24.904623967406312,5.886516489444288,7.905862625909684,-8.085660016202654,-0.1683470425910136,-6.490214790292684,-13.064843291002756,-0.06862329483830545,-7.094785304698741,6.85424562099739,-3.457153095363952,23.851606496266708,18.804625976915364,11.848946162780893,-6.127237313944246,22.863127572736552,23.46152358723191,6.851742055427153,4.834338602095325,23.825002751966633,-2.151140242176281,5.633074486817092,6.798825130666646,13.731076750845085,6.751762666554133,43.79407231635308,24.81267309210413,13.766746056226506,19.48548469286438,15.914267343656514,-7.2734728665884285,24.902215260837565,1.7106146929821697,-6.0809410704202564,-7.055101996694391,3.811450213279133,6.890717320243423,-6.052694840139958,-8.144800238011939,24.836467784711733,-2.133997075653031,42.8301914483432,5.879025643088389,-11.559110824946751,-15.184040943583994,39.81759143829987,-5.369872582298064,21.90291428234274,-5.1814925250579495,17.8642651648063,2.558214998532535,-1.4386854175191517,-16.535334907653752,-3.265964231237239,-1.1102160985238694,7.900045355187721,1.8809679916596918,28.78732173728546,8.854052802965786,1.8150540522119574,-4.0528876581715645,-14.082007419961029,15.82804210452988,25.81097787129519,33.87841372187187,14.857731074019211,-5.391646503190644,30.853524376524742,12.84152877505736,3.8819414945344595,37.864788543043545,5.823094573289434,7.784636381767099,11.766335892536397,1.6895986099211548,-13.110104306724153,-0.28271109406914197,33.83462104391812,41.856871545957745,40.87057222783841,2.8051363233732807,29.83410891879026,-1.4532365434461583,5.830110819005773,13.49374569624626,5.870596520874726,14.907449308616386,4.854996097010578,15.80940141954893,-16.099268770557742,19.84787367685116,18.735018910886158,25.87678598156945,-7.1274721024797705,-2.1865991652428436,4.873406877775631,15.846260400803391,23.89950985555281,1.7095065494762314,-8.396420228221714,15.873991515777442,32.8534755093657,30.84269354032837,19.879618794448145,-5.452640525068083,-13.026536686219641,26.8141879300392,23.835048075471775,6.833530751739674,-3.1505552578166185,7.474215227878049,-4.406745931876255,7.521713850722696,44.825678878047356,2.895527261712292,1.6662185249817318,1.7404075335912443,9.867399376371049,-5.134647709081741,-7.481191598189998,16.391689890342192,-1.0653152770641796,-5.066234739901802,1.805521027597394,-1.0664234205701184,12.867061057452563,-2.330688883655984,28.557252467343982,-3.048772600844565,-5.1592892228718945,-5.2980303347259134,16.48768496560731,35.80865019095834,12.892593339847764,29.792426698674927,18.825396930630184,-1.1652881816761418,28.890998788577985,9.814679915330412,35.88429381568254,2.902343586960761,2.8829654540419343,2.8894931244144146,-7.098894674648142,-0.17173620388819064,5.596901036301392,-4.07234702872449,2.514422320578783,2.751646105906091,25.86319267887658,4.532853316822522,-14.109510236835124,-4.499574757474064,27.86198657634053,19.673158526624338,-2.1282288968021423,27.82226789811806,-6.057607112278937,-12.338120577610626,7.482964538011706,-2.230889504069817,18.873950937264315,-8.182261841320427,45.867769342606124,14.863705722533709,-1.189493361046154,21.894425671345694,34.83699283025444,-3.408677754754118,13.87519011740249,-17.10463269780816,11.855019074623158,-3.1467240808962162,9.890379001324938,-17.112966452695343,6.745896303961097,7.836295645807821,-8.486810363502755,5.878114963302322,-4.196086432291651,16.85914406036677,8.523577579273486,23.561126306156186,2.8829750478962723,16.570806618377986,-0.29441000244156196,-1.121501987983447,3.809588259454687,27.760532476192132,40.81588922490491,4.74092070040844,17.90284732189074,2.831910483105871,5.714315581782059,45.86095301735764,-5.235886429725173,7.717602756536068,29.869472982855324,-18.0683822411327,2.8939214573331316,21.84661848244404,7.656005244611945,18.761551050865837,-0.10629396907871082,-10.074715651185754,29.840321753992036,-15.180662068445802,5.6965339525656615,4.788275995567295,12.832768455292372,-2.351931611126927,-8.09719246125318,22.839257179177622,-18.160860974648116,13.687888006328308,1.8518730920593882,1.821481297241661,3.777141468068871,28.788761078342734,2.7245836509651893,26.85872742572544,-1.1721444483316394,7.867192094084801,-4.150549680289251,-1.436761961553619,2.734493853853478,19.86016641648125,11.860887893964195,-1.128122160894989,44.81478855306757,16.813565568747006,-0.2859808802279012,29.824379233513806,13.814294279267196,-5.075973510707629,-13.57765666049087,2.8735506039361667,-7.155160674778489,19.860860738016374,-8.378159832663162,-11.146244623166183,3.9586629900221504,-6.243608660290311,-17.147167420309124,-6.2125874883088015,9.845527271736316,43.78284159575607,-1.576066920917277,2.9267677258500235,-14.109788429864127,8.7942279184104,1.902937656849788,16.715129973787082,-3.159364669452678,2.731384341488557,28.914967874204034,5.93009020787879,11.867655127341587,-3.0885512761753895,31.820974806723864,-11.248184149605795,-7.407743546238688,6.612961557591757,6.841021598095572,7.538418042098133,7.822901755257825,7.6976874647272835,3.8557405521061074,13.82156616610384,25.90181361050541,24.706834333224098,18.79284191825759,-4.506013250048129,31.838025470708057,-0.5571590775780398,16.84505584828165,-1.1540087764776208,4.81443066254025,26.90412590805835,1.8857854047971747,1.91583388652656,6.8501362510479895,6.863186125737232,2.9096645656684834,37.53104562613583,-11.443486296333162,-15.061606638917672,-1.1919841837094096,4.942682746253509,7.8927313690660315,-0.2048947063074707,-6.441100045742197,18.709320165169064,-8.092676261918992,-2.4593529696321386,-1.2683183971886698,9.91485223208527,-10.26217261836979,-4.078419940566763,4.820489953015124,-4.062119682574805,3.8287689286536426,-6.101705031549047,21.876214367658214,5.922769229171066,-5.1224214508210695,8.816126487605068,29.797637219544225,-6.31549718331786,28.84523557614533,12.53995179030347,44.739201665645766,8.548001718162746,5.6603178944399435,-4.160267314963382,-18.431206875526637,25.88279940462835,28.54200701988185,-4.454342738463048,4.84752725477903,22.86825022719039,26.817697787527848,36.82269807848476,39.842668159106886,-1.133742476222053,18.912428541207362,-3.1969792592359787,-7.443471029020546,12.858183366236752,18.74994297398186,-0.08076168668351089,18.895823041899042,8.860125714808055,42.795774529748044,-8.443017685549004,-0.37657843275083136,-15.040740073070502,-1.1966933109254336,-13.170610261582711,28.844341842467315,6.857151988439357,35.88479147655577,8.420249115030629,8.712142181638484,-16.16999378909459,18.570423688880208,-14.120845218165776,-8.513857618788679,-3.299779865265607,-5.1301315097475575,8.814549679936288,-5.706708209982973,28.883618321086875,12.821720752520084,-3.085742469288792,19.69417164461238,-1.0350738674529558,35.873901151576014,-16.310442850092905,12.743004002299035,23.84884136356721,7.925577637582923,7.7855974648071875,2.9232578683613735,-12.085776576850698,-0.18392368760446984,15.509361959594449,-4.52039092006721,-5.566561065560367,-6.403341505086325,37.877782333275675,-7.680941369938803,4.622438896223958,7.831084321880541,22.882496111801036,-4.412461106204816,40.83248773162719,16.796246345047514,8.774968468325339,3.4196946209241084,-1.1164728527186172,11.783255718690434,2.9141316731315956,-6.109770226720936,39.82848176327962,-2.1696063839260966,1.8953184294117376,11.842122844946385,39.80732741054912,11.919876927509,-1.3955154567801242,-16.152850622571346,9.883955783808291,-3.23527598589952,18.682499729981068,7.770457338193546,15.62679235757538,-5.1294371882124326,6.738624417124448,28.896706970320515,2.7195924222520995,1.8346278291427374,-5.228968008083303,2.3950616497342923,12.922641821577148,26.863688789735498,2.8465033486502422,38.87838427330806,29.80125565768734,-8.053399783299426,4.698285257831699,15.758792416346706,-8.077536643630326,9.765689126777367,-3.1461773281519196,45.562328740435795,1.5464324898890667,-4.091161822458655,-2.141311061774723,-3.1312358106232017,6.839694495070384,-16.103697103476456,17.819778165317423,4.8795706211063425,5.665610631689328,-5.102902591484758,15.809732617100256,2.8375765655633596,-2.4139544872992262,-12.114389374900439,14.86225023842637,9.846635415242257,5.877065505521797,-3.0801221539617276,3.8323644946797453,-2.247511146428209,-10.074132216840395,-5.3942513620963135,1.509976868758431,1.8501747851411634,1.8396926009291388,11.612888698359953,-1.366090671011441,-3.2881461268796564,4.8414022859927135,3.8593659828352447,14.83406074544846,-1.4934037906707722,-7.362758885876589,-13.392624477990976,29.88688786861428,1.9320816483211651,6.876166194316413,5.4995859951174255,11.842486771988158,1.5032323318100358,6.893928929001742,29.655631739215448,-5.493661077736298,-2.236011650198684,-0.15571098987258558,3.924262610265478,2.9012354434548224,30.67730895791461,23.66823088106767,27.59703218436414,-6.480783353746547,9.537143620522972,36.82951440373322,-1.4637691309122025,-11.490686735382162,26.85055104863077,9.871066546717548,36.83248025995858,14.82974431792485,-15.49689875978116,-2.415560291678387,-0.13413040490125494,3.8769600748230757,15.46054842884726,12.886716875075416,-3.4060394387024777,24.827315049519566,32.827098225495874,15.905747095221416,7.567915235245189,-0.2505682326167368,-0.34786668736033566,6.701546771083737,1.683974267081031,32.79690850902403,6.76987187384821,12.495703550761537,-15.102459416881045,28.833900086489706,-15.10753247113884,-16.391231643275656,16.899227468688974,-3.082033199657247,-6.146640600040072,1.7845540364074535,27.89073046749405,-16.19258302244676,1.740663174711554,-1.484981661043142,16.638457162131054,2.825654237236098,-8.210310099555882,34.84270101199697,-2.0841735851420515,8.848337628637223,-1.3674860930757413,30.52636261317829,-14.090190789641715,-6.083942296863718,1.8518309927743442,19.82114074841096,26.85742686266263,4.776943830652319,24.72394484565936,6.880426752530288,29.81143391196596,-1.192614138316038,-8.501007156242329,1.88472635316231,35.781629475634794,-4.191567776209472,14.834961831380182,-7.4352367692584505,-2.0943196936576376,30.8528659335327,-8.500086882601929,27.837434056369105,6.783992702117357,4.791985265198839,22.885409471829043,-14.063003610996276,-0.2427916923208356,-1.1577547277102258,4.800414387412501,-4.053995801677502,5.853444268822116,-7.263474621596666,-3.114132650441663,34.87967736470226,1.5428665479433135,18.44193961219091,13.754757181595147,12.834712449808892,22.7798619690933,-3.1326422028594685,8.752372242387134,-17.143955811550804,8.785091261333626,-5.207017814867117,12.918174714114036,9.470171037479783,6.54403607437388,1.7715596229885338,-15.156902053751656,30.879105750791016,44.858581231021326,6.88054412398111,-15.411145160358105,-6.218302662637366,1.831518316777816,-15.212424640475811,9.78033822129915,25.851145118519803,2.616509710542219,-8.319367459780258,-18.440380214204467,19.84676553334522,-4.241878530681363,-2.2388557124415884,2.8756540691885486,26.879403520438764,-3.1718173881436047,8.684517976268259,4.4403923703771,-18.29725286871677,39.82737361977368,17.83301770808254,-6.0705484063137245,-3.4125505226345885,-7.197491384363842,-10.676926221884797,6.903855569673105,-4.087147311510752,25.51169401986955,19.89212191639309,26.84212891900315,-1.0846347242575958,11.816590562551191,17.830411537793925,43.81078258472001,26.83641374467459,-10.50149986894948,5.801271560525779,45.79844438225717,21.78081037216977,-8.292485522451182,3.8867589076719438,1.6332149436069894,2.820971066255043,12.904037410157844,7.819958706214802,8.459224379846898,23.906326180801276,-10.1595805749471,-2.108464793257831,8.77901266828827,2.94608717304344,3.9011460270250504,23.853746643120147,17.825447572515564,16.833163208969417,13.833907997605003,13.889334413944713,7.504619776070521,25.86940551407835,15.783570888423405,5.362754617575979,35.91433826989886,-7.364364690255748,14.810986261493076,-3.4753643990514287,-4.4907128496406505,-1.2493636800949945,-18.404206763688766,4.816374657056768,8.872810859397557,-8.403741206929437,30.875595893302364,1.7528015665567596,-10.514287517971795,1.2215514116968873,5.879481204676568,-6.411963046856849,-3.1654463720913166,-8.298829783393716,28.620790316407003,5.780602458398485,11.859885579631717,19.867480402602936,8.885313981342504,-0.11176013106832916,12.927153993398274,2.7277659033454507,14.862613657143163,25.84823875107784,-2.167230626178353,-0.1880691913705927,8.736041787055171,9.821103132847055,3.7907935214218544,-3.3273808658818584,-3.112959336949257,11.886974574535008,-7.293384833656566,14.827184931416605,8.892130306590973,-4.112381345175624,-3.6137581703040462,-0.1790571825959129,35.24616170280804,18.855739633576835,26.900111397110447,17.861053556047978,-8.502642649636522,3.847937990640556,14.679168744159039,-3.461435990339146,-8.103615678769822,19.555917796719275,-7.171264780433521,-12.068013842165366,29.862596660498497,-0.18418632131080998,1.841189824653843,7.567922587498898,3.569906675687564,9.324094817225674,7.641081181516247,42.761371141453495,-1.1177862340908458,-0.18013512876184706,-12.129798355962372,16.852980317036057,-6.2950870470515286,31.75295040943772,-13.261971257737843,-8.399569023456005,-15.034271596748411,1.8785135179605261,27.801041646334163,-1.2980228630573027,14.85883921752515,2.550901012410842,-14.151926211567648,-13.404455171771827,6.806038331777881,7.847739716117901,-8.361056672481624,7.7723348513406485,19.91714954532904,8.761374657307474,4.821185077608221,11.913060602260531,-4.3258586617737445,14.842502277932129,-5.216915274848424,-11.158134002672448,-0.43717602215579393,17.87565315065928,11.925949839351276,8.835396334602436,13.813137043890185,17.914130754602326,4.924471442566031,37.81076152635407,1.819730230606983,15.894113356835467,-18.061818297198574,14.88923800492891,19.87449664831928,-6.371782077979276,33.85584729570202,-11.661390634467052,43.86435744414758,32.77534812996672,-17.303136056381536,38.563353909220794,13.90643757412625,-3.137797297809333,9.55769448320679,-7.093012233939713,15.843743113580187,17.89552634318302,-7.1000028181540795,17.863763771153018,22.881892621754368,8.63389043820265,9.76012800550069,42.82908330483726,5.890371529656322,22.909328957259042,31.875001823413335,5.574943781381309,11.544698346076887,32.836323257313076,30.868878404641322,-10.154186720050289,-18.024347543426035,-2.5975052294568184,-12.128519797023918,12.859789170615914,8.842156430873489,3.8416523400209894,7.566309430866026,-1.1948124625699192,-7.3387833159894775,-5.468079703470024,7.893832519985939,29.752736398084537,-23.40007362637865,33.881379578097224,-16.411546412215518,13.858086957220952,-2.479416633289724,-4.0456749653853015,-4.138006130109888,-6.4970311155411515,-2.355689972629546,3.809011817695361,8.846426582941703,-12.051408342857052,26.903323005868767,2.895022608253039,-14.33371709629419,15.613395142284737,12.881257850192135,-0.2444883281884344,-17.15349762696173,40.86946408433248,13.857739616619549,3.899533230059858,12.858681027109975,-5.428167294307748,14.801920700411728,18.78641467322789,25.877091222885824,1.9413661689217598,29.81589761510278,-4.24410671963828,-8.361505241483771,17.825594632981414,-18.12873132652369,-3.4476530195703865,3.6550375578959025,45.288682347733534,26.72926043755971,11.845429312706214,25.77271336579712,37.82781219033826,27.847800180513264,-4.141581157585005,30.857988079661567,-7.373235388885529,-8.131949775465593,-0.1131102943271803,9.453274018508074,-6.091866765618126,11.772450543996035,1.8519974560962407,-0.16773461153527572,44.845047417111815,-8.440212906175466,8.63558707407025,19.802972855391474,7.656556533194274,-14.045900450814742,27.830192366872463,39.81602773320575,11.893236501607861,39.872274441233365,30.839727684103032,28.725599861324483,-6.1663468209169405,9.891325854387086,15.859654291353385,21.827604276566987,44.80746757435985,-0.08176154426799002,6.526326967397658,25.81092746804118,23.85602110753247,22.894729362647734,7.789808931149988,-8.098798265632341,2.577534445725951,4.905847119965711,-5.084038705879521,-8.230779789540282,8.796164920340882,-24.184571908961146,-0.12829785912187103,33.8460651142282,25.818291857416884,8.581517958095738,6.831230625825387,-3.413858078283422,-1.3303714707009724,13.70599072936133,15.913068073929143,30.887594361788047,38.82370127037456,6.881652267487048,-1.4860898045490805,2.8191361607179566,-14.11380294081203,3.8248931957002004,16.689597691391885,25.442119902661354,-5.5242656113313195,8.519284366971611,38.861978186142636,21.86593792963746,6.842319559890069,12.929065039093793,-6.168843902226124,-8.098300604759116,2.807486344216609,-4.279172026648042,-0.13778179186536021,24.842016495718397,26.874280865984915,7.951854136442289,41.79436291085727,40.86539008460119,-16.255475679749704,42.87287598279101,3.788552589557954,-3.118097561193517,6.840108317041199,-3.6932196453142474,-18.358974744677745,17.8574418469718,-3.4105882921246633,-3.2006098628432267,12.904935171348923,36.813937758719774,-4.157160259346457,9.764518678072369,-21.095624208591477,-11.187520013896735,7.760154360210399,-6.207087869173211,11.686320672195874,-15.103488271175902,8.839915499009592,-5.261509543608811,-5.169412015880183,4.530929860856991,-6.2773734042372755,4.735212518665909,9.84472436954674,-8.472293462428816,-2.0728450880724565,-1.3379398080576133,19.643503152626774,-2.1085138851289047,7.866694433211576,-8.1045134399609,-16.093443217364385,-7.1123968511195965,18.837030669016134,5.748718562807039,18.829709690308412,13.818403649216608,-1.230936821214547,-3.2213769335652973,-0.19718011154294915,22.87567978655257,17.901234524925552,29.843095190660524,2.9085564221625457,22.892723457950726,-16.05773773870688,-10.057614583947547,9.831389967780126,36.516149332808496,19.82850513778667,-4.054493462550726,8.810757785885254,-0.16187473320329562,12.860244732204098,40.85968190285865,12.75283527564392,16.635363257460526,-8.15337268791139,-6.436243858060321,-6.12442850705765,-2.0939627592018986,-0.24218820227414986,35.8899141310096,24.863737656894536,-7.406551563830341,-14.125751006043703,-6.4003595058109015,44.83582238529463,-8.186383621539841,-4.366757382555544,11.881105102348688,-1.3712577812127593,-18.14145069596626,45.75510726589162,14.593628676103478,26.791057361626724,5.780572769383453,-13.465614151938434,9.530507304561354,30.885185655219317,42.86068509474845,-0.6229284133079177,3.558316053236603,2.5696099769715426,6.857457229755713,13.90804337850541,9.80905557249029,1.8518240001883146,41.82948495516942,25.481351316922886,21.607245464733918,12.781736839322972,28.81318521723199,-2.1402590027258888,17.85127810364109,-15.045804041798936,17.869944968916748,43.535546710559856,-17.418047368928935,6.736664279557856,-2.308059643962097,19.808993271036393,44.81348799000477,11.82829078230656,-23.141728945466802,19.860555496700012,-5.08514684938546,18.822842961805932,19.91233213219155,23.85330847103032,-1.478768825841358,2.7527051575409565,12.83756335598053,8.90526855602066,2.8381568508560724,-7.147504765739378,-2.1011929064211827,8.782040434694116,12.884213309505176,3.5674522019883996,44.794378925126225,-7.340830960303856,-16.179582239628598,14.900720849783385,-8.124272370627102,4.863467318509281,12.846237902273387,-0.13744360172800402,-12.241578749601205,43.866766150716316,-4.216041006969806,31.794232792754297,-3.1893239733836483,17.83318497446241,1.7961154781683577,-10.494421318034084,-0.6290013251501898,-0.16843622038942702,9.862984765105288,9.759050059334754,-15.226276909029659,24.68967508858546,-0.2021510694073411,21.8335298332104,-10.049995356509498,5.820640099590267,-4.222241099264607,9.653204307868702,33.83221233734938,-0.23074413196406787,-0.18955762429893097,9.852848250444042,15.87910666932028,-3.314786552780794,13.793733757794362,-8.202028546133048,-6.117281676562504,-11.131104201819545,15.822677938648104,12.769715818928598,24.86709321652541,-1.1346402374131312,12.75068553493614,-6.127230321358215,14.870977609370353,4.826402591063559,2.8031369029373194,4.8503290690795975,23.905218037295334,7.873966320048226,-6.492850141271354,25.787444501010977,1.8803645016130053,-5.076717727171799,1.7033428061455211,-3.3882767040171484,-1.2501471794285317,-18.169896338389457,-2.143304148162314,37.873767822327785,25.843889309798552,-0.12902147210037343,-5.36541909620235,45.682816449317286,5.888807824562206,-6.383170063832255,13.88246200423914,21.708761870081386,-7.05670780107355,-0.4311299829128761,-5.503112569983763,-0.11953753935688428,31.881818148661797,-4.545139703128873,17.796546008836508,-17.283486723019738,8.560049278519516,-7.125486008678209,6.884595316530073,2.856945104627849,6.84492573017868,9.404464515273943,-3.3633896512859978,1.8287952833633538,-1.652831394150425,-7.151067382944482,15.80361796564062,-2.1133312982663885,-4.111273201669686,21.887111685224,3.305804277771829,8.929450675157009,35.879083294813235,3.78522360934881,-8.235386820362901,23.82370218890383,5.819482864213255,-12.047699073225509,-18.082471256275788,-8.136468939872744,26.90121954061638,12.909745591900379,-2.1393612415348104,3.901539134756875,37.47747076670825,-16.420473195302403,9.886918235707359,-13.083709633355992,7.831828538344707,15.580987045857684,-1.4471075471467825,7.924774735393341,26.733916560253395,-1.3035981140263526,-0.12680942619353272,-6.114341084267474,5.791391195309815,3.7189091745646596,4.735556534526661,-15.042287191724252,29.848410264671237,8.911737032342751,-1.4824780954729029,5.821986429783495,33.702134866550935,25.816049614170034,-7.237089033757868,6.771745729617693,9.83458785488549,-6.110465351314033,38.869902654897054,-2.178170043029182,-10.097694767814666,-6.358975026100919,13.598637357258264,11.850611455943433,17.844716616454956,-4.185373835538755,11.832291571601495,6.89959501145923,-0.4659690051803898,19.879121133574923,41.84793827860982,-4.2579104046460285,4.783521395953844,39.86138411625362,8.530849466110134,-1.1003778325929485,16.51723175895042,22.848433119123747,-8.151151851208182,-6.156361494520168,-11.10195428433921,8.83007723307867,1.558220576059901,-2.1461775667832805,-6.064125188797077,-2.139312149663737,-0.4534342457973911,-4.216346248286162,-1.2450741251707382,24.908638478354213,-15.156355301007368,2.777949144727846,-13.371254570067503,2.8501217867933506,43.39066063915286,8.872761767526484,4.640699291782508,5.895631142396708,31.812745604978076,-15.110809249883625,3.7473125690455165,28.830436353473914,28.820565684723096,18.806434417892504,15.797007386583415,-6.350048751339009,38.875277217691135,-16.43391617772348,22.880592058691544,38.854657207434926,6.8834871730241325,5.772071748116398,16.833280580420244,28.80442489746701,2.831107580916291,-7.492357299783075,27.838813908643,6.632778665658395,21.861530310957725,2.859274521985513,-18.1506525230295,6.842510031023911,35.86819296983347,1.5161245339737481,-7.1125897790014365,-25.070554959453066,-7.118214121841559,-10.053206965267819,-3.1239148319154793,12.572300397947137,-3.2268894712958773,19.82961328129261,-7.143795496107834,29.881552180650143,-7.124377865172267,26.831894580267427,-6.038146938668037,12.841696041437231],\"xaxis\":\"x\",\"y\":[-0.5949897306426621,5.50703896136186,4.520282696817152,-2.3560722672018457,-2.312588151810406,-1.6175228242716284,-0.4329431196246113,-1.3519300942526173,1.6145326229689743,-0.9599345256687937,-1.65737974490813,5.417240959781781,-0.08458883992910565,3.2597301767188105,-3.0587831275539012,-2.446792751194637,5.533008606313315,-0.8442854956984484,-0.3607857835737491,4.826167069513221,-1.5198338083679725,1.1640982451545285,4.609965117917165,-1.2817202705926203,1.3559155688682853,1.7976806499924785,-0.9672928912183274,5.117497447158488,-1.6605292112547603,-2.5392589034880033,6.13764307055885,-2.310859843127004,5.668205532070094,5.8466952153146305,0.5596427208632697,-1.5587499127093922,11.465683201331036,-1.316910439936624,-2.6998172336092177,-1.3193029771301876,7.670163525318227,-2.3459161623113967,8.128292616254218,6.211329601355308,-2.2897776442526157,-2.5255172324365196,6.462227296025212,5.832757354733789,-2.9346034574954993,-1.7601185093842646,-1.945724150893924,-3.228247715058877,-2.13927181417492,5.149533434401114,-2.0030024216795086,-1.6490344727632784,3.2401940312080724,-2.4825680520247615,2.001223359499834,-2.5813866295657517,-1.1275794216167434,-1.365243489632939,0.31461077537612164,-0.4501490631132741,4.416229169990642,-2.0479609105718573,-1.0706175019257216,-2.8557503277285754,-3.0532695763495066,2.5961416173469543,2.6421120548821486,-0.519118993414716,-1.6696819495971098,-2.4502117294278434,0.8412494975621203,-1.4892389457951252,4.844789465186284,-3.090589589946458,3.4551730552606967,-2.428305213446149,-1.8031574039969067,-2.0707034545733665,-2.0359260110101163,-1.797576791194057,-1.2333203432778954,-2.401951431349931,-2.33899821529633,-2.443557836377364,-0.8925999577926483,-2.3338410187607646,4.034919280845425,-2.2108477985900814,-1.154106654150307,-1.3974937252907402,-2.112009978734933,-2.528869962580266,-2.571920735335581,-1.5174766373789585,-2.5552180481825735,-0.4985442023658771,-1.03676881828383,-3.1476644297047613,-1.5409054110136562,-0.3585909809135572,5.861763791579794,5.167992536563682,5.757125150017045,9.448804186594552,-2.093741811924073,7.1318763172142825,8.86803803774345,5.345437668613073,-1.8172936428222761,5.460902191220637,-2.1944236326153654,-2.355509319188214,-2.004888864618547,1.4281535820775508,0.3362660158631451,-2.7065711556187746,-1.4962131741998972,-1.1809332816699172,-1.1230589115300333,2.5370480436762244,-2.111660705165021,-0.6590056307151899,5.2642914352453225,-0.5219523542819822,-1.734515554807968,-1.1985229397513735,-2.038378349923745,5.4902783361424605,1.3090995106512757,-1.3981930594830785,-1.3039317376377808,-0.2416834699825427,2.088459868044565,-1.5733489840997341,0.8183946842477646,-1.00603766702274,1.1624987625022516,-2.5983887368878986,-1.6350632768617246,-1.1174240482213151,-2.4169013910539023,5.554341578052676,-1.3197939805604497,-1.2369370580784806,5.680073014718517,-3.1386288604100505,3.6852064189227987,-2.297186594697945,-2.3953662398247144,-1.5353863121650526,6.1297380497182985,-2.944759562385947,3.8216515228781036,-1.8575852854993349,-0.01330094795935697,-4.061120164251443,-0.759230157504082,-0.968974343943861,-0.7540984572388111,1.5175168616170758,4.577570750322446,-1.1745799393451695,-1.1638473658039359,-1.214171675460489,-2.162892448342995,4.96599597791044,-1.320125079373612,-2.4435862719632833,-2.7275300838123764,-1.549880301813566,1.6114135423515143,-2.3475870869173416,0.0089833388133231,0.03542258613006585,5.80770773875924,-3.212507412496092,-0.21430790096627722,7.0656656144815635,0.14017544714891297,5.083050931945593,-3.525857942208865,-3.2338403034948655,5.29828896657888,6.528764946081202,-1.6618945585009284,-2.582914605663117,-0.5789852933747036,-1.2859749666291975,-2.033360685134526,-2.4847295193642394,2.666319737179834,4.910209657830022,0.997511659610805,4.981427834262491,6.244145415968629,-1.1536719321097502,4.974330653826585,-1.6246234149958036,-2.014903613855793,-0.5923602059419131,-3.4596472394761437,-1.9549899720581168,-2.243542611315521,4.028137831681735,-0.31163346955288007,3.483140033059603,-1.3125184918853765,-2.0791835678929083,-1.1275511532609892,-1.8234958512497195,4.362831004180902,-0.8110137665871632,-1.835023183860291,-1.6304012519961946,1.0292974321756527,-1.5808096734878465,7.354799958186937,5.086481869062059,-0.851981613407522,6.144848184837661,-3.5256031850841643,-1.394660364423475,-3.711302108914315,-0.17621106094941133,-0.4783926286971011,-2.9864978589965276,2.5204057894028153,-1.721840963249919,0.6669141301848722,0.23625887106101642,-2.9017264617576797,5.989342527697377,-2.180230283414807,1.8621558748512428,6.3370639624296,-2.361051616194971,-3.0508834671448732,3.613288994787572,8.953447588050134,-1.3998283244179113,10.8273525886958,-1.4896173864459765,-1.026402262025249,-0.9854658191662397,8.041117288833984,-1.2755455170119352,0.5697374773990522,-0.5419506766800354,-2.5644327644085387,-2.4444272804584775,-1.515100570414093,-0.36849249751152685,-1.891551113005776,-0.9131019972230855,8.852079978986751,-2.3940514774743407,-1.5667017030182304,2.4865307875484226,1.810403961162067,-1.7261293688143573,1.6370770272978759,-1.0348689411972165,5.014622296503645,-2.6414607828412073,-1.564194946368569,1.3629265428820434,5.652594528786785,1.5358568613386325,-2.103277955916165,3.159068003480911,5.078643096310967,1.008092392942805,-0.24585748886071634,-0.09262575235280412,-3.4033521463479492,1.285327011090875,-1.02810304355452,4.188734839174721,-0.30844302772233684,-2.031426693380816,-0.09731517042993781,-0.7713983280534051,-1.5606637963129817,5.976476499850618,-2.2176708930975484,-1.3908461985940375,-2.59886206819111,-2.3879572893793872,-1.116530001394522,-1.5863237021388499,-0.8922732560845801,5.025462184065438,6.305580033505336,6.469344425087203,-1.5767964595540134,-3.0687400252143346,1.2208763889777905,4.882021744106949,-1.855631964941886,-1.788796797008649,-0.2254818798588011,-2.001868365446614,-0.6678522090524445,-3.4787352904339053,-2.9373172766199036,2.314743171410179,-1.4571176773120207,-2.162385781719069,-1.2658854825167096,-1.3972567377835556,-3.024818508989088,-1.8563608713543986,-0.8518120758881473,-0.4010774262508074,-1.9211531885093502,4.686663415310522,-0.9249250624422701,-0.45605775702862683,0.09492832672938828,0.7300240077974672,5.15677715794258,2.6414296516152374,0.6477018342811245,-1.6546084735971518,-2.726914097467146,-1.3180444961695186,-1.4285494592844254,0.38894521677703486,6.097351427881791,3.005965394903899,-2.3315242508862615,-1.5969986181185838,-2.220006233426341,6.373800338185212,-1.427486775265499,-2.071718336057874,-1.1666080408862103,4.5617541925607785,5.574615011340749,5.116566485890487,-0.7299957591924896,-1.206706443625455,-3.991594123262792,-1.8631112897834767,-2.5296030204826727,0.6171855314932626,0.449607680393888,-1.9045138586443922,-0.15043186546984383,-0.8039938530213899,4.000811442973738,-2.126757965926058,-0.9961460767936088,-1.5558269351317078,-2.6349212932268724,-0.7938184193272046,-1.5171152393262066,-1.0512556203613248,5.655321162236418,-1.8775413078415675,3.377294649478969,-2.1473520690287553,-2.0378384344686866,-0.6270029787932779,-0.7637022103443322,-1.1244299552701127,-1.6098073777588169,-0.9161450682568616,-2.553152441562398,-1.2343738340250598,3.6397569098503086,2.7762304645941125,5.5502477986331105,-1.6000859949089263,-2.0301176275243513,-2.321999125674842,0.25652961947817843,-2.8057478984303317,-1.506918220586999,2.5828574057974505,-2.4215680700390267,4.298622324867291,4.945027998492149,-0.22697009264652107,-0.7044551397876797,-1.538581002975955,-1.295624404895719,-1.0877092259582857,4.357801363758546,-1.384179588708795,1.2437206060634423,-0.7707221239101043,-1.4405546891355259,6.631666564765978,-0.377172462737858,6.323848661012926,-2.323117630386746,-2.6195650470682645,-2.0341694507208405,-2.62664289870043,6.124013569699161,-3.523781756109863,4.722931359497716,-0.4871726228825093,2.631408200686794,-1.0940018897882346,8.264403874493993,-1.6170881022310717,5.106590681978284,-3.3110538161071372,5.386164033330685,-1.919213142973857,6.144240012359758,-1.1473985970835399,-1.2872897289795713,4.089659116337321,-3.1305867121891726,6.429826667671728,-0.45825255968881834,-1.357991519396259,-1.0246841815956673,-1.9195249994728627,-0.06235604648400937,6.623814582257026,-2.0207659527502795,4.696256572187338,5.19299481070054,-0.3763009710230286,-0.6517301420401164,0.8305035373262588,-0.6982423351315326,-3.559592406394657,-0.23990025931387013,-1.6646032011738574,-2.201807980315014,-1.015456219415223,5.880068910976622,-1.0327970040785754,0.6846036825557972,-0.5710239911444489,-2.078669992600803,-3.4126001978946277,-1.2330590716746848,5.7189023402683885,1.3659102964449914,0.8872174649116306,1.9909218172059924,6.808228413447444,-0.9965245174444608,3.2163405610227063,-2.078667961716967,5.735781582048981,-1.3070571655035848,0.5293837451657065,-1.1816050887081242,4.366023476895284,-0.5887254326589314,2.02594187666122,-2.6642033268427174,-0.39658231566889496,6.345438401655389,-0.07841279966583198,5.264471400161179,-2.177752624106382,-1.6070554352515767,-0.7134476162250583,3.6136643993573,-3.1492776254074495,-2.8072333288566753,2.6452481345341505,3.696752896357064,-3.2685393577359356,-2.401777980912585,-2.0385532478746424,3.3415562798399336,-1.8437222939103148,-0.773706363352873,-3.3471270476598733,2.9186117173115274,11.494117957588376,10.284933955236069,-2.7183942208379595,-2.11095648798777,-0.14379704590129927,-2.1194752105699664,-1.9369151568577416,-0.8822453771672065,9.188482872567205,-0.13206343016236796,-1.48918266440542,-2.194527255842759,5.976487096079321,1.569372415283525,-0.988506240474241,9.847058650134755,-1.6368449425263807,-1.832451413245891,-2.8725971593701245,1.111107408173741,-3.104662291701988,1.306337265381894,6.791033066187485,-1.0326741385370246,-0.3588324630163011,5.087375915888852,3.4423009938899076,-2.804948518529037,-1.0309926858114915,0.6233425154564333,6.505515153778178,-0.07654948217414932,-2.7159393006215446,-1.3143383506725697,6.190043566314401,0.1374041758379346,5.280101309696257,4.444857277858469,-1.0368407628671992,-1.1496728111824739,5.196460628141737,-2.0640292077575655,-1.649469194803835,-1.9342923154677252,-1.5330971047323205,5.296106207660944,-2.313468192120224,-1.7675728515240319,-1.0311155513530426,10.532229057896718,-2.160201575287582,-1.4813952733092393,5.205240622327143,5.899842289609745,6.623441208571135,-1.487433180014489,2.0018373149612283,-1.3475420481184563,-0.2732951474332697,2.111796745237168,-2.28797187847198,-2.6119478633513236,-0.6115754579111659,7.422697810139101,-1.934172399517717,-3.197889937483681,-2.3702648849073835,2.5268450828279083,0.12401849981185513,-1.0331088605775811,3.925902784237984,-1.0919819850789398,5.623318510314505,-1.7822205450354482,-2.5575437556090916,-0.4727287655376096,-1.9214828146258693,4.963829443606,-1.6019724378479658,-1.572724518899217,-1.7905462813995805,-4.252422272746286,-1.7620903310542475,2.948236922864138,-2.7603034563228017,-1.8602140689984603,-3.0499754138011044,-2.5079767798464223,-2.9777178648111198,4.4146603917171925,-3.204502265205999,-2.661658058420864,-1.1354124978739246,-1.4268105711221988,-1.545923075802874,-2.871224165486794,0.6616302526802487,-2.790929997539674,2.1262592632186363,5.883857181145526,1.9860130114413486,-2.882506421726305,-1.9356293943581402,-2.4208785908737713,0.8017659506115111,-2.1966790521352024,-1.1263832758275607,-0.8022337724017545,-3.3965007834847296,-2.623438352862447,-0.6494124738383735,-1.2540899444516551,-1.8778301317819994,7.668946187071636,-1.2752934386804868,-2.426488851436808,-2.434777842191956,-1.244368561601765,1.589320152785784,-1.4523416786055912,4.851527094473224,-0.9690522306363402,4.392606990818551,7.165977727097042,-0.8541432647270456,-1.222720490305295,-1.589232586709978,-1.1812643804830798,-2.557483138749446,-2.5494800223431904,3.2193140370066047,-2.2259106783613354,-1.8381297054743255,-2.4836745811035246,-1.7665718093263327,-2.469031578163764,5.295920713481344,5.775705086837328,-1.4677784179425575,6.022998619310872,2.9783648821227042,-2.338237630239792,-1.436712087720168,6.162247368264137,-2.4009365498654236,-1.2074012832222347,-2.8155166231179107,-0.5906561813545361,-1.423232079228922,-0.6711708768560614,4.29628007910296,5.5244700942306535,-1.3356042775633528,-2.8145733707997587,-1.0021839834988584,1.8965461086744304,-1.6893261154403367,-2.629707145441736,-1.964025541352825,-1.5352521440828688,2.3010654283855603,-1.0259675399846924,-1.4151951668052238,-1.3337939306975772,-2.1444579489261053,-0.1560594872806351,-2.635801333536691,1.4666957403636782,1.7815303146243966,-1.585401555788524,6.529973553383341,1.7159214244897658,-0.4157661143515687,2.845172197881558,-1.8821274936483336,-2.274926033834097,-2.6840277936641885,-3.2212452182983506,-1.0034987458492326,5.869663745455386,-0.7311172816050512,2.607405715579595,4.873247446415453,-1.9423722342591732,-2.5734163012939004,-0.6018970814290248,-2.200309171298591,-1.6176983920823917,0.3110080858764006,-1.1721305483924997,3.4232544042958772,-3.3261492132145043,-2.629339468249755,-1.4937360872608745,-1.3522419507516226,-2.0420175203118207,2.958903359988587,-2.54285506750833,-1.7502652349512267,-2.3066977998819684,6.180129515896099,6.074998214226401,-0.7381282556188082,-1.5569002153793385,-1.3049110657050529,1.0790319365243102,-1.611556862149748,6.021615599937655,-2.7567325429575695,4.951041118471676,8.200269357860272,-1.991135050703758,2.5608010553072673,4.519402656507336,-0.8696468816824211,-2.0374962787300905,2.115701268978646,6.334388735817971,-2.2507675150947986,-1.2374049294256968,-1.5449114373764712,-1.0316008582893939,-1.271876508080998,-0.1376736907254055,-1.715950611321481,-3.3884129501028486,-0.700002415751168,-1.83918319622149,4.7885597854130655,-2.7666524015424554,-2.1532519496284896,-1.444238667909867,-1.3267013313468123,-1.3653055791892277,-2.816452944817434,-1.5373785964280091,1.9261400962797457,-2.7901975120066687,-0.021629681766394192,-2.678135826992034,-3.008251123707499,-0.06411612710364466,-2.4834147570138656,-2.483404160785162,-0.3662976948513347,-0.39955882773391627,3.16414519271794,3.9254680621974267,5.244458984756571,-1.0758176431938828,-2.0327414557311907,-2.6407565656639562,-2.2624267644716114,1.5096882799554519,-1.1055989521182945,-1.0687257850447411,-0.1363541403129093,5.476742046261506,-2.7841596053014186,-1.738610234554773,5.296800753791162,-1.3179882147798125,-0.7723503129465916,-1.288959206071966,-1.3114487084155981,-0.4587378666251704,2.0057819929693794,-1.3001653662382147,-1.1179010451346016,1.6046763989443924,-2.52265290894376,-0.13673736902588274,-1.2499425624356377,-2.693926881680781,4.858429378294627,5.578842252530569,-3.474720698726222,-0.24542276682016034,-0.6014517631597639,-1.4143772160516934,-2.303908353814241,-3.4045376959084273,-0.5859541613479536,-1.8961168475567574,-2.2102233333895644,-0.653621373041277,-2.3947463170711196,5.2652891052995106,-0.5692639105248136,-0.7732716413123163,0.03442392925905562,-1.334611881451107,-1.2683767619867612,-2.444608544763151,-2.5737844391826115,-3.9366040349483553,-2.2828979322930567,-0.949297255625286,-2.9097576776874683,-1.717428227880497,-1.4524740560685598,6.149751923637345,-1.0155136548519161,5.658809551539454,1.8167022142888583,-2.5568875252749677,-2.7747796621715914,-2.3524450724469084,-3.356384708618434,0.002912280767405627,-3.0578944411586297,-1.6372902607956417,-0.22971284998654581,-0.5051917290625806,7.332261250351945,-1.3363507696133337,0.7422135380343647,-1.81898103765692,-1.203213171337504,-2.464821299556426,1.3727369700729513,-0.20839920705092455,-1.8093315993903982,0.4809823703374299,-1.3757729682092792,-1.8203247382229135,0.2768960797649415,4.338854668453988,-3.310608497837876,-0.6924840339118625,-1.4155112722845882,-2.976739475215849,-2.199439727217477,-2.4537718793342047,-2.4532362128595055,2.331134088553762,-1.1998271058730434,5.443457783329889,-0.7605237441469276,6.6075881508156815,5.367781272856579,-1.1331430718371118,-0.8758534255798035,-2.2182461528067066,-3.1846211118555865,-1.7581651888268166,-2.2043082922258668,6.063656727005641,-3.2676699136548217,-0.7214572471098246,-4.520129798126955,-1.1734453107428746,-1.248138244168554,2.8572484719887847,-3.2854228484968884,-0.9229154604951161,-1.7113586425312233,-1.1586274098522167,-0.7216697293617952,3.3072832150643867,7.1755474036802225,-2.841345334968135,-0.49011825306262263,5.018589713603806,2.1039303336592723,-0.5388358450429352,9.573555370011448,6.573182365471503,-1.823061129209162,-1.5520735452875338,-3.1526853375520845,4.0223082557385625,-1.064620509069231,-2.8133500888134733,3.410891423621634,-2.1917295165018467,3.362699827068987,-0.44688098020545114,6.284437058645685,6.234424033118738,-2.2837060280195054,0.9327969835331336,-2.823539529024635,-2.8656229309653534,5.509098854738246,-0.8794578812427304,-1.6732097449219192,3.2400754146468804,4.72963192452602,5.8315278736238945,-2.6318113445746865,-2.0027378095277277,6.438727999144553,1.7969394318844385,-0.661398167908753,-1.1743147548239874,-1.3147156372764324,-1.887499775689108,-2.112879422816046,-2.0373946863865324,-1.5403585004008373,-0.5961576080760901,-2.419714962420702,6.419386135945943,0.16894936662728013,-1.9843646584655024,-2.2982541784516646,5.004121086283059,0.48783942969456145,-1.49577845215934,-0.03845264215728313,-1.481646364823865,0.9730265366539042,5.788211016020154,0.7812311482297629,-3.630729419788904,-2.2416649009515153,-1.010963977684267,0.4380626504731751,-2.1406239684131094,7.581087413042445,2.110047260846235,5.2078246872243374,-0.6989185392748334,-1.7847508201235036,6.611685914494973,-3.444947955146678,-1.818172941930471,-0.16327029805335716,-1.8194877042808455,-2.1457867177934555,-0.5369388058751917,-0.3868839905606671,1.2238845796868367,-2.0003497669297228,-1.2951896828551623,-1.0802669401922433,3.56397237904451,-2.9736699545326024,-1.163785276247648,-0.21029908413753812,-1.9920044947848716,-0.5789905291718856,-2.7265407237812544,-1.749248403323466,-2.5974006762455937,-1.9701712227753636,6.094226986832811,-1.1687511046036188,3.804158412125696,-2.724719294806953,-2.5312297368225165,-2.701605327262804,-3.63116414182946,-1.182852973440089,-2.485480346884161,-0.09644572634882469,5.143596472130006,-0.8894612549048885,9.223243275162938,-1.6705513936782235,-0.8917199174828307,-1.3250139365121691,1.5387408071016937,3.305945322664975,-0.2954357923471088,-2.748599753064689,-3.13058135175765,2.0102651279181534,-2.0766360813745326,-2.199542889748142,-3.1931139387772514,6.096561991099215,-2.7204465356862992,-1.5983135476991237,-2.153639497061522,-1.7969051513860166,6.999691899256029,6.737243073032263,-1.2721179901837425,-2.081058035198809,-2.7900605534585594,-1.6295242293870362,-1.6985408316663015,-0.037526805013792505,6.224562026110663,-1.8794748388985485,10.195493034619266,-3.5765385257936604,-0.5051293938910932,-1.696730571290107,-2.214517452197793,-2.911804925570848,5.499139007486269,-2.8571793095350486,4.290976792054014,11.749422691133788,-0.05314133025804445,-2.053895487516275,-3.2366207067711175,0.43597817953420137,-3.242185575639717,-2.5635527240987206,-1.8374337118305586,-2.339131677066585,-0.42717563323772517,-3.3005998612346605,-1.2017910226591961,-2.412306011975372,1.2047437257367586,-1.3808001449199145,5.897218573075579,-2.53437283681537,-2.589850224805235,-1.5615438366227994,10.221172071086617,-1.3155850813575454,-1.9915697727443142,-0.7503267254077213,0.503083001401088,-1.4165099291555983,-2.1619510596785125,-3.6043650414639807,-1.917832950518626,5.375634554754347,5.931037587006831,3.4859992895874043,6.002395559906277,3.416678238812258,-0.5582082111633639,6.875075557013821,4.332137878812185,5.021355042805674,-2.001725877634762,6.266735044761805,4.600769937471921,-1.9448055013214505,-1.546126911969391,3.522986357467402,-1.6377249828361986,-0.7705288839722922,-2.20075448956785,-2.189183895267726,-1.9505610120751968,-3.6632896592929236,-1.2847222938351108,3.491474708975752,-0.6399939214458908,0.09074842737725823,5.606249525373951,0.17587438954069243,-1.2465527680332529,-1.5653954892628446,-1.993617983954124,-2.0992122760201326,-0.6693087180130483,1.4517514771536173,-1.468658458252375,-1.3740234838183476,7.462120008735044,4.415198736985142,-0.08532947635955795,-0.29877338381522933,-3.346927840429859,4.187291850851273,-1.0712843284885496,6.237479547285008,-0.27800769555944055,-2.0174264976284886,-0.8933571325609149,-2.363679693382168,-0.692990700535788,-1.7284749693094674,-1.6718892860776344,-2.281583169942681,-2.946640938360026,-1.918760246176551,0.9644820824621294,-3.032438371499278,5.525543374478281,4.752372518384277,-1.9884598240921287,2.8913089680227815,-2.4684826366671095,3.0534667807962714,-0.0036378773830077716,1.98998042854151,5.5650320455534,-2.3147723582418944,-2.347325815314132,-0.5525032853054116,-1.6946586341714667,-2.669813587405755,-2.0068561052033904,-2.3715936537747333,-1.6744719548205147,-1.9962320294412534,-1.7347570369107115,3.1602246148257698,5.0597451038680665,1.2323302320009775,2.415963337369421,-1.7451304986048313,0.10305916647901871,-1.6965528828732859,0.881541140239179,-3.662714399583765,-1.4424570022452103,2.478358965840916,1.0319617507115502,4.80057471116563,3.1925497194753913,-2.267177252000572,5.9930105498114905,2.107450887486155,-1.2785186743461792,-2.395355643596011,-2.7325509916596995,-0.00982453428945849,-0.9270012485412696,-1.4998479474828783,-0.9526484407650156,-0.6746929756869606,4.603805915857473,6.426281511099167,-3.4443946165449306,-2.635857614926395,-1.181210129977211,-2.522391637340549,-3.016927494665513,-1.9280632180889636,-0.9336487752379731,-1.071892500966452,-1.8592620841052736,-1.5781725702590528,-0.843646937491374,4.568181024472912,-3.6811771673564095,-2.4050868911795864,-0.04924673288540328,-3.0968292154448065,4.441613700205861,-1.4401779051613626,-2.240784860641698,4.065049122138124,-0.11796264726376893,6.261147523290773,-3.1067059604648746,-2.968389303336203,-2.125192112061058,-1.3561288023660516,-1.6728876973334443,7.6330672797639965,-2.278605112873645,-2.3977349536189823,-2.278811412751883,-1.9605647908765909,6.604643261837192,3.6142253164870954,4.529014719635921,7.424138767578713,-3.648183665956852,-3.760672179129097,-2.002415356800018,1.6125869490486884,5.018845288713104,-1.917843546747329,-1.698106109625745,5.103140416058082,-1.886182982454897,-2.872681160327219,-2.003943810343991,-1.963580223083564,-0.6908256389279928,-1.3281443196702614,-1.585836277829081,5.538550609853513,0.6202653297555596,-2.869763798502859,5.2487106630924885,4.991332761148732,-2.905479851601855,-1.2646194230279943,-0.02955693743866973,2.1087093684468243,-1.170061715464099,-3.9287743689794468,-1.10955577298975,-2.4580730740407786,4.748371765963403,-0.5254603601063244,-0.157567489568823,-3.2328706464746286,-2.1370876077434313,-2.028486759694614,-2.652443342194899,-2.530658056233852,-3.5391713375891865,-1.2711956750011955,-2.219221170258465,3.7846324577044257,-1.6964187147911016,-1.25020383403885,-1.8525022880957236,-3.007206111815622,-1.7672050071018846,1.3256186537679329,-0.3842544658599183,-2.434343120151398,-0.8691592885404303,-1.917243597802911,6.629359828855324,-2.0818174280635975,-1.6942239121309088,-1.5307784732041485,-3.0076408338561795,-3.0628930324659143,3.656461253680004,-1.9508434080266994,-2.6929098828228555,-3.1944743862886247,-0.7810204231458413,-2.67772920447501,1.7088803184665848,-1.8597793469579036,0.15578490542820478,-2.4677168158133895,-3.7771166988691323,-2.5808956261354914,-1.6578250631773905,6.160627096663101,-2.4516613329529076,-3.193983382858364,5.415864849076739,-1.9877497987482944,5.670100453864421,-1.287928287186645,-1.7198268667072067,-2.6806134863004587,0.334937246995795,-0.6918989191756235,-1.356118206137348,-1.2678388030741574,-2.1031494746212878,4.337985224372872,1.7459053509324625,-2.9998585097249575,5.9322339784112135,-1.775805854356036,1.2296400904405838,5.931429548294837,1.9983976452697305,-1.862234267174317,1.9200684800466346,-1.116482659556833,0.81577575577572,-2.523995684328085,1.0956169939329485,-0.6912030927620217,-0.6581921745572185,5.860883751269978,5.6859810387740035,-1.8129720691672908,-2.1597668532470253,-1.2726509750201707,0.37827399159046615,-1.9284329261647815,-0.9444323814100613,-1.8721511080585436,-1.2846659007727335,-1.3749035241281653,-1.5466122189057432,2.7740688132745874,4.907794174567466,-2.405886085498779,-2.0280414414253527,0.5785360591865756,-1.0146667826326463,-3.0062894931269852,-1.7572851485169987,-1.7379630302622464,4.5895750798463055,5.2327848537186314,-1.7560770270946782,-1.716820055402594,7.699451432934063,-3.5089744514479113,-2.496615232326906,1.305963891696002,-2.6353560152674294,-3.485604908794461,1.189320434729575,5.587622246715976,0.14530412971352527,-1.8598992629079125,1.602524857973752,-2.54236747436634,-1.6627745988107465,-1.7485051543315908,1.2638100901759302,1.5967853846208182,-0.5997022787688324,-3.040727362254426,-0.9474434165119412,-0.8150477678391694,5.813532431717501,2.6174215507547136,-2.734204431351282,0.9600694319517044,1.8385352406831676,-2.991580115198516,-2.0968016615602836,2.7238573120126452,3.895705898096709,-0.44116523276134806,-1.8927939307727812,-2.0063071637067353,-1.4073848296400522,4.550914304998986,-1.9389865216069808,-2.7182149874171238,-2.48061178187577,-2.7094103904860347,-1.9523514103148867,-3.4593205377680745,-1.5253988696498304,4.285689252171954,-2.0950029716779937,-0.46550335912863133,7.252751245245458,-0.9960897954039042,5.162606733885754,6.305406583067992,-1.9103102832468979,-1.615712563895434,-1.6999351171280899,5.468955641982149,6.969394984155678,-2.791848647112147,-3.3950068742030983,0.2547464088095057,-1.5180462005942053,-1.2416933349901356,2.514977225972337,-0.9226739783923731,1.6939360552565228,5.147969444189784,-2.2321387889232733,-3.310055159236128,-2.7675218456235675,6.179249475586282,-2.9516618462073505,-0.7003142722501737,-0.9488485270677536,-1.8482230144965577,-1.2127780598585665,0.3008811480668929,-2.7698922160945245,4.9173257277678175,-2.583620041488601,-0.5182982521952629,1.1877993725009608,-1.6682303959287932,-0.987990547808718,-1.6269973645872526,-3.363306321243576,-1.7856868483564627,1.844615422261146,-1.4613163854254558,-3.057024997077517,2.5920721220234153,-1.154851853285435,6.0349867494043234,-2.596379134940745,0.4864119928921045,6.704095768648753,7.230901680513337,-0.9234784085087477,6.446483669663736,-0.6449597498018615,-2.6599766056953302,-2.6488697332865363,-1.1257447176204873,-1.7455985559661018,0.34091721563465105,-2.6279576610508046,2.4163980594099796,-1.4401919116783382,4.8539253281607,-1.6874965262604038,6.494675266216385,1.9116532942022506,4.311448295937846,-0.4320208044420644,-0.8839279839397283,-2.3813766403010925,-0.8376476400487802,-0.15713276752826597,8.862130987953163,1.5487686860190666,-2.5230876309843167,-3.1917991764268763,-2.6691293440376795,-1.5318106107377003,8.805017944071437,-0.6637774779317245,-2.283260709750244,-3.4618314459076327,-1.9682898468012835,3.0702669833112646,-2.9728110899303126,3.022603154581749,-2.2401766881637952,-2.499244757027655,5.643856809474105,-2.92570620777287,-1.0068231101467604,-1.3353627089710276,-0.31748724310249804,-2.892400769133722,6.283060947940647,-2.686002238569929,3.8536647710287193,2.2927774244472365,-0.5476158392283434,-0.8037900168548726,-2.5100196306247082,-1.268628239856734,-1.5671985146150753,-1.0516903424018815,-2.5469959350458353,6.11930461584131,0.27716650008330507,-2.8257660103288518,-2.0021711959040234,0.7419537139447056,-0.5475537496720555,-2.952829723640778,-1.1577579657711032,3.775439142543437,-2.1068415161107965,2.7091165915025384,6.999777364476552,-1.029223579150259,-1.5282264223505129,6.567358597694913,-1.3262666093062554,-0.49044070579033233,-1.8185463156163622,-3.356355770402815,-1.4333934199165508,5.962103917229221,-0.9118094015953184,-2.1904041579227678,-2.347679653219303,-3.5098544917577295,-0.2791292179720019,5.660740300235059,-0.19742441020532384,-1.641692399936359,-1.7790160966879298,1.6375166490732271,4.21275686006264,1.2452768505165606,-1.4393541462412498,-1.1411237028711052,6.251166316351223,5.8539989723454555,-3.2972845229787286,-1.5569667995311847,-0.38644926852011086,-1.413880404454849,-2.354629278878396,-3.3643646697925624,-1.2090427472806777,-3.50852913317865,-1.1752561434884703,-2.942887548515851,4.692436709863991,-0.18519023718174216,4.123073077938657,-1.7894353552157227,-1.1582312970743152,0.5374872417412514,3.130250152453126,-2.962489758136004,-0.6260043219222681,-1.604889632442158,-0.436249811795089,-1.1340231121469295,-2.058920633343075,-1.5272901006509902,-0.17364375974747734,-2.3641706968124283,7.420355564374767,-0.33117401216871273,2.9864686721648117,-0.47562135738612304,-0.8781991068154977,-1.659190577653726,1.0452974723385167,4.078117521887971,-1.3818531497872575,-1.9784602135305096,-1.1753986313003224,-2.9127463142353305,-1.42490595342641,-1.6280056308701443,-1.6157733398806973,7.051293031860165,3.564592762494834,2.009984111371085,-2.990340963041585,-2.1203446546510802,0.23879779223452463,2.0010165737417744,0.408570906690819,-2.3240590190512282,-1.6814824429544508,-1.6472849883723468,-1.816938672758454,-1.7513385151988567,-1.8820243563007601,-3.1479628630570766,-2.2403501386011415,3.5472745496933236,-2.154244345740735,-2.5971791679520257,-1.5722757038521042,-1.3130341845508988,3.147200520832488,2.4052693479077507,5.404460213175494,-1.9898689912150431,-2.260378846728366,-3.8105569786829707,-0.32049414089669054,-1.7459349287212063,-0.9566675968079594,-2.0850937093218125,-0.6092436967028663,-0.8020405324639416,-0.40352624483407606,-1.609305778099851,-1.595510405330864,-3.25142303095769,0.5414444677519423,-3.0653226339181163,9.21174853667146,3.754902474877431,-2.7728406034529223,0.4383330707915379,5.186449607842414,-1.2660787224545225,-1.1979353889920628,2.214950442253392,0.983630750279536,-2.242969067073186,2.015342317155182,-2.636751661753188,-2.485045624843603,3.4526675501484876,-0.9328300832828204,-1.289658442773839,-2.1212246949608975,1.3530259266113152,-0.6102317573451721,2.265643814980323,2.0805265788482603,4.723432959156681,6.026669659125645,-2.6201196850588295,-0.7026825253477116,-2.8687662956788373,-1.88417541139158,-1.3460903272199742,7.75074681067234,-2.7371689426000727,5.780300465915859,-2.4381968036752797,-1.000341455359358,-2.2549839928257485,-1.293701470067442,-2.633282601253889,-2.803803771144647,7.928487842560506,-2.2980087834309497,-1.069941297782421,5.9905386734865615,-1.207269391639086,-1.5833591908900584,-1.3927978146234339,-2.9670957334432364,0.01851000902875801,4.184220025581922,-2.347721928092033,-2.062400370811664,0.9286594565441971,-1.486863616799242,-2.5498186996843986,8.057055309180262,-1.3636553825557505,-1.6377143866074946,-2.3331551187160002,-1.9429523937031248,0.21816091162939655,-2.2578097070558534,6.123270487937452,-1.3710787620700238,-1.9193317595350496,-0.9662336174876727,-2.953275041910038,-2.683819479651993,1.0043404506121822,-1.0748762545294002,5.7735117316906885,-2.4264994476655137,-3.192976980229142,6.055457185730748,-2.075804124104027,0.11720201727336438,7.059811840931945,-0.19766589230806783,1.3466289080589515,-2.5891740206619343,8.845370362733757,5.729466699169458,-0.5148411673291022,-0.8205419094992406,-1.7012498794784647,-1.6653516433670892,1.3706246107343678,-2.5421882409455026,-1.325831887265699,0.9461103789134554,1.8510929339918667,-2.6300633076973066,-2.7168193409313623,-2.7910669560877817,-0.3373776316576441,7.45420945863075,5.813642482933825,-2.2251957784657987,-2.064262043774856,2.145685672867951,0.33583129382258875,6.041491056794154,3.4659200830539656,-1.5688859094497185,-3.471667048213621,-1.5146950154544758,-2.033814735978822,-2.766325699834386,-1.529332951429276,-1.381692258353336,-1.2363321098747961,1.030098433219868,-1.5610422369638333,-1.8637874939267771,-1.273611985954954,2.3911855892267893,0.06428612231885161,3.0860579702943167,-1.8970872360720132,-1.499609483080794,0.08960753801619864,-2.27404599352428,-2.240611410204353,-1.8218934190059,8.401554120808218,3.4424030721132852,-1.996666751481811,-2.750606676218591,3.324264535068359,8.460287841430208,0.12080345523563195,6.156896261930889,-1.9773869332828788,4.792664161061334,3.1044871092796837,1.5140178928352137,4.397996961736254,-2.875656267804714,-1.6008991576003344,5.068634043567633,-2.75093678821493,5.700770671308908,5.4680620810351765,1.1859069144183567,-0.34697557659658235,-2.6968259015182245,2.163808315785836,-0.5799454384735235,-0.45036154536524386,6.3247287013227425,-2.726360758865396,2.389570946010548,-0.8011604921541239,5.586307484365603,0.649440722443351,-2.8422147790492476,-3.621693850494194,11.46524847929048,0.31832758684147683,-3.0263547796330306,0.4882741517351179,5.627501739214321,-1.0730886467556335,-0.8284839312705788,0.6472565160118632,-1.7769399105889303,-1.6216029158238703,-0.3461576258430522,-2.387077249069569,-0.9051013445285507,2.2808738660496948,-1.1479943080484827,-1.8166127845593822,-2.354483841475001,-1.7224126438385834,-1.5076353385790588,-1.3648087675923826,-2.17679169966118,-1.3299500854508968,-2.524141121731481,-1.9252278944469783,-0.8514282748057723,4.940141931819516,-1.2877244510201282,-1.9368432122743724,-1.9601194726073294,-2.5474306570863927,-1.8953048389123375,-1.3858803702380664,-1.5760533777923036,-1.305935643091024,9.483052226072452,-1.9733305441490747,-1.4471415373374306,-3.1879560723818186,-2.8553156056880185,-1.407295212929633,-0.7329247596198692,5.286513050784129,-2.598552745143529,-1.2055849212128937,-1.4156298888457806,-2.4755148031382754,2.2383642906634074,-1.586072524134643,3.9484625996713887,-2.6432950009576435,-2.872421336237559,-0.5165961096420205,6.060190909564446,0.5272616282905062,-1.7734405508500402,5.62418795439562,1.4731633021445245,-2.1747704155474508,-1.478511732685414,-1.2000029290056098,2.076696120296208,-2.433028357801024,-3.026624274769724,-1.3484220884282736,-0.48014211308803245,-3.124256277788655,-3.311369921586501,-2.070813693002377,-2.240703976506313,-2.353255199057192,-1.6876387206056935,-2.05075450812948,-1.8462824075412307,-3.2079212434392033,-3.6295843621880706,-1.3189245364793363,-2.6466715203380735,-2.396061079421494,-2.9547830441982263,-2.1193017601326205,-0.6025356396360986,0.3271075810268849,-2.3902315034783204,5.747908777114392,-2.299790449095607,-1.9644602633933819,0.5411502833799865,6.0838255502494984,-1.9288590021198861,-3.6662696497553315,-1.0606072951353978,-1.9792965062709549,-3.311004610615778,-2.375310465240089,-0.8414521348311824,-1.4020467430069603,-1.6347004994045373,-1.9495286456763257,-2.0157450449029564,2.565920312440044,3.8453194988838684,3.6916287562393726,4.10275669991799,5.363435415105568,-2.9465609310614886,-2.088904950742799,5.593660153421226,-1.2733507143517433,-2.6196849630182726,-2.2003183200137424,-2.797530852258554,0.8477538049519521,-3.7541432689935856,-1.8160692286773406,1.7214802866480132,-2.4733200004780826,-1.9881815963804008,-1.2836490135874807,-1.612567346529162,-2.1989293949834767,7.098615184331703,4.715636142628664,-1.5117211266252117,-1.6359754984452672,8.896989572604182,-0.11708260695395135,0.3198157996291974,6.090889395364687,-1.1268179978681174,-0.9732912634792533,5.243624741280426,0.6886028034830736,3.8549795333790944,-0.7542635976530915,2.0312134598830505,5.472272862272215,-0.77248220452974,-1.440668908591624,-1.4093048148767866,-1.1572090242744477,-3.8840991580139055,-2.7657723612326386,3.2905966550344115,-2.614445789935487,11.352273505134896,-0.7399586241451243,-3.2689740797764935,-1.331638891347029,-1.721131032828877,1.6544651537989183,-3.179270968848771,-0.8502321290165902,-2.6558194454352106,6.098666190232165,6.442912756298504,-2.1207793766916363,-1.3357411496218796,-1.0457999904734447,-1.3309605698303115,-1.1507660652392815,4.309164448936635,8.820671953722496,9.458406785653086,-2.9671742932282243,0.18559577239058356,5.910835428442261,-0.5791274877199935,-1.094166191510428,-0.751754162210178,4.354075428761129,-2.231570144415733,-0.5307323484673904,-2.4666315599326203,-2.0271719973442393,-0.8121246927710203,-1.9820253187291574,6.412342496471338,-1.2484543496479183,-3.752908513941748,6.386598040900011,-1.9737469242027157,-1.8387484741809335,0.4809506665103134,-0.11839736930432562,-2.1336180613643116,1.9302347760265508,4.505638246363842,-1.546660921767402,5.902228884694199,5.4423985960888155,5.982812170048314,0.5035267746663323,-1.8919244866916685,-2.501238066252194,5.3449923503438095,-0.33295567783336866,2.430607787822734,-0.11817667451975525,-1.6083418363574127,-1.0185585895393634,6.446421580107447,-2.231500230716201,-1.7291830360768383,4.914119248536459,-0.1256211190366158,-1.8307680103771058,-1.6119353028005996,-2.7657391124015054,-0.9411593987674449,-0.08953837556246158,-1.2727425418738412,-1.9114212094307548,4.5214625498837195,-2.0402066875662244,-1.2680668368471193,-1.3533258272279571,-1.3771623539362736,-2.4134753369223523,-0.649653955941117,2.070521439022896,-2.7503405913701675,-2.942018104434738,0.47905943550915325,0.43953515868983045,-0.8120166724385321,-1.441103630632181,-0.24673752917053463,-2.0530154472064575,-2.535177266931745,-2.3078087260658258,-0.8112552486899066,5.72715272176088,6.675496598996548,-1.3344932648899146,-0.6395591994053343,10.356737246404778,-2.002066099979986,-2.4093357790495804,-1.0751605838742748,5.095342540405871,5.7132534704426945,-0.7293572009854155,2.396862727408236,0.4157273181079712,-2.9090945167347146,-1.044353336539922,-2.13661997293413,5.913831643518168,-0.6497435726515356,-1.1655347606385795,-1.5294637108537739,-1.3281575946922166,5.8421698054931275,5.103687812550721,-1.2132916351506713,-1.4867724550848065,-1.38437806444379,-2.916962791966279,6.342430142837228,-2.453817564495205,6.858180090619726,-1.104912151746289,3.742065421698354,-1.7642745374857352,-0.9401020751800412,-2.0704035737075,-2.6570203792865135,-3.066295701226624,-0.5100043061478282,-1.8643224289064573,-1.4554868094822822,-2.4273688917466276,-2.2044988533704277,-1.5471429856456484,3.6309769156649003,-0.7218919691503816,-1.3012230949648533,-2.7044563602571197,-2.346748860783525,-2.4894477639843213,-1.3917764186604142,5.966798123368473,-1.0915472630383831,-0.32820085483446865,-2.1775671299267807,-0.6503485020713328,-2.6225689087813326,-2.018628990666015,-3.3375761656557863,-0.4418037909684227,3.7059521333694083,-1.4763169300252217,-0.5643764644477456,-1.7611962842274536,-0.9558544341165508,-2.605159129126153,1.6785591192702056,-1.8956821255162006,-2.3008723754286904,-0.849623956538688,8.469947875925435,4.843795691300186,-0.7302372412952338,10.248436211112711,-1.7502546387225222,-0.662390882670653,6.0579504217432545,-2.3149005842149677,-1.3785382974111466,-2.821143176403564,-0.2353767131460375,-1.972432161852341,4.099602738975799,-0.8117005669591676,-1.0450945546479615,7.105957257158623,-3.161862114375261,0.7093715756713489,4.521739205777755,-2.7104186567689266,-0.5066539345170953,-1.6688019092872917,-1.999915044889166,-0.14250460979756896,1.7575172332884939,3.370084174768636,-2.436082008313626,-1.4527155381713042,-1.5351292785413169,-1.6762671411223258,-2.646765534153586,0.6498860407126125,-0.004746191005441408,-2.8171001491099608,-2.437157152214927,-1.30301118861844,-1.8525408973583788,-1.1347845358955546,-1.7896069236189343,11.343493510949484,5.964563332041194,-0.9739404179150313,-1.6362367700484786,0.05230607689101876,0.31699448250418694,-1.1725652704330563,-2.330013005539969,3.217395499283421,-0.10391095818385845,1.862993640288331,-2.2013732582744576,-1.8340542680416783,-1.9036444145632787,4.518522616197517,-2.511546036534966,-2.225097515669927,4.106655527165557,-0.4507589666092465,-2.7037895336942914,-1.6473470779286354,6.547792879963997,-2.229504537795558,-2.7672240821311207,4.4023477024721815,-1.637465325976706,3.0203379775252954,-2.8818149924177985,-1.7905568776282845,-0.9135588859862498,-0.5135650142413831,-1.2567088729236997,-2.8883967736547436,-2.58673863622624,-2.3459724437011014,-2.427062395679144,6.074165515754274,0.63979128417683,-0.9640765472532883,-2.9355957671181643,-3.686547516003812,5.909520666091888,-3.002501309447663,-2.2238225166291965,-2.8362446654374733,5.994518066219858,-2.457691954596675,5.8075848732176905,-2.0349019362538465,-1.5369395389175118,1.3865471770501174,5.840794267157489,-1.3299176753118525,-1.0360029974301104,6.440654093720563,-0.5538566569184413,-2.373244875369793,0.5845447820610059,3.7117076441231576,-2.629763426831442,-2.554338007872755,-2.2328743105374027,4.170948569011942,-1.958308639861734,2.350893946549731,-3.5102892137982864,0.6240706038843448,-2.0404665116558838,-0.12498256082954176,0.6567933914989749,3.240883510373329,-1.1984280490990127,-1.8166550846152023,-3.93008913132982,-3.0241599769728364,5.457967324499394,-1.0451614322663705,-1.2705477392136484,-1.6362353225349267,-1.6972980138992961,-2.565747526758913,-0.890089049653092,-1.7287483140362818,2.2934189322458525,-0.8436363412626701,-3.725685287764416,-0.2051602912240418,-0.40962043292903044,-0.557204844615266,-0.9952766327124959,-3.1498872453989044,-1.8002782604781749,0.9033801087425981,-2.242534345032629,-0.028197869331729023,9.207054330532202,-1.7592384690744467,-2.84734370722906,-0.44851184803518995,-1.2298817595242695,-1.0052482302401635,-2.1595828065809743,-0.7304970653848929,-1.1021380899693876,3.846372989631032,-1.1223595773376953,-1.8073512123755475,-1.518368653321916,-1.8509274081891258,1.9199985663471018,-1.2667655228265269,-1.1154291688096687,-2.4755042069095703,-2.454049375550914,-0.9339410094666774,3.5014694365524575,2.467366735440188,0.7039258008105499,-3.325753100436603,6.364585621959243,-1.4997337280267797,5.629228651743411,-3.001305163658481,5.947628102337457,2.301945468695379,3.4437178344636594,-0.4669096883326759,-4.002365753801741,-0.8805919374756244,5.324800788007941,-2.2031946872487573,2.3426718334129926,-0.03737936190965241,2.5018288021740727,11.05982114438034,-1.6605797961505548,-2.3619210602760843,-1.2474328083430701,-1.0407776351125686,0.31745814276036316,-3.3558130280297696,-3.3945721521625423,6.9702750244654945,5.789080460101266,-1.246118045992696,6.057939825514551,7.7652331101201355,-0.23898501839908382,2.1581579732634992,-0.5072013310097343,7.7417628686477435,-1.7445257615982905,2.5756416952899346,-2.322682908346189,-1.2363271545825079,-0.1011396868728801,0.9640473604215719,-0.5372329902471475,-2.1336743427540172,9.482429960587988,2.43605282148191,-1.7551407053951549,-3.0801389646216664,-1.1957040267369405,-1.3760327922989382,-1.930262808811278,3.774396248024977,-1.1967348460977874,-0.9414168375304153,3.605492577649795,-0.6908150426992893,-1.927791418366166,-0.13760681310699627,5.364064947271043,-0.7744963010724519,-2.1775035634755935,-0.13585732871606487,-2.20912748128009,1.6550097598256333,-1.8400526403026036,-2.623873074903004,-1.2031375611440607,-3.035664093044792,-1.046816902841789,-2.102900246760332,-1.2628699386370634,-3.451420583892485,6.534097464812328,-2.1927865040268615,3.3714798212543946,-1.2785906189295486,-0.7866842863053334,1.829755246497759,4.190144006297635,2.113506466318454,-3.206423820629842,-2.6855781127580753,1.0939635542413666,0.4470003905248642,4.21275116356873,-1.4329481016472905,-3.030888094338363,-0.9496522256891085,6.55075787709261,-2.4322832267750134,10.617047796973255,-0.2064458864934763,-1.7843863478448665,-1.558763532871021,-1.9391657550278176,-1.130140914652094,4.506395421132107,-3.054551003379167,7.388286328301007,-0.4490757828656434,0.08529842424358663,4.763223002174773,-2.2781317815704316,6.518320503130139,-0.7604341274365088,5.389984007326705,-1.3354813255322204,-2.361484890721975,-2.1856859133026862,-1.4378749846782166,-1.8690414050215578,6.485460549990419,-1.2128569131101152,-2.9364811678595037,-0.023762394870298655,5.678184708125808,-2.198873113593771,4.479895009440745,-1.596118577808766,-2.430420008807805,-1.919090277432306,-2.7112653617580302,-3.210801859654578,9.005596117146911,-2.082247814634214,-1.5901719444906242,-2.8960419704056335,-0.7032646904924084,2.382963476090052,2.112676785546985,-1.0442251105668479,-2.5593038362287275,-1.8779851785972759,-1.7751341280584136,-1.9645972219414891,-2.209629080939056,-2.1699316907125064,-1.507393856476315,2.614297109705732,6.008863121687126,-2.161516337637956,4.592259438423207,-1.34345322399118,-1.1154522265513327,-1.075138012012431,-2.1060300100960765,-3.2451312058198294,1.5551789795933855,-2.2556698063809315,5.484059834992401,-1.4771849947019005,-0.7321905618526814,4.672842723777324,-2.3211946955584692,-0.36956577775915755,-1.3081304457512157,-1.7088520698616068,-0.6024733044646114,5.134629325457722,-1.7748071974850261,-2.684252754178999,2.1267509348160667,2.4232551187671105,-2.3381167955820765,-2.0105164680488747,-2.4352794418509216,-0.12586260113935957,2.763828452105246,-2.621462460443155,-1.0113986997248232,-1.275715699208085,-1.347348808180644,-2.5975192928067856,5.241548555181426,-0.4644933773789167,-2.111292860742873,-1.611959174051259,1.901062467271246,10.880963323247094,2.018532926215891,-2.8159040033207785,-1.046178431124296,-2.3962356839058283,5.337972436778036,-1.4989116257833557,6.719238507593811,0.8873368949818184,1.643412697495574,-1.9826971257673645,-1.2216144471063524,-0.7386438617947496,-1.5552187626538043,-1.4055351323099976,-0.5292137499504987,-0.6417540020655262,-0.9728565414386962,5.715258920899955,-3.0725367742385243,-1.3365652020085552,-1.555392213091151,1.6579399107921289,-3.17106623437252,-1.600464435559778,-2.245632318051676,-1.0928620253887575,-0.4883687686716915,-1.1927674289976269,-1.9587433619022903,-1.5470469409462992,-2.5399711217452694,-2.580881533128934,6.101560327084695,-2.0301119310304423,-1.5575870157513425,1.177155674468523,-0.5533833256152295,6.328988185421441,6.817888447942668,-3.7457979968487334,3.9661944269150426,-1.0525703827116992,-2.4350379597481777,-2.644136009452837,-1.3819144981419225,-0.9008783523190906,2.3756716946923637,-1.6293903069200508,-2.601845821754059,-2.2570601789247484,-0.7401518640829372,-2.976683193826144,-2.789752193737407,5.691178961945639,-0.6262458040250115,-3.0232095622667576,-0.6798995449440522,-2.252156440125065,-0.43349167476591943,8.698690496612556,-2.651804783987825,8.68681824265189,-2.0458888927126315,-0.441369068927866,-0.7259777571965347,1.6671562836947815,-1.6334753537645812,-3.07122201188815,-1.0840820312033494,-1.3523648162931736,5.660480476145399,-1.874227539772743,5.556241860278525,4.321499710043491,6.5113462747253665,0.3129433291675643,2.321154912498049,-2.654737432612546,-2.1100517584426903,-2.422414861517713,-3.11389110093451,4.376863364457076,0.660556972432618,-3.0170311178929077,-2.4303531311893947,1.0450653678162458,-1.376534391957904,1.577414563504406,-1.5063205762286849,5.161416284590483,-2.1240143082587912,4.901178890779644,-1.5596907290044735,-1.352891105187401,-2.015739348409045,-1.2062717215848984,-2.2850439204189157,-1.683337414226447,0.5032349532829933,-1.4713168094960716,6.337747912331111,-1.2753653832638563,-1.2938749205047881,-4.238523021428103,-2.437695497482878,-3.0318104095209093,1.2430820478563682,5.161845310137127,-0.1278159216968082,-1.3725669748577443,-1.5939635384582176,-2.297974087086266,-0.6093623132640584,6.219541118263339,-2.001229807239541,0.38705398577587435,-2.7488325890819785,-0.869068940334992,-3.164547920465712,-2.806877166601104,11.571433160034667,-1.8481001489550062,-3.017437826899513,6.462274637862903,11.4979942129741,1.6675273711750342,-1.7741827322845087,-1.4192646621287623,-1.013582906156311,-2.2415462843903238,-3.4048752227105203,-0.26337953782874346,-1.360085623237508,-1.2378959328559587,-1.0789627740705732,-1.8415712388194954,-2.1108475424736124,-1.5991828245500714,-1.1023419261359049,-1.9258380978087177,-3.1508549690257683,-0.6692196736720306,-1.8069950501199767,1.34625553437306,2.515558331992837,-3.251032153976971,0.5688574370892343,-0.6071395970943878,-0.3846891879004753,-1.2544633181375473,-2.5169360074526685,-3.2052742851833287,-1.719370952209242,-3.2371223064300834,-2.1491356848366627,3.0911772274270937,-0.5186842713741598,-1.0685879261693914,-3.6086500367401477,-1.7786893949798617,6.418081969824271,5.4667473186848,-1.36836401776395,5.544124856302583,-1.7387244540108717,-2.3544546743940606,-2.2953985010443585,4.411406401815926,-1.165100038598023,-1.6767018631628818,-1.7739951888406058,-0.18432079310062824,-0.9160081097087538,-2.255353700901567,-2.5318802706627284,3.386536186547137,-2.695578016786259,-1.1674080738974908,6.188270951874433,-2.1756398596285633,-2.079279612592257,0.09113580758012572,-1.6824573739166295,1.0158854805328956,-0.7306719633357903,-0.851546891366965,-0.05533613291823614,-3.78358932761494,1.1543952659267074,-1.912816855916514,-1.6027541288723306,-2.3634198692925072,1.7995583603564835,2.593327585283426,-3.32879617147038,1.1734735593478522,-0.5769326850598017,-1.414315126495406,-2.5019388731411745,-2.0387184747785043,-1.9250766740600918,4.19881330298789,-1.635569943485651,0.09379556341134859,-2.067033800965655,5.247648439770291,-0.2802024982196328,-2.5511807173828807,5.11102988537764,-1.5761762433338553,-1.1940821913480004,-1.2559593447925959,-1.5037590664434544,-3.889064077938087,-1.586952564444461,-1.4968234640512166,-0.9303806923301505,-0.5561260829552539,-1.7521279519814335,-2.66735525690107,-2.7665012676451495,-1.45802573065579,3.621271084336001,5.838609097399571,-1.2960591269362756,-1.1331536680658156,5.534593788982055,-0.465808139729291,-2.6617541031202143,-1.7566769760390966,-2.601041391637684,6.178776144283071,-1.552981685120884,-0.9002021481757904,6.340416046294515,1.919936476790814,5.529884165264335,6.103688545593042,-1.0696988523532487,3.1808963757556254,5.1572118799831355,-2.300670489405423,-2.6392202950200145,-1.6451113614196842,-2.6605847781732335,-1.579416351352487,-1.2326527852200482,-0.4634711045790489,-0.40884548854325,3.66990799915791,-1.936408490233816,-3.1883907944223764,-2.210427083066501,-1.939004863593897,3.5300274634905833,-2.7232416782479367,-1.577925727724786,-2.742241343774981,-2.1610816155973986,5.515001250408937,-0.9821432022480302,-0.9316954546805248,-0.3828878192249325,-0.47323476230166955,-0.4590705104423487,-0.8748364267218779,10.782965780392116,-2.4431231143368075,1.2822819091732618,-1.670692894673253,-2.7845943273419755,-2.542400723197473,-2.0393266472564067,1.493611898104126,-3.1560374214170013,8.4195720729413,-1.0054520664066813,-1.084516753243906,-0.48804206696362296,-1.2460240321771836,-3.2244780324920876,-0.2069491983866241,5.881520631875101,-2.3224188543816027,5.90641699657893,-1.700871438827613,1.5990364854205945,-1.3011089729992193,-0.604668107124803,-1.6403776375859844,-1.6146110152920492,4.455560293361734,-2.232884906766108,-0.8354248243546373,-1.0780441244981003,-2.0391531968190613,-0.9216006981447423,6.65584183692462,-1.3506153319022427,-2.3399168648688025,-3.5173757115159034,1.7598276348092197,3.7738091998953665,-0.6751382939562217,1.5964432288822221,-1.8418358509712756,-2.5719561015401324,-1.8290941361796176,-3.4712217299443595,1.5720828241196583,-1.3135917721330075,-1.707778789613976,5.668477331792891,-1.4339091125820735,-2.282272649107938,4.679699783134455,6.146243917813003,-1.3773369584206083,-2.32187481261974,4.748145277194457,-0.9719870973575826,5.626164405002105,-0.7087824099365767,-0.24869084972798294,-1.353760549268515,-2.583146710185388,-1.2744239945993743,-1.5360700948363983,6.8068953091101525,4.761152512569685,-1.1843522431532425,-2.600464922986899,-3.468058257080754,-1.1300085371891253,-2.242099622992073,-0.5278989876001241,-1.2787698523503865,-1.9338900035662139,-2.1523016214119908,-0.8511121693264083,-1.9612542700418463,-2.0790101174555624,-2.0645845772431506,-0.4705489562112158,2.903028895894393,-0.6856063528361391,-0.3844959479626624,-1.70909355196435,-0.5699507108968181,-0.8715177589182603,4.250158860482728,-2.60559385116671,-0.8845771383755066,-2.282205771489529,-1.8396179182620473,-1.521209919073011,-1.8445039849346798,7.187855304863112,-1.2773181314519035,-0.2379575349851263,-3.242000081460116,-1.4353973253697943,-2.1031040829268504,-0.7342046583953935,-2.3499398608012623,-0.6742582536464042,-1.7187429902308722,4.55462035300547,-0.2567943463035275,-1.721097881488209,-2.5029981468718288,-3.67854764265566,-2.435223160461217,-1.5881487102336433,-1.216870127043948,-1.2697386801607713,-2.2091943588984995,-1.8611016878363236,-0.9942929691752839,-2.61247863009123,-2.0814397189077654,8.359912835456054,-1.2452486019115825,4.575826962425426,0.015547447923218332,-1.29006075467535,2.160868382099633,-2.6601641491392334,-2.7380489829098904,-2.1005878143557704,-1.2342929498896746,2.463546761444168,-0.11903592751139974,3.753383962850121,3.388041510042073,8.8918302586952,5.708497174747152,-0.28614913153777505,-2.0347510576783443,-1.8471550946804494,1.743156626300237,-1.2078360052627908,-1.5095886591365066,11.876064859936651,-1.4467068152968734,-0.5626163838281106,-1.9579699625205262,6.854477285671347,-0.32600605217427664,-1.4815991094757568,6.64706184273921,7.066980376831936,-2.6011691401641497,-0.819551985203265,-1.4371362135320207,-2.9770461385134968,-2.4877031625783035,-1.5601254510450302,-2.652306383646791,-2.363002986609168,-0.6305131019910373,-1.7923294920682526,-2.249419123957149,-1.1576437463150044,-2.1297629135769993,-0.015145323002648528,-2.6705284008117114,-3.648941679417206,5.757814293119916,-0.4385357080605998,-3.036098815085349,-1.9665081811366272,0.09001952096474587,-2.684862374170452,-1.7612525656171594,1.468618675191955,4.074548265199428,-2.846039541107389,-1.871129566753697,-2.059850853409452,-1.6844666823972196,-0.9369670379023551,-2.121484519050557,-0.6487739156312989,-0.3460955362867646,-2.7232310820192334,-0.9838439837773013,-2.024519342594453,-1.1518676138426658,-0.9426885935130408,-2.385280422840949,-2.266202321038394,-2.5473743756966885,-2.5990789475481746,-0.2464960470677907,-1.5044694020037304,-3.2426202976802743,-2.426452105827824,-1.7467094821499591,-1.6487789841435598,-2.7893174716968514,-1.5989519386760314,-0.26557434048893597,-0.7473139719939993,-3.047676987913519,-2.232439588496846,-2.9853963103931433,-2.086569946476394,-1.8814281594559963,5.426455676007745,-0.20556584618365828,-2.39093093259345,-1.9994697266199049,-0.8972333879466402,2.293600196550527,-0.21417094241816956,-1.755575427435712,-1.9971014735223669,2.31763281366715,0.9241904397850706,-3.107372787027703,0.8018272989661756,-1.2757267813166095,1.192988917540418,-0.6831189249902152,-1.3964204450431101,-1.0729657812140827,-0.8612682742168557,-1.9037813731113868,-0.40790409987876763,-1.0631125067810436,-1.1949622316578183,-2.4823612662667034,-1.982262403726808,-1.0543812154572956,7.114646089629595,-1.785453526459352,-1.9215053697378333,-2.7363043815038743,-0.8595187898259242,-2.3124479502041932,-1.8202852037785902,-2.66459943962062,-1.3517789603553119,-0.5594106360917743,-1.8068206745009618,3.1334448432640283,-1.9988615541420018,-0.3793672653980498,-2.8929074357576474,-1.3591493015379852,-2.2839098641860214,5.481375476415499,5.897207976846874,-1.6688979539866409,-1.9306734139859751,-1.8722134432300317,-3.87326871263383,-2.3408811614575162,-2.191402814793778,6.576573313920876,-2.8399593595294097,-1.2548980401781042,-3.41917644986783,6.776727361184497,-2.1506538782143196,-2.073902542489362,4.281208067366433,0.08349556612152187,-3.197020493402567,-1.753470982687561,-0.16697653003988772,-2.2676119740411282,-2.2457692765997845,-1.040245717833549,-2.5262453208644313,-1.1573126475018423,-2.340962132082482,4.913539089092509,-1.8751355931165123,-3.52673798251868,-3.0364772557362,-1.548807021565935,1.4522898224215677,-2.7524264485162013,-3.3251145422295285,-0.3676124572017093,-1.9594379080325064,1.1201930232824815,-1.6594453347784255,-2.2290649327700867,6.193872566352018,5.15581311667567,-3.7456610383006255,-1.878798634755248,6.684266108625926,2.072819864910483,5.71231714874317,-1.2947549608146056,3.4489425784775003,-1.9493832082729303,-1.6805661429154695,-0.9320115601598888,-2.716143136788063,-1.2558394288425863,6.429882949061434,1.5547442575528279,-3.3816934788227755,-3.7234447831933446,-3.2654082333762204,-2.8330097338703184,-1.8448200904140444,-2.0813677743243963,4.966052259300144,-2.1133993644619276,-2.633627706584027,1.504921793170441,9.200178700322835,-1.4714294839481543,-1.5351900545265806,-1.579770102768078,2.45616241374452,6.008475741484255,-2.5650593469824723,-2.273165953214462,-1.56580958958481,1.7353617541664759,7.985422225390795,-1.2146063975010457,-2.3758483246282194,1.345820812332503,-0.7893656952906931,-3.244843113374416,1.276968051078702,4.625899305423203,-0.6516072764985654,-1.1066722323659246,-1.4800911071875693,-0.40766261777602386,-1.2613480970620667,-0.6886308362678007,-1.2058264033156378,5.714591362842107,4.906654310167989,-0.7709636060128481,2.225352172303266,-0.3872672192736405,-1.4358320474103505,-1.4360252873481636,2.1443341649085923,6.301004443927275,-1.7710495586604933,-0.8432825033574981,-1.921719802133055,2.427245107729112,-2.5109470127722164,-1.644175039720161,-3.080990736575731,-0.6989291355035374,-1.4927656987456177,-2.0813783705531006,-2.1527363434525473,-0.1985459326178856,-1.315460431272324,-1.501201319095908,-2.431222575270509,-0.6605287238276402,-2.1197350346596253,6.316134201316937,6.045912438249029,-1.6599292623103417,-2.7774654682620454,3.522116913386288,-1.3977246111647805,-1.3112741039312636,-3.403668251827314,9.566454779287271,7.15484974708983,-1.6425618440174719,-1.2345670739628716,0.19472105588617508,1.6919968277056319,-2.444933947082403,9.105399442532402,-2.2246627936293697,-1.6685604271845484,-1.2755349207832312,7.00881718275162,-0.5600491942988486,4.400422650270486,-2.1471331587878546,-1.235253874334877,0.46056699802587037,-2.1122032186727457,8.234542422635819,-3.0164391700285034,-2.653635239003723,0.044325445857025435,-0.567755908236626,3.605057855609239,1.2423827136640309,-0.9970261171034269,-2.94350631722246,-2.872246438286662,-2.902590209344883,-2.285923960728734,-1.7462192580660811,-2.1706088581822347,-2.645016049762655,5.0868375706209,-1.417440721591376,-3.0424012364519135,-1.3564449078454164,8.185896775238872,-1.9596234022121077,-1.057552848526534,5.732254600233166,-1.9007604688002186,-2.119909932610523,-0.726394807110042,-1.1318389057154417,5.134939636952713,-2.202242702355571,-3.1841969860437342,-3.139868012566983,-1.2217069882252216,-1.79740189324316,-2.164168992387741,0.15797896688677357,-1.21473462347412,0.07168447653547644,-2.1469408821764717,-1.2493343899577358,-0.6852513924789201,4.138200885185069,0.03877377126979582,-0.9492069074198475,-2.1600281248502355,-2.485727189418427,6.623772307384296,-2.4334630798415806,-0.37315446074190295,-3.308831000412995,-3.123386833707541,-1.0539597684386943,-1.576361737513457,-3.4181594510099043,-1.0147790519454933,4.559178693008452,-3.396483111357679,4.846458942278677,6.401298772743027,-1.3483597532567857,-1.5597380708421629,3.4841829275780647,5.424271469576256,-2.913474402663243,-0.5622439969590406,-3.1365526743110523,4.797471041652673,-1.8283150403039425,-2.364417539346696,-1.8547519246320696,0.6622384251581515,-1.5619785586633557,-1.224279077489277,5.222813256190965,-2.995372450367734,-0.6095555532018715,3.522551635426844,-1.2226433099247442,-1.136088702017225,4.627530173252942,-2.4827945407937073,-0.4192135898058469,1.0264100761243204,-2.0725877801389876,-3.9684328138809537,-2.014643496299571,-2.403147577139113,-1.8708230706862137,-2.8548852191174023,-0.02507715722067289,-0.8209766315397975,-2.116530488821642,5.789074763607357,-1.0898492719750354,-1.39388696504171,8.959920216795942,-2.6609685792556084,4.869280029315292,-1.6459093635471282,3.346875523549107,3.0296896522993695,-2.2173767087255927,-2.7103467121855567,-1.4782747451782283,-3.6145317425831323,-0.42667882164088095,1.4014999191154667,-1.8113412013375518,4.8535926843435195,-0.32927413508209974,0.9629938696744088,0.1868618318792979,-1.762132605926977,-2.344843342760495,4.043690335478817,-2.49400558394487,-0.932650118366963,1.561826506290089,-0.9567344744263685,-3.0015562551731065,-1.9924392168254283,6.339853098280885,-0.31854082033924264,-1.2567270476804495,-2.756676261567865,-2.096936502734975,-2.037393116199426,8.851538616018141,-2.053960501481014,0.9329704339704795,-2.563118002058164,-1.8029959291927,-1.1872555177200415,11.229388975156567,8.853209540624084,2.564664849180034,-1.036139955978219,-1.707293482677625,3.3011553174415704,-2.0741063786558795,-0.965098088558136,-0.5993741976563294,5.899544526117296,-3.8096489253392027,-1.3582798574568717,6.938763375973842,-1.702620923218544,-1.8739860576700007,-1.2790676158428347,-0.7364502131815462,-1.9605034425219263,-2.0327308595024864,4.321064988002934,-1.6351352214450934,-0.2897719291876175,-0.9700445402590053,-0.2865838535783317,2.992141753779158,-1.103018130279205,-0.7234105676672733,-0.4581103653435293,1.4654995945744964,-1.822615810939901,-0.6813588443705799,-0.4984227953387609,-3.026789501673586,-1.9813105053232023,-1.9898202883533833,-1.7383977523028036,2.127010758905726,-2.1357399326243125,-1.6034013331648573,-0.7860976123828702,-0.41864402659060024,-1.0932967474293143,-1.8021158888828823,-1.1248083959209645,-1.749006753990557,-1.655337380009664,-0.7470312018353488,-0.9237849045762299,-2.508888498800266,-0.6585426403188789,-1.978105243466687,3.999820200908482,-2.644395833542497,-2.153605787533661,-1.5414929617729667,-2.1804280179481768,-2.807124009135371,-0.6113156338215069,-1.4748089277370344,-1.75615068714487,-1.9197664815756068,-0.8843733022089892,-0.14038843503147935,-1.3369716556933582,-3.0507326693099555,-1.8847956276117377,4.5626114937785855,2.151146999249743,-2.6045789696822017,4.672369392474111,-2.3969305235026077,-0.8677541779846174,-1.125243117961521,0.6805176488944444,-0.642827282313157,-1.7176320640470146,-1.353539040974947,-1.4072846167009287,-1.1498246765747988,-1.7633004833604051,-1.6043181190836597,0.18762765273301707,-2.4895316842008284,-0.6084822729542405,0.5165614648883181,-0.3093823855029828,-1.9479034743404975,-0.8674098041494994,2.1805397739242975,-2.686187732749531,-0.9960424535662149,-2.135185294633747,7.229716130952857,-1.588653345973732,-1.0832640804498195,5.477587206246596,-0.9974608391439839,-3.7142757521283785,3.1594921292927634,-1.7858901986431597,2.2921041698954787,6.695264035520563,-1.5085153788888765,-0.5914238842423905,-1.4018958644314579,-1.1492984741701535,-0.7675940172510491,-2.566063632238276,0.32524542218387165,-1.895733864458984,4.131114387467451,3.1190722606426298,-0.6281991245824599,10.760088395215918,-1.2096509197585799,0.5588812971146443,-2.68574241448027,5.439253378722545,-1.7255986020744511,-1.8809934374154398,-2.413480236657146,-2.0151904069123896,-1.82604488277211,-1.333123668663387,5.257562601861266,-2.9198856830543845,-2.5483106973962113,-1.9868803546671807,-1.7298778756736166,6.454383623539324,-1.5173567214289494,0.34544758074844173,-1.076294640107169,-1.648599750722722,-0.9651604237296227,8.603012334193508,-1.1335883901063726,-1.2703262309200818,-0.9231087004329291,-2.0294281483590964,3.7250647870728515,-1.31975170568772,-2.945708026948775,0.8176288633940452,-0.06378464193513442,-0.48145687543840626,-2.446280388076803,7.381971445421485,-2.1119809788841586,1.6333510923004593,-2.2200872040513078,2.6965166233211093,-3.2325255411444904,-2.604289685045039,-0.49288952437360084,-2.7994122282326326,-2.9342250168446475,-1.0476391890652592,-1.582044428539684,-2.555207451953869,-0.16810756437386648,-2.160636297328138,8.754985589740752,-2.6661928206397487,-0.22308789515168545,3.7115602010190174,-2.018751856207568,-1.8361587127898285,-0.7535267766501461,5.70937721505697,4.861243116891593,6.739440666158381,0.18856397443254025,-1.3661235299427574,-1.9902550103939403,-1.9322161293687257,-1.4617791204999635,-1.197169568138344,-0.3866470030534822,-2.401516709309375,-2.820708454363006,-1.911855931471312,-0.6109931810937972,-1.435590565307607,-1.3996447803815613,3.2497354491421073,-0.07767100458671088,-0.891838534044023,-3.0101571024272586,-1.291307485360327,-1.9330855734498398,-0.27484625357967096,-1.2232008975068527,0.5606962116104335,-2.309648218124203,1.4661890737397525,-0.44795426045308173,-1.1213609204666855,-1.2532106453434608,-1.71576078167194,-0.6910188788658063,6.616864956597935,-0.04738302903837369,5.730771367920826,-2.2337543508472217,-1.7178735461497585,-1.010568287458334,-0.9177962033623405,-3.3718964857794416,-1.6784513475538136,-0.9580772498106935,-1.847925251004109,-3.057322760569965,-1.7152837847586542,-2.282825987709688,-2.082563920113578,-1.9381685708534515,2.705296617506517,5.338407158818592,-0.7940309015791748,-1.5481202211939298,-0.6597107730741105,-1.506755298269241,6.3650203439998005,-2.7402177353108517,-0.8278972573481157,-0.22097172038559623,-1.1327083497965549,-1.5268447823817293,5.659001412072833,5.169259957076367,6.5584979263511,-0.07874428483434134,-2.299274756430084,3.757947479304581,1.4587624511673742,-2.6776572598916406,-1.6339715929920249,5.2991690068886985,6.685226547191308,-2.3625398289826904,-2.603022264532355,0.8031420613165502,-2.3537598347972826,-0.8108205266493499,3.0796413294716527,5.534481114529973,-2.386160463150765,-2.3675136487120723,1.4114435417539442,6.687160245478456,-0.5392705670834917,-0.7298025192546768,0.5876944940228357,-1.4893241654004494,-2.263143770790999,-1.7367103574681593,-1.9979815138321846,-1.663847879058377,-2.2823912656691303,-2.352855191741784,-1.2360901670753226,-1.6166533801905152,-2.873182759986185,4.84261583823362,-3.243500337990092,6.6970135199114935,0.6901776833896701,-1.3556834840967913,4.437386979058474,-2.3411598666158535,6.259359429637185,-1.7495784345792211,3.4048827007472044,-1.5123685765329382,-0.8616037084999575,-2.677029297913271,1.7506129185832546,6.651977557172032,-0.9624899851801155,-0.56117071671141,-2.0122222048704335,-1.0260889470118082,-1.7980115132346133,-3.75545803134396,-1.4270520532249427,-0.507324196551285,2.504418563565178,-1.9123012497405727,-3.485174583858998,-1.8372602613932127,-1.8524372741309845,-0.9325754949903422,-2.811682642604915,1.9103385318518755,-2.0794448394961185,5.1769793165071505,-1.2860172415019262,-2.0547649315973886,-0.6408739617557087,5.861329069539239,2.9501001408313487,-1.2049569592345242,6.271700131916147,2.5428152844479097,-1.3989588803367974,-1.6649150576728624,-0.6613846472715981,-0.18279625247462736,0.6888629210392961,-1.5319840611750453,-1.3669929740238704,-3.1815674445931053,-1.0429724377727614,1.2745708597655445,0.810617889380289,-0.06977999026313571,-2.964991534310288,-2.525337267520662,-1.0045720260968636,3.999697335366931,-1.5801821722062057,-3.3894142857671103,-3.2272463793946162,-0.6003408369759069,-3.8665359663318,1.7080108743854703,0.16393140837149878,-2.1073254436427127,0.9236611205587167,-1.6569450228675737,-2.057718140305547,-4.318604707123254,1.1083304403688519,-2.4759389289501272,-2.337198146009604,0.3727319880502726,-0.32819025860576445,-2.4438471210145263,-0.4649000863855223,-3.2045514706973606,-2.153171065493105,-3.7126168712646885,3.2312340721068082,1.7500520014534608,-2.5185668752824073,-1.9269899378413338,-1.4870547393636369,0.004033803179967073,-1.970214229143112,2.6159333379669927,-1.112010693206164,-0.9325648987616381,-2.489919064403697,7.152000834701573,-1.74776002330558,-2.1036053891192523,-0.6729434912960295,4.269752846569396,-2.231733066733491,-1.956478271335417,0.6914761530174302,-2.9337114415525414,-3.2769686308378794,-1.00393346788979,-0.4820330984739934,5.183059498085128,-2.192593264089049,-2.2965253838884427,-2.5746924925263803,-2.313902914160781,1.3271068665556536,-1.674557420041039,1.4171560461399413,-1.0977079377947194,-1.9986002825387919,-0.8423321751409999,-2.5153611275460714,-1.0314274078520482,0.6830071973464262,3.2251148587142047,3.579410663385492,-1.3855522891255632,5.87800007804822,-1.4003772659145666,2.72098396247829,-1.2456833239521394,0.21710742088223325,-1.8319218005529723,2.392642098187393,-1.6042235218978624,5.314090531006751,-0.528537545807198,8.298805165242612,-1.8074297721605328,-0.378487225088232,-3.4149266368161655,-1.2264738801494688,-1.2540285960969904,-3.2278129930183215,-1.359650901196951,-2.219126193116524,-2.20049321796464,6.552668350407927,5.064276210183482,-3.029994047511569,0.5842136832478434,-2.1216700132301582,-2.2419810064308803,-2.914287565354651,5.013128387222014,-0.13156890640174668,-3.7117474271835773,6.259832760940401,-0.5646985120362201,-1.9105517653496416,-0.28840682755664804,-2.4825347167040466,-2.468989303291034,-2.587666018373745,-2.4602901932410104,-1.5675817433280486,-1.4261720129151247,-2.0804983302432825,-1.639441315886462,-1.3022429317416486,0.37851547369321026,1.1772085455699564,-0.18850745747180786,5.099602024504568,1.8877483306893001,5.951127071119319,2.0415150021768924,-1.9827304610880778,4.7405474222812565,-1.9440730157884454,5.444479570249936,6.405311986676863,-1.3440864217667312,-0.4087841401885852,-0.32775553656520745,-0.34396282318286003,-1.274858716639931,-2.278273528180661,-2.4618370601136568,-3.753263228683768,4.327556506250629,-2.1865553573837997,1.4158619736172757,-3.3083962783724377,-2.2348945087132606,-1.958135189424388,-0.10407628461219268,4.189343011652625,4.3259067321691225,-2.8937155314840965,0.6003690855808846,-0.10741905049778187,-2.2209566481324203,-1.1559416037617627,-1.429005373782391,7.511757629692264,1.2317162765395828,-1.614654835168795,1.8836028988165345,-1.3062209450705133,6.789316733137223,0.6503150662592582,-3.6887739973080285,-2.2844954648020814,8.000825646156926,-1.153790548670943,-1.6511160192938004,-3.233461862844013,2.855729873471895,-2.2976772239210588,-1.3462272857680821,-2.83842692172571,2.233986435618716,-0.3025979002581711,-1.9092370029992676,-1.2801881514385731,-2.692734984871956,-1.9534960627764861,-2.5654940690230297,4.071684673201689,5.992358071577023,8.14624369076889,5.088676671722252,-0.9131805570080704,10.536327553071033,2.737861756745331,-1.125324002096906,-2.0425947301642293,5.313424420462455,-0.23991085554257416,-1.6848068072519795,-1.547857067556585,6.216623756438982,-3.1778999251086906,-2.106049713106962,-3.187521350341263,-1.6823870860099484,-0.305865983165994,-2.0374597003512718,-2.443817660467023,-0.9233501825356734,-1.5454082489733163,-1.756850426476442,2.055840329450181,-2.140434138763568,-1.8368255393526558,-1.964828107815529,-2.2947209807623614,-3.360819999099818,2.790603047215508,-1.84315061332165,0.760666212208004,-1.7110468725217982,1.8404581755114442,-2.0693886922229923,1.4106834173941354,5.98228285082196,-2.703586916176007,-1.7898700772562794,-0.13542260667550823,-1.6560042065724923,-0.8539349339649703,-2.644581327722098,0.5999449597690322,0.05295661073123191,-3.313108826498607,-2.5354264947927,-2.6853690407943778,5.878585192784461,4.42873521084614,-3.168825746551328,-2.8069334479908092,-1.5365048168769548,0.025743964032725036,-2.082649385334103,-1.6115138557819986,-1.1243736738804075,-1.936735420807204,-1.4622755437074522,0.22457265271726706,-0.4433831654705775,5.498258967176451,-3.123600047454532,-0.7694739457115765,-1.0127134620751974,-1.1971132867486387,-2.4422430740269885,-0.9032332435764275,1.4265789956375177,-3.393692111852725,2.9818540507721254,4.79434660060369,-1.6733322744010832,-2.3380781863194215,3.3198919158208495,2.804880555204501,1.3453860902919463,-2.200319767527294,-2.647961679942768,-0.3086372544769722,6.202222905461829,4.317944443122044,4.5779904790292045,-2.0355124814269696,-2.8379543865187604,-1.0437903885262914,6.39689663360231,-0.9650374716984907,4.715830768773539,-2.3472872060514764,3.7427845705742495,5.968069879351101,0.1631269782551242,-0.338195582411174,-2.26533287695728,-2.273611271483722,-1.410914490249117,-2.7331452273603287,4.6507176303844755,5.630537717599874,4.660318365789338,-0.32707933242190745,6.082841886712286,5.670999861122736,-0.16483948146604344,-1.0927434088275652,-0.4179609170117606,-1.9521475741483696,5.61311856036422,5.272196456085873,-2.6873170009203036,-1.7778382928856638,7.049108825428681,-2.4669843302803853,5.548645366389291,-0.31766078002942477,-0.8442231605269608,-1.6775819034727002,5.909955388132442,0.4874047076540045,3.0197557871975085,0.9010151238862563,2.624278610111844,-0.659133856688264,0.6975197562165898,4.9544495004761755,-3.3974194330572027,-0.8355617829027449,-3.3395767415613444,4.942955963883044,-2.3154777940673776,-2.5464943353868703,-3.7281855996752684,-2.400452622333506,-1.216435405003391,-0.45525053644632835,0.7227322263997795,6.445168907313362,-1.5666454048786462,-1.4967761222135278,0.23730957944680417,-0.4816607116049239,-3.4058630544875057,-1.0530051047522564,3.3923900465863364,6.327741454736465,-2.3508199011110795,-2.871078560853233,-1.5779926053431952,-0.7220201951234559,-0.812773847206798,-1.6832882087350869,-1.6544244269311017,-2.3625625680746993,0.8696736575907562,-2.2881651184097924,5.743015634543415,-2.313022873850963,-0.6861031644329839,-3.106587343903682,-2.3311545428104448,4.85256167896862,-3.2901776714957895,-0.5118665372982157,6.016294811224463,-2.2221351217945537,-2.5192148110699537,0.8508989358286418,-1.6384864065848237,-3.111513654565208,1.702091584241414,-1.7319407867506613,0.9240169893477251,-2.3927367151239665,-1.1738800327834311,1.2660456227048353,-1.5286048630013642,-1.4861805072204015,5.166195710335062,7.154708391436631,-1.2068240733698246,-0.908722024804976,1.4534572139751754,-1.5757415212932988,-0.21862482050166948,-2.4815864193713857,-2.014231806817587,-2.08700466851695,-1.716558783799384,5.919192382753686,6.856420010000091,0.6490060004027945,-3.104054119224086,-1.0644272691314185,-0.9836025016745582,-2.20231464693894,4.984127646869921,-3.1328041674517926,-2.40228464753651,-2.813157016105827,-2.2267121588861674,-0.1963511299576936,4.033893342435482,2.829111479223895,4.6345220737847646,-1.6696713533684056,-2.0878178312083584,-3.957785688810365,-1.2868550069390152,-1.3642885803313018,-1.7787367368175504,1.1586782303190377,7.336341341904187,0.464264106480339,-0.29708598898058564,-0.6903803206587318,-3.5501461344347884,5.409950625897642,-3.996327847096491,9.944099436784304,-2.7424495770465915,-2.6036694688248825,7.6219612208642,-1.5332988235254206,-0.407785483317575,-2.352879794487464,-1.004368189930346,-1.895313148935403,-0.061921324443452434,-0.26362101993148757,5.25752399259861,-1.327136053387369,-0.1194706495519569,0.23236004381344777,2.1902289755004634,-2.331969569155523,2.3404313455918007,-0.21644061407018167,-1.815340322264828,-2.6407995720317055,5.8459337915660035,-1.9212850800925285,-2.88651244808912,-2.474189444559196,-0.1463868072924041,-2.202253298584275,-2.1770850660485346,-0.3899656708571804,-1.8880693389043541,-2.024508746365749,-1.6907823787857412,-1.983347659607577,6.016502958006491,-1.2650054422068915,-1.0468309093587647,9.343053655521517,-0.7828310886612712,4.091881932031466,-1.1183357671751586,6.455263663849143,5.912082159127237,0.2122705597009596,3.5169710226239945,-2.2163232179784287,-2.030981375111555,5.256509111114102,-1.5645689899143262,1.4828178073760059,4.4388419430150625,6.905344220508298,-1.0278474684452201,4.658904863196484,-2.806431848331844,-2.7411306464564436,-0.7334721561125093,-0.5975755077740387,-2.2268470000608582,-2.266840879245468,-2.0575249003677345,-2.4442050406698907,-1.9035881331735731,2.6496064537981217,-2.493154481850672,-0.7702874018695481,-2.79271809119326,-1.5839953130740607,-2.631800748345982,-1.0937314694698714,-1.497589284904936,3.2654121978851736,-3.309082091927618,-0.8519922096362258,2.343551873722811,0.3392971112637825,-2.0406414096067818,-2.6366707776178044,9.214463280977531,-2.9550808076906745,12.316884886786285,-0.5602906764015919,-1.7916301578759148,-1.205651798831303,4.680639140915101,-2.2663468397340836,0.007861355704031982,2.8818753415559164,-2.561195067229887,6.466573153776224,-2.0696864557154404,-3.256992880301671,-1.103838871498659,-1.6596358959229867,-0.3794235467877549,1.8549889091383576,5.070601284152476,9.64116123335011,1.6257581119389601,0.8035252900295237,-2.56381254818838,-0.42799358399125564,-1.98899954713393,-1.7993262755849886,2.3838435163998684,0.22306465042907966,-0.3219139849888948,3.0212989884600807,-3.5390677143617917,-2.403700915740862,0.29793218833909363,1.5894936032231297,-1.408424774566969,5.457651219020029,-2.150600839882719,4.699073640331989,-0.25020334661172855,-3.1649826425062697,4.277652800444986,-1.3275707754279258,-1.5172953730742846,-2.737608547625544,-1.3683077363742449,-1.773733917237395,1.1342064940567649,-1.9697795071025552,-2.537521561960378,-2.190773865998586,5.3536597817498075,-0.6014623593884685,-2.517816047762485,-1.926121941273772,0.14398936736315054,-2.502128702790715,-2.120789972920341,-0.7896775517896986,-1.4971545628643796,-2.372652927505389,-1.9540396438416183,-1.7169935058399406,-0.3811383348340019,4.276338038094611,-1.6074901572921336,11.061452012210076,-1.1235557231268776,-0.9590425097258367,0.8469258222345717,5.679321782059359,-1.9754477057319868,-1.544476715335915,5.973655182725605,-3.4132860114498103,-0.6890655583083575,-1.6138821088795372,-1.6078733860051069,-0.5605031586535619,-1.9688001790352831,1.830374015204366,-1.5645280760655673,-0.15932757018845814,-1.1106255564595282,-1.61370296194828,-1.5330573414226762,3.4900423168810066,7.163903571881875,-0.4882459031301404,-1.720261588747764,-2.2049426989430465,-2.9817551091212313,8.307911861136088,-1.0547637126752487,-1.9604928462932212,-0.986382419070989,-2.412239134356964,5.683892877041864,-1.8136868825732462,3.105125667486758,4.9813136148063935,-2.0809330522838394,1.3749317727331434,4.474037067651354,-1.5264721498974605,4.482930987826297,-1.9202012036161633,6.236585500458216,-3.0139615972096596,-1.689019619372854,5.240679111100315,1.3044678650409531,-1.6682972735472021,-1.1572563661121371,-3.483935431702067,-1.339505135694758,-2.364289313373621,1.7118485205085412,4.6698359124727125,-1.3768568446856138,-0.44338886196448823,-3.1846374045782015,-1.244430651158052,-0.900443630278534,-2.2333196288066643,-1.9517128521078138,5.387044073640503,-2.21201142704315,0.34632762105825937,-1.9697365007348058,-3.146794985623648,-0.690138838555988,1.3459957102834006,2.975036023229618,-0.8915074352308606,-2.8181869499947463,4.1702424016914375,2.623843888071287,11.887181109925917,2.6022600895379338,-1.4066084125576284,-1.688607452444261,-0.286787689744849,-0.7805857011052846,-0.41746410541491596,-1.637483500733454,2.5463191529645663,-2.093940287659067,-3.406297776528063,5.470737307646804,-2.8791820574287783,1.0030256882618078,-2.4855189561468154,-2.2557594230913485,-1.1561785912689488,6.326043463673118,3.975854461410268,-0.68203504851388,1.9939576283613778,-3.1036137006896176,-0.8535002119244132,-1.3470967298491963,-1.8290884396857077,-1.2935022880205194,-0.5688291884842568,1.7368803526833667,-1.9412989540115433,-2.822701763587545,-2.7616314936951305,-1.1167232413323347,-0.07786424452452352,-2.6052733485822515,5.91933461524374,-0.4802703390611065,-2.009394945636313,-2.2178924013911154,-1.5311860590476019,-1.8830075339581516,5.699717180561744,-1.010448371508325,-2.6047244070855973,1.1536959317343696,-1.2062611253561941,-2.366011342917795,-2.6712335431706316,-1.5334920634632334,-0.35926718505685745,5.375430718587831,-3.204394244873511,5.231904813408814,1.4915921050675036,2.8400425285001223,-1.5956838557682091,-1.6561270721140429,-0.5855898137036585,-2.2110946411243484,6.45394890149877,-1.4656429143727292,-2.8616816616148895,-2.239731369894534,1.24608885916098,7.412788547782918,5.1999527463826976,3.658814027563925,-1.2422358484978606,-1.0142320605920896,-2.355404709143996,-1.7993368718136926,-3.196830663753025,-1.6481650286821645,-1.4567909756039519,2.4547667672587594,-2.5492187507399793,-0.818682541122151,-1.9206648638723396,-1.7953117006271844,-0.19785913224588086,-1.144769072382791,0.8215227909068207,-1.146963875042983,-1.8071579724377347,-1.479542165690914,-1.8286594141390602,11.384665193936364,3.662923579663669,-0.6005823190786503,4.082160549181575,0.4378877525222774,-2.637692318922651,-1.5594497327815497,-2.652814497784269,1.0203298945463422,-3.183767960497088,-2.6375951236841866,-1.1897100327972208,-1.4458324714809667,1.9497607304478202,-1.938106481297163,-1.2959511066037874,-0.7258650827444524,-1.9011389094510696,6.067396023843259,2.148120970814065,0.6631994360929347,-1.1169647234350788,3.7578514346052323,-2.588980780724121,2.3565710847311783,4.491300544067175,-1.4064151726198153,-2.388013570769092,-1.7388430705720643,-3.185985079697321,-1.631928742213739,-0.794253141367761,-1.5549866581315341,-0.8761511890722521,-1.3027918732383041,-1.763910103351859,-0.8968878774772668,-2.037762824275244,-2.0594782209251816,-1.588218623933175,-1.0478761765724447,-2.1917132237792316,-1.3867604105478841,-3.7020646535963415,-2.8550793593824575,-1.1027150063552336,6.569491310798814,-0.601017041119207,-2.627579220399952,0.0253092419921679,-1.496647896240454,-0.8277040174103032,-1.170432557329152,1.092214069850435,3.6191200292451815,-2.545185269530407,5.993534888562467,-2.366700486020663,-3.1620370123261576,1.6282970331124689,-0.8726290902413526,-0.3194208606490604,5.305580747976569,-2.900846421447862,2.8356686577151597,-1.512155848665768,0.0922650757508984,4.4300393769678115,-2.759001968994384,3.0531646818338833,-2.4088468065031536,2.000954484185487,4.045908268188046,-0.3999935497744727,-1.4338894903117725,4.90267491743469,6.734348936179736,-1.9952208387499102,-1.412059547849951,9.837956203221639,6.84157043046541,5.691613683986197,-1.27775285349246,-1.749385194641408,0.06560088466922659,-1.408164657010746,-0.5474929736867923,6.69292773186534,4.408967774322126,-1.175009300954204,-0.23839225702568298,-1.5781112219043885,-1.75903463290793,-3.369967854457255,-0.6271258443348294,6.241129386209162,2.797177084324827,1.7241892227875035,1.386557773278822,-0.9480107616306657,-0.3438399576413095,-1.143942970731815,-3.0696019075172827,-0.5511322415653322,-2.595944412900189,-0.7623118378005141,-2.19548290634602,-1.2896260326347937,6.535846949203261,1.749171961143642,-2.5247690837098498,-1.9836787584207398,-3.2053128944459837,-1.3072046086077256,-1.324517124915325,-2.267003801563225,-1.870694844713139,4.599116497780339,0.47939207932633154,0.9490654512752843,-0.24695155642652078,-2.5003123407813743,-3.565894827761221,-1.835396557546183,-0.9079939363770646,-1.5766778429928205,0.9196148502070082,-0.78446195649101,-2.128611073544383,0.45909875904732683,0.47072310291631775,-2.34284848853194,-3.3257425042078976,3.596250141856443,10.598921824507686,-1.5046197946994129,-2.1856190356842773,0.9625591476338523,-0.38471973275526516,3.6223443645836317,-1.8606910659117464,-0.44731570224600764,-2.7251646130762146,-2.404570359821976,1.5240931135902767,4.0064860695921,-0.7870480270889499,0.542759230102317,-1.6498099030288793,-0.9220354201852987,-1.7498199166819652,1.2731480770826815,-1.9355964815893967,-2.3681275176838845,-2.7999521436876913,-2.5780362831181107,-1.7571116980796528,-1.7748469607946695,-1.8704533626103963,-1.4559215315228384,-1.1830752132286753,-1.8184276990551707,-0.6483391935907422,-1.7473147050363191,-2.7364499861374343,-1.8923592087322254,-1.9125050859070891,-1.2383412511252199,4.89830903802314,-1.3533152309992535,-1.8584215782397797,-2.522826359381105,1.5468443036772377,4.245148548864108,-1.8048489503214444,-2.893973137477234,-2.9377625948891652,-1.4783368347345167,-2.0499464124030307,-1.3337318411412895,4.43143502345357,2.9984543662351926,-2.2346343911570385,4.124273620832933,-0.7626289300967014,-0.22620240813913134,-2.830352196135618,0.8742216392741028,5.502443582283329,-1.4557466335719411,-1.5161738506617235,7.9284595742047514,0.37915403190028424,1.0425832139122633,4.79179471698022,-2.7566656653391606,-0.9706723350072085,-1.5208174719051848,-1.1504718808673255,5.59336027255536,1.412768900333022,-2.0854721499726647,10.477612174435954,-1.7699094007944531,-2.001653933051393,-2.084602705891551,-2.645450771803212,-1.6787780492618822,10.51615433272208,-2.864753486884238,-1.4546688587287515,-2.419530915754651,1.2890804009350483,-1.2709824612542056,-1.328016093697186,-2.796967904244924,-3.386605527645524,-2.7241111223290493,-1.800410152061323,-1.7896768373184666,-2.4004632185622103,-3.064451619649894,7.614302749091353,4.1749704290312275,-2.5004914877126314,-2.780416811685949,-1.0924167071194966,5.236752270818793,4.618297115040061,-2.022268258544556,1.3991013483978738,2.5853017297851606,-2.605418953215813,-2.56250982958026,0.8824105843202925,1.7004736979670678,0.8436071544309551,-3.039654082006795,-0.13484613802472237,-2.629030941298435,5.848879421746116,-1.9243055792644315,2.523734648295902,-1.6058873024963463,1.3293720436121066,-1.5467082636050917,0.14661889206389975,-2.783068652926739,-1.234132351922315,-1.642165731239571,-3.290334897319636,3.190931833201045,3.5223583954890327,-1.5150499855182984,-1.7670065313668897,0.570172199439609,0.21842218323260779,-1.4236773974981833,5.888291024113358,-1.741597803545228,0.42249971604697084,1.024665474718304,-2.3792392730775935,-1.2107242000062102,7.011001389183111,-2.6777238440434874,7.333334530599576,-0.6339666109693463,-1.9240323320280814,-2.2563373644387794,-2.9845268663120303,0.015649207496942517,3.523605126174008,-2.4173467093231653,-2.645896090072473,-3.46823749050159,6.019048226428343,-2.0067998238136857,-1.8626916418173034,-1.3158371596889933,-3.9369858858874798,-0.9550670282178111,3.8422321220935256,-1.3678730143336881,7.6129985829696825,-0.9632071031721746,1.6692074444961327,-2.3875788487285354,0.7642735922793823,-2.020004529001654,-2.483585425089834,-0.08611951360360917,-0.8213120658228998,-1.3515234717355915,-0.9418515595709723,1.8168991450198368,-0.9859201698763017,5.921812274552161,-2.31667393985656,-1.3241338962023517,-0.9618923408218006,0.8920706188155183,-1.8642608252299895,-1.4538791666243727,-1.4800242295691597,2.544423038978492,-0.42372840339864637,3.804593134166252,-0.6920217847171749,-2.6322566628439477,-0.07668888605351523,-1.319737699170744,-1.3718907707144434,6.6567218772344345,-3.6705757441967,-4.413588843454519,-1.6069933456952887,-3.1772896352573716,-1.4546067691724638,5.197503522660193,-2.6757569776657926,-0.6097970353046152,-0.6202370811505815,-1.0718116168310674,-2.7654456595245684,-0.8937918546014711,-2.5799874863021413,-2.5443067019172316],\"yaxis\":\"y\",\"type\":\"scattergl\"},{\"hovertemplate\":\"labels=1<br>PCA1=%{x}<br>PCA2=%{y}<extra></extra>\",\"legendgroup\":\"1\",\"marker\":{\"color\":\"#EF553B\",\"symbol\":\"circle\"},\"mode\":\"markers\",\"name\":\"1\",\"showlegend\":true,\"x\":[-11.105794862991754,-14.10364035737925,-24.424349255843158,-14.241517573227576,6.509163594190544,-16.19139682229692,-10.275159272265437,-7.415940853489554,-7.204629639979843,-1.4793221639021237,-7.480887884173806,-24.124775016265865,-17.121611525890394,-2.4499842028595746,-6.399428287473854,-25.12047622643662,-17.58752506152227,-12.09505728585545,-5.096141943423831,8.727979933058116,-14.156160406276994,-1.5161481963355847,-12.40983849308347,-7.15362426923983,-24.4469875810664,-25.166982852275478,-12.126547565390098,6.848674181624183,-22.18874408363976,-18.128636683439417,-22.213168222529024,-3.4956299323697557,-25.105371762448858,-5.476715691135703,-16.632476524867336,-10.324232277198561,-15.411548178147045,-13.523960005297623,-23.05450001569007,-2.1255224022261654,-14.12705309640667,7.69101212295317,-13.274994768922557,-1.3382437741117559,-16.17324468072228,19.864016669587148,-10.157453497671183,-16.30154205517853,-1.1320420287586135,-8.134827981192691,9.903857138046899,1.9201887930917156,-14.533334675365005,-23.242120437658137,-14.585390012210516,-1.1053589952474572,-11.681113099449414,-14.544628425403264,-13.205820128845428,-10.273314772874013,-17.157964734424844,-23.27781856406191,-12.27169916828797,-25.23359386473933,6.879915154086887,-0.12019945807210645,-18.404986053854817,-10.473974500166692,-0.7289190197599278,2.873088097363838,-4.451397189207129,-22.205035256102367,-6.457672847497616,-2.4758638258561763,-13.188667876792818,-20.10345501101625,-22.22044010936567,6.909766680421374,-22.304270428511206,-16.476516171266315,-12.264482958638858,-17.178994755056035,-7.4597335314433035,-13.502190620243073,6.910569582610953,-21.15430579534003,-13.200199813518365,-24.16707926129129,-18.21554397758162,-15.53484407072836,-10.241974813611192,-15.496072245568042,-20.169568362606878,-15.10304628749022,-13.451623716325903,-11.593527743541916,-22.143843262180084,-6.111094321208254,-10.14952576911081,-18.20171668055033,-16.133486935547662,-6.679290991101087,-7.135422051081714,-16.14819017995683,-8.402489328468146,-18.140624181753143,-5.07060966102863,-0.19790444876364474,9.860064460093147,-24.18712547051584,-25.167785754465065,-5.138826477871644,-15.356294927165456,7.863468886883076,-1.4258488925429817,-25.234702008245268,-25.17536237429309,-15.106755557121765,-6.120352301846466,-4.596218205489452,-13.566379856560664,-10.55885948609159,-15.47053996317285,-23.49248247241512,-8.397584048915196,-20.234633273066933,-6.1107890798919,-25.489078045625185,-17.585814804287274,-21.585441986533482,-2.299237629933831,-16.307438106786602,-6.2748209627131795,-14.05689554485311,4.928220402336505,-20.116839816036887,-16.506191640424564,-8.10658175091239,-13.45273185983184,-5.146098364708291,-14.63399959497678,-20.312918324991443,17.84916070081853,-18.183070529513667,-17.134093933596347,-23.431537542408762,-14.40291721621886,-21.242999294753464,-1.2060826005846441,-17.37177328051183,-13.130874853169413,-14.31593499069036,-25.339439616205393,-7.267849542723496,-14.175679265613303,12.819702844822618,-15.081223274726572,-17.639117484525897,-14.1408063781604,-14.160630478813069,-16.5142664294508,-25.06941166164623,27.424309360931822,-11.141253786058314,-11.459134037342041,-1.1722757573526412,-0.7431654126955508,-24.153941011861594,-16.176319038786303,-12.678302742548507,-12.670185854237232,-1.1077095244157622,4.328289648799078,-1.38477016247433,-13.222822060626221,-15.329707469665916,-16.312730335711006,-22.39963268438229,-16.079521061331604,-24.481280183226584,-13.056991953868916,3.846656503763255,-21.400026474135768,-17.44335662715771,-11.49912606238594,-11.066104562401375,-12.32761397831709,-20.23371299942653,-18.48433894821055,-13.551649380654311,-3.4936217860721115,-3.1414866881974044,-18.19864717452712,-10.359264635387325,-12.409533251767112,-22.218290368657893,-21.103358602000448,-15.169143560965455,-16.472738406137804,-13.350277726410956,-25.383232294159136,-3.1406251002824117,-3.0836941728989764,-10.454626891258409,-16.327621449985706,-8.286569875864878,-3.21254663706564,-4.509072333054733,-14.112367728323239,-13.20856376574556,-5.539734805418831,-7.052461180429854,-5.418237136773542,-1.2457030950649624,-12.281095450533204,-11.404754070244993,8.85720873453656,-15.43276121660296,-13.151046294423482,-7.172850705569209,-17.16458889138455,-13.194563928400882,-6.187675090278462,-12.263182395576056,-16.444413610888624,-18.18632790540242,-15.46410117586578,-10.554875172483692,-13.191381316352942,-17.109669794707084,9.736768567511831,7.840650552372974,-10.137089636860244,-18.551137830539947,-17.11673593535247,-11.398127413072398,-11.146715920534875,-16.517130189282742,-25.159890974725673,-17.18365218913268,-12.18362555323938,-10.348200854499645,24.810107120279415,-14.284507348991744,-7.479779740667867,-7.122530357242974,-25.119175663373838,-25.320059175195844,-6.420884364657868,-3.1254846789357735,-18.147879990474397,-10.22109996529263,-17.130676578646757,-15.058798047948295,-15.099818600616507,-25.213364246084826,8.809371856619878,-17.11562779184653,-17.153554107207245,-3.0923628581175526,-17.155904128050576,4.86286734532544,-13.13748543222662,-17.10335113033184,8.681385440803796,-10.43525835219392,-12.200397515869597,-23.30891982831249,-14.09084995687594,-24.371537292263465,-12.183783734089888,-20.16113015486385,-5.513746961435453,-16.14513675204901,-11.117474368508127,-24.114162336530768,-15.176327073061664,-15.14215579446292,-5.157919464634806,-18.088045704186865,-18.41630214065439,-22.598910391825175,-23.21435996630601,-2.174282813589221,-1.0766156124189095,-14.061303163532838,-2.303587071213122,-13.13593882189784,-15.105149752742607,-10.197073992151498,-18.103806009898367,-21.13080193009117,-17.142326395148107,-16.105053343726805,-14.15734359788897,-18.216707289950122,-22.114853323760585,-17.309097822421776,-23.207452006511136,-22.113933050120174,-25.106840316133724,-18.150901679888747,-21.050688232830897,-21.302455791831495,-23.45029559884053,-23.396505184219993,-24.606791854494816,-16.193091001416516,-16.385572146134642,-8.417947909726134,-1.1957466737805011,2.6546223684683037,-13.600259471745547,-14.474956124452909,-18.67000050787424,7.817267502360585,-1.4277599382385011,-0.47486063396637807,-16.08312577782175,-8.842566357038418,-5.507733538376564,-13.60803637170913,-0.5154417031618073,-1.5987584665800725,2.8035165814239407,3.4084244829093824,-16.748893638343826,-15.11196607799108,8.85605849174558,-8.486775209201861,-16.12531265139634,-6.547912957239832,-17.05910289078991,-14.525000920477813,-4.329581868975468,-24.110148333907844,-3.359588490051169,-24.186745181093446,-20.184676343457497,-0.5482458723936554,-16.146086714704445,6.911677726116892,-20.16641594789895,-15.191718856747455,-8.490877586565231,-1.2192800440647147,-10.637111589195106,-13.729576139639462,-15.498786193453146,-11.76492314774625,-4.096238352439635,-6.238094425404811,-16.25878224856494,-20.23889332295583,-13.064305939990605,-15.181291038340026,-1.50275098104494,-12.251289540346606,11.831127750908019,3.8710806426525153,-17.39891871953991,-15.234207963100534,-15.303293720112247,-6.072119056391989,-18.185203683781083,-18.251133341676532,-1.2995935131355687,-17.24277796504681,-13.40572757311976,-13.27356897383025,-23.41617110402216,-15.188750795042214,-1.1633980661368315,-24.540983744220544,-21.197718183871377,-21.169471953591078,-13.149922072802148,-10.267887385428788,-12.122152765019793,-18.116200042863884,-6.115911734345741,-14.510854530992262,-5.513094379517692,-14.49938026334217,-15.55812531908035,-16.4150632622902,-11.063607989417166,-1.2411451561134135,-0.7161446973720126,-14.107960109643512,-5.246583275033216,-2.518201019702588,12.854957819908254,-15.582006029965966,-18.124216146164702,-23.219482112434875,-12.195157998289904,-23.349254850241945,-10.236793981756911,-17.430614745265814,-0.36043457202218815,-11.174961642490201,-3.4665423850231623,-20.223844536155603,-4.1598972303311,-10.277387461222352,-23.670809115800907,-20.145583707190408,-8.453859134574905,-11.4086690860678,-13.179154223096752,-17.150748524775736,-10.273009531557657,-10.365222381258672,-17.430070808937195,-15.130226473549621,-7.072110513791652,-21.125984516953686,-25.174254739112136,-22.57078153299569,-1.0658860695579666,25.728291209624167,-22.445031166715204,-17.3003448549105,-17.53591706872822,-23.356346219466776,-18.400925775776482,-0.2005721211933463,-0.15300362730395486,-1.11960538818308,-18.56510797886959,-11.190813839804981,21.872642348720962,-4.15135952746298,-18.303728438680317,-24.221388383661,-15.132287839516968,-15.185204764277477,-13.40893918187809,-11.530324427238623,12.893042316119475,-17.049074956783112,-15.302641138194492,-17.396732629868033,-13.151849196613068,-23.2019659333405,-24.413063366383582,-21.230902642525617,-16.40455648730866,-18.241495355881153,-18.14904631138077,-16.212392994176913,-13.060203562627237,-12.695718136632436,-12.158109348959576,-12.333280060774587,-12.317775712386178,-25.29433902293512,4.845757192557869,2.8666191127167697,-18.10119335534869,-14.28908856732986,-11.164131314618801,-20.182648434636132,-10.445591527517069,-21.1578226454147,-10.170621436115898,8.73199444400602,-17.760270988653136,-5.112796534603221,-0.47164902520805585,-22.198804966467563,-15.055193331458149,-4.250694194996924,-5.244174568464475,-12.10704478416918,-12.238105674769042,-13.2016882464467,-24.244056397899286,-11.40644089711089,-10.296647863022677,-24.11687628441588,-10.572788227440846,-14.686716239601735,-2.126663494553102,-15.292180487685814,-2.204866146117863,-15.165439349350214,5.817414553261768,-13.240120083259331,-10.196985617411054,-23.16440354502155,-4.0807340040512265,-16.23374762704296,-14.267049855622778,-15.237013545532044,-13.290721734207837,-21.15904765204649,-25.171423419776204,-21.329393598470304,-21.21758438380909,-23.37621241940447,-21.120013193179837,-2.1689677395785156,-13.373998206967633,-13.127764537746517,-14.491777655341627,-23.144549755353854,-14.239179962654264,-15.449327433041907,-15.121804343922001,-13.633410981578796,-14.468329467280315,-24.446243364602235,-16.141106162985714,-5.235624455326345,-10.187029980029315,-12.184428455428966,-22.324057671874808,-20.211391817464676,-16.214801700745653,-6.520559020539503,-17.12966032674411,-18.089999100435527,-18.25964138852676,-7.219274706988569,-17.14311321922229,2.915772631811653,-7.503526209397054,-16.217154730126854,-7.26123896366629,-13.383704280220563,-18.179701248229815,-18.27632196787865,-16.172772499696595,-12.190356512285282,-8.096743484981468,-8.467256349865547,-15.364694211706789,-12.0578912650743,-10.15593606803246,-18.352315684685248,-8.591818058478331,-13.265464495788988,-18.476661035047094,-16.305258677063783,-10.157641367536717,-15.448524530852328,-15.22863351518946,-18.133997524580543,-1.4640804492200548,-17.261549599381084,2.8210327605183223,-12.118678522555133,-17.451936429310866,-13.191967351966605,-11.104686719485818,6.886145443721693,-13.108554179532538,-18.145441594890624,-14.2012115480085,-11.205092673236637,-14.305798835696791,-5.081440497225003,-11.1558431758795,-2.293073886603121,-4.121812734119878,-22.171227904545383,-24.16856769421962,-13.43125985551496,-17.423284681028733,-13.184695465129954,-15.216645508550753,-16.116982413371996,7.503404770562634,-10.112360256654625,-5.189029454747052,-7.144604983613883,-8.065503020843737,-17.24015604331334,-16.053491118063178,-2.1251750616247644,-15.246818354316993,-5.484292310963735,-24.162701331626586,-13.148086299272414,-20.132504143486134,-3.2384189078085317,-18.159324060784474,-5.148009410403811,-24.375998638937862,-17.24864432763984,-24.511934611750654,-6.353315528959899,7.84789224186962,5.326587435404114,-22.086912334796637,-11.413949413047177,-23.17956970327261,5.91227179600592,-3.468951091591903,27.870005688179198,-10.270600824988916,-5.460909769276317,7.776686433165155,-12.159715153338741,-0.28006292555089685,-18.450384536187723,-20.193934324095704,-22.41060143058047,-3.128637601968684,-10.548406187836628,-16.059199299805712,2.4899753366032265,-17.39781057603397,-11.135869006223112,-15.382174550162059,-15.233844036058763,-16.21388142710525,-22.16610575841652,-11.555053807444244,-2.371276538167882,-15.497983291263566,7.852985391288106,-11.141898507397391,-17.23931730048465,-15.1552940438926,-21.24916303808418,-11.147021161851235,-10.430739336444061,-16.21586723664157,-6.05416339382482,16.886233462539614,-0.1917754524642686,9.75873823270193,-11.451964103148331,-12.202851989568762,-24.279088756088047,6.698082529742974,-12.470930483555689,-7.1361667758708585,-10.118753969135915,-16.140918293120176,-10.164269822919652,15.720078950241266,-13.149135248727964,-18.120741903700033,-16.079767616922553,-18.135908570276058,-20.179131584561453,-13.187789702437456,-12.401644446408424,-25.17264893473297,-3.1194125701514728,-7.5633510939524395,4.882077195214449,-7.703121060101321,-16.135796146991304,-13.34983824293817,-11.206318188193393,-16.404129922430865,-10.398160792646948,-13.180317535465262,-7.113101377444837,-16.582847173335576,-16.251965923316465,-3.452237814687102,34.76403585385987,-12.155157214387188,-10.274573236651776,-12.0957588947096,-23.417291149473126,-18.10525363342702,-24.179473294256795,-14.262684336228093,-11.268899119918924,-16.13931248874102,-16.180696968451002,-23.15453508175063,-13.300409679866936,-23.23699829152926,-24.265950506658363,-14.214074245136855,-8.521870205226655,-15.227797664178878,-18.616179895913696,-22.109391189284015,-20.33154264759177,-16.22854992448308,-3.2282104561899145,-8.140874353072578,-22.467285802372956,-20.25086525147914,-24.21963225901003,1.6302946385948465,-18.16805143172847,-20.07792272862105,8.812307913076873,-6.111897223397836,3.8702777404629343,-21.09725354439515,-11.191649690815565,-7.63379609975237,-20.17790211749407,-25.182529299948936,-4.325141301474742,-13.083021897137339,1.8435919459061159,-18.39721650614494,-13.212824323959433,-11.11896280143647,-4.499935675977963,-14.204770497368227,-13.116478648286948,-24.17324300462199,-16.108963301533304,-25.06866744518206,-8.156935305116493,-3.203786317300653,-15.45173613961065,4.90835369407382,-0.47245192739763653,-14.448315698551772,-5.488670240628433,-13.102390436201821,-15.549047856053969,-5.1208713236294505,-15.572669092753646,-7.424015642515783,-7.635401904131532,-7.634904243258308,-24.51334013599427,-15.446115824283583,-2.4714562071764483,-13.378126572503518,-25.66097897128143,-8.068714629602061,-7.437199508093353,-18.46185880383781,7.509112952305162,-20.147247688970005,-13.218607777867744,9.757555041089947,-17.23563702756348,15.84219900346431,-20.29602503879979,-10.32098036736553,-12.098258984556649,-21.128029296480655,-1.4167251540611996,-16.447625219646945,-12.098226287003756,-10.2063683217538,-24.06219408454034,-0.747271306921764,-14.20886372426755,-15.36447785345585,-1.203310475299108,-15.456599319878555,-12.11978666606107,-3.0975766387928307,-16.05589982463192,-14.428249726803482,-24.335275467007317,-12.266088763018022,-13.525415489404962,-3.16955686130147,-10.196153718511093,-7.469296753397872,9.853611553561471,-5.21530595360642,-13.342989085588455,-17.135146399914742,-25.189801186785584,-8.620332672785924,2.716089406366943,-20.23415498311221,-24.297349151646596,-21.25866311387774,-0.18079429599607533,-12.258594259284505,-4.167854647906505,-8.292763816535592,-12.18949191583242,-18.106859437806182,-10.418106100141308,-20.62673895750435,-22.321610550429348,2.8309012237892484,-12.327496606866271,-2.151510246209545,-15.435169414846726,-8.163571872346212,-17.135526689337144,-7.206077771833477,-13.142508591555373,-10.368715951946784,-22.501456572646738,-4.161227990733907,22.857801885896315,-15.425974580369518,5.34055827603841,-21.55571178376044,-15.402323146329833,-15.1473366263172,-23.13627468619208,1.8326034371842128,-10.481302064190881,-12.320342091480448,-15.156866899450765,-13.525336532830856,22.648676762058482,-0.5883219284621524,2.7634571117958115,-18.331283163841164,2.8735857582370605,-4.376146672214757,8.863238235710845,-3.127834699779103,2.746585654040505,-17.492609641377676,-17.143814828076444,3.8631232250771093,-18.512467298715055,-2.4671364549121884,-17.544840527074456,-14.176176926486521,-4.121315073246656,-14.528006783044873,-22.111469174688875,-4.684606463586535,-5.188937820200642,-8.128844247148828,-14.476561928832075,-2.324314350740852,-0.18958361247144334,5.829064369763114,-11.53522970679158,-13.555358650285855,-25.333573253612347,-7.2922149958873455,-12.170340243343851,-1.3025456477079569,15.895249662056274,-14.210131338509358,2.5398989257864404,-2.494274541686549,-5.66347702540167,-0.10193906251355501,9.879930660030858,-7.284562819628298,11.857768176809156,-23.227498215735697,-23.229104020114857,-7.285027648400272,-23.272399037195395,-23.119322714275015,-14.391351939067087,-5.3988104203086165,-23.151150932678913,-12.474935592771446,-8.194167106819894,-7.11704428407234,-12.512770524853854,-15.206823320735223,-20.1407952907633,-21.197354256829605,-25.348199935970378,-24.38055657788941,-11.520430484120157,-10.663391096592347,-6.443175349279716,-20.134109439540318,-14.238229999998822,-5.147586797636631,-18.43733466149848,-1.4298634034908844,-18.46975307525221,-12.276051752653478,-5.16615243451154,-13.112158896022683,-13.154041036605888,-13.09807068393756,-7.118650088451504,-0.6922182193559736,-17.33367688235557,-23.22145184385581,38.7942033529853,-3.07401408781856,-6.467658682219362,-14.164527109985174,-4.114498747998185,-14.19205881281634,-24.136178277176278,-13.423525054836425,-13.057489614742137,-14.248520567711957,-23.149412935621758,3.890143940400648,-12.149173480343334,-12.222758998906157,-11.366945126335104,-25.14860508526611,-25.11997856556341,-1.1556211661732512,-7.091131712254741,-10.230838736098459,-5.198501042155211,-13.536145032265903,-8.089429498859777,-11.425779238835377,-0.13297428878499593,-1.0795219798608735,2.8929542973015514,-6.080193337093245,-11.154450721213419,-1.0803248820504543,-15.712152112981135,-13.732211130950455,-25.47957796983162,-4.297321636072239,-4.229719851553273,-7.104269961684425,-14.166470853233594,-21.559345496960965,-8.336556494489344,-16.173880643202537,29.82361148562512,-18.452981112622,-23.098348370831363,-6.111591982081479,-10.201246175624934,-16.50002003651518,-1.1907161621980438,-14.133990052911935,-14.186045389757448,-12.1321215049762,17.41012577777508,-24.35353586256586,-20.339072991964397,-24.48089989380419,4.909156596263401,-18.32891706488244,-8.064394877337799,-21.22363075568878,-23.14324919229104,4.875550033166945,19.858091112943725,-12.569990107113275,8.644409088098516,-24.16948796786002,-20.242104931714156,-14.368002229480924,-8.452164955455306,-8.116609684919181,-23.085210121401673,-0.09040661746303157,-1.2332206873590053,-23.24575861129425,-1.6794101257882827,8.77498421977019,-18.349544067724686,12.76416085524243,-0.13259349103762189,-0.4920430833589954,-15.463913306000249,-8.402794569784506,23.856099672501358,-10.109102880765882,-12.254058657094276,-7.128795393909116,-17.14714380828559,-24.25867861982171,-14.052575792588849,6.866776904657204,-18.641712178308897,-11.489320745276016,-2.127161155426325,-14.625681767222448,-22.477032433757472,-14.273947888926351,-4.190731668142016,-14.141111111151789,-0.25206325086154396,-12.152443266502086,-10.18980210531485,-12.313941719050094,-13.16733746688608,-14.169390290253084,-13.182286758561219,-12.167551247352703,-2.2116522740263274,-12.620766017027686,-23.167673331180307,-11.128613197501858,-25.24235418450433,1.9182777473961965,-23.264019006852806,-16.137401951370467,-17.104459273837776,-21.187674171749194,-12.220309991262708,-21.127285080016488,-11.103080915106657,-13.509960167952944,-14.267161252692906,-3.3351643511619073,-4.227616386300889,-8.438662778983849,2.873527072511649,-13.105995152691971,6.885037300215754,-6.168464732064478,-11.41835703172691,7.908867369215989,-11.217834555128524,-18.732292276398805,-17.205827600514045,-12.416654818331942,-10.365933391844967,-12.469207816050679,-16.0914174334239,-18.49149346359638,-24.12328658333753,-11.375822817550917,-12.201902026913329,-24.705365719124217,-22.208790292864343,-20.219466606490908,-12.32024310468033,3.877369618012733,-24.13568061630305,1.5354702279519434,-15.104652091869383,-17.524623318689965,-13.473944389962776,-15.131334617055561,-25.47081765006664,-22.164997614910575,-10.499222471401742,8.708192689694512,-14.584587110020934,-12.06270867821178,-11.416403886746343,9.861670264472306,-17.672655943730607,6.803639626333039,-17.426554467187483,-12.177917371496854,-11.678051810962913,-15.40583213582583,-4.194189832491285,-3.291371673208157,-7.248042028511197,-20.523121394995215,-13.720045866505895,-13.482822081178586,-13.152346857486286,-15.198401191107605,-24.072222018547134,-5.4198429411527025,-3.207483176662185,-21.089722691697542,-17.45036709061555,-16.122845767427165,6.526273746958111,-0.1075593778406188,-8.633699690736567,-12.415081962773774,-21.3086860814663,-11.536835511170738,-17.12280804413677,7.812521693543499,-17.202954181893073,-25.176165276482674,-15.481676040685576,-10.111541276349653,-11.386188941695064,-23.238486724457594,15.827032845213262,-11.548427150271642,-16.26873788594668,-23.0739242319421,-10.10749707638672,-22.074518301831123,-17.643414391703864,-17.143932199527264,-8.195275250325828,-18.57800753328701,-18.455900298373393,-20.168765968742274,-4.1688046105619385,-2.475516485254775,-16.480721052292647,-5.067895713143532,-13.13684250909788,-12.25728634396799,-20.172779971365205,1.648672405604221,-8.50182399600209,-23.075224795004903,-21.12889088439565,-0.47405773177679744,-7.571743026240067,-20.148355832475936,9.828485805818058,-14.37642435910855,-14.572749423654058,4.842545583799547,-8.063897216464575,-2.170456172506854,-13.292104921690132,6.86788504816314,-20.425111737543133,-8.485169404822699,-5.376050263198953,-0.2067821399794543,-14.256490395557378,-11.165737118997965,-11.170830268416452,-5.453299692302311,-2.121114783546437,-17.21840950334509,-0.17126402286250628,-23.307811684806552,-2.571160552073113,-13.44952025107351,-20.167963066552694,-0.20321952277435043,-8.456923174542402,-20.10586371758499,-7.509689952727765,-6.121122255215048,-17.051788904668218,-18.19168874654354,-4.121770634834836,-15.396725676089067,-11.235864981536498,-12.725703905123353,-15.288742594185248,2.629090086073104,-22.248568968195155,-4.343975322376942,-12.408075016178774,-10.093339058191537,-0.15961420636116008,-16.152906299758882,-22.15260358194506,-14.132384248532775,-18.449886875314505,-22.44342536233604,28.86910637697383,-12.16197353963566,-20.169510185206445,-7.449003988582362,-16.20500373588944,-6.591705635193584,3.916784366301785,-6.139624862648706,-1.365706864726198,8.80600206701105,8.682493584309734,-12.134182870943544,-16.167411150230492,-8.303329428225076,-15.177188660976661,-12.142605000571175,7.732090853021824,-0.4533886296495044,-8.263492067168842,-11.235062079346916,-12.5187282707252,-4.138922886887448,-1.1201030490563029,-15.215583640500217,-13.55964889751477,-10.182488119193158,-25.58307420877933,-2.525615009274348,-22.164194712721002,-5.3755526023257305,-12.064707590322769,-18.721065072664643,-23.16329540151561,-5.097747747802992,-13.124042449805552,-17.17362605333623,-23.18006736414583,-10.16743933239293,-14.177285069992461,-3.3870318181418875,-10.407376557280362,-11.413644171730816,-4.551803142957945,-22.22920042913067,-16.479321245372855,-13.18457809367914,-13.13519460543367,-12.293243436232748,-17.257643734022317,-6.394013969606152,-3.115092817887213,-8.178561973421031,-16.27799586658489,-14.161128139686292,-14.112062487006883,-24.20026371994554,-24.615974278701998,-8.204375558438509,-21.121121336685775,-3.121018374530635,-2.4504818637327976,-23.197102753072585,-17.196104907823603,-15.478962092800478,-17.48971568420573,-20.243213075220094,-15.44500768077765,-10.35754145955734,-0.20161371839518943,-4.163108839089421,-15.404731852898578,-2.2565530954860185,-20.130475726339785,-25.59847906204264,-5.0738212697869525,-22.179244007846197,-10.11159945375009,-15.691109157320767,8.823460068704996,-2.0809268220828336,-16.72175555156947,-3.1599936393469017,-2.1235234901151796,-11.155633912825394,29.867404163578854,-24.43871251190463,-18.32015674511745,4.8439048325877625,-17.1255214836969,-1.262269311503911,3.415515852134207,-13.162332692208032,-13.168040873950568,-11.102337206967459,-3.188419878914053,-16.179588824945064,-8.632093886357406,-21.179457788312824,-18.10957338569128,-21.139679112982,-14.164117823852392,-10.15212234554508,-8.461242926806658,-21.199323988250537,-22.151115149016714,-22.44563378876924,-5.421448745531863,7.856652561634607,-16.41841841465153,-1.469946811813091,-23.5510067939077,-25.57815183446103,-14.158660747392139,1.8946565106965156,-23.20455804933918,-0.12130760157804499,-6.150509069497309,-24.295120962689687,-11.36096139229124,-10.1298177500236,1.8485138118994342,-17.524125657816736,-11.516137228353386,-20.524229538501153,-17.622240276449638,-10.323746518270378,-4.530284863185673,-14.594179328685884,-17.168966821049242,-18.572262494255412,-16.396946410334657,-16.38023614196772,-11.137490888717664,-12.135291014449479,2.820974074792911,-24.14043883539015,-3.07321118562898,-13.19724767894598,-18.27616378702815,-20.15711615224093,-6.136626603603456,-15.20000699548676,-4.306969280656631,-4.377254815720695,-24.267982875915322,-11.579461868218115,-3.486588594247725,-17.117902256258848,19.753851165856833,-3.682939395697647,9.729794569737832,19.714378240167342,-15.183887614774306,-16.118935809620655,-0.5975409858986738,-12.461250398475274,24.833230696105876,-24.152832868355663,-18.23225424594855,-18.148682892663974,-6.438797419615019,4.9150821529068205,-1.214960291800454,-15.052083016035255,-11.111958606322467,31.838467454393726,-16.17828826188226,-17.15280989074308,-3.430368934507461,13.868304393313517,-3.6871115791710802,-24.169065355092854,5.869587261558106,-18.176184398155137,-25.427024972112893,-16.08343101913811,-25.459829141344734,-15.224222636703761,-12.180689496782392,-17.10174532595268,-11.669819349411153,-16.249251975431367,-10.235200587647764,-6.47066077665548,-17.116794112752906,-12.748886166675224,-1.6451175236280968,-15.528362675811275,35.79892970374782,-12.15404907088125,-12.082620645279917,-7.138135998966814,-18.151704582078334,-15.347541959654183,-17.19771071220277,-5.379261871957275,-4.497903306721006,-15.125468254462533,3.864916899321806,-8.613808010951315,-17.10726108813834,-22.40900803647132,-18.305898450236786,-21.200068204714707,-16.114235767933998,-3.85107742401324,-6.099650250898175,-14.404025359724796,-10.166983770804752,-12.448531361669671,-18.04897854776731,-25.340547759711324,-13.465711928411011,7.865074691262236,-15.421670755238116,-1.4747939139656046,-18.25537782177501,-25.20806158234414,-13.671763861817315,-20.10456315452219,-14.224029882518604,-24.164670554722548,-2.2875878134324847,-10.179758093192664,-2.375173169339988,-17.10856165120115,-18.367512040276306,-3.085299977278137,-21.16780797181148,4.8693784292575515,-18.426458058171686,-12.530666993370634,-18.608788751428236,-18.110071046564507,-14.15585516496063,-8.171528781596642,-14.579196071539805,-21.23201078603156,-14.133492392038706,-25.138736621995182,-4.073917678802757,-10.46385192307562,-11.17851144138588,-12.2197068608837,-7.1619451055320305,-25.16266310001122,-16.267174180852567,-6.1231836211823865,-15.195290875684705,-14.18344881332317,-23.096244905578974,-1.146379547915672,-11.478954621131868,-10.086083757795258,-12.18750582203086,-4.110120818333487,-10.132871177931417,-22.168877883702056,-7.485265813838504,-15.147788928099402,-21.101752797621288,-16.193471290838918,-17.61260178232929,-10.104783128501621,-16.04917136579892,-18.15176025926587,-11.273581782575004,-22.442000075568707,8.864480621373211,-2.1434354571833154,-25.16426890439038,-22.132268717844514,-20.171479408302403,-21.241891151247533,-21.171077757970238,-11.21665085519157,-7.369493421701087,-25.236487821911286,-2.492668737307388,2.8679654429099974,-23.520728702695422,-11.285553711098318,-15.083222186837556,-4.490870114896618,-6.461130503521909,-17.296628233025245,-8.23987083046916,4.49270182104276,-25.14711665233777,-14.114776434891981,-11.51580299032665,-14.547217141258853,-20.287005753173844,-16.184757246529323,-22.263688850990803,-14.14854117883894,-15.15449114170302,-1.3327450229688187,-10.163002208677847,-4.520722149556081,-3.276820547281149,-0.1158215284074087,-13.14437702964087,-4.235022515293966,2.8464476714626996,-21.206478503636365,-7.152076642261105,-22.153711725450993,-11.26729331553976,-8.458031318048338,-24.541844823810557,-16.673404934664166,-25.455153830942358,-2.130339815363649,27.770858198206152,-10.167321960942106,-12.283002320058372,-17.491016247268533,7.88333508682079,-14.233940445074566,-10.29582837439273,-23.290173673825745,-10.115266624096593,-11.147824064040819,-1.4250459903534012,-5.208034066769772,-7.531952448964204,-11.11356441070163,9.592097871501329,-15.219100490574895,-22.242702605602116,4.844151388178709,-11.27964408158775,-15.149394732478573,6.865974002467621,-21.40503175713879,-13.711771305669089,-17.425751564997903,-6.068907447633667,9.83533507988753,-7.365173669436827,-17.141160074241736,5.780893762144665,-1.6396314504574598,-3.176067945233581,-1.1590201364721338,-24.224190197961576,-14.292388802096726,-14.201738897896753,-0.1269279169051087,-10.16537796642559,-17.194499103444446,-12.39642519967743,-18.050086691273254,-20.307674855301137,-14.69231370984251,-13.597277832137804,-21.267043144220327,-25.190909330291518,-1.4556422414770305,-14.177782730865683,-10.46659881978172,-22.11355276069778,-1.0806301233668123,-2.1616958527418673,-4.120662491328896,-15.676712952438296,-17.452336313711502,-18.324174923910732,-6.198679677115758,-4.181942859991623,-5.284054028805754,-17.16203492256029,-13.206505659584186,13.747475893026353,-12.10409264959679,-4.290167120686415,-0.24169712671739602,-20.4698286412479,-18.253784427665863,-10.0721265280606,-23.271290893689443,-12.2655911021448,-12.17747788802407,14.687329090740182,-15.150050574202297,-0.4721466860812785,-16.442139146476304,-13.19215522183214,-4.0695979265384965,-5.496745029654662,-10.24396090741275,17.892953378772283,-7.070111601680666,3.7143871929719783,-11.297419885850601,-11.293450991050586,-12.160748024678895,-3.6288437397607485,-7.2415730438641255,-13.316073498991209,-14.273630745664951,-15.206358608683002,-17.457841206780618,11.765060166447814,-23.30176531292666,-15.13898679331462,-5.227244424983759,-14.18169268867219,-11.139096693096825,-21.11563526351514,-25.11320433959998,-10.11476896322337,-14.481006013195644,-25.410616936524445,-13.142302845364103,-11.645395210521892,-14.554647208946008,-15.154897168029834,-11.156859427782154,-14.26650591929416,-22.157345438651532,-0.3402709913468018,-13.264720279324823,-11.165619747547145,-15.323415201502591,-11.49027070793145,-3.077225696576883,-22.250977674763888,-20.405245537605413,-10.466804565972982,-2.106956765351256,-10.210471207442145,-18.164174171474862,-17.056196523347943,-21.19661004036544,-7.373753979914961,-15.209419897169502,-25.21429187197894,-10.156152934608377,6.73539887079595,-17.4965320094542,-22.125582866621528,28.792467430503187,-1.4024076651301522,1.7406983290124496,15.84985117972336,-25.094943944041425,-25.497458075967774,1.8751537294755987,-16.22173359923461,-23.404897116507623,-6.1179106464567266,-12.167583944905601,-18.159746165226686,-6.0940428541661005,-16.262796251187865,-6.120657543162825,-10.130620652213178,-13.188212315204636,-8.198666868371003,-22.545249250600488,17.842432241985527,-20.199800686688736,-15.259376318453961,12.874824019845965,-22.16937554457528,-25.171540791227024,-12.135788675322702,-13.106450714280152,-17.282871283426136,-21.179838077735226,-24.097754300942334,-12.145318948456271,-18.1449439340174,-16.163531389763993,-15.192735108650108,-4.300650616281383,3.5159218058850223,-1.0758127102293287,-20.238349894952187,-8.376609705471546,-25.375216190858307,-3.4894199135836477,23.805490669299136,-11.105636682141256,-13.143616735061308,-14.133534491323754,-13.269466596466875,-18.120361614277638,-18.171806468490438,-6.618346061094721,-25.13984476550112,-17.085743316691044,1.7742669855571644,-20.32969028762166,-16.149954165186493,18.794135536336245,-13.133588801054513,-4.0707060700444355,3.8729916883480335,-7.076885319319117,-15.189465322491351,-16.11533084186241,-8.516865430548608,-25.43578529187787,-13.388610068098481,-4.278680951091288,-14.493058847485933,-11.114672554207568,-14.517482986375196,-15.438338924320005,-17.043058273918255,-16.130087965248784,5.868479118052169,-18.196008498807803,-6.153778855656071,-10.089734341701394,-20.143977902811244,-20.453796434646264,-18.51360778010621,-17.10285346945861,-18.500993539389945,-22.172833708924546,-12.408232688704306,-21.278031652942232,-23.2636387174304,-20.572224088943365,-12.300475891542739,-11.15981156235454,-3.11620096139315,-23.285052036021863,-25.114810143979142,-4.095991796848688,-11.155751284276215,-10.158561641177121,-17.144237440843625,-24.349902149365338,-2.1271868923307378,-11.60369358755051,-12.237462243315319,-25.252962403803824,-7.3100951020234985,-12.69142122945447,-8.062789072958637,-8.366273778667404,-24.12730058596046,-16.235189500250662,-11.34083255864719,3.740505510980842,-21.07732865873203,-1.494401148042357,-11.476388242037592,-24.196508683183563,-17.385564111859278,-13.14090278717621,-7.095949125392224,-5.069003856649471,-10.120782386282258,-16.482925961863003,-18.072905025783356,-18.519709496536674,1.8744850694424449,-24.122178439831593,-16.714441565447775,-10.497458994497046,-25.13435869233049,-15.409595033166482,-23.17568943448113,-13.466820071916954,-24.191503400180547,-16.07791525695244,-5.68691876113947,-14.1839538264501,-17.307400383496212,-4.468051780386518,-14.158569112845733,-17.060211034295847,-7.415635612173193,-21.127590321332843,-24.15011942879553,-0.2620609875283312,-0.1998905425652056,-18.116697703737103,-5.111688391097285,-18.635583182009523,-20.200908830194678,-16.453638642705833,-1.285616012552213,-24.185339656849838,-18.15083998562547,-17.442711397493653,-7.530664296171415,-18.17453649449093,-13.149119170612574,-7.414832709983612,-20.380210916083442,16.822616683933195,-16.400620932934867,-25.593803751640266,-8.289676931481802,-18.15792400259658,-11.260476990291288,-6.417312345720621,-15.107863700627703,-15.130184374264582,-18.305639484375835,-5.456163452134259,-12.185097115462117,-5.409916300481341,-21.234238974988482,-22.136676336524243,-11.241016816680391,-15.124360110956589,-5.502552706522286,-3.180082456181483,-18.2219210706254,-16.449260713041134,-21.134013030524518,-21.07622051522609,-11.127007393122692,-17.093975778242804,-8.247828248044568,1.704495189481718,-18.300202170439295,-21.06734333233525,-6.311797315418462,-13.14120802849256,-5.0590772159781086,-24.116014696500883,-18.083738870517593,-12.091042774907542,-17.184238224746338,-16.155662346929027,-15.102724968058475,-17.159420469800285,-16.147240217301395,-17.463222827095414,-2.183347866345592,-11.155253623403,2.4539193742580987,-17.448859062708976,-2.167859596072577,-24.1798535836792,-8.05397057579321,-12.125305179727723,-18.238120100216616,-24.16597111778535,-13.142010930682144,-18.149351552697127,-14.22124468765554,-6.125094158552932,-15.055690992331368,-8.193394401970316,-20.120971190110637,-13.22571601779817,-23.142141048785103,-18.490163211518546,5.781971708310597,-1.5856957735814048,-15.152986630659296,9.901753672794515,-20.225332969083944,-20.207072573525394,8.90827329932696,-15.081469830317513,-18.15941243552492,-23.198210896578523,-12.184733696745324,-1.3393716801414173,-15.099483670285121,-14.359124538265107,-18.35952939412146,-23.351604362760295,-18.177790202534297,-12.451222464468481,-16.84692039056126,-10.594882616335473,-24.2309181484696,-10.484976586791092,-16.154056542549867,-5.1802406465966575,-13.110159983911698,6.4548453213567765,-10.160944359573348,-18.182155721928975,-14.215985290832373,-11.218912501294461,19.27534331712389,-13.129528522976186,-21.17909386127106,-18.148548650507546,-15.419961157310635,-24.114906552994942,-15.150548235075517,-16.32922725436487,-21.229414209597287,-13.248341932751408,-10.176822036735674,-3.360696633557107,15.836871111144182,-16.268682208759138,-14.577582914906936,-10.164725384507829,-18.254269678269072,-12.110444262793035,-6.64536677641826,-16.52717420140493,-11.165431877681604,-22.07648803325206,-24.319909028620714,-15.64571067498785,-8.110901503176649,3.867371373020971,2.918486579696751,-25.257156924038576,-21.12839322352243,-25.216939273559944,-3.494483373987104,-10.320060093725127,-12.205113635671655,-8.313010021630468,-3.4627794876825093,6.819742928930101,-24.40319490311266,-17.304886715746658,-17.099186299112112,1.8763961151379642,-7.069308699491084,-13.171557215700274,-11.184830105761128,-24.2097637957391,-25.084155715455076,-2.074110496834364,-15.165627219215752,-2.24928120864937,-25.40260083322363,-1.1013449926245287,-5.095033799917892,-10.42005924512187,-13.145982834020028,9.800695137125938,-14.157460969339791,-14.184599056114152,-25.216821902109128,-16.10134407409526,-12.065208768058831,-4.1153016501877655,-2.1167950312821766,-18.100043112557714,-17.159011183667502,4.87128947495307,-17.19660256869683,-15.265159772362278,-25.19492333291445,-23.176433650945295,-7.43318499714545,-18.339177435255568,-7.064491286353601,-22.56023986000028,-18.42355169072972,-18.11990931249542,-18.16615646414834,-13.248312243736377,-10.613143011894026,-11.197224138726638,-5.169176173404326,-1.1018426534977515,18.49146705945146,-17.079817760047625,-20.13009543691739,-15.147278448916758,-24.205385866074405,-7.328355497582048,-8.203952661406094,-1.1257530533983966,-7.116663994649941,-14.14170877547508,-21.15597329398247,-13.668981301715492,-7.085554004537694,-10.088128537322232,-1.1440295270723417,-8.307284745122596,-16.111372008102048,-10.408648123632785,-8.273022340302413,-21.25494649199249,-14.523713276010001,-5.463137958233234,-11.214831952367433,-17.344635193737478,-0.07751492362429359,7.857760705140546,-10.18467995918598,-17.21069078078195,-16.353900957382944,-10.174108597175543,-16.253085968767444,-3.3157958120974187,7.90726156483683,-8.558482887947038,-15.22508371629378,-7.073218657297592,-8.167862119575114,-1.1451376705782803,-22.152223292522663,-11.462149709680657,-20.410003756692515,-12.13012259286521,-17.13029628922436,-8.154874190417253,-18.242937513354093,-6.460327601332331,-23.15090136855009,4.927417500146926,-6.448297495408583,-4.121009831930297,-24.21703568257574,-6.4708110969273,-24.109040190401906,-25.10638801435151,-11.144307213966139,-3.251593506202308,5.804522351098056,-8.41313049658865,-13.662007303941495,-8.282860606233335,-15.121649679934336,-4.333137133926861,-22.170119761039444,1.8314952936782742,1.8752879716320259,26.850993032316456,-11.452924677863441,-18.20878282119572,-21.156714501908766,8.774001308293757,-24.328003580170666,-23.32718022387104,-23.19469404650384,-5.528583158115684,-17.153960133534063,1.5347848139329356,-12.476424025699782,-11.220904061151739,-18.4405462702568,17.845146189870626,-3.5232569541556553,-6.467599488168979,-20.1983122537604,-2.248173065143431,-0.1177325741029277,-16.532801868985704,-10.395785426504428,-1.158275920007965,-15.196251958724785,-18.12557539495291,-13.184197804256737,-18.163004049440406,-10.128463559251687,-5.558493370175581,-21.20499007070803,-18.202824824056272,16.848951868517975,-21.216476240303148,-21.59950446171419,-25.277386542693083,-13.177879139881485,-1.4261541338593398,-23.203074076846438,-15.634120052536886,19.889548951982352,11.818851089393323,-20.128987293411452,-17.213241081760824,-13.218988067290145,12.900356302241162,4.738803297585878,-20.28879156683986,-13.368751220414484,-24.49367421619211,-12.476754746863683,-3.54543056732668,-15.356711314283846,-17.190163273064794,-1.4078937383007881,-0.16700346464863136,-14.206919729751032,-16.468837749777883,-11.346442963917136,16.630791380938792,-17.408143751357116,-16.14402860854307,-16.170669034444206,-18.136288859698464,-15.174474713091561,11.85666003330322,-14.139200573781242,-21.28819749695083,-3.2311044133618663,-18.11428950549334,-16.22803944530043,-6.461435744838268,-6.46193340571149,-0.7040480451441711,-23.123880653226554,-17.12111386501717,-18.47591681858292,-12.503089931448457,-20.1169571874877,-12.104122338611818,-6.164508906841987,-18.20314943629113,-10.116374767602533,-13.150741053107122,-16.160742393772846,-24.16868506567044,-13.106948375153374,-14.17413214695955,-13.055386149489754,-12.233242494501132,-7.463442801074848,-11.27803526867072,-17.198985795418032,-14.122340236410588,-2.2785227606761143,-3.696791664251496,-14.25231821208394,-11.32124140268583,4.883319580876816,-21.142333866816717,7.821282013308484,-16.19941292559773,-11.456633947494987,-17.2502637099215,-21.11655553715554,-14.292355853275728,-25.16099911823161,-11.339799687307034,-18.150037083435883,-11.118774931570933,3.497117982322824,-5.493487653765915,-14.190265138571643,-12.139991056136141,-22.1272473567261,-17.199404891322366,-25.391992613924128,-6.09493739090209,-12.138047061619623,-5.5156080472672455,-11.162069948651466,-16.472049358536204,1.8257871119357434,-8.524370295073705,-25.251854260297886,-13.552452282843896,-10.347198180499488,-23.489212686256366,-17.477468711706063,-0.16803684431376487,-6.455949671667632,-10.41814819942635,-8.141735940987568,-25.225699593324926,-25.185423257120874,-18.14589389667284,-6.125474956300307,1.9185829887125547,-1.128365707948067,-0.15491467299947387,-18.67455844682579,-18.16304614872545,-5.401084884720929,-15.110360273611914,-18.156112452026157,-2.1314809076905856,1.914263236448294,-25.22260535601743,-7.076927926929136,-10.269956103649836,-5.107310461432586,-15.19107112687051,-20.213302863160195,-10.162969259856848,9.806591697058977,2.916575534001232,-21.147954182143785,-12.450114320962541,-22.19731653353923,-14.234057816525393,-17.281504174059243,-10.193974288788285,-16.531536052954234,-24.24566220227845,-15.52349949554337,8.837840195472072,-12.149671141216556,-7.50476859505942,-21.522527325106193,-15.140212308271378,-20.221377652186426,-16.156117908517206,7.37069230845319,-1.5819563066098552,-24.632688063931784,-7.76291299583571,-6.277944196731059,-14.13433739351333,-20.142869759305313,-12.212674177384288,-13.553752845906697,-0.1285794884146934,-5.448089171433003,-13.21600573537775,-11.53277523309241,5.517334792232576,-23.24686675480019,-22.22192854229402,6.881023297592822,-6.420834404794141,-12.13727710825104,-22.16815354648135,-16.19142651131195,-15.178518913054495,-1.477202620534346,-16.15891972281777,-23.311445398007073,-5.139570694335813,-14.23436305784175,21.88102187073858,-10.57825771417111,-15.424092531384378,11.762258352147246,-4.1546169033517275,-16.190288678790974,-8.198984519957376,-5.1488123125933924,-23.181555797074164,-12.525662218692586,3.9156762227958484,-18.66613631719816,-15.2028093181123,-22.74595224481068,-18.357133097822732,1.8492580283636035,-10.540887745409034,-16.444911271761843,-16.33725994410605,-20.278625722831258,-5.174344594988593,-10.202036667544498,-12.150837462122931,-12.651925458678685,-2.576557742178333,-22.559131716494335,-12.220690280685107,18.889340119681794,9.75154161803106,9.904660040236479,-8.473636959772175,-14.217285853895179,-17.168511259461063,-8.095794030651009,-25.21318372847299,-6.206298904553809,-23.382258791284364,-23.250500468000713,-20.130593097790612,-22.233578358795356,-6.16777920132572,-23.27856278052609,-7.1027654506406925,-25.096549748420582,-10.08682797425943,9.8810388035368,-16.12762057295463,-11.401623483973408,-15.27159034213263,-11.161299995282885,-22.247460824689206,-6.092833925649705,13.854861410892447,-3.243101570464613,-11.181283566671418,-17.2732326217603,-14.49114780179041,-13.188609191067407,-16.111869668975277,-22.128179443055792,-3.6835365516959633,-15.359333370565665,-15.641221348253021,-14.411825104774676,-21.124876373447748,-15.148942430696358,-7.458625387937366,-20.28023152721042,-14.125584542721803,-12.156763018766354,1.434952485525771,11.902058515636131,-0.506744529557823,-13.101282292695892,-11.314556059787819,-16.546542740469423,-12.171653624716079,-15.50039199783231,-14.154688844054258,-5.462029814727294,-3.106274320721788,19.840938860891114,-17.551034467745176,-12.47888790113109,-16.162436572892453,-14.372163800894675,-18.15065211575994,-17.627107141125872,-12.453631171037223,-17.296975573626646,-18.12828934283801,-11.07960673887283,-18.13510566808648,-2.108474194989976,-8.175965905311722,-0.3715114554845326,-18.104245493371153,-4.244568866542928,-3.168871330562711,-25.096052087547374,-4.129084620956527,2.760468119934359,3.8547010954494794,-12.495182082131558,-13.26967234265814,-17.18664693131508,-24.150804959534298,-2.1379493840126793,-2.5120372763718777,-10.530522129589855,4.827349228208491,-6.416534923378577,19.902687201412036,-21.17218590147618,-1.6013248456743454,-17.15441569512224,-8.114961781254975,-25.309529404145486,-13.229934476727001,-7.370178952439846,-5.151103139386337,-22.425967868967074,-13.210415617390696,-17.190163781389764,-8.370445962140835,-15.156214317533005,-13.144419637250888,-10.122082949345058,-12.293351573496913,8.864538798773648,-17.145538003906427,7.558525945585977,-11.68060808632248,-10.127162996188883,-2.6329244623844508,-17.1616949342126,-6.163647318926996,-1.198640630952452,3.8645695587204045,-10.141907049997728,-11.50720085141217,6.777405735083685,-0.0823323367617768,-7.283454676122358,-15.125015952680322,-15.181478908205564,-2.112079419805098,-2.0746081577075874,-17.18254404562674,-10.4132429198734,4.651217941678377,-23.14017182568915,-21.152817362411692,-12.147915016565573,-22.081734511480228,1.526054691507953,-12.11546691379681,-20.168402041700503,-1.4688386683071528,-11.154233854637493,-12.242584389444191,2.7871085458354967,-8.711784970850502,-21.141167545910342,-4.314093598702452,-4.1675494065901475,-8.13211403330759,-22.64997495661556,-25.19856150655057,-25.17413736766131,-11.163675753030626,-1.3261549824625982,-12.202646243377503,-10.189989975180387,-12.536241441281712,-18.143835790511467,-21.180946221241168,-5.163861099393622,-0.12263785365587815,-15.08313432042209,-21.27469532047938,-1.3904362449318173,-0.14733754484646747,-0.1476427861628254,-15.22664742138789,-12.544913386306254,-2.13955518839184,-2.3795510990046846,-5.276523176108144,-23.137763119120418,-11.148161745853201,-10.281389561900246,-23.239594867963543,-16.069129457339923,-24.538575037651793,23.855355456037184,-20.15637193577676,26.87251080376376,-14.261998805489336,-25.20368365267943,-6.176539012765732,-12.19366956536157,-11.182433809462399,-24.232026291975547,-11.141095605207815,-18.098286987906736,-18.48261577238057,-22.102764532111415,-7.254983194183946,-11.414752315236756,-11.206609851607254,-20.279733866337196,5.924912384562381,-0.5044531944399042,-18.468147270873047,-14.09827951623812,-13.084130040643277,-14.290389130392663,-10.11732422193299,-11.162102897472462,5.871251243337705,-17.21730135983915,-18.333094714411587,-16.20345712556066,-10.12870960651766,-20.42127774420705,-1.1268772750197287,-0.13738190746472376,-13.752833957622348,-6.067799304127729,19.819115848127463,5.856085085086652,-8.116112024045957,-0.1457317404673064,-16.63782495573846,-4.201837548314742,-6.118366208044907,-1.1316946881572116,-17.51989428029292,-8.536233969613098,28.799781416624874,-10.237766966742035,-6.2311531251837105,-11.199543962229969,5.913379939511856,-16.49597583655224,-14.200045227102123,-0.4182572846606204,-13.167395644286518,-13.225673918513126,-2.085744235220317,-2.1909374047686114,5.537597868033056,-13.503796424622236,-16.189457288215987,-1.177983939095172,-15.158852993252328,-1.4495755987484464,-22.233942285837124,-1.220082437929321,6.647813514888445,-6.166976299136139,-17.405629916062082,3.7400078501076197,17.809628581078652,-16.281558483789993,-14.497774458963011,-10.214414114069648,-12.120589568250649,-21.12969378658523,-5.113599436792801,-18.511782276301275,-16.18556014871891,-10.160167445556283,-15.349645424906564,-10.253143331619944,-16.90227520258056,5.874345480645204,-2.194997682846938,-11.162408138788818,2.7754872177195575,-23.169525691150426,-15.161219092211052,-15.57903362454488,-21.17256619089858,-23.232620361864562,-11.527293336092132,-17.4676077174086,-10.757799003397107,-16.40543834607235,-23.185072647148846,-16.095519810787263,-3.5223069915002228,-16.13169376962794,-3.129339210822834,-11.173736635858413,-10.207217499398778,5.770685818851024,5.907454382868437,-2.1490557725103794,-12.238950676243658,-10.19124843895815,-24.405791479546934,-23.18593372673886,-6.074920870692555,-23.16717567030708,-10.48096207584319,-11.059593478469262,-16.59925520892402,8.907165155821025,-7.562665563213684,5.925410045435603,-15.117046124834902,-1.38125331239965,-10.638550570584691,-22.101656388605488,-2.179493334458529,-17.228951176340498,-13.238631650330984,-21.352400311170914,-22.105172730355186,-18.449083973124925,7.642096790545577,-0.33639072255532654,-1.118497244677142,-6.398274527820027,-22.422133875630998,-17.094473439116026,-25.574435212575782,-20.327462098664743,-20.498697256105956,-20.418681167772775,9.906571085931995,-24.192247616644714,-4.3788606200998546,-16.251785405704645,-16.38414635104233,-23.161309307714056,2.8491616193477998,-15.128620669170466,-25.14040111209976,-21.45370002563046,24.83131965041036,3.847459405952835,-20.576782536219888,-13.45112605545268,-10.28978149418787,-25.12196465936496,-21.490020536612015,-25.210775530229235,-17.167462310005515,3.9419527216552166,-18.086754542856205,-7.235489814695176,-4.212597288515688,-10.209655894982548,-24.269588680294483,-25.134476063781314,2.8918461537956124,-23.19431375708144,-16.208173245362715,-13.058597758248075,-22.178997452255253,-20.237727002049454,-16.47997382729061,-14.565979373860985,-14.25173217647028,-22.184366153975066,-21.114146830586805,-7.254553112443304,-16.5410992749088,-11.557157272696628,-17.224878487992164,-10.188941025724832,-5.723210275410645,-11.492984655816551,-10.480656834526833,-6.165370494756979,-12.06761395776473,-5.123777691071415,-15.21891997296307,-3.4216415635634716,-15.406258700703628,-10.29502547220315,-23.338085823908212,-10.209626205967517,-17.08142356442679,-18.649773389432628,-13.63019937282048,-17.172676090680792,-18.08404110329608,-2.104154951050689,-22.386110745387118,-15.103849189679805,-18.142229986132303,-14.194437322045074,-3.44828198946461,-3.1983002441300177,-13.14873888119017,-16.100642465241105,-23.126289359795297,6.860353687140559,-12.339779242761654,-21.326868028775717,-7.513089431351622,-5.394110378621955,-21.146653619080972,-3.0848449240149325,-4.043321427679127,-10.113163158844205,-18.261905492147495,-10.06370439843297,-15.231740570806382,-4.4637320281222586,-13.342805559438757,-18.15999272081763,2.5670370125608013,-16.406784676265584,-17.338471450406765,8.83734253459885,5.737101084190914,-16.19620131683941,-4.380496113494046,-22.15623729514559,-6.13983821236178,-8.139674575020228,-10.245524612506866,-17.173508681885405,-14.370716177366015,-6.217765311625213,-5.419345280279481,-15.295791980844777,-3.0624816427680357,-10.504730881333696,-1.0957672849074829,-12.487238242458652,-0.43402009058501445,-14.625397456062295,1.8508638327427647,-14.431163446499161,-5.234745588666337,-0.4278563472543046,-21.560833929889306,-7.1024602093243345,-7.065599429859539,-7.103906034642656,-24.19299183310888,-15.153746925238853,-18.16936807290666,-14.465803389260746,-25.186531400626823,-10.292891809610762,-10.573938470231827,-15.462209725148501,-25.14749694176017,-4.3217128261405025,-14.598557258350578,2.8727828560474795,-16.31719714844112,2.514019302789839,-21.102860941127226,-12.307747778379385,-17.223285093883007,5.689599136605615,-17.47327379986609,-24.320653245084888,-4.260800844955137,-2.0778197664659093,-17.426859708503848,-5.080637595035423,-22.522066989048614,8.77689526546571,-18.076116634541673,-16.34588184554426,-15.054085187952207,-8.507987739332798,-16.111125452511107,-15.232543472995962,-1.4516864162545395,-17.153842762083237,-13.063005376927801,-12.494054567707117,-17.176618997308292,-12.708112169597953,-15.419305315586904,-22.183258010469128,-12.143713144077106,-18.452793242756464,-15.095774400653577,-23.16916176410864,-3.383774442253143,-12.413639145993324,-4.3407340246035915,-11.55027900191678,-11.114555182756744,-3.1927817304633566,17.75886139702593,2.7462456656928125,-15.452279567614292,9.860867362282727,-11.23318072266643,-12.380936929404415,-18.528131626164303,-23.15602351467896,-23.3828816841871,-11.085125760864456,-16.672602032474586,-18.153366063645034,-20.1217154065748,-8.414238640094586,-16.628847769397545,-13.310365317248682,-8.658734312258545,-11.128115536628634,-10.183457961092065,-24.12378424421075,-6.066193499748568,-1.5583350699101741,-3.1134288361076146,-0.27660476120162814,-21.565211859554,15.869717379661072,-8.107689894418328,-6.114305929966581,-17.13569973797551,-8.06760648609612,-13.167454838336905,-13.57361904584441,-24.53136132821558,-11.225106441965174,-21.248238812333152,-17.227650613277696,-24.377662620717455,-23.159540364753642,-12.530169332497406,-18.49096560538315,-16.09978036900114,-8.163149259579031,-14.338209388871848,-20.173888114871144,-5.4795175054362675,-15.205159338955628,-15.2072788823234,-1.0750684937651598,-20.106168958901353,-13.317014819507571,-17.19448552554195,9.799774863485535,-11.378805149463306,-5.300056546392359,-16.538162710126834,-10.680904267148858,-7.232449305382343,-6.186583024887918,-25.492233977195973,3.8120165610016663,19.89315692827847,-4.172759927459456,-15.44515524956847,-21.473248573981802,15.82431889732816,4.862411783737261,6.763844872886821,-1.0626744607996443,-14.481119867783619,-2.445710575068175,-14.113668291386047,-7.448787122006444,-13.111268127417638,-6.4268680987017275,-24.148818865732732,-16.122816078412132,-20.406733970533757,21.434522641301616,-14.575158130222796,-20.45305221818209,-15.448219289535968,-11.169839496361334,-18.377075262230875,-5.1880465432706195,-17.470891081469862,-17.102895568743655,-17.50315131437309,-2.1375690945902797,-13.55217723886754,-25.479197680409225,-17.084635173185102,-23.462191970932828,-20.090316761586568,-0.28778113978906616,-4.55403133191486,-25.08180569461175,-16.40984596475208,-10.16907783432499,4.888441727005682,-4.577593882889131,-14.336345126956699,-12.188003482904085,-16.280450340284055,-2.128386670383086,-18.133352294916488,-4.140528691266609,-24.121680778958375,-20.198194882309583,-7.116706093934984,-17.347391240907616,-25.52447879129132,-0.2026044904503051,-7.109392107813292,-13.114872843907785,-3.5884914390862757,-17.296284576832175,-6.503000233835104,-5.093427995538731,-16.50086921416015,-12.147727146700039,-21.521419181600255,-18.336146852434045,4.828357876589336,-11.480560425511031,-10.191407909694014,-15.149775021900966,-16.237339240958445,-11.199635853833252,-24.21217250230783,-24.229132334803595,-7.118955329767861,8.645517231604456,-14.12511236169612,-5.221073329399337,-0.2208648860088565,-15.499133534054549,-22.300753578436527,-18.197338750885635,-20.360344716145725,-20.091424905092506,-18.334583147339924,-18.154971868024194,-10.202196138280367,-12.496463274275861,-11.694853970933126,-11.069316171159695,1.9066440090102437,-6.1618536446822985,8.513031054237263,-4.202084103905689,-1.1331831210855503,-17.367189353387772,9.90546294242606,-3.4259613158277324,-15.190971631745418,-15.178021252181269,-16.199793215020136,-3.1936007107683313,-0.19828473818604447,-10.409726069798719,-3.120215472341054,-24.151913103040236,-15.373116341334427,-23.211466009134067,-6.203994751126465,-14.292276896701614,-15.335973165639563,-21.27933221600504,-20.18154029113019,-15.151656378581462,-18.503054905357285,-25.227229841273072,5.859718798287181,-2.1179031747881156,-3.3778488856097204,-14.204305785316,-15.277092777683897,9.818985730024494,-24.354644006071805,-12.505498638017201,-6.37434804980399,-22.272993107084417,2.880212415409659,-24.695439078452857,-15.667182679304728,-21.15392550591763,-3.338100407618902,-17.229594607794215,9.784693127864308,-24.09664615743639,-16.18325599529157,-3.2191329931635315,-3.5164988063076232,-20.242468858755924,-11.445645438773091,-0.17386059929678313,-23.30015950854751,-13.563283119040266,5.519304015328528,-4.471003914958907,-16.23221709482958,-24.523584428251997,-14.27996131198524,-13.32656434683989,-11.121488879456036,-7.516113170244408,5.842946835656966,-17.10044476288987,4.818329942582546,-18.26744427666285,-13.168173066628558,-21.54695146399545,-21.16977719490744,-2.1882536542235167,-5.164358760266843,-11.13182480626018,-13.172200647153987,-1.1273749358929515,-16.154244412415398,-16.500269600643993,-22.219139546302873,-0.14683988397324488,-17.17109997531666,-8.64047391669999,7.647219444999419,-17.433676033752317,-21.390041147738998,-8.17590671126134,-12.23083378793239,-23.361104438553866,-4.118208017629731,-11.101475110727499,-14.487936193032091,-21.21635886885233,-13.082524236264112,-17.11914464192121,-23.35523807596083,-22.09359818601963,-1.1790920826011106,-23.11660876638991,-4.113390604492248,-10.168241726257536,-4.4648401716281985,-10.196487956537833,-14.455587585388423,-2.6805023744401755,-1.5114650253545288,-18.428368595542228,-8.477378926956622,-2.4682445984181256,-3.148244327720463,-0.16072234986709857,9.511328840842298,-15.178443356623472,-25.3263013667757,-21.11926897671567,-14.086441829871239,-24.550605143575538,-3.42274970706941,-7.203918629393546,1.7877026157245228,2.7115532958517394,-15.198283819656774,-11.367013738551822,-1.5305745985580586,-12.286535248248446,-25.17302922415537,-11.187238304004888,-21.529799211942834,-11.125958443667141,-13.411891316450474,-5.688917673250459,-17.371567283052467,4.804736639889655,-23.42352143910794,-12.492360388587517,-13.544905352030893,-17.09718738700113,-25.144402704452673,-13.510704384417116,2.5232443346070497,-24.222157828704606,-10.13758729773347,-13.320550923781001,-23.12258009016375,-16.468637977967308,-25.6897810398354,7.858910947931528,-0.07720968230793564,-6.11270012558742,-5.138328816998421,-11.189208035425828,4.7399114410918175,9.862778407978245,-15.18239918184597,-11.671425153790311,-21.13148746082993,-10.088375092913175,-24.1477107222268,-13.24046007160702,-13.519373069635696,22.88333416829152,-17.081728805743143,-10.31711986109778,9.850839428275936,6.516435481027191,-18.29496811891532,-14.251457132493918,-10.146108922486194,-20.366211078738758,-0.6930211215455542,13.8555300709256,-13.532514327603243,9.775193052070742,26.869211328589966,-0.24780269264766897,-8.405825777650756,-17.125216242380535,-12.213038104426063,-25.191289619713917,-15.112153947856612,-8.072319346092208,-3.170506823956902,-25.358808155269873,-12.411139056146268,-12.14569923787867,-6.538032592023868,-11.11180828605064,-4.148105819419616,-4.165563312788586,-10.148723375246199,-1.4736560814446358,-17.127277608347875,-0.08513415106234361,-14.492413617821885,-10.188957103840227,-21.26286549469118,-11.28016267261718,-12.240890210324586,-12.090239872717968,4.734788786637975,-18.253424676794445,-20.156125380185813,-10.268342947016967,-2.1003869956937327,-15.130682035137804,1.8628513310564923,-4.48488638085276,-25.198820472411523,-8.151922055844866,-13.187747603152411,-20.06428681831815,-8.112507307555813,-8.640018355111813,-17.402130328298227,-10.273858709202633,16.798690205917154,-17.179492415929264,-18.378831386881853,6.8591576772191525,-6.249288680317981,-11.232256496915406,-13.40461942961383,-0.49718130760325585,-3.0724082834393993,15.850959323229295,-11.145415357472075,3.868174275210552,21.778892741157783,22.736262117965993,-22.22303668579995,43.76743189045193,-10.05938464616871,-20.310568812473093,-23.19320561357551,-12.156107177042626,7.8694526209269355,-10.146373354402867,-8.208694802377794,-10.571136147606286,-15.211100465389467,-0.17237216636844477,-3.36390824231543,19.574578076678463,-6.2423476313649795,-12.05598021937878,-15.305852746952812,-22.275021524230745,-10.133029358781922,-10.524696068071526,-14.53352254523054,-10.58278596410763,-21.4776265036465,-21.623548311181047,28.81693417700246,-18.448628411536742,-15.138606503892216,-5.125688228441959,-22.170483688081216,-16.453291302104436,-16.148072808506004,-2.3202119733774818,4.830766583158079,-12.118180861681912,-15.180793377466802,-12.192264041117962,-21.478734647152436,-16.446822317457368,-15.523862914260171,-22.259557476917056,-11.512909033154699,-5.4795791996995495,-18.094026429692857,-12.675635578443783,-13.132844584590343,-11.28961398917664,-24.48491389642712,-21.40294070215642,2.834171009948007,-25.121584369942564,-11.463408173458411,-12.179581353276449,-16.23834242328358,-18.23463275517729,12.813879089839602,-5.381775539706825,-15.551498661907749,15.852565127608457,-1.5704243698843057,-22.540491031513387,-2.380412686919678,-12.186397678524923,-1.433426020695989,-21.142275689416277,-24.19100573930732,-14.143707687586058,-16.1733620521731,-18.298684740800578,-16.152333366719873,-21.351551133525938,-10.187832882218897,-4.123259067763173,15.813835401733186,8.863372477867273,-25.199669650056514,-17.26538359271716,18.782394085288487,-25.165377047896325,-18.441009184098693,-22.216062179700984,-17.564188135982736,-1.1233146578146251,-12.386514637121461,-23.099456514337298,-10.476396276312956,11.85826583768238,-21.145545475575044,-4.166366214978166,-17.431981854632713,-16.508252498066934,-14.16303867705684,-12.102486845217628,-3.33239222587637,-13.502688281116301,-3.0713001399334603,-25.30551540152256,-25.14600850883183,-24.08937427059974,3.8746556701276336,-16.198304782091792,-14.15906677371895,-24.096590480248842,-11.453727580053027,-18.13239172020138,15.851456984102523,-11.110658043259662,-23.12548645760571,-25.246188177840395,-15.121306683048777,-17.300692195511903,-24.17473143755033,-16.573722926528827,-17.11524750242413,-24.083507908006712,-16.174624859666704,-12.268772513563118,-10.162300599823695,-13.14758863839919,-17.361637125518268,-7.48150291649785,-10.171541709756301,-5.584933007616195,-15.079119809474182,-22.19639625989881,-11.49575678110208,-10.150972102754098,-10.219231527207132,-20.131701241296554,-12.492946424201183,14.852356295307906,-20.199918058139566,-24.095040353057232,-22.471546360586846,-23.124988796732485,-13.1140699417182,-20.261853760201046,-11.427385043214535,-23.49975435925177,-13.142391220104546,-15.467315793161973,-11.109855141070081,-20.187770580764997,-1.1212111925622412,-16.332065534349276,-18.320500909635495,-10.336062102986757,-14.290782997717564,11.770680481774876,-0.5522016976161468],\"xaxis\":\"x\",\"y\":[-2.1411302486816886,-2.9683324683609853,1.8336544601006755,-3.560371847410005,5.787662460878847,-1.4840808770243914,-3.8280970449177207,5.385615478189377,-0.7768329498673462,5.004424303095814,5.133709517236579,-3.9783100112377614,-2.698740617414697,5.506055684179996,4.789662065511471,-3.9615670581454085,6.625119637363744,-3.6060534610047656,-2.741972193777958,1.514580263877763,-2.101830915627294,7.26354417732491,4.845063498168219,-2.3769141426221574,4.060833030762523,-3.1912132701960534,-3.768837917987344,-2.6954677464447534,-1.7756215188251034,-2.8601670122125897,-1.8654195204051847,1.9357290751766494,-4.1857662517443055,4.560160625527593,8.02028110990758,-0.5964706232237642,4.707305079376092,4.1087707088825605,-3.491021929419685,-1.4562951887132491,-3.2923684221905596,3.018301209596268,-0.7324409483623051,-2.2589453103267716,-4.050992072394947,-1.5173986099463321,-2.271654614979385,-2.9907325212243654,-2.0941910793079264,-1.875210816954608,-2.056579546227411,-2.161630170738708,5.370367754992958,-0.8611122070416767,5.37735965552478,-1.2379061427293152,10.794289479211473,7.710505636616726,-2.893659324435773,-1.4309965121079113,-2.1976092722015794,-4.399999112136741,-2.612100189440378,-2.0673124558310323,-0.9067930071274412,-1.2545771512382986,3.5578925838218782,5.46937114689164,11.413806858312405,-1.359764734297702,4.747284865554142,-2.204585231624421,4.859928740896565,6.4447952501229535,-3.9535336424995635,-3.679090837365444,-3.0150918400490556,-2.064423218713297,-0.2204606831465937,4.028797043519897,-2.759008010627965,-2.6428176176890106,6.373251783043902,5.74340340110163,-1.9513919631680072,-3.947233084786668,-2.102440535618748,-2.9248591164284177,-3.248190314254419,4.877951090134741,-2.5228121337389493,5.880102632652683,-2.320347517724436,-2.9998441168526364,5.670596910614989,8.819016869502425,-2.7720378178650362,-1.487547013115239,-2.0055129434637173,-2.7729072619461497,-2.0613513934439465,11.342944955808177,-1.843699168462958,-3.6229976302605165,4.137974782771471,-2.1418627342146936,-2.660954186383285,-1.4888511792369097,-1.068943241372886,-4.173181376421148,-3.304244525741343,-1.7631158831088418,-3.413133988567458,-1.149526526727003,5.505554084521029,-2.058532461645624,-2.6501123486782396,-3.6868116443097776,-2.9378764279899166,9.457035625638655,7.718931199564632,5.46739980906747,5.961120640047356,5.088760978294106,4.0506070121725415,-4.414494646789271,-1.6093582628459373,5.008177692939991,7.063697128758471,6.96024165142951,1.4657124631818133,-2.7343368353042687,1.37746040329271,-3.2496414815673873,-1.9837925915214911,-3.534118278252909,5.426799136809392,-1.5769102926547645,5.679376904800396,-2.9127882027527128,7.368801674083845,-1.025050534940708,-0.5293275830512498,-0.6739616488026243,-3.6392339167289434,3.0412503553757904,5.094793985264561,-1.9631804808922095,0.6804038157936932,1.234813090909962,-3.009058833078601,-0.6918226039771787,0.9766144661272153,1.2081137008539053,-2.278996687806304,-1.6199060834091925,-3.6057936369151062,3.7099338877843997,-3.744421499788347,-3.799776022236659,4.164095561620233,-3.7995310433560627,6.708393223403874,-1.8269858850812457,5.486042155400622,-1.6741873256098738,11.36562420131177,-2.867896465242377,-3.7610502334245997,10.745217842349005,11.109975093931238,-3.178869195773582,9.461895058681767,4.300635262761334,-0.5791849277583676,1.146479760530125,2.925906834656105,4.425263580636684,-3.646085279592164,2.76432811376916,-2.983287327799751,-1.287459843470028,2.440455752117209,3.0569377003475617,6.860627750554326,-2.928367527391995,1.8243698301751776,-4.1412154701082216,3.9955023683396207,5.8074298974028595,6.307461795834763,-1.6496253027773158,-1.9063320491622666,1.606652591229451,4.723252248437521,-0.739802556969945,-3.9454449911330816,-2.3450237600130923,5.050383574066912,0.09241089950964038,1.9642507709817407,-1.456470086664147,-2.3871437403326303,6.252376855012727,1.6463197687059916,1.6954473934916001,-0.6068863849737045,5.6450512242452175,-3.089467220481819,-3.9472558238786766,6.2107810462140005,-2.4585123094607817,5.457418769358086,-0.5671700020058046,-2.362237510895121,4.0659246490684975,-2.0416246867886465,3.38763885300089,-2.044655782189283,-1.7139300267902768,-3.332333363159548,-3.697137956579467,-2.4345239981007243,-2.411134249806689,6.010626998950379,-1.2584776907200497,4.479454474631925,3.5142488572799038,-2.488822912428456,-3.5494359151488615,-0.8982972306142349,-1.0132620172165059,-2.8794039108620177,5.401462353571099,-3.62242237055136,2.302199312786608,-3.7365778273024626,4.374206213077723,-4.132455011703533,-2.37671030645564,-3.8347261679923537,0.4465202040790726,-0.5543666027970938,-2.4597042870101897,5.124929523051172,-1.5848013069783389,-3.613693297324134,-3.517073393428333,4.137468116147544,-1.8027733030487656,-3.99545801666003,-2.1756868151109052,-2.110423030306412,-2.8546915928242416,-3.251642057472944,-4.633584793128748,-2.4554586421983005,-3.6312023647367675,-3.7362757283400723,-2.4281545318855837,-3.995245534408062,-1.2960649397045387,-1.9492564595981792,-3.7673949296638964,3.0504893556977812,5.174942548578122,-2.7002572657883377,-1.1371454687864746,-3.5736054908135917,0.12530954840159694,-2.716353014588163,-2.7813244786743696,7.424587882491591,-2.0524994546751687,-2.9685922924506447,-2.7386958008470694,-2.57825813655135,-3.292543320141458,-1.6438068089426665,-3.1357392181530814,1.0067500039138264,4.747945995623062,-4.213907741138763,-2.4014464957440746,-2.386756360129763,-2.927431205692473,0.18605345264833076,-3.485311156051759,-3.4607491332192,-3.519228432778883,-2.02800937642598,-4.130714259887635,-2.1015710915376355,-3.7271032869868366,-2.2894567553128105,-2.8539972139241923,-4.122823245564061,-4.481353578776101,-3.0225481323320746,-3.849544068883012,-3.6697619016833816,-1.192479856594647,-3.557346465253157,0.15014473198092346,3.8750621623490007,0.8381271409225751,4.634527359874905,-2.626581331220583,3.502211359665498,4.6583563080551755,-0.3963539930310499,3.813259295250911,6.116878668985652,5.784129765819244,10.399216724926777,-0.5009839885083452,5.401302823161148,6.203168259602153,-3.2108437481719596,10.057055301261334,7.3284401177072525,8.787330323059878,7.642929586637835,7.116637919925225,-0.2512112265392728,8.71071445480592,10.227965993911468,-3.477632623980154,-1.1348983689963057,5.799817110791015,-1.9971449322268566,8.380036041244605,-3.622242405635502,4.696875813738874,2.137851032822867,-3.8555327700969015,3.481711437608479,-4.098586792280922,-2.561685390838239,6.412239259599291,-3.162092613893953,-1.960171957353416,-3.630339703087436,-2.8762315275138715,6.000216136935231,-1.1386760429365055,9.95119607839389,10.43863892352272,5.662820115747512,9.481687097951466,-2.4756180400103207,0.3168376430356864,-2.911394587150791,-1.4137292202645848,-3.2350133238366907,-2.571014326520302,5.384311312067709,-3.0874584655867428,-1.0693779634134426,-1.197661841889946,4.982699051418796,-2.757177642101649,2.0024719240537108,-3.1533708512414993,-1.9711806477069236,-3.606827089251849,1.9862688864164166,-1.6069234319957564,5.143865622127028,-2.597292498423078,-0.33560053492992786,-3.4386274752977157,-0.29845249487542336,3.3975952899645936,-2.885002195791916,-2.5867016714920723,-2.757358739176157,-2.6784247252738487,-3.1290870561206714,-2.052064732634612,-2.165734546386975,4.261562337735301,6.283019059423264,5.694331764239161,7.936393249756405,4.152617215375837,-3.3548290646267915,0.36521980073289684,11.51245679866126,-3.4116774963567345,1.1765597774895256,6.403893987454441,-0.9480683133417116,8.21382877318858,-3.2346443472558932,-3.0882907777035236,-3.665626308087817,-1.5813125990256474,-3.5683051366063094,3.7432287301948417,2.283814186091245,-2.352885104626028,6.534418353752135,-2.934508554694939,-0.6453899339971765,-0.3942835034259606,9.88376131636251,-4.0672613078287405,4.097750017712822,2.3022712573699775,-4.043148399909062,-2.344517093389167,-1.5528077618386087,2.999380496845247,5.792455502183374,-2.4089783117309547,-2.654169701138473,-3.4525267266159005,-4.340885589839927,4.885998598787145,-2.6688874755795884,-1.0874427547545145,5.186837374400629,0.7890998098166747,7.1543891771653465,1.041922389458108,4.255439881284593,0.10825057057046586,-2.4852674782768434,-1.2860887997299482,5.987658468809625,-2.6271302727172396,-1.3710726792207657,-2.304864008919181,-2.936731370389083,-4.633372310876776,-3.767829651704454,-3.9539929672858003,4.691740599945868,5.85599993460636,-1.961368103142598,-3.1532338926933927,0.8609031009853834,2.446831833533967,-2.1576870377345725,-4.1898523849301315,1.8664898104947154,-4.190287106970687,0.43072483877481316,-2.902107926341456,-2.3848087360662253,-3.841996296235904,-3.4354123499809086,11.028957086536566,-3.049785197796216,0.9007600216218848,0.5127695160744478,-3.718114556900119,-1.1341369452476806,-2.3964057983962843,-2.674897743458036,1.9315956286771612,-3.4528385831149055,-3.9791794553188735,4.827745285366708,-4.277546857237127,-3.16493124870316,2.079736541604209,10.210835660616244,-1.4472553704381814,6.65529328178331,-3.3389821892450695,-3.289933124244445,0.8777576535307167,1.515653544125393,-2.88774918300687,-3.462905071294935,-2.168255125573567,-3.242507722752664,-1.1315422841217817,-4.189638039024492,-2.955978317752241,3.563145596191474,5.1663188814913745,-2.5418673520056974,-4.110573265697685,-3.0109838852802944,-3.978762405405367,-1.1660833157798876,-0.13519776243505147,-2.6027904896732688,-4.043091732164008,-2.863608545557758,-3.065219085032104,-3.641389854804678,-4.148936277052555,-3.219411427335565,-2.7470215372112023,-3.9633551517989964,-2.1732552635154514,-2.0424103946332965,1.8845141906167286,-2.650728167793305,-1.488416457196353,2.78863562265062,-3.421104694834669,5.500465745469782,-3.1514232271779625,-1.567141735197351,5.59879361944628,-2.166032309879424,5.905945915284733,4.020404429537357,4.093740325739932,-2.191266139750188,-1.8780808369412783,-3.7541428826382384,-3.947757423537644,-3.404978459582568,-2.8303292379184275,-4.181090062871772,4.284880872940988,-3.501178034310133,-3.8165385111097314,-0.4567495126929187,-3.9403484730923144,-2.9185253098843904,-2.3386210449668194,7.360888087898428,-3.2236036886761807,0.14831132737348432,2.521596625053434,-3.0222030270019347,0.37770115235313295,-2.5944224784364067,-1.7187155353841146,-2.8885106067554935,5.976982882970026,2.917193718089107,-2.8299644295774042,-2.9620300469944194,3.9459911097018017,8.95677528829455,-0.49827494069618233,4.205541075213743,0.3772664303125763,-1.989595444112927,5.71182487499157,-3.0080439515940927,-3.905588070496581,5.522291970648421,-2.967638089460935,-1.3527728337658806,-3.5828202070395574,5.614358098876498,-3.6401033608100564,-2.149910242867096,-2.041189964748089,-3.3801658478650847,-2.8200502674864283,-2.3600146952009777,-2.0876718402194507,1.929732311185479,-3.242993954870685,-3.693921267474755,2.624164777011093,-1.658689723798063,-2.877183126051712,-2.990673706383237,5.062847614732355,3.2910317634303166,-2.490431041166185,-2.0443549826157104,-3.1361739401936375,6.16074414943639,-2.9114171590126334,-1.731996681785019,-3.0976227494667103,-2.7818291144144602,2.124935445041894,-3.330224766921504,-2.4760527620508785,-0.060990558497692554,5.2142928025906965,-4.083383374841066,-3.711301722558968,-4.090422617210579,-3.723113298024835,-2.9099202136498796,-3.0170394641125937,1.7784079579848513,-0.5142137635379261,3.8089270698097257,1.7501872289834985,-2.381896927086645,9.50218670135883,-3.70271147153352,4.546261374209409,-2.6825603188694136,-1.9916836058450655,6.195324587116267,-1.78345500022152,-1.2137139952027418,3.020021526906259,0.9387773385273366,-3.275847708886793,-2.4430000296700745,4.319466377585825,-4.012014805712915,0.8543634273910018,-2.174774364662042,4.550889921378486,-3.355888251867866,0.03394180982331632,4.973919057233387,-3.8584610216165296,-2.4743944226245023,-2.798864931264468,-3.907810886190724,-4.00280008948695,5.888013182756977,2.1550482437364957,5.775851371292801,-2.751323868552031,-3.058390294030726,-4.255183047353033,-3.349505971327498,-3.12163279472149,-3.614766577571765,0.23798160561019155,-3.388263145317018,-2.4182206667837236,-1.8002015324343648,-3.487419020794783,-1.2799840154062896,3.5247500675004906,-3.1717420521604733,-1.0393845082994493,-0.031535853790884964,5.896012217413041,-3.5585997104166456,-2.889863978368523,-2.473325310616646,-2.2885381057403373,2.3617780403436175,-1.9404045208294023,-3.6883774981747792,-3.444150069293587,-4.009839331856462,-3.648865682868415,-2.782308142211582,-0.8799568257534434,-4.114823078749349,-1.818797107265222,5.983365163510391,-2.937119339711231,11.221635305736449,-3.5989422740518844,1.9291226911940251,-2.2391397671698026,2.3197036896275853,-0.18983287160838003,-3.6489552995788337,-2.2148061832494417,5.103621154057493,-2.8945110963898366,4.980731724344371,-0.5627819558716441,-2.343457906148093,-2.6768165965361197,-2.854913832612829,3.089433012376424,-3.3724450409207503,-2.94891447263705,-3.0656538070726604,-2.935998884856077,-2.2472627995260672,-2.6025259750119525,-2.8363848167507264,-0.6532110346212189,-1.986729170476916,-0.982421857113408,-3.375102578655449,6.072274185228639,-1.800660538570947,9.880588933014362,-2.2132313033428446,0.08529106647130769,-2.3124369676201413,0.5188025230449038,-2.8734152096481274,1.583101870760908,-3.0813411520444314,-3.152709721172583,3.4571071399031914,-3.031054965770714,-3.5980728299707714,-1.0452083877487126,-1.600578268660529,-1.3106930974352358,-2.867116637871682,-3.8345136857403843,10.315017008276598,-1.646855576470354,-1.9052764410416863,2.909992914425808,-3.299147840470411,-2.4046841929227263,4.942407408741736,-2.6284836443302684,-3.0344068824054635,5.084590538536426,-1.7923821440445047,-3.3882693444406278,-4.083311430257698,-3.170050505835936,-3.7666237483786547,-3.0078900617171334,0.6086005246249849,5.25969985281041,-2.823194037339148,6.542262026238021,5.856367779028508,6.372817061003345,-2.2217135340358043,5.613815356503454,-2.709958945627342,5.637048610468663,4.122911903000216,10.088954497186018,10.323797002462001,1.5665450817080233,6.050918641627437,6.122584974248037,2.5287684905011125,7.808978648130848,-3.233954136595617,4.498358508708408,2.8866969510819644,6.186407634382752,-2.69145453251092,-3.7123413740193216,-1.467609855091805,-2.8120254979260353,-2.051460289094635,-0.14872933656125498,-3.104959922558836,-2.893989362090732,-3.8333077824145856,4.997360457980625,5.558501976769222,-3.274131559816577,-0.15840134668961986,-3.281450893551486,11.100486160743285,-3.5842815989850747,0.19695127827651768,-0.7041829537095341,4.449121299802408,-3.574040212854149,-2.4770136864960812,-3.669318533557371,1.3154632538824873,-0.07580355965355613,-2.9850705217185447,5.137308276405599,-1.707553945373519,-3.2459492560978336,5.044733617899925,-2.8095072682729345,-1.845921984157101,-3.3306873857216597,-2.3338737817120765,-3.0549487606855577,5.651122759737745,0.6056882297655858,-3.0794778345527485,0.02926980394974875,-0.8374915728736012,-1.650779173693768,1.0395627824460234,-1.7478455880505772,-1.981312149851691,-2.742016499534524,-3.5985075520113283,4.115068230514332,4.738731279397097,1.1214728057836532,-0.14606591835259858,1.984617751310938,-2.670102024990841,4.730538333341299,-2.408353846530438,-2.4084683658523023,-3.8032618613383935,-3.7041298571112895,-2.6546229940312647,3.979380301327293,-3.5115709243324633,-1.387743687729749,2.5682083612241082,10.508494590627892,3.7918213392601854,5.063282336772911,-2.2470503172740974,-3.9050391289999244,-0.18635756102965703,3.023118686416309,2.974042149819048,-2.481216324940221,1.1101986988110033,2.2388375224421466,4.031876612916874,-1.6535035890468772,1.4927500279493777,-1.1249222290217153,4.51007410718062,-2.841695414374447,-2.0617431091167537,0.6794624271292107,4.197650060890168,-2.167385681492455,-2.3001174959433466,5.539443012151812,6.5659300022437845,5.646263326694629,-2.5138391930822905,-1.4238472185220763,5.321436655799093,-3.8958634083919623,11.319276979802414,-0.5575205637392829,-2.807672564276679,5.558067254728664,2.517483284670059,-2.1100760613226037,-1.1749352545486644,5.943367705205289,5.120462369945718,-0.11609520233061439,1.198439659841704,-2.781201613132819,1.2799415947682937,-1.5887671790744833,-2.8378032023284954,5.481451386474709,6.2588494837585325,10.281674991258628,-2.3232314634874967,-1.9115350425315056,2.4227065636258027,-0.9971399502041777,-4.270870392324803,-4.4969329034153835,-3.088829509326822,-3.2744540932848714,-2.9485939700525914,-0.35099944231661306,2.778115176515082,-2.609424979578629,4.813051813805506,0.39836231705428526,-2.7521055595763957,4.407960213044237,-2.6520323339149745,-2.6328837525871487,-2.926689484954734,-0.23887244347147438,0.8460181552461502,5.840979761337089,11.053726956285383,5.344889113471765,-2.6344918813248777,-0.45754857597856735,-2.978602792707531,3.4599910856662524,4.940397806794583,5.39690068402043,2.2212483502405114,-1.7881372307276358,-2.9449243164448795,-3.5350299972067525,-1.7783685060400554,-2.9781680706669746,11.367412294965355,-3.1947402520118686,-3.2726659996312844,-1.4061351807788889,-2.5803709010291693,3.492973904347524,-2.5226911318510683,-1.4069637277611233,-3.6243983437112366,-4.171393282767561,3.2903422842650594,-3.2181298330757375,-0.02069891582063378,-3.962001780185967,-2.153284898593856,-3.2759196534701625,-1.0505291764619025,4.010750091536041,-4.099619661309493,-3.7267245528694226,-2.9689041489496497,-2.5964929680414963,-2.0625836149822474,-1.8860387288832616,5.419439391855423,-2.6367846107185557,2.464199251826836,-3.0352203385634335,-2.960692632041617,-2.202356535456322,-2.7340811794543844,-1.9640724968351664,-3.0737238875869064,4.818946720329065,6.194246829022958,2.7240364710921012,1.3193145878728787,0.02638585818668848,-2.6534556192275374,-2.246800195485104,4.983252892650244,-0.993675844997166,-2.585642484250998,-0.6022041544675886,4.2624317818164155,-3.7999657653966197,-1.7223895183912261,-1.28401831012486,4.212278218620866,-2.6964470745120255,-3.727538009027394,-3.720546108495572,-1.8359783615186238,9.355815459679405,0.992850752595642,2.5538075102469566,2.838922697909387,-2.710162781793859,1.0477968712158996,-2.790609108599868,-3.0406147873267924,-2.8035494663566864,-2.371891117401417,-2.1868061490326594,6.438515400618231,4.05500915131326,-3.263952883064285,-1.865854242445741,2.7314228496755866,5.240250471909014,-2.0459188055968744,-3.743003114210578,-2.4923313233920346,0.37332329730844166,-3.2022160800756048,9.26904194153099,0.9790689812043948,0.8794110932222982,0.5750792741861814,-1.2786325074469307,4.744735348151932,4.197395303765468,4.259786032502168,-1.347452045052691,-2.3269011170952076,-2.9193278763470945,-3.607424504744845,-2.7797586248093715,0.1672504625304634,-2.806296453571639,-0.9637556583134825,9.799570925619689,4.454675278975741,-2.7767098572816833,7.96403297226173,4.069178302907374,1.792791304065118,-1.6917050391079602,-1.9406170030813719,-1.9427642950716537,-2.1261753892429223,-2.36955611313501,-2.6949815143267326,-2.4736194949886015,-3.3332696848590713,-2.151337274530318,-2.367513262356724,-0.5095601465272365,5.176597851923374,-2.893347467936768,-2.004865739171191,-3.282799365429723,-2.265881432098588,-2.133561767826408,-3.825004785142464,-3.758614935478486,-3.119916645651273,-3.6720497313422635,-3.8004004874371757,-1.923847731776518,4.358888576181769,0.9733608122883384,3.5715094391885613,0.4872908745532534,5.255525833932239,-1.2050461895895956,-1.7864720026156005,-2.032409970562681,-2.393585151131141,4.868471650084323,-1.911100320490949,-2.773962870066731,10.28446932031127,-3.07170938590496,4.8281800074072665,4.268324251118268,4.6003294026631005,-3.435298130524809,3.006077969831509,-3.912495421282943,2.635015260801591,-2.06214889294169,8.828126601477024,-3.0239437788178334,-4.093032813107588,0.09355178887070068,-2.2519348389427134,-3.936550777491575,-0.9939861377082669,-3.2259066279432136,4.814251295541579,6.041703925401472,-2.400198317545546,3.9395233806907917,-4.011580083672358,7.126981904321964,-1.6699375125582105,5.490390911070067,-3.5081519628491393,4.074776587837273,-0.842880730282308,9.07187703344493,-1.9755812418436238,4.440776027657557,-3.8090626830459926,9.991814422779012,2.3599953323046448,-1.9418948509905398,2.5838731343340355,0.2853979391274057,5.128617898930607,10.672804931188844,4.665969094667022,-2.3925295430105593,-2.4090863320634432,-3.7504594064935968,5.231356258267507,-1.8126273089768248,-3.6536398346710537,4.280531385776523,-3.2599204519993865,5.625734466421988,-3.1144502523045214,10.048662854508958,3.9598903610199887,1.2845416896015718,5.71730519411471,-3.6063985663349034,-1.1513146203805893,-3.592125271470961,-2.76314360422353,5.500892121290652,-3.5023088662688098,1.1934658401123217,-2.052543760431734,-0.6909288758000397,4.12428784647509,-1.7600421941858202,-3.7101677638165373,-2.10083860600463,-3.678656115324887,9.839862568296745,-2.327633602628213,0.40714231123969385,8.101733839342813,4.6504566476461475,-3.889309509155425,-2.8574387472693616,5.425037676785323,6.644149363899765,-2.443671669478115,-2.7805200485579964,-2.6675299357267854,-2.7724725399055936,2.548700748789753,7.320596445221368,-4.0580415246378125,-4.026462998527756,6.316199515147441,8.258726391172871,-2.6826745383255117,-2.1481656414610786,2.4884768478240544,5.199479801434833,-1.586261967428837,-2.555766603323882,-1.5542310471511713,-0.5705129539054472,-0.9725356524988908,2.993025423502428,6.025879621881593,4.243719953412982,-2.86458600997136,0.6111057362706309,-3.678901094205484,-3.3094741527401,5.142234754297289,-1.7785054645881637,-2.8137055712471346,-1.4166131660276449,-1.145925462971883,5.433683748503746,6.131501926981553,-3.7762782536101347,-2.401881217784632,6.324180146181437,-4.018184604001313,6.202435774069147,-1.9565555260573502,-3.370516409598562,-2.3038987490040403,-2.556636047404995,-0.7187725829181607,-2.885314052290921,10.228064256707338,0.24685008434736794,3.732241287856237,-3.15314444321314,1.0931064721487393,2.2707596088783273,-2.969093892109611,-1.4254651047964224,-3.4370142795950276,-3.9875247274637267,-3.5014754979368163,4.554308882861812,5.412899885491208,-1.6301321019991715,-2.3603413969090457,-3.9222168041328334,6.091120667594076,-2.5320760554562733,9.367672346099129,-2.081046885384591,-3.5244763022400805,3.345012206057425,-1.789210510975267,3.0417093615123734,-3.19482970149212,0.1329918268238612,1.0956559895509512,-2.7714133526645193,-3.4377757033436533,1.8133823878365725,5.586638969534112,1.3049806145141372,-2.7722827967456323,5.80068811866003,-1.4967617293412048,-1.5209313050059348,-3.867519243513665,5.602920566956393,-2.1178301170980705,4.34493995214206,5.668671858413294,-3.8985488281270686,4.478562458688969,-2.846847920338356,10.23718071013743,-4.051871726349417,-2.9680347048685367,-3.6960983051191127,-3.970369791422827,-2.9174028241454004,-3.638609451528425,-2.5050591988968827,3.296442168853924,3.832937115064505,4.424450124478711,4.809523268201787,-4.230578749647746,4.3190316555452695,-2.330183120030425,-3.4524038610743486,-4.270221324378608,0.7883137833223699,3.02970063488342,-1.3754520792694735,-0.8074505515322028,-3.210371609060497,-4.034618527512645,-3.2112784702125166,-4.230144027607189,5.062597025847428,-3.8435535040154525,-2.6419481736078976,-2.044859618355801,5.271213178904009,-3.379273831922126,-2.4808896232321516,5.718174638195823,6.5058466389466885,-1.8570742482603333,6.042138647442028,1.9929630234557894,-2.1758187066940535,-1.097514956178333,4.724188570137043,0.4868561525126967,-3.8259234347149365,3.534433343717425,-3.113079208564442,-4.059762740672992,-1.9004395798604123,10.673239653229402,-1.2889028317934768,-2.330900238022485,10.535046512396717,-0.3790357802295401,-2.1175992312240313,-2.151698336520683,-1.5898404593221136,3.30721712894056,2.2632837808145903,-1.158264246039681,-2.141687836263796,1.6439847644395869,6.087479466322164,-3.759484379559601,-3.7851478645059617,-3.572933683775385,-2.768250365680734,-2.6113059691973604,10.274725365599537,-3.953656508041114,-3.815790068916499,-3.824455843645807,-3.2042865696806953,-2.062547539233128,5.880835118185687,-3.1110647068824946,-3.9217101375089074,3.057486641844218,5.005293747176928,-1.1664100174879557,3.1694673562338855,6.615001639106252,4.059111814727346,6.917635712694222,-3.615400800308899,-2.24264817813338,-0.7143515542755536,-1.2457971570528898,-1.6584349666733633,-3.404543737542011,3.0782883442139704,-1.7297315912181461,-1.513981679346843,5.049093800817565,4.142065384062836,5.137397893116016,5.290178048965318,3.054625435173165,6.007378244846294,4.918062767895944,-2.1738091047469,4.998234070301512,2.5529380661658436,2.554801383657525,-3.380600569905641,-3.186049707306711,-1.4328967943337603,-2.8526211032191533,-2.467339645483879,-1.3961132439706259,-0.7406720010510585,-3.8981614479242013,-1.5685650205099129,-2.635148843154023,0.9249006590709955,4.518854101366026,-3.0974632190567593,5.094292218375431,5.286096093759406,-2.0117730899575537,1.083183284016168,9.011327244280158,1.8851856790052808,2.5141646168664415,-2.6280489222897114,-3.8169732331502884,8.450897943748828,5.702785056716501,-0.8124423620382882,-2.876676459427785,-3.2500536317461006,-4.108489272205319,4.186364855059114,-2.0407552427075326,-0.6953310149407563,-3.701978986000514,-3.2995825625109663,-1.5902751813626705,-2.263432208376084,-3.7033684333626633,5.416867302591369,-2.428556005095009,11.246537366934184,-3.225516211659223,-1.0128272951759492,-2.6918892545514757,2.9518870758362654,-3.089032498441262,1.7211967487977213,-3.0722160525288857,-2.424475913542766,-3.541332418573317,8.454151597587709,-2.6772285794846673,-1.6079823193710636,6.057566168324139,-2.020553084142962,10.406016055380649,10.565546858524351,4.180331848088658,-1.6016046929502905,-2.352237900333502,-2.797951181426788,-2.0609816853681284,-1.3055111121399368,1.8573194000253161,-2.706952134322731,3.7915949312318253,7.199631900479775,-3.4929079860033774,-2.356114155719226,7.9843439646677865,-3.210342148512994,2.8146862446262464,-1.104787115305721,-3.143972001859904,-3.299033621014312,10.258513514646625,-2.573084816125391,5.10357397944997,-2.5058206226455084,-0.18419762194431516,-3.4195880464610293,0.985394460312624,4.504041100210164,-0.9234640156364243,4.280276628651825,5.100500123296782,-2.9919778725049064,-1.9862944484363592,3.911893700828657,-3.6703108431800358,-2.22375018569048,-2.5857653497925503,1.4568605244130366,-2.604470562994366,3.4321331341220866,-3.558215909334271,2.7882152934823874,-2.6132062514232093,-3.962508446809892,-1.1573701992128884,4.174421873889921,5.434927236130617,4.042537353547413,-4.050632574192487,-2.2236421653579916,-1.8288162536075614,9.054119198868069,-4.18150711278528,-3.4926955037514076,-2.8929127458962114,-2.846725054796805,5.8963995976159085,-3.777551034554343,0.1392942481904266,-1.7556892605364627,-2.747868242200306,-0.6360333594883104,-3.3154068660308478,-2.8211321938195124,-3.6635115127261617,-3.3390607490300543,-1.6348566073780177,5.8962246996650105,-2.7974918566405513,-2.4413594043037192,-2.5654879861737716,-3.300229766803495,-2.618213319983722,6.292233775649231,-3.121800971216893,-3.7193824800425044,-2.70117591536081,7.67689045885199,-1.8835560890994596,-2.886879738925756,-2.6020912529713955,0.026329870263546468,1.8660550884541591,-0.8919523671447744,-1.4073984498016803,-2.973930753290884,-3.839084001376505,-2.4245987790843166,-1.9719604750776183,-2.8127641825826513,-0.9043437834049369,2.853144482695865,-4.375509033887553,6.484911994849111,-1.91614101783874,4.790460453994261,-1.6412820615163004,-2.944489594404323,6.178266198404415,6.291732175990261,-2.5788991417202656,1.2817473605489298,6.54967097668335,-4.033805071354674,-3.4285609871176876,3.2640641123622847,5.280497808829506,-0.8694379434058079,-3.3000732724746658,0.021771236794001114,-1.9719161693210523,-3.2364747157822102,1.775336132715501,-3.035016502396917,5.653903163013996,0.8282512946276932,-2.4131014096509475,-3.0243341951018246,-2.620904486505699,-1.432002747506967,-4.100489105390606,-0.5489823451231813,-3.9787447332783183,-2.709936373765499,6.332960140366845,4.8864333208277,10.479800010280893,2.813834472672183,-2.1344827219849845,-0.47539651314566633,-3.4783615303926667,0.245841818064476,6.157972878125412,-1.9921183278856225,-2.53251077749683,-3.098536499304391,1.4452962773612572,-3.4853534309244876,-3.7277978331170547,5.61858534006632,-0.6962496645132297,4.971673502447234,-3.525645073601546,5.06605360808389,-4.197833015964125,-4.245854111670971,-1.360199456338259,0.2968487170019935,-3.347863482307473,-1.0767869138587718,2.044327389711932,8.237195782390602,4.553807283202847,-2.701245829060343,-1.0369299932222702,3.2964895106916137,-3.7122203721314415,0.9712253087185094,9.398242605926296,-1.8462486858651697,-1.456976753288072,-4.085099523911285,-0.9114616918133108,-3.431171183014698,-2.0370159458699146,-2.2797581115549295,-2.2548271121415735,2.2619076701095504,-3.410808052275621,-0.13987739779247813,10.948373801182445,7.749009185640196,-1.9783838983320645,-3.0461687665001502,5.061315009698488,-2.7399017041728695,4.584764923232881,-3.7749494847427845,-2.9519126378562097,-0.33874413755248184,-2.5654160415904026,10.294029141867373,5.778149410825039,0.6677901597449434,0.48772559659381004,-2.9144013984554022,2.204275242769139,-4.059345690759485,-2.8464426588453016,-1.8386922671326096,-2.181421891358746,2.3087389863809893,-0.5012148743823848,1.8568403722281936,-1.031655055269663,-3.331420912710686,-3.2832340874702806,-2.7502280164425565,-1.972350891361609,1.762679883144367,-2.4643328341792667,6.420450776507323,4.391197724171164,-3.3580441899435995,-2.403380026801057,5.110113485814186,-2.8234692289697554,-1.5169638879057752,-3.3154737436492563,0.6459798724426432,1.087812317065065,2.0853778516857457,-2.2088734699586943,5.852580973123036,1.322039003225988,0.47247787339738956,-1.7452734987865226,-3.5115419861168435,2.5197102686039767,0.4217563759638342,-0.14772107027836257,-3.6244652213296455,-0.7371885114828145,-2.182848923021968,-3.60666308099622,-3.809252426205953,-2.811894738501538,-3.2505109256485016,4.320388306413025,1.8591054627950667,-2.6274439928699156,8.543949599167789,5.2491986425898265,-2.2968411030124596,-2.3031662634710335,-1.592163082816145,-2.7873131798882604,3.692384367219735,-0.4653676457187731,-3.518653173069724,-0.3040445806817121,3.3450821197569582,-3.0324959232103246,-3.492238209849008,2.150433622343808,3.5080790589915076,-2.646760750693144,-1.6399955675216802,-3.207965549195769,-3.0483061337236474,-2.8937821899773244,4.171916662244274,-2.7090669296843854,-0.8518974908157115,-1.9237808541581087,1.9991532562500927,6.488963148185736,-3.8406921301142347,-0.9752398005762597,3.391406769404471,1.3455700206836445,-0.8271933853105368,-3.8805490507507363,3.8672853674815264,-3.1237369131138566,-2.2955534768591885,3.113488368585056,-1.5044305038761927,-1.9873710646308795,-1.2663636380786647,-1.7295989681399777,-1.7945576179009588,-2.816065178259219,-1.8427628467634352,-2.820744813616645,-2.1358967720928126,4.967016606181819,-1.3117663776828665,-2.919305137255084,-2.87988293865914,-1.7906601145003311,-2.85305582525971,-4.123603072934756,-3.4208922125826993,-2.919260831498519,-1.0965087207792785,-4.028251092181343,-3.8314774138882695,-3.6550582202488218,-2.5852077622104424,-2.9423681838410514,-1.4854765235101508,0.7069416445559619,6.02524106367452,-2.2737251045844733,-1.0464956952523294,3.1992352168285145,3.1468303856030224,4.908565655718475,-0.3766992309591181,-3.259503402085879,-3.6953498629258816,-2.594749180144476,-2.797691524567293,-3.6137829140345517,-3.850413512964125,9.295434332889863,-2.884132751710803,-3.694480418844767,-1.4980658954628747,0.10941836726330885,-2.730686987946904,0.2644343568142099,-3.226341349983771,-2.394600032615648,-1.0934105805300656,-2.5483103110408636,-2.6352207877373917,-2.777720409366791,4.786409300657639,1.7364001662375756,0.926971148676084,0.3252548597639075,4.052417677687972,-3.516865079416139,3.9626196761078907,3.380466987553209,-2.991343482537607,-3.573278789105524,-1.004047300990541,-2.747243776999788,-0.508690702446123,-3.4043354235298153,-3.8411987967381602,4.221999601470756,2.0432266734014313,-3.532552424387909,5.2902191916793955,-3.103245637142289,5.071126009258798,0.2399427335610052,-2.0589671836861805,7.523930338086828,2.131450348660429,-3.0094935551191577,-1.366672085084065,-1.3623139330502594,-3.0379572495921154,-2.6775532503088986,-2.3119462576564422,-2.2628746207939763,-2.205822352897516,-0.198580800794416,-1.7624816603717073,5.3611479718020325,-2.6121754132784734,-0.9898781493964263,2.3416885562311287,4.899028406024215,-2.5645465975092896,2.122477408003771,-2.7956584520331114,-0.49644457216986626,1.3298383699553078,1.8782783282189177,-3.6295844784624216,4.006896408012159,3.4349520659204082,-3.4107854804137783,2.3194192627922474,-3.4780673460207105,-3.2746805013132314,-2.434891675292706,-3.154363160864165,4.754273186965473,-3.274543542765123,5.226084675045677,-1.278245127244063,-3.921275415468351,10.786772508433657,4.552678015032074,-4.051437004308859,3.913610017129041,-4.0759270825580485,4.512821094395571,-3.014657118008499,-3.420022768501586,10.713829059398908,0.15661246099193607,-3.0808149496397856,6.0420016888939205,-2.4409246822631623,-3.6134624114500946,5.263804228458681,-3.6785892377064786,-4.341387189498892,0.10653442150024815,-1.7895082744677155,-2.286907237910599,-1.4560353646235895,7.801003084061816,-2.9105251430696772,5.654649741553558,-2.654893707816193,-1.8562048041792194,-2.3288120762903453,5.97033535627332,7.053807569413177,-3.3637730670678305,-2.6443274836308683,5.376835484003969,1.9966091244624946,-0.8679197500281515,5.022990694095855,4.627071067591888,2.3655314301877897,-3.760543566800675,-2.6930528830045457,4.082368782453185,-3.6780316501243706,-3.306924635337887,-3.0409826317489634,5.352345405754782,-2.102265637667851,4.836193887272391,-0.74769357129352,-3.516873725501591,-2.5960110713934164,-3.5016879801887857,6.282947114839895,-2.411404963591616,-2.902856368534689,4.49612548314091,-2.9008460350925156,-3.6383644726478295,-1.778803228080612,-2.156817593653459,0.1792917064955287,1.6268070893066777,2.337129922761585,-3.9446228888896573,2.381980198908186,-3.356256096290013,-2.8300540462878225,-2.7628231016390723,-2.6401271309889442,-3.0408971832783185,-3.527990754837241,-2.7563504728932653,-3.825578329384799,-2.643566059882243,-2.5134044710417345,3.8995295015061817,-1.8131289086357907,-2.077103752380456,7.682786507274337,4.107960079642575,-1.4971964513817615,-3.023509056777277,-2.950928974318997,-1.8190948707576717,-0.4753507163119935,-2.9336391106138264,-3.4692873518353022,-2.2629974863355273,-3.0958037377315946,-1.73766488041445,-3.5247756295204336,-2.006913656914437,-2.5775292301388375,-2.8873815058148873,-2.812329460542094,4.190265713190519,-1.5558619149809108,5.295201490264065,-3.874583088628858,-2.517484562593976,-3.000323144649759,-4.068977456898955,-1.8795886719993002,-3.403858426616528,-3.826358156755493,-3.370493837736718,-3.8259461738069462,3.539061468997388,-2.537139324665908,4.107157680410036,1.1944495036495344,-0.15828915811735778,-2.9179517656420546,6.171793569658612,9.703494938188555,7.839550938841854,-3.1855450715666223,5.493171314346321,-2.530287961802687,-2.9546930411324603,-3.606228358955664,6.0714477475152755,-2.1417022291361185,-3.493687813374072,-3.4793538400153308,-0.24687564636731124,12.399307659597103,-2.528794052521057,-3.995343797203932,-2.149966230790238,2.472060596439771,-2.77160309582448,-2.699175339455254,1.4202572576154129,-4.124472517015869,-2.3944632412977054,-1.1942203085447776,3.4904914317938864,-2.0025291899007693,-0.46346205335436136,5.225215230964563,-3.4213269346232558,-3.000757866690314,-3.057815034321569,9.148601735540371,4.609120662937079,-3.800712343936182,-3.8630313372526497,-3.4526544499592746,9.911665859465455,-2.0202553206505134,-1.8846293693470897,-2.1213385280616492,-3.6459484882742217,-3.7916204932517674,-3.3620292791708093,6.114306579721594,-2.8316807458777866,-2.514273915122848,-0.3931100967287879,4.98080366892774,-1.2645583581778483,3.073196725907997,-0.847212955723492,-1.9476385733238335,-1.1739938658841826,-3.2024424881039675,-2.4334683899801437,-3.5595920200393083,-1.9460028057593013,-4.082556205632683,-2.314016747261532,-3.6967032345389104,1.6365284721565687,3.0416850774163473,-2.354743111979147,-2.750752187963366,4.908763292761384,-3.250396706192403,-1.3136773368780041,-2.449704676448571,-2.756785194933822,-3.20178135803505,-3.0401357595296936,-3.5472274923270413,-1.5199949833064124,-1.3351604365924152,-3.581624061250375,-3.325161497711871,-1.0531189378530073,-2.7157321285081393,-3.963740668348194,-1.9293317972503177,-4.108834377535457,5.063514786434856,4.002953760887845,-2.524254954832231,4.885926654203775,4.748358145801774,-2.739032260091755,-2.2228807416093668,-1.558149258759972,8.908205251091053,-3.583647376247941,-2.522321423775249,-2.5895856172551337,5.78452172710725,-3.02507287975844,-3.7513288505747098,-3.8489196036824938,-3.1045270641719505,3.4103428684803268,-2.984911996505879,-3.148464076360694,-2.6775109754361694,-2.6589556413615654,-3.036963376181547,10.834840945978193,-2.589321102593816,-3.1782729124392364,-1.37588680131003,2.2926169193686623,-3.5091442724718034,2.7288733322733747,1.0708146068480142,-4.205490524410543,5.097016633728537,6.45383506839802,-3.65656188706707,1.5418936093952131,-2.2334334619074143,-1.1751900116733636,-3.495173076570251,-3.8822879389129628,2.748850646597489,-2.658931038615884,0.5305224509165144,2.4940751327539536,-2.137162831581527,6.827607799908723,-1.5833780216657765,-2.645389706953065,-1.925895649519764,-1.3671068071246215,-3.9129301433234995,5.856107954938849,3.2343632966162303,-2.497282404029406,-2.0358284461661857,-3.1235330769473384,-1.153538249583729,6.404763431535554,-4.027816370140784,-2.0968238470667804,6.470506076907004,-1.5456584682527734,-3.0956751254031727,4.802966089710525,-3.8643127642823094,-2.795011247740585,-3.3974840606665944,1.0310805517530643,-3.106974424240782,5.336543841326913,8.051358036358673,2.3824149209487446,-3.749942529996314,-2.3798202383579463,-2.8859631202371197,-0.17757756684424855,-1.1652138716987737,-1.2265771170215165,6.212085212335667,-2.8458937173486465,-4.286326851422536,-1.2248763354922445,1.0738687599903147,-0.06849115653727604,-3.0401800652862594,4.285093355192958,-2.7966421155703234,5.424276253036696,4.747237223850688,-3.6405380828506133,3.007866063485095,-1.0944838607776963,4.744849567608028,5.255091111891681,-2.8534905473002663,1.6277484779711604,-2.517352671010829,7.872868353114139,3.7439612157278477,-1.4240694583106632,-1.81579029596061,-3.6626420686450483,-2.2555885358901984,-3.5328729269723667,-3.622440042678409,5.362599606210933,-4.034674515435787,-2.764127267760741,-0.6738704870881891,-2.0511903888187044,4.779457644114711,-1.0796761509765074,-2.4735475504052324,5.627365334251728,-4.181072390744723,8.140696713152524,-1.436380602551659,-0.933185398486315,-3.760108844760118,-2.124938267969828,-3.786935958159548,-1.7096421071056578,1.9185699708959756,-3.186414515647737,4.1393458265115495,2.740272757560528,6.090775562263937,6.1125184860680095,2.7979222834599544,-2.5154050469472904,4.5587110220025275,-2.735385345576054,-2.3856781801473375,5.920828997370297,1.7028087022334737,4.377342292729726,4.626721794021976,-2.0612794488605766,-2.1335174620698423,-4.084433915996687,-2.554130835759349,-0.9883599560187698,-3.5183589886977686,-3.217926164139387,-1.7893940550116165,-3.629806718251008,-3.039555600085742,6.413543425720961,6.178700920444973,9.285350172582785,-3.880983772791293,-2.463898112138711,4.238448370191152,5.8967262993239755,-3.6943661993886687,-3.01773587389648,-1.908552833972574,-1.5421417110695093,-3.4765734367390797,-2.1664670319199804,-2.5286798330649574,-3.150921627518996,-3.1541033367745053,-2.1330581372836055,-2.7572248167091726,-2.652326518286931,5.6862842555867585,-0.6935449521710069,-4.276552983826559,-3.7363899477961713,0.8685429373047514,11.43976452763072,-1.6241043863833917,3.1273650480413964,-0.9873762924815577,-2.2796211530068216,0.0641722892181007,-2.666660491645672,5.525117684878525,-2.9348027390668956,-4.082531602887004,0.18289046566454528,-4.123675017518125,0.26286413102720735,-2.2157808207450564,-3.3164660532719212,6.726661850911462,5.6946295277316095,-3.680395003487115,-3.7039893194426887,-4.146878601772694,-3.8494525885189232,0.7487638613830508,-3.0171063417310036,-2.5053859006049506,4.04941706550697,-2.0939872431414086,5.4687039751891415,-0.20324105179060986,6.033198655750737,-0.9986581435818344,5.694398641857571,-3.1387612643630383,3.939016714066865,5.533340091481826,-3.3504043536242305,5.246239173122903,5.013014554121264,-3.066570425761297,-4.5775161887695,-4.213473019098207,-3.694800921429225,-3.4942527115309545,-2.387692681829285,-2.501575709328639,-2.5895187396367247,9.466826922188075,-2.6349266033654346,4.397544451294297,-3.251570112889576,-2.4577951914687217,-3.2200548852774324,-2.8310377098250337,-4.285639087724102,-3.3323572344102086,0.017690413746738964,-2.614559623036239,-2.86128329882797,-2.934580499278309,-1.9406643449190608,0.111920224178177,-2.2255897894215293,-3.070839941823845,6.163013575473204,-3.2731675992902503,-2.6927586986325904,-3.0414842314079307,-0.13434599048098786,5.063721958548261,-3.4685702338432423,4.990910401096662,-0.9641903803540389,-3.5107621587461506,5.411145040668753,5.097106250438959,-3.7759331482799983,-4.197284074467469,-3.8891393017761846,5.227134730321481,8.50047624723522,4.595196641643049,10.938464538826262,1.841773324217167,-2.7077804356897657,-3.8499787909235677,-2.564064700861209,5.346524881036295,-2.3954694766967624,4.933055733967666,-0.562301436997414,6.414852491577424,6.78401188230037,-3.193436085890198,-3.080906430003874,-0.9155730013128495,0.8665485605228052,-3.4867068025375167,-3.1671249650220576,-2.3203948595621253,-3.955601096023528,4.761406356660913,-3.3408665148106906,0.04550609041817519,-1.7960231780862506,-2.570947448901893,-1.9121736007385792,5.708520132964342,3.428649644553844,0.9700291629293274,-2.8893800508366083,-1.4928608712097995,-0.2798252162174498,-3.1300707196578834,-2.9832174141002183,4.1490623515596186,-2.072266891199182,9.709772924039608,-3.768869303164806,8.836543818205243,3.2678035764300675,-1.4810743843694338,5.498627030723781,5.775784493674391,-0.7403926411806792,0.2714543820526551,-3.211088727052556,-3.131309871814815,-1.900112878152344,10.041320781682042,9.199419191183695,4.877146660018368,-3.7466443154824907,-1.5809235065885978,-1.3714620903074692,-1.9435482906821215,5.856779761977056,-3.8272276008366073,-1.0410202758639822,-3.460910694512988,-0.8606774850011198,0.35781085028756826,0.8863097979232084,-2.0020045325001394,-3.9861713558506966,-3.0720544912350976,-2.4408018167216103,-4.43290640711415,-3.291563992074185,-4.106611561841315,-2.8303991516179603,-1.9203150367169142,-3.154061061901777,-0.4533547508500465,-0.8130242337164217,-3.075308145073977,-3.161924437398548,-2.5562013253644382,-0.6817141595740743,-0.7607845429052102,-2.392964265051116,-4.260637199942592,4.1566689390478535,-3.873409681931683,-3.7439867777477907,-3.897726725883644,9.974981852976248,3.962614776373097,4.1383909339597915,1.2007519250160996,-3.4613067208013084,-2.4731128283646755,6.364471788858494,0.04539187096207689,-3.808372772251483,-2.569520417238671,8.37205541021061,-1.7499337497827163,5.245757109244657,-2.2304935282212126,1.4437636723273906,5.686554969371685,-2.1671142362125075,5.4367576046569335,-3.8342914459517967,6.44505507421261,-1.7618344560791808,-1.1269318309688687,1.9695037833513358,4.793556563359639,-3.6711802872611496,1.1697046682756458,-2.6108712471568034,9.5649033182946,5.832699803022745,-1.5591415683826368,-3.879924585550218,-2.9436428894152185,-3.896808076311172,-1.9563853186781093,-2.43240920273907,3.585702874878701,-3.864721168110364,-2.1511475313703574,-1.75477061096399,-3.8717690565653275,-2.8083620434419343,0.7693323732926612,-2.543063497794879,5.581049030823901,-3.8743773888086683,-3.867084521473109,-4.294170523908422,-2.5747027023997378,7.562346301283719,5.258183204436771,-2.7440377836482543,5.417127126681028,-1.3794179513656166,-2.8039841883972434,9.57791055366983,-3.929430944453242,-2.717802618113228,-0.10089178489075981,-2.4665556498734107,2.900361148286336,-1.6269233181817138,4.231214317696721,-2.289389877694401,-4.197398293923569,4.357687530657794,-3.622785148008547,-3.808381118471171,-3.5022369216854417,0.6025675176545292,-2.4938216535531716,-2.5536961137187926,5.989990118345251,6.974165505493375,-3.274566281857133,8.07208607867824,-1.0241367851030287,-1.7153976178594046,-2.7045505710875695,-1.3363565823815968,-3.5575914441337524,5.597924175365167,-1.3054596208463611,-2.9116209951791503,2.413926569440394,-2.618157332060581,-2.288955155653844,-3.203137034234182,-2.548859252537518,-2.3854903006410493,4.925646783522334,3.893842580605027,-4.309947485590611,-3.8814184948318498,-2.0300995690419557,-3.531748294137301,6.72709657295202,-3.1306951848584004,-3.9309967983182417,6.6062216449208435,-3.0023216896714775,-1.486558449843234,0.8415703865019263,9.739794242370118,-3.8902704336006275,2.453783490076895,-1.869656837781275,-1.6579283000494371,4.585909980833714,-4.270435670284247,-4.180637668704164,-2.3200497542319876,-2.113078704387441,-2.0950561879191003,-2.087496942268553,5.685793545623061,-2.59398775639585,-4.019471097995933,-1.609291385227528,-2.4299849004119003,-3.710044898274986,-3.2026508021161635,3.3770254542080416,-1.5616576697235505,-1.439846419992853,-2.7073868563632875,5.386744579129984,-2.8007652134903154,4.5906573925347365,1.4177520459697677,-3.970853718954743,-3.018345493887935,-2.6937000872970724,-2.0437637662463266,-3.426262947585448,3.736689056600461,-1.3803593400301,-3.8652541529467928,-1.7107153873532885,-3.112870472663131,-3.144818706849007,-1.9742954793440237,-3.5998117181329983,-1.4862379472587754,-3.176765077381215,-2.945359038485437,-2.100961471546181,4.3818128005659585,-3.976956639624731,-2.2078127189297163,4.433230118664119,0.07719794699928577,0.28023437623806335,-2.1695634599350107,5.424602954744766,5.62296319511101,-1.922911410076995,-3.290367846285003,1.5837218678558849,-2.9041733489815855,-3.188339400619265,-2.3886340704937683,-2.8224855654325425,0.1900016526174251,-4.068130751909852,-1.7385115854035538,-0.21472560689875306,-2.4357611193738196,-2.71301006268852,8.738191641348834,-2.710025823245752,-0.5209823109063986,-1.0281026571991725,-1.8110763003208876,-1.335595158632972,5.240599745478927,0.36637367164934936,-2.6372193327591114,-3.113948652645556,4.576000885707701,5.863843607092245,-0.7235138045393202,0.853290314373537,-2.086503068857984,-1.3243099528019173,-2.000463600030474,5.6137484788850465,-3.970663975794783,0.5030253941325477,-0.8717502085802037,-3.7853278294218193,-3.00908777129422,-1.1067296724042985,6.9940849494567905,5.517340890011051,-3.818012884610641,-1.6998508105562349,-2.781873420171026,1.9522858642295338,-3.030367202072281,0.4302859484944827,3.974425865959142,-2.327770561176321,1.309482898888284,1.6434358229429313,-0.8604634577451337,-3.6730764012472243,5.920394275329741,-2.1772949438486346,-3.6870714683994392,-4.139494254073044,-1.560286625983471,3.8102330995850675,-3.413104528019956,-2.4889371318845543,1.3964143836587513,-2.3953995629972296,10.023917120409886,-2.096756969448371,-1.8042769698670134,-3.066528150888568,-1.587760943675428,-2.917474768728768,-2.3369202634375474,4.81292252667423,-2.878578772537469,-3.145253428889565,2.5352176486598896,4.423967760734699,6.762623131801008,4.344803160824118,-3.3135311865506787,-3.2348991043805926,5.8544427268268135,-3.799341300196103,-1.4236347362701063,-3.8834104246519527,-2.0858168689474548,-1.588697265374951,-2.669871139116801,-2.198617238618705,-2.6779900032332917,-3.3333170266967613,3.016162130138587,-1.8246931556875696,-2.6050980642760067,-2.6585049626607815,6.058327592072765,-2.789672786900345,6.196402767098693,-1.8708086778138906,5.936148497919921,-1.9347209546590245,-3.249961984151846,4.630949035211793,4.932468685838052,-3.9857366338101405,-2.1922674754144498,-2.813633626663765,-0.0693831724802331,-3.4369248301147732,-2.634057159284322,4.667340138407101,3.449561230909755,2.2990176035310994,-1.2948687939153571,4.348472814431829,1.0234632872955387,-2.3916600989294454,3.5496367611572803,-3.3243951742284517,5.218415900510689,-0.157691011129343,-1.839297029322241,-3.0475644129859076,4.292791590275448,0.8783962117377905,1.6373598096047264,-3.751214631118612,-1.214720230601797,-2.182915800640377,-3.1990992175546697,3.955645447703119,-0.9166936233981696,-1.174428587924739,4.909547288371849,5.905439415890975,-0.4183388596345926,-4.027381648100227,4.076634595190392,-2.2035769653415294,-2.8119174775935467,-1.9583415888270996,-2.270061331450718,-0.8089198580681539,-1.8698024424148356,-3.261224618121056,-3.323525730147338,-4.2116849254446205,-2.1935765412709145,-2.9655854811460327,-3.882147401244362,-3.209349838890329,-4.261697950971569,-3.0243785008583894,5.4606004786135935,3.4019790254832416,-0.47282393800179107,-2.9341457772377524,-3.7434378362511356,0.14670319863575504,3.735203793404283,5.427108166390411,-3.8503466353457165,-3.858394143998119,10.078628184916331,3.1277996028517867,5.936516342342068,-2.101708050085743,-3.4207841922502116,-3.283895217539197,-0.424925707836497,5.538002054712202,0.471016481451872,-2.9855052437591008,-0.026731922791089734,-2.4249106355833234,-3.2511353908490186,10.731393814868918,6.358070937465891,-2.8607766322040433,-3.7347720615218267,-3.1950335376586385,-1.3486878424788442,-3.1128753723979243,-2.3679252453052717,-1.4451848808330923,5.465764041502937,-0.5587037279730717,-2.5697328994906417,-3.79127538792163,-4.220077539427161,-1.8680057026757957,-2.6541882719907086,-3.3559068227201005,6.032369922754449,3.2960547886510567,-2.7229661810025694,-3.1624106695165675,-2.2894547244289742,-3.024448414557923,-4.108742897171369,-3.0884749108591545,-2.337959914897901,6.485346716889669,-0.7742362578576109,-1.0644284277800866,5.78853190495996,3.864538380266573,2.7003459232244915,-1.1990328856300259,1.9588616135730343,-2.2145354694645154,3.2304150966471354,-2.7960931740736683,-2.02069004269107,-1.7077190857877997,-3.9474780636672637,-3.810121870287067,2.514140332770416,-3.4479318082340997,5.466198763543495,-4.398906975930302,-2.7494707609337055,3.403005695388202,-2.3475712465314675,4.48897822043891,4.5092046630995055,9.70266173708673,-1.2550118732788553,4.796493460964719,0.8856486678542911,5.667656976928784,4.917438302695425,-3.4133752418048817,-2.5154749606468223,-2.6951429083903546,-3.0804717079633184,-3.203567420804799,-2.6750057637905242,4.519746117308984,-4.204693024912798,-0.006292997878523926,4.4698719139838134,4.822091632080575,-4.108399655494902,2.3238687437706536,6.076587026308593,-1.2379534845670046,1.4859999029868631,6.420190952417666,-3.710602485857094,0.9817780290165579,-1.8900238181104727,2.259530390970416,3.500357952181406,-3.4855617449366845,-0.8179940366255177,-3.0009842747186757,4.562587277388255,-3.129962699325396,4.789064807508503,1.0833202425642763,-3.726668564946281,2.71497408095519,-3.2987131184298533,6.162144131392091,-3.7110794827703804,-2.4509911704431913,5.546347326857053,-2.636394194434564,-2.887139563015415,4.4720947296779565,-3.3980760085309982,11.004901730327935,1.5885299483115658,-2.9429257714231603,-3.4289957091582437,3.980372610949958,-1.8501717972087643,-2.9591620578915863,3.8809582107713494,4.4581142078690394,2.3815454768676307,5.782153792659368,-3.356617158280377,-2.31364907006955,1.2286625097526302,-2.355746478527244,4.892466327798158,-0.9559119858275972,-3.5043455179234857,2.57784012736358,4.983138673194146,-2.9021994067055457,2.86419260352927,-2.870690794295019,10.592831265826188,-2.8281537640619736,-2.6104365251162465,5.34532383551232,5.4178374622413035,0.49814135834375106,10.202487352390271,-1.7700232338952044,-3.8092422163325983,-4.14733792655893,-2.4839633121551734,8.477242993270012,-2.751258854587293,-2.192810217787495,6.075962561108075,-1.669785186469157,-1.5681302984693564,-1.9396720352963965,-3.865296427819521,-3.2427341307810247,-2.6338674161243616,6.189116682194916,6.48823066265273,-3.9236351897106023,-0.9978114385927301,-2.465759865842489,3.1542147333026698,-3.2325131791560047,5.669769741406604,5.759227704621507,-1.916126924832184,-2.3699171751253756,1.4936686775218506,-2.7636925457201844,5.1084334124930875,-4.027839109232794,-3.7848211627978925,-2.240817809607064,-3.8963733542706156,-4.311407013882458,-0.0603006477031828,-1.5869565135590533,-0.5896192603605436,0.6754299960643114,6.827447294830148,10.938832383248412,0.8138453766855833,-1.7393810294846677,5.852632811590293,-1.5642071871257617,-1.6135839590317405,-1.6604778174516492,3.363583496792257,2.9421656929863755,-0.9082113927052099,-2.428853768587457,-1.4008589434374648,-2.216762453398432,4.625677451989963,4.6998167220937,-3.4373409813030955,5.052871474757764,-3.5974483647702544,5.069929863469616,-3.993513428677616,-2.4236064694616526,2.0846190323889897,6.466643367341523,4.860386034798965,4.254906896448165,5.5900136252608705,-3.4785020680612657,1.4596971283384077,0.47194863491162065,3.3791855605235503,-2.634606100780977,4.197722005473538,-2.50010811825951,3.0542801626128626,2.7986310552323275,-3.7032604130301756,4.085849311416356,-3.622128186179404,0.30757558497203225,8.243336809693547,-3.8235863995646953,4.667013436699033,-3.4845297648931592,-2.1129932559167974,8.346694024226638,-1.8984575748070913,-2.6762019095797056,-3.681856395432633,-2.928177784232036,-0.9921904145708219,-1.7228242404317833,-3.6864329101923645,-2.693242626164506,-1.779564651829238,2.2225574160969748,3.7204527701320345,-2.0067907913728855,-1.527838655792298,-3.162206833350051,8.86732239204461,1.4866471072793892,3.9673661890837253,-2.524689676872788,2.284862696363029,-2.3121587399084125,5.08832625625355,-0.9998217720349033,-1.5543206638615907,5.670162188574431,-2.595618624225589,-3.4224580664476987,-2.771733855248977,-2.7062849626202303,-2.285096572395169,-0.8685684993246946,-2.856356820936277,4.0462291571278515,-2.3518031782929447,-3.633702676647621,-0.9381364791236868,6.682577689085141,0.10985308930386552,-3.931431520358799,1.154017323303875,-3.613348191993995,0.12418706266260662,-3.054216275152552,-2.393611469343643,4.1330009630420905,8.60797609546902,-3.3804925495731513,-2.9609524561312766,-1.771394277635284,7.0179180658768345,0.5683088819479266,-3.179763242600374,2.6274690519423864,-1.8305170351368327,5.094657026716455,-4.059780412800041,-3.720758590747543,-2.7412550757859,-1.7227573628133739,-1.5634457633771368,5.255960555972794,-1.931828362810511,-4.285390529723013,2.674247716237574,-1.905711163082243,-0.42530444195391137,-3.844219111930048,-3.12293696084316,-0.10793102726027118,-3.9879594495042827,-2.6903953452698466,3.931367851705901,-2.925179619012875,-2.219534210589231,-1.3263804424070067,4.550365749857677,-2.6518917962463746,0.2379981455785906,0.13597558038680874,1.0016307467810501,5.557632532688107,4.203428310735925,-3.2429424447932207,-2.8886475653036023,8.432964230481907,10.528195149533493,-3.8726385006464423,2.161259184738972,-3.6643632846802263,-1.160529336606554,-3.8402574080736778,-4.196219820261436,-1.803775370208047,6.363602344777381,-1.8241669532829237,3.3067910529854565,-1.4736477617970551,0.07834144081221536,5.112358873370173,5.286393857251852,5.335674397245798,-3.8973508186842167,3.8177790085785035,1.8889390688494547,2.9256470105664465,-3.533748570177091,5.298185729706835,-1.085065308385214,-3.1934586577520423,-2.0233291768037,1.7534359830875828,-2.2065085528080455,5.007308248858875,-2.464890421761376,-3.40775438501314,-1.8441338905035147,-2.456990761352348,-3.284198047996605,-2.6706036246498073,-2.2482287909362295,5.630669609183021,-2.667218079227781,-1.3268151644475632,-3.471028103651199,9.133833040141074,4.005937514450791,4.545703786627301,2.1254173416899738,-0.6702919951949128,-2.313232751651063,2.1258520637305303,-2.093931255218267,-1.6977852206859392,4.60879396122901,-1.8909424676829447,-3.0643053351944247,-3.9615161371872274,1.0331423952727,-3.701103342795791,-1.6910708163708263,-2.731311453147422,-1.4157437219465312,-2.069647460097438,6.4941267110750776,-2.367947984397281,4.706695459384636,5.722056606825339,5.983208669181565,5.752163859506315,5.549954432245759,6.574709996429195,-1.586384832970389,-1.416685110611014,7.058209708553894,-2.077202015176327,1.0335771173132569,-2.6178208728158956,-2.21382251971223,3.6709464112290116,5.546782048897611,-2.045776704140369,0.8100587380102761,2.8825856415824256,-2.2488384109276836,-2.6949146367083228,5.124447459172927,0.6194510084154825,-4.189417662889575,-2.2166925396989,3.9474339307950865,-3.5497004298101773,3.9854133082977485,11.375133101909693,3.7859933103550367,-1.5310874098963825,4.223829969997071,5.614595183874148,4.203952482256734,-2.608942615834615,-3.816522554449504,4.3259812812043625,6.776168209814483,-1.9700581619679334,-3.1142464161380046,2.829499245782111,-3.5331100119700167,2.222516273382896,8.877704904963418,-2.0819163294657037,-2.3552447116381123,-1.7136095242058185,-1.5282733778328546,-2.4010677616266607,1.9097899767105675,-0.851660724467716,-2.5622343323348926,8.22808908649713,-4.083497594297165,-2.976337702140659,-4.0022934228630245,-3.170406668091507,4.284970489651408,-1.3067256803350753,-3.129324141118321,1.2909000988912798,-1.4249204987697066,6.9373347805227175,-1.7212444607903927,-3.112942417246499,-2.1586953040174643,2.2467269917617054,11.254381039420068,-2.5272059454438676,5.4444640187289455,1.1236118852413337,-1.3972851056637825,-3.261536474620063,1.2095225932941445,-2.2634990859944937,-2.522377411698392,-3.1207633506403756,-3.1955734531136963,-2.798712605175413,-2.8171471045923018,2.054048772561823,4.497189737346943,-3.729652804389049,6.17048940353694,-2.0449824838973516,-2.750685310344957,-1.5689997425504694,-3.5744749348947056,5.92803411164911,-3.62235042596799,-2.363348208213657,6.9658153336137305,-3.1544711811966533,-1.1205886797335896,1.9224462262817017,-0.3440579956470414,-2.9278659277330292,1.35341369316953,-3.785672934751957,-4.06718936324537,-3.811213554156767,-2.427942049633614,-3.5417671406138735,-1.9733161512767505,5.245804451082349,-2.3342401538410043,-2.4172057852992155,-3.6802544658185146,-3.3062676735087435,-2.246317831741092,10.266621869023995,4.530574029237638,-3.4802232840964447,-0.7228752463322465,-2.8776601229649965,-0.020965461365786642,-1.0936704046197248,1.4584784106873816,-1.3805241617947264,5.135085627941619,6.574275274388636,-2.35430838993859,-0.835973379495945,-3.388704066481185,-1.771598113801801,-2.2362456303172733,0.2635649127330965,-3.0721264358184666,-0.13602265514439923,-2.6451298828634067,-2.448073975848999,-2.974365475331441,-3.453051065366876,-2.0819882740490723,-3.315505128826718,-2.6049052850349237,5.603592373994597,-2.311330438541378,-1.407833171842237,3.0383664096127294,5.234127529578485,-2.41935665640999,-2.7257131682175233,0.40877807880422634,-3.5074416272888627,-2.1818566133993027,7.126087857495173,5.652426925859415,5.612444312763375,4.100689951399024,4.764254226674856,-0.10139487562683287,5.8001289672900205,-3.5498706371894184,-1.7061532319228003,-2.8442758310743006,4.634892168215929,-3.4627497091247585,2.3170842585258415,-1.2152268972257232,-3.3479777017635706,-2.336171821244315,-1.3574297300312965,4.109469945584431,5.671533232314512,6.714590937235757,-0.93481781132007,5.572260690418806,6.244765632188785,-3.4197336510945897,7.466122845565356,-3.1934340550063616,-2.3388293589790154,3.9557596671592172,4.2394927122231625,-1.295810182579839,-3.952787063960001,4.610287870510642,-2.433255907728174,-0.8684456337831433,-1.0708401688679574,0.25685050841798374,1.557992937315532,6.172667913474519,-0.6099108684053665,6.649383140354405,3.883086931909396,4.397502176421566,-2.450139398489128,4.477693014607854,-3.881490439415218,-2.779814612732513,-1.9976515988507826,-4.2112399935307065,1.646754490746549,-2.1439775295763486,-1.5095093078569386,-3.8671741381835267,-2.6224506373598135,-2.510008734530239,-0.883172372959366,-4.261655676098839,0.2401129409402457,-0.9011898224627489,-2.9651507591054758,5.930043713596261,-4.1736160984617054,4.863257618573539,-1.9730563271870922,2.570668261915901,-3.7911857712112114,4.6177441627936595,-0.7622974449281913,-2.7317461751879786,-1.682030998095759,5.688204240823494,5.749941043812172,-2.45687654189625,-1.9553593802681677,2.186922669685333,5.508560895825644,-2.363088384123998,-1.217728754140591,-4.042585065540083,-2.690585088429806,-2.4692173558478845,-2.6754404858310803,-2.67576718753915,-2.543677267242219,6.099053956790381,-3.6795255594060015,-0.6011308742199583,-2.951708801689691,-4.107046283881872,-0.07504833502854168,-1.9311898046034373,1.8088573831543044,-4.149126020212516,6.277420774493367,-3.5566077805965417,-3.7832947568876363,-2.618549779228407,-0.6840458091097019,-3.786156130788854,-3.4764592172829807,3.8563680060726195,4.738619090824833,-3.4382104253842094,4.956035362966824,-3.1448886205485396,-2.9998884226092017,4.5123863723550155,-2.9692738570254686,-2.8554824771203706,-3.9773913616652883,4.463314735492548,-0.7544537724423058,-3.0795530583908453,-3.6141948969830997,2.9018740503093183,-3.872203778605885,-3.0491755778047605,-0.8630145201513615,2.238136740736257,3.9390886586502347,-3.543881935975529,5.243785632714348,-2.8386775461444027,-2.8535624918836358,-1.5121513108205273,0.4086408203903518,-3.4842557151613427,-2.6785327456063373,-0.6853991807227324,1.2129751647808589,5.9272069424407245],\"yaxis\":\"y\",\"type\":\"scattergl\"}],                        {\"template\":{\"data\":{\"histogram2dcontour\":[{\"type\":\"histogram2dcontour\",\"colorbar\":{\"outlinewidth\":0,\"ticks\":\"\"},\"colorscale\":[[0.0,\"#0d0887\"],[0.1111111111111111,\"#46039f\"],[0.2222222222222222,\"#7201a8\"],[0.3333333333333333,\"#9c179e\"],[0.4444444444444444,\"#bd3786\"],[0.5555555555555556,\"#d8576b\"],[0.6666666666666666,\"#ed7953\"],[0.7777777777777778,\"#fb9f3a\"],[0.8888888888888888,\"#fdca26\"],[1.0,\"#f0f921\"]]}],\"choropleth\":[{\"type\":\"choropleth\",\"colorbar\":{\"outlinewidth\":0,\"ticks\":\"\"}}],\"histogram2d\":[{\"type\":\"histogram2d\",\"colorbar\":{\"outlinewidth\":0,\"ticks\":\"\"},\"colorscale\":[[0.0,\"#0d0887\"],[0.1111111111111111,\"#46039f\"],[0.2222222222222222,\"#7201a8\"],[0.3333333333333333,\"#9c179e\"],[0.4444444444444444,\"#bd3786\"],[0.5555555555555556,\"#d8576b\"],[0.6666666666666666,\"#ed7953\"],[0.7777777777777778,\"#fb9f3a\"],[0.8888888888888888,\"#fdca26\"],[1.0,\"#f0f921\"]]}],\"heatmap\":[{\"type\":\"heatmap\",\"colorbar\":{\"outlinewidth\":0,\"ticks\":\"\"},\"colorscale\":[[0.0,\"#0d0887\"],[0.1111111111111111,\"#46039f\"],[0.2222222222222222,\"#7201a8\"],[0.3333333333333333,\"#9c179e\"],[0.4444444444444444,\"#bd3786\"],[0.5555555555555556,\"#d8576b\"],[0.6666666666666666,\"#ed7953\"],[0.7777777777777778,\"#fb9f3a\"],[0.8888888888888888,\"#fdca26\"],[1.0,\"#f0f921\"]]}],\"heatmapgl\":[{\"type\":\"heatmapgl\",\"colorbar\":{\"outlinewidth\":0,\"ticks\":\"\"},\"colorscale\":[[0.0,\"#0d0887\"],[0.1111111111111111,\"#46039f\"],[0.2222222222222222,\"#7201a8\"],[0.3333333333333333,\"#9c179e\"],[0.4444444444444444,\"#bd3786\"],[0.5555555555555556,\"#d8576b\"],[0.6666666666666666,\"#ed7953\"],[0.7777777777777778,\"#fb9f3a\"],[0.8888888888888888,\"#fdca26\"],[1.0,\"#f0f921\"]]}],\"contourcarpet\":[{\"type\":\"contourcarpet\",\"colorbar\":{\"outlinewidth\":0,\"ticks\":\"\"}}],\"contour\":[{\"type\":\"contour\",\"colorbar\":{\"outlinewidth\":0,\"ticks\":\"\"},\"colorscale\":[[0.0,\"#0d0887\"],[0.1111111111111111,\"#46039f\"],[0.2222222222222222,\"#7201a8\"],[0.3333333333333333,\"#9c179e\"],[0.4444444444444444,\"#bd3786\"],[0.5555555555555556,\"#d8576b\"],[0.6666666666666666,\"#ed7953\"],[0.7777777777777778,\"#fb9f3a\"],[0.8888888888888888,\"#fdca26\"],[1.0,\"#f0f921\"]]}],\"surface\":[{\"type\":\"surface\",\"colorbar\":{\"outlinewidth\":0,\"ticks\":\"\"},\"colorscale\":[[0.0,\"#0d0887\"],[0.1111111111111111,\"#46039f\"],[0.2222222222222222,\"#7201a8\"],[0.3333333333333333,\"#9c179e\"],[0.4444444444444444,\"#bd3786\"],[0.5555555555555556,\"#d8576b\"],[0.6666666666666666,\"#ed7953\"],[0.7777777777777778,\"#fb9f3a\"],[0.8888888888888888,\"#fdca26\"],[1.0,\"#f0f921\"]]}],\"mesh3d\":[{\"type\":\"mesh3d\",\"colorbar\":{\"outlinewidth\":0,\"ticks\":\"\"}}],\"scatter\":[{\"fillpattern\":{\"fillmode\":\"overlay\",\"size\":10,\"solidity\":0.2},\"type\":\"scatter\"}],\"parcoords\":[{\"type\":\"parcoords\",\"line\":{\"colorbar\":{\"outlinewidth\":0,\"ticks\":\"\"}}}],\"scatterpolargl\":[{\"type\":\"scatterpolargl\",\"marker\":{\"colorbar\":{\"outlinewidth\":0,\"ticks\":\"\"}}}],\"bar\":[{\"error_x\":{\"color\":\"#2a3f5f\"},\"error_y\":{\"color\":\"#2a3f5f\"},\"marker\":{\"line\":{\"color\":\"#E5ECF6\",\"width\":0.5},\"pattern\":{\"fillmode\":\"overlay\",\"size\":10,\"solidity\":0.2}},\"type\":\"bar\"}],\"scattergeo\":[{\"type\":\"scattergeo\",\"marker\":{\"colorbar\":{\"outlinewidth\":0,\"ticks\":\"\"}}}],\"scatterpolar\":[{\"type\":\"scatterpolar\",\"marker\":{\"colorbar\":{\"outlinewidth\":0,\"ticks\":\"\"}}}],\"histogram\":[{\"marker\":{\"pattern\":{\"fillmode\":\"overlay\",\"size\":10,\"solidity\":0.2}},\"type\":\"histogram\"}],\"scattergl\":[{\"type\":\"scattergl\",\"marker\":{\"colorbar\":{\"outlinewidth\":0,\"ticks\":\"\"}}}],\"scatter3d\":[{\"type\":\"scatter3d\",\"line\":{\"colorbar\":{\"outlinewidth\":0,\"ticks\":\"\"}},\"marker\":{\"colorbar\":{\"outlinewidth\":0,\"ticks\":\"\"}}}],\"scattermapbox\":[{\"type\":\"scattermapbox\",\"marker\":{\"colorbar\":{\"outlinewidth\":0,\"ticks\":\"\"}}}],\"scatterternary\":[{\"type\":\"scatterternary\",\"marker\":{\"colorbar\":{\"outlinewidth\":0,\"ticks\":\"\"}}}],\"scattercarpet\":[{\"type\":\"scattercarpet\",\"marker\":{\"colorbar\":{\"outlinewidth\":0,\"ticks\":\"\"}}}],\"carpet\":[{\"aaxis\":{\"endlinecolor\":\"#2a3f5f\",\"gridcolor\":\"white\",\"linecolor\":\"white\",\"minorgridcolor\":\"white\",\"startlinecolor\":\"#2a3f5f\"},\"baxis\":{\"endlinecolor\":\"#2a3f5f\",\"gridcolor\":\"white\",\"linecolor\":\"white\",\"minorgridcolor\":\"white\",\"startlinecolor\":\"#2a3f5f\"},\"type\":\"carpet\"}],\"table\":[{\"cells\":{\"fill\":{\"color\":\"#EBF0F8\"},\"line\":{\"color\":\"white\"}},\"header\":{\"fill\":{\"color\":\"#C8D4E3\"},\"line\":{\"color\":\"white\"}},\"type\":\"table\"}],\"barpolar\":[{\"marker\":{\"line\":{\"color\":\"#E5ECF6\",\"width\":0.5},\"pattern\":{\"fillmode\":\"overlay\",\"size\":10,\"solidity\":0.2}},\"type\":\"barpolar\"}],\"pie\":[{\"automargin\":true,\"type\":\"pie\"}]},\"layout\":{\"autotypenumbers\":\"strict\",\"colorway\":[\"#636efa\",\"#EF553B\",\"#00cc96\",\"#ab63fa\",\"#FFA15A\",\"#19d3f3\",\"#FF6692\",\"#B6E880\",\"#FF97FF\",\"#FECB52\"],\"font\":{\"color\":\"#2a3f5f\"},\"hovermode\":\"closest\",\"hoverlabel\":{\"align\":\"left\"},\"paper_bgcolor\":\"white\",\"plot_bgcolor\":\"#E5ECF6\",\"polar\":{\"bgcolor\":\"#E5ECF6\",\"angularaxis\":{\"gridcolor\":\"white\",\"linecolor\":\"white\",\"ticks\":\"\"},\"radialaxis\":{\"gridcolor\":\"white\",\"linecolor\":\"white\",\"ticks\":\"\"}},\"ternary\":{\"bgcolor\":\"#E5ECF6\",\"aaxis\":{\"gridcolor\":\"white\",\"linecolor\":\"white\",\"ticks\":\"\"},\"baxis\":{\"gridcolor\":\"white\",\"linecolor\":\"white\",\"ticks\":\"\"},\"caxis\":{\"gridcolor\":\"white\",\"linecolor\":\"white\",\"ticks\":\"\"}},\"coloraxis\":{\"colorbar\":{\"outlinewidth\":0,\"ticks\":\"\"}},\"colorscale\":{\"sequential\":[[0.0,\"#0d0887\"],[0.1111111111111111,\"#46039f\"],[0.2222222222222222,\"#7201a8\"],[0.3333333333333333,\"#9c179e\"],[0.4444444444444444,\"#bd3786\"],[0.5555555555555556,\"#d8576b\"],[0.6666666666666666,\"#ed7953\"],[0.7777777777777778,\"#fb9f3a\"],[0.8888888888888888,\"#fdca26\"],[1.0,\"#f0f921\"]],\"sequentialminus\":[[0.0,\"#0d0887\"],[0.1111111111111111,\"#46039f\"],[0.2222222222222222,\"#7201a8\"],[0.3333333333333333,\"#9c179e\"],[0.4444444444444444,\"#bd3786\"],[0.5555555555555556,\"#d8576b\"],[0.6666666666666666,\"#ed7953\"],[0.7777777777777778,\"#fb9f3a\"],[0.8888888888888888,\"#fdca26\"],[1.0,\"#f0f921\"]],\"diverging\":[[0,\"#8e0152\"],[0.1,\"#c51b7d\"],[0.2,\"#de77ae\"],[0.3,\"#f1b6da\"],[0.4,\"#fde0ef\"],[0.5,\"#f7f7f7\"],[0.6,\"#e6f5d0\"],[0.7,\"#b8e186\"],[0.8,\"#7fbc41\"],[0.9,\"#4d9221\"],[1,\"#276419\"]]},\"xaxis\":{\"gridcolor\":\"white\",\"linecolor\":\"white\",\"ticks\":\"\",\"title\":{\"standoff\":15},\"zerolinecolor\":\"white\",\"automargin\":true,\"zerolinewidth\":2},\"yaxis\":{\"gridcolor\":\"white\",\"linecolor\":\"white\",\"ticks\":\"\",\"title\":{\"standoff\":15},\"zerolinecolor\":\"white\",\"automargin\":true,\"zerolinewidth\":2},\"scene\":{\"xaxis\":{\"backgroundcolor\":\"#E5ECF6\",\"gridcolor\":\"white\",\"linecolor\":\"white\",\"showbackground\":true,\"ticks\":\"\",\"zerolinecolor\":\"white\",\"gridwidth\":2},\"yaxis\":{\"backgroundcolor\":\"#E5ECF6\",\"gridcolor\":\"white\",\"linecolor\":\"white\",\"showbackground\":true,\"ticks\":\"\",\"zerolinecolor\":\"white\",\"gridwidth\":2},\"zaxis\":{\"backgroundcolor\":\"#E5ECF6\",\"gridcolor\":\"white\",\"linecolor\":\"white\",\"showbackground\":true,\"ticks\":\"\",\"zerolinecolor\":\"white\",\"gridwidth\":2}},\"shapedefaults\":{\"line\":{\"color\":\"#2a3f5f\"}},\"annotationdefaults\":{\"arrowcolor\":\"#2a3f5f\",\"arrowhead\":0,\"arrowwidth\":1},\"geo\":{\"bgcolor\":\"white\",\"landcolor\":\"#E5ECF6\",\"subunitcolor\":\"white\",\"showland\":true,\"showlakes\":true,\"lakecolor\":\"white\"},\"title\":{\"x\":0.05},\"mapbox\":{\"style\":\"light\"}}},\"xaxis\":{\"anchor\":\"y\",\"domain\":[0.0,1.0],\"title\":{\"text\":\"PCA1\"}},\"yaxis\":{\"anchor\":\"x\",\"domain\":[0.0,1.0],\"title\":{\"text\":\"PCA2\"}},\"legend\":{\"title\":{\"text\":\"labels\"},\"tracegroupgap\":0},\"title\":{\"text\":\"PCA Representation of Clusters\"}},                        {\"responsive\": true}                    ).then(function(){\n",
       "                            \n",
       "var gd = document.getElementById('699d4636-2c12-4571-bc63-a98eef1e6575');\n",
       "var x = new MutationObserver(function (mutations, observer) {{\n",
       "        var display = window.getComputedStyle(gd).display;\n",
       "        if (!display || display === 'none') {{\n",
       "            console.log([gd, 'removed!']);\n",
       "            Plotly.purge(gd);\n",
       "            observer.disconnect();\n",
       "        }}\n",
       "}});\n",
       "\n",
       "// Listen for the removal of the full notebook cells\n",
       "var notebookContainer = gd.closest('#notebook-container');\n",
       "if (notebookContainer) {{\n",
       "    x.observe(notebookContainer, {childList: true});\n",
       "}}\n",
       "\n",
       "// Listen for the clearing of the current output cell\n",
       "var outputEl = gd.closest('.output');\n",
       "if (outputEl) {{\n",
       "    x.observe(outputEl, {childList: true});\n",
       "}}\n",
       "\n",
       "                        })                };                });            </script>        </div>"
      ]
     },
     "metadata": {},
     "output_type": "display_data"
    }
   ],
   "source": [
    "serve_scatter_plot(trimmed=True , k=2)"
   ]
  },
  {
   "cell_type": "code",
   "execution_count": 20,
   "id": "1300d92e",
   "metadata": {
    "execution": {
     "iopub.execute_input": "2023-06-09T00:07:46.284044Z",
     "iopub.status.busy": "2023-06-09T00:07:46.283222Z",
     "iopub.status.idle": "2023-06-09T00:07:47.652221Z",
     "shell.execute_reply": "2023-06-09T00:07:47.651298Z"
    },
    "papermill": {
     "duration": 1.382569,
     "end_time": "2023-06-09T00:07:47.654259",
     "exception": false,
     "start_time": "2023-06-09T00:07:46.271690",
     "status": "completed"
    },
    "tags": []
   },
   "outputs": [
    {
     "name": "stdout",
     "output_type": "stream",
     "text": [
      "[1 0 2 2 0 0 2 2 0 1]\n"
     ]
    }
   ],
   "source": [
    "features = get_high_var_features(trimmed=True , return_feat_names=True )\n",
    "X = df[features]\n",
    "model = make_pipeline( StandardScaler() ,  KMeans(n_clusters=3, random_state=42 ))\n",
    "model.fit(X)\n",
    "    \n",
    "labels = model.named_steps['kmeans'].labels_\n",
    "print(labels[:10])"
   ]
  },
  {
   "cell_type": "code",
   "execution_count": null,
   "id": "69a2c2e3",
   "metadata": {
    "papermill": {
     "duration": 0.009374,
     "end_time": "2023-06-09T00:07:47.673975",
     "exception": false,
     "start_time": "2023-06-09T00:07:47.664601",
     "status": "completed"
    },
    "tags": []
   },
   "outputs": [],
   "source": []
  },
  {
   "cell_type": "code",
   "execution_count": null,
   "id": "95fe2ae0",
   "metadata": {
    "papermill": {
     "duration": 0.00972,
     "end_time": "2023-06-09T00:07:47.693163",
     "exception": false,
     "start_time": "2023-06-09T00:07:47.683443",
     "status": "completed"
    },
    "tags": []
   },
   "outputs": [],
   "source": []
  }
 ],
 "metadata": {
  "kernelspec": {
   "display_name": "Python 3",
   "language": "python",
   "name": "python3"
  },
  "language_info": {
   "codemirror_mode": {
    "name": "ipython",
    "version": 3
   },
   "file_extension": ".py",
   "mimetype": "text/x-python",
   "name": "python",
   "nbconvert_exporter": "python",
   "pygments_lexer": "ipython3",
   "version": "3.10.10"
  },
  "papermill": {
   "default_parameters": {},
   "duration": 22.070623,
   "end_time": "2023-06-09T00:07:48.724466",
   "environment_variables": {},
   "exception": null,
   "input_path": "__notebook__.ipynb",
   "output_path": "__notebook__.ipynb",
   "parameters": {},
   "start_time": "2023-06-09T00:07:26.653843",
   "version": "2.4.0"
  },
  "widgets": {
   "application/vnd.jupyter.widget-state+json": {
    "state": {
     "27eae02028c24cf4a92bb3e44dc2856e": {
      "model_module": "@jupyter-widgets/controls",
      "model_module_version": "1.5.0",
      "model_name": "SliderStyleModel",
      "state": {
       "_model_module": "@jupyter-widgets/controls",
       "_model_module_version": "1.5.0",
       "_model_name": "SliderStyleModel",
       "_view_count": null,
       "_view_module": "@jupyter-widgets/base",
       "_view_module_version": "1.2.0",
       "_view_name": "StyleView",
       "description_width": "",
       "handle_color": null
      }
     },
     "2d5a1d9f7f43499a84a41bd40c45aac4": {
      "model_module": "@jupyter-widgets/output",
      "model_module_version": "1.0.0",
      "model_name": "OutputModel",
      "state": {
       "_dom_classes": [],
       "_model_module": "@jupyter-widgets/output",
       "_model_module_version": "1.0.0",
       "_model_name": "OutputModel",
       "_view_count": null,
       "_view_module": "@jupyter-widgets/output",
       "_view_module_version": "1.0.0",
       "_view_name": "OutputView",
       "layout": "IPY_MODEL_596e05a7e98d4215ad57e55fb2dd245c",
       "msg_id": "",
       "outputs": [
        {
         "ename": "NameError",
         "evalue": "name 'data' is not defined",
         "output_type": "error",
         "traceback": [
          "\u001b[0;31m---------------------------------------------------------------------------\u001b[0m",
          "\u001b[0;31mNameError\u001b[0m                                 Traceback (most recent call last)",
          "File \u001b[0;32m/opt/conda/lib/python3.10/site-packages/ipywidgets/widgets/interaction.py:257\u001b[0m, in \u001b[0;36minteractive.update\u001b[0;34m(self, *args)\u001b[0m\n\u001b[1;32m    255\u001b[0m     value \u001b[38;5;241m=\u001b[39m widget\u001b[38;5;241m.\u001b[39mget_interact_value()\n\u001b[1;32m    256\u001b[0m     \u001b[38;5;28mself\u001b[39m\u001b[38;5;241m.\u001b[39mkwargs[widget\u001b[38;5;241m.\u001b[39m_kwarg] \u001b[38;5;241m=\u001b[39m value\n\u001b[0;32m--> 257\u001b[0m \u001b[38;5;28mself\u001b[39m\u001b[38;5;241m.\u001b[39mresult \u001b[38;5;241m=\u001b[39m \u001b[38;5;28;43mself\u001b[39;49m\u001b[38;5;241;43m.\u001b[39;49m\u001b[43mf\u001b[49m\u001b[43m(\u001b[49m\u001b[38;5;241;43m*\u001b[39;49m\u001b[38;5;241;43m*\u001b[39;49m\u001b[38;5;28;43mself\u001b[39;49m\u001b[38;5;241;43m.\u001b[39;49m\u001b[43mkwargs\u001b[49m\u001b[43m)\u001b[49m\n\u001b[1;32m    258\u001b[0m show_inline_matplotlib_plots()\n\u001b[1;32m    259\u001b[0m \u001b[38;5;28;01mif\u001b[39;00m \u001b[38;5;28mself\u001b[39m\u001b[38;5;241m.\u001b[39mauto_display \u001b[38;5;129;01mand\u001b[39;00m \u001b[38;5;28mself\u001b[39m\u001b[38;5;241m.\u001b[39mresult \u001b[38;5;129;01mis\u001b[39;00m \u001b[38;5;129;01mnot\u001b[39;00m \u001b[38;5;28;01mNone\u001b[39;00m:\n",
          "Cell \u001b[0;32mIn[13], line 20\u001b[0m, in \u001b[0;36mkmeans_clustering\u001b[0;34m(num_clusters)\u001b[0m\n\u001b[1;32m     16\u001b[0m \u001b[38;5;129m@interact\u001b[39m(num_clusters\u001b[38;5;241m=\u001b[39mwidgets\u001b[38;5;241m.\u001b[39mIntSlider(\u001b[38;5;28mmin\u001b[39m\u001b[38;5;241m=\u001b[39m\u001b[38;5;241m2\u001b[39m, \u001b[38;5;28mmax\u001b[39m\u001b[38;5;241m=\u001b[39m\u001b[38;5;241m10\u001b[39m, step\u001b[38;5;241m=\u001b[39m\u001b[38;5;241m1\u001b[39m, value\u001b[38;5;241m=\u001b[39m\u001b[38;5;241m3\u001b[39m))\n\u001b[1;32m     17\u001b[0m \u001b[38;5;28;01mdef\u001b[39;00m \u001b[38;5;21mkmeans_clustering\u001b[39m(num_clusters):\n\u001b[1;32m     18\u001b[0m     \u001b[38;5;66;03m# Perform k-means clustering with the selected number of clusters\u001b[39;00m\n\u001b[1;32m     19\u001b[0m     kmeans \u001b[38;5;241m=\u001b[39m KMeans(n_clusters\u001b[38;5;241m=\u001b[39mnum_clusters, random_state\u001b[38;5;241m=\u001b[39m\u001b[38;5;241m42\u001b[39m)\n\u001b[0;32m---> 20\u001b[0m     kmeans\u001b[38;5;241m.\u001b[39mfit(\u001b[43mdata\u001b[49m)\n\u001b[1;32m     21\u001b[0m     labels \u001b[38;5;241m=\u001b[39m kmeans\u001b[38;5;241m.\u001b[39mlabels_\n\u001b[1;32m     22\u001b[0m     centers \u001b[38;5;241m=\u001b[39m kmeans\u001b[38;5;241m.\u001b[39mcluster_centers_\n",
          "\u001b[0;31mNameError\u001b[0m: name 'data' is not defined"
         ]
        }
       ]
      }
     },
     "2f58a6660bb14576ae73cfcc1ee9d655": {
      "model_module": "@jupyter-widgets/controls",
      "model_module_version": "1.5.0",
      "model_name": "IntSliderModel",
      "state": {
       "_dom_classes": [],
       "_model_module": "@jupyter-widgets/controls",
       "_model_module_version": "1.5.0",
       "_model_name": "IntSliderModel",
       "_view_count": null,
       "_view_module": "@jupyter-widgets/controls",
       "_view_module_version": "1.5.0",
       "_view_name": "IntSliderView",
       "continuous_update": true,
       "description": "num_clusters",
       "description_tooltip": null,
       "disabled": false,
       "layout": "IPY_MODEL_397cc82159ce4d58a263bfd42c9f5726",
       "max": 10,
       "min": 2,
       "orientation": "horizontal",
       "readout": true,
       "readout_format": "d",
       "step": 1,
       "style": "IPY_MODEL_27eae02028c24cf4a92bb3e44dc2856e",
       "value": 3
      }
     },
     "397cc82159ce4d58a263bfd42c9f5726": {
      "model_module": "@jupyter-widgets/base",
      "model_module_version": "1.2.0",
      "model_name": "LayoutModel",
      "state": {
       "_model_module": "@jupyter-widgets/base",
       "_model_module_version": "1.2.0",
       "_model_name": "LayoutModel",
       "_view_count": null,
       "_view_module": "@jupyter-widgets/base",
       "_view_module_version": "1.2.0",
       "_view_name": "LayoutView",
       "align_content": null,
       "align_items": null,
       "align_self": null,
       "border": null,
       "bottom": null,
       "display": null,
       "flex": null,
       "flex_flow": null,
       "grid_area": null,
       "grid_auto_columns": null,
       "grid_auto_flow": null,
       "grid_auto_rows": null,
       "grid_column": null,
       "grid_gap": null,
       "grid_row": null,
       "grid_template_areas": null,
       "grid_template_columns": null,
       "grid_template_rows": null,
       "height": null,
       "justify_content": null,
       "justify_items": null,
       "left": null,
       "margin": null,
       "max_height": null,
       "max_width": null,
       "min_height": null,
       "min_width": null,
       "object_fit": null,
       "object_position": null,
       "order": null,
       "overflow": null,
       "overflow_x": null,
       "overflow_y": null,
       "padding": null,
       "right": null,
       "top": null,
       "visibility": null,
       "width": null
      }
     },
     "3bf9b44691714a8b9adaa3ba37fddf65": {
      "model_module": "@jupyter-widgets/controls",
      "model_module_version": "1.5.0",
      "model_name": "VBoxModel",
      "state": {
       "_dom_classes": [
        "widget-interact"
       ],
       "_model_module": "@jupyter-widgets/controls",
       "_model_module_version": "1.5.0",
       "_model_name": "VBoxModel",
       "_view_count": null,
       "_view_module": "@jupyter-widgets/controls",
       "_view_module_version": "1.5.0",
       "_view_name": "VBoxView",
       "box_style": "",
       "children": [
        "IPY_MODEL_2f58a6660bb14576ae73cfcc1ee9d655",
        "IPY_MODEL_2d5a1d9f7f43499a84a41bd40c45aac4"
       ],
       "layout": "IPY_MODEL_b66ae9c6560c4da996c87c22621fc7bf"
      }
     },
     "596e05a7e98d4215ad57e55fb2dd245c": {
      "model_module": "@jupyter-widgets/base",
      "model_module_version": "1.2.0",
      "model_name": "LayoutModel",
      "state": {
       "_model_module": "@jupyter-widgets/base",
       "_model_module_version": "1.2.0",
       "_model_name": "LayoutModel",
       "_view_count": null,
       "_view_module": "@jupyter-widgets/base",
       "_view_module_version": "1.2.0",
       "_view_name": "LayoutView",
       "align_content": null,
       "align_items": null,
       "align_self": null,
       "border": null,
       "bottom": null,
       "display": null,
       "flex": null,
       "flex_flow": null,
       "grid_area": null,
       "grid_auto_columns": null,
       "grid_auto_flow": null,
       "grid_auto_rows": null,
       "grid_column": null,
       "grid_gap": null,
       "grid_row": null,
       "grid_template_areas": null,
       "grid_template_columns": null,
       "grid_template_rows": null,
       "height": null,
       "justify_content": null,
       "justify_items": null,
       "left": null,
       "margin": null,
       "max_height": null,
       "max_width": null,
       "min_height": null,
       "min_width": null,
       "object_fit": null,
       "object_position": null,
       "order": null,
       "overflow": null,
       "overflow_x": null,
       "overflow_y": null,
       "padding": null,
       "right": null,
       "top": null,
       "visibility": null,
       "width": null
      }
     },
     "b66ae9c6560c4da996c87c22621fc7bf": {
      "model_module": "@jupyter-widgets/base",
      "model_module_version": "1.2.0",
      "model_name": "LayoutModel",
      "state": {
       "_model_module": "@jupyter-widgets/base",
       "_model_module_version": "1.2.0",
       "_model_name": "LayoutModel",
       "_view_count": null,
       "_view_module": "@jupyter-widgets/base",
       "_view_module_version": "1.2.0",
       "_view_name": "LayoutView",
       "align_content": null,
       "align_items": null,
       "align_self": null,
       "border": null,
       "bottom": null,
       "display": null,
       "flex": null,
       "flex_flow": null,
       "grid_area": null,
       "grid_auto_columns": null,
       "grid_auto_flow": null,
       "grid_auto_rows": null,
       "grid_column": null,
       "grid_gap": null,
       "grid_row": null,
       "grid_template_areas": null,
       "grid_template_columns": null,
       "grid_template_rows": null,
       "height": null,
       "justify_content": null,
       "justify_items": null,
       "left": null,
       "margin": null,
       "max_height": null,
       "max_width": null,
       "min_height": null,
       "min_width": null,
       "object_fit": null,
       "object_position": null,
       "order": null,
       "overflow": null,
       "overflow_x": null,
       "overflow_y": null,
       "padding": null,
       "right": null,
       "top": null,
       "visibility": null,
       "width": null
      }
     }
    },
    "version_major": 2,
    "version_minor": 0
   }
  }
 },
 "nbformat": 4,
 "nbformat_minor": 5
}
